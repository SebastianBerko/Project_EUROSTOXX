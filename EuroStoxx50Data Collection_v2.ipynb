{
 "cells": [
  {
   "cell_type": "code",
   "execution_count": 29,
   "id": "eb18ee22",
   "metadata": {},
   "outputs": [
    {
     "name": "stdout",
     "output_type": "stream",
     "text": [
      "Requirement already satisfied: yahoo_fin in ./opt/anaconda3/lib/python3.8/site-packages (0.8.9.1)\n",
      "Requirement already satisfied: requests in ./opt/anaconda3/lib/python3.8/site-packages (from yahoo_fin) (2.25.1)\n",
      "Requirement already satisfied: feedparser in ./opt/anaconda3/lib/python3.8/site-packages (from yahoo_fin) (6.0.8)\n",
      "Requirement already satisfied: requests-html in ./opt/anaconda3/lib/python3.8/site-packages (from yahoo_fin) (0.10.0)\n",
      "Requirement already satisfied: pandas in ./opt/anaconda3/lib/python3.8/site-packages (from yahoo_fin) (1.2.4)\n",
      "Requirement already satisfied: sgmllib3k in ./opt/anaconda3/lib/python3.8/site-packages (from feedparser->yahoo_fin) (1.0.0)\n",
      "Requirement already satisfied: python-dateutil>=2.7.3 in ./opt/anaconda3/lib/python3.8/site-packages (from pandas->yahoo_fin) (2.8.1)\n",
      "Requirement already satisfied: pytz>=2017.3 in ./opt/anaconda3/lib/python3.8/site-packages (from pandas->yahoo_fin) (2021.1)\n",
      "Requirement already satisfied: numpy>=1.16.5 in ./opt/anaconda3/lib/python3.8/site-packages (from pandas->yahoo_fin) (1.20.1)\n",
      "Requirement already satisfied: six>=1.5 in ./opt/anaconda3/lib/python3.8/site-packages (from python-dateutil>=2.7.3->pandas->yahoo_fin) (1.15.0)\n",
      "Requirement already satisfied: idna<3,>=2.5 in ./opt/anaconda3/lib/python3.8/site-packages (from requests->yahoo_fin) (2.10)\n",
      "Requirement already satisfied: certifi>=2017.4.17 in ./opt/anaconda3/lib/python3.8/site-packages (from requests->yahoo_fin) (2020.12.5)\n",
      "Requirement already satisfied: chardet<5,>=3.0.2 in ./opt/anaconda3/lib/python3.8/site-packages (from requests->yahoo_fin) (4.0.0)\n",
      "Requirement already satisfied: urllib3<1.27,>=1.21.1 in ./opt/anaconda3/lib/python3.8/site-packages (from requests->yahoo_fin) (1.26.4)\n",
      "Requirement already satisfied: bs4 in ./opt/anaconda3/lib/python3.8/site-packages (from requests-html->yahoo_fin) (0.0.1)\n",
      "Requirement already satisfied: pyquery in ./opt/anaconda3/lib/python3.8/site-packages (from requests-html->yahoo_fin) (1.4.3)\n",
      "Requirement already satisfied: pyppeteer>=0.0.14 in ./opt/anaconda3/lib/python3.8/site-packages (from requests-html->yahoo_fin) (0.2.6)\n",
      "Requirement already satisfied: fake-useragent in ./opt/anaconda3/lib/python3.8/site-packages (from requests-html->yahoo_fin) (0.1.11)\n",
      "Requirement already satisfied: parse in ./opt/anaconda3/lib/python3.8/site-packages (from requests-html->yahoo_fin) (1.19.0)\n",
      "Requirement already satisfied: w3lib in ./opt/anaconda3/lib/python3.8/site-packages (from requests-html->yahoo_fin) (1.22.0)\n",
      "Requirement already satisfied: pyee<9.0.0,>=8.1.0 in ./opt/anaconda3/lib/python3.8/site-packages (from pyppeteer>=0.0.14->requests-html->yahoo_fin) (8.2.2)\n",
      "Requirement already satisfied: websockets<10.0,>=9.1 in ./opt/anaconda3/lib/python3.8/site-packages (from pyppeteer>=0.0.14->requests-html->yahoo_fin) (9.1)\n",
      "Requirement already satisfied: tqdm<5.0.0,>=4.42.1 in ./opt/anaconda3/lib/python3.8/site-packages (from pyppeteer>=0.0.14->requests-html->yahoo_fin) (4.59.0)\n",
      "Requirement already satisfied: appdirs<2.0.0,>=1.4.3 in ./opt/anaconda3/lib/python3.8/site-packages (from pyppeteer>=0.0.14->requests-html->yahoo_fin) (1.4.4)\n",
      "Requirement already satisfied: importlib-metadata>=1.4 in ./opt/anaconda3/lib/python3.8/site-packages (from pyppeteer>=0.0.14->requests-html->yahoo_fin) (3.10.0)\n",
      "Requirement already satisfied: zipp>=0.5 in ./opt/anaconda3/lib/python3.8/site-packages (from importlib-metadata>=1.4->pyppeteer>=0.0.14->requests-html->yahoo_fin) (3.4.1)\n",
      "Requirement already satisfied: beautifulsoup4 in ./opt/anaconda3/lib/python3.8/site-packages (from bs4->requests-html->yahoo_fin) (4.9.3)\n",
      "Requirement already satisfied: soupsieve>1.2 in ./opt/anaconda3/lib/python3.8/site-packages (from beautifulsoup4->bs4->requests-html->yahoo_fin) (2.2.1)\n",
      "Requirement already satisfied: cssselect>0.7.9 in ./opt/anaconda3/lib/python3.8/site-packages (from pyquery->requests-html->yahoo_fin) (1.1.0)\n",
      "Requirement already satisfied: lxml>=2.1 in ./opt/anaconda3/lib/python3.8/site-packages (from pyquery->requests-html->yahoo_fin) (4.6.3)\n"
     ]
    }
   ],
   "source": [
    "!pip install yahoo_fin"
   ]
  },
  {
   "cell_type": "code",
   "execution_count": 30,
   "id": "f03c2c35",
   "metadata": {},
   "outputs": [
    {
     "name": "stdout",
     "output_type": "stream",
     "text": [
      "Requirement already satisfied: requests_html in ./opt/anaconda3/lib/python3.8/site-packages (0.10.0)\n",
      "Requirement already satisfied: requests in ./opt/anaconda3/lib/python3.8/site-packages (from requests_html) (2.25.1)\n",
      "Requirement already satisfied: parse in ./opt/anaconda3/lib/python3.8/site-packages (from requests_html) (1.19.0)\n",
      "Requirement already satisfied: bs4 in ./opt/anaconda3/lib/python3.8/site-packages (from requests_html) (0.0.1)\n",
      "Requirement already satisfied: w3lib in ./opt/anaconda3/lib/python3.8/site-packages (from requests_html) (1.22.0)\n",
      "Requirement already satisfied: fake-useragent in ./opt/anaconda3/lib/python3.8/site-packages (from requests_html) (0.1.11)\n",
      "Requirement already satisfied: pyquery in ./opt/anaconda3/lib/python3.8/site-packages (from requests_html) (1.4.3)\n",
      "Requirement already satisfied: pyppeteer>=0.0.14 in ./opt/anaconda3/lib/python3.8/site-packages (from requests_html) (0.2.6)\n",
      "Requirement already satisfied: pyee<9.0.0,>=8.1.0 in ./opt/anaconda3/lib/python3.8/site-packages (from pyppeteer>=0.0.14->requests_html) (8.2.2)\n",
      "Requirement already satisfied: appdirs<2.0.0,>=1.4.3 in ./opt/anaconda3/lib/python3.8/site-packages (from pyppeteer>=0.0.14->requests_html) (1.4.4)\n",
      "Requirement already satisfied: urllib3<2.0.0,>=1.25.8 in ./opt/anaconda3/lib/python3.8/site-packages (from pyppeteer>=0.0.14->requests_html) (1.26.4)\n",
      "Requirement already satisfied: importlib-metadata>=1.4 in ./opt/anaconda3/lib/python3.8/site-packages (from pyppeteer>=0.0.14->requests_html) (3.10.0)\n",
      "Requirement already satisfied: tqdm<5.0.0,>=4.42.1 in ./opt/anaconda3/lib/python3.8/site-packages (from pyppeteer>=0.0.14->requests_html) (4.59.0)\n",
      "Requirement already satisfied: websockets<10.0,>=9.1 in ./opt/anaconda3/lib/python3.8/site-packages (from pyppeteer>=0.0.14->requests_html) (9.1)\n",
      "Requirement already satisfied: zipp>=0.5 in ./opt/anaconda3/lib/python3.8/site-packages (from importlib-metadata>=1.4->pyppeteer>=0.0.14->requests_html) (3.4.1)\n",
      "Requirement already satisfied: beautifulsoup4 in ./opt/anaconda3/lib/python3.8/site-packages (from bs4->requests_html) (4.9.3)\n",
      "Requirement already satisfied: soupsieve>1.2 in ./opt/anaconda3/lib/python3.8/site-packages (from beautifulsoup4->bs4->requests_html) (2.2.1)\n",
      "Requirement already satisfied: lxml>=2.1 in ./opt/anaconda3/lib/python3.8/site-packages (from pyquery->requests_html) (4.6.3)\n",
      "Requirement already satisfied: cssselect>0.7.9 in ./opt/anaconda3/lib/python3.8/site-packages (from pyquery->requests_html) (1.1.0)\n",
      "Requirement already satisfied: idna<3,>=2.5 in ./opt/anaconda3/lib/python3.8/site-packages (from requests->requests_html) (2.10)\n",
      "Requirement already satisfied: certifi>=2017.4.17 in ./opt/anaconda3/lib/python3.8/site-packages (from requests->requests_html) (2020.12.5)\n",
      "Requirement already satisfied: chardet<5,>=3.0.2 in ./opt/anaconda3/lib/python3.8/site-packages (from requests->requests_html) (4.0.0)\n",
      "Requirement already satisfied: six>=1.4.1 in ./opt/anaconda3/lib/python3.8/site-packages (from w3lib->requests_html) (1.15.0)\n"
     ]
    }
   ],
   "source": [
    "!pip install requests_html"
   ]
  },
  {
   "cell_type": "markdown",
   "id": "7ca9be6d",
   "metadata": {},
   "source": [
    "**We found the below method of downloading Yahoo Finance information from the statistics page on the internet and it seems to work. Alternativly, one could go into each of the ticker codes of Yahoo Finance page**\n"
   ]
  },
  {
   "cell_type": "code",
   "execution_count": 31,
   "id": "5f9b7c4e",
   "metadata": {},
   "outputs": [],
   "source": [
    "import yahoo_fin.stock_info as si #Get data\n",
    "import pandas as pd #Data manipulation\n",
    "from tqdm import tqdm #Make a progress bar because that's cool..."
   ]
  },
  {
   "cell_type": "code",
   "execution_count": 32,
   "id": "4f7d5acf",
   "metadata": {},
   "outputs": [],
   "source": [
    "companies = [\"ADS.DE\", \"ADYEN.AS\", \"AD.AS\", \"AI.PA\", \"AIR.PA\", \"ALV.DE\", \"ABI.BR\", \"ASML.AS\", \"CS.PA\", \"BAS.DE\", \"BAYN.DE\", \"BBVA.MC\", \"SAN.MC\", \"BMW.DE\", \"BNP.PA\", \"CRG.IR\", \"DAI.DE\", \"BN.PA\", \"DB1.DE\", \"DPW.DE\", \"DTE.DE\", \"ENEL.MI\", \"ENI.MI\", \"CS.PA\", \"EL.PA\", \"FLTR.IR\", \"IBE.MC\", \"ITX.MC\", \"IFX.DE\", \"INGA.AS\", \"ISP.MI\", \"KER.PA\", \"KNEBV.HE\", \"OR.PA\", \"LIN.DE\", \"MC.PA\", \"MUV2.DE\", \"RI.PA\", \"PHIA.AS\", \"PRX.AS\", \"SAF.PA\", \"SAN.PA\", \"SAP.DE\", \"SU.PA\", \"SIE.DE\", \"STLA.MI\", \"TTE.PA\", \"UMG.AS\", \"DG.PA\", \"VOW.DE\", \"VNA.DE\"]"
   ]
  },
  {
   "cell_type": "code",
   "execution_count": 36,
   "id": "2ea542ab",
   "metadata": {},
   "outputs": [
    {
     "ename": "IndexError",
     "evalue": "list index out of range",
     "output_type": "error",
     "traceback": [
      "\u001b[0;31m---------------------------------------------------------------------------\u001b[0m",
      "\u001b[0;31mIndexError\u001b[0m                                Traceback (most recent call last)",
      "\u001b[0;32m<ipython-input-36-a167ce82870b>\u001b[0m in \u001b[0;36m<module>\u001b[0;34m\u001b[0m\n\u001b[1;32m      1\u001b[0m \u001b[0mticker_stats\u001b[0m \u001b[0;34m=\u001b[0m \u001b[0;34m{\u001b[0m\u001b[0;34m}\u001b[0m\u001b[0;34m\u001b[0m\u001b[0;34m\u001b[0m\u001b[0m\n\u001b[1;32m      2\u001b[0m \u001b[0;32mfor\u001b[0m \u001b[0mticker\u001b[0m \u001b[0;32min\u001b[0m \u001b[0mcompanies\u001b[0m\u001b[0;34m:\u001b[0m\u001b[0;34m\u001b[0m\u001b[0;34m\u001b[0m\u001b[0m\n\u001b[0;32m----> 3\u001b[0;31m     \u001b[0mtemp\u001b[0m \u001b[0;34m=\u001b[0m \u001b[0msi\u001b[0m\u001b[0;34m.\u001b[0m\u001b[0mget_stats_valuation\u001b[0m\u001b[0;34m(\u001b[0m\u001b[0mticker\u001b[0m\u001b[0;34m)\u001b[0m\u001b[0;34m\u001b[0m\u001b[0;34m\u001b[0m\u001b[0m\n\u001b[0m\u001b[1;32m      4\u001b[0m     \u001b[0;31m#was found on the following website to be the way to gather the statistics page of Yahoo Finance\u001b[0m\u001b[0;34m\u001b[0m\u001b[0;34m\u001b[0m\u001b[0;34m\u001b[0m\u001b[0m\n\u001b[1;32m      5\u001b[0m     \u001b[0;31m#https://theautomatic.net/yahoo_fin-documentation/#get_stats_valuation\u001b[0m\u001b[0;34m\u001b[0m\u001b[0;34m\u001b[0m\u001b[0;34m\u001b[0m\u001b[0m\n",
      "\u001b[0;32m~/opt/anaconda3/lib/python3.8/site-packages/yahoo_fin/stock_info.py\u001b[0m in \u001b[0;36mget_stats_valuation\u001b[0;34m(ticker, headers)\u001b[0m\n\u001b[1;32m    360\u001b[0m \u001b[0;34m\u001b[0m\u001b[0m\n\u001b[1;32m    361\u001b[0m \u001b[0;34m\u001b[0m\u001b[0m\n\u001b[0;32m--> 362\u001b[0;31m     \u001b[0mtable\u001b[0m \u001b[0;34m=\u001b[0m \u001b[0mtables\u001b[0m\u001b[0;34m[\u001b[0m\u001b[0;36m0\u001b[0m\u001b[0;34m]\u001b[0m\u001b[0;34m.\u001b[0m\u001b[0mreset_index\u001b[0m\u001b[0;34m(\u001b[0m\u001b[0mdrop\u001b[0m \u001b[0;34m=\u001b[0m \u001b[0;32mTrue\u001b[0m\u001b[0;34m)\u001b[0m\u001b[0;34m\u001b[0m\u001b[0;34m\u001b[0m\u001b[0m\n\u001b[0m\u001b[1;32m    363\u001b[0m \u001b[0;34m\u001b[0m\u001b[0m\n\u001b[1;32m    364\u001b[0m     \u001b[0;32mreturn\u001b[0m \u001b[0mtable\u001b[0m\u001b[0;34m\u001b[0m\u001b[0;34m\u001b[0m\u001b[0m\n",
      "\u001b[0;31mIndexError\u001b[0m: list index out of range"
     ]
    }
   ],
   "source": [
    "ticker_stats = {}\n",
    "for ticker in companies:\n",
    "    temp = si.get_stats_valuation(ticker)\n",
    "    #was found on the following website to be the way to gather the statistics page of Yahoo Finance\n",
    "    #https://theautomatic.net/yahoo_fin-documentation/#get_stats_valuation\n",
    "    temp = temp.iloc[:,:2]\n",
    "    #temp.iloc[:,:2] creates to columns\n",
    "    temp.columns = [\"Attribute\", \"Recent\"]\n",
    "    #We want the name of the data and then the data itself\n",
    " \n",
    "    ticker_stats[ticker] = temp\n",
    "    #Where to get\n",
    "\n",
    "\n",
    "# combine all the stats valuation tables into a single data frame\n",
    "df1 = pd.concat(ticker_stats)\n",
    "#Adding the data together by concatenating.\n",
    "df1 = df1.reset_index()\n",
    "#Adding a sequantial index and using the Ticker as the index \n",
    "\n",
    "del df1[\"level_1\"]\n",
    "#dropping level 1 of the multi-index\n",
    "\n",
    "# update column names\n",
    "df1.columns = [\"Ticker\", \"Attribute\", \"Recent\"]\n",
    "\n",
    "# Same, but for more data\n",
    "ticker_extra_stats = {}\n",
    "for ticker in tqdm(companies):\n",
    "    ticker_extra_stats[ticker] = si.get_stats(ticker)\n",
    "    \n",
    "\n",
    "df2 = pd.concat(ticker_extra_stats)\n",
    "\n",
    "df2 = df2.reset_index()\n",
    "\n",
    "del df2[\"level_1\"]\n",
    "\n",
    "df2.columns = [\"Ticker\", \"Attribute\", \"Value\"]"
   ]
  },
  {
   "cell_type": "code",
   "execution_count": 18,
   "id": "59796b8f",
   "metadata": {},
   "outputs": [
    {
     "name": "stdout",
     "output_type": "stream",
     "text": [
      "     Ticker                  Attribute  Recent\n",
      "0    ADS.DE      Market Cap (intraday)  48.65B\n",
      "1    ADS.DE           Enterprise Value  49.53B\n",
      "2    ADS.DE               Trailing P/E   32.64\n",
      "3    ADS.DE                Forward P/E   25.77\n",
      "4    ADS.DE  PEG Ratio (5 yr expected)    0.60\n",
      "..      ...                        ...     ...\n",
      "445  VNA.DE  PEG Ratio (5 yr expected)     NaN\n",
      "446  VNA.DE          Price/Sales (ttm)    9.43\n",
      "447  VNA.DE           Price/Book (mrq)    1.12\n",
      "448  VNA.DE   Enterprise Value/Revenue    8.56\n",
      "449  VNA.DE    Enterprise Value/EBITDA    3.18\n",
      "\n",
      "[450 rows x 3 columns]\n"
     ]
    }
   ],
   "source": [
    "print(df1)"
   ]
  },
  {
   "cell_type": "code",
   "execution_count": 37,
   "id": "e5e681ed",
   "metadata": {},
   "outputs": [
    {
     "name": "stdout",
     "output_type": "stream",
     "text": [
      "      Ticker                     Attribute    Value\n",
      "0     ADS.DE             Beta (5Y Monthly)     0.89\n",
      "1     ADS.DE              52-Week Change 3  -11.12%\n",
      "2     ADS.DE       S&P500 52-Week Change 3   22.59%\n",
      "3     ADS.DE                52 Week High 3   336.25\n",
      "4     ADS.DE                 52 Week Low 3   246.95\n",
      "...      ...                           ...      ...\n",
      "2545  VNA.DE       Total Debt/Equity (mrq)   162.57\n",
      "2546  VNA.DE           Current Ratio (mrq)     0.39\n",
      "2547  VNA.DE    Book Value Per Share (mrq)    47.85\n",
      "2548  VNA.DE     Operating Cash Flow (ttm)    1.44B\n",
      "2549  VNA.DE  Levered Free Cash Flow (ttm)    8.66B\n",
      "\n",
      "[2550 rows x 3 columns]\n"
     ]
    }
   ],
   "source": [
    "print(df2)"
   ]
  },
  {
   "cell_type": "code",
   "execution_count": null,
   "id": "8fb3beff",
   "metadata": {},
   "outputs": [],
   "source": []
  }
 ],
 "metadata": {
  "kernelspec": {
   "display_name": "Python 3",
   "language": "python",
   "name": "python3"
  },
  "language_info": {
   "codemirror_mode": {
    "name": "ipython",
    "version": 3
   },
   "file_extension": ".py",
   "mimetype": "text/x-python",
   "name": "python",
   "nbconvert_exporter": "python",
   "pygments_lexer": "ipython3",
   "version": "3.8.8"
  }
 },
 "nbformat": 4,
 "nbformat_minor": 5
}
