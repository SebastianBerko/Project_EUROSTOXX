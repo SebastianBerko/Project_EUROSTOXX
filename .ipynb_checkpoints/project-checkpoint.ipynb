{
 "cells": [
  {
   "cell_type": "code",
   "execution_count": 244,
   "id": "eb18ee22",
   "metadata": {},
   "outputs": [
    {
     "name": "stdout",
     "output_type": "stream",
     "text": [
      "Requirement already satisfied: yahoo_fin in /Users/jk/anaconda3/lib/python3.8/site-packages (0.8.9.1)\n",
      "Requirement already satisfied: requests in /Users/jk/anaconda3/lib/python3.8/site-packages (from yahoo_fin) (2.25.1)\n",
      "Requirement already satisfied: feedparser in /Users/jk/anaconda3/lib/python3.8/site-packages (from yahoo_fin) (6.0.8)\n",
      "Requirement already satisfied: pandas in /Users/jk/anaconda3/lib/python3.8/site-packages (from yahoo_fin) (1.2.4)\n",
      "Requirement already satisfied: requests-html in /Users/jk/anaconda3/lib/python3.8/site-packages (from yahoo_fin) (0.10.0)\n",
      "Requirement already satisfied: sgmllib3k in /Users/jk/anaconda3/lib/python3.8/site-packages (from feedparser->yahoo_fin) (1.0.0)\n",
      "Requirement already satisfied: python-dateutil>=2.7.3 in /Users/jk/anaconda3/lib/python3.8/site-packages (from pandas->yahoo_fin) (2.8.1)\n",
      "Requirement already satisfied: pytz>=2017.3 in /Users/jk/anaconda3/lib/python3.8/site-packages (from pandas->yahoo_fin) (2021.1)\n",
      "Requirement already satisfied: numpy>=1.16.5 in /Users/jk/anaconda3/lib/python3.8/site-packages (from pandas->yahoo_fin) (1.20.1)\n",
      "Requirement already satisfied: six>=1.5 in /Users/jk/anaconda3/lib/python3.8/site-packages (from python-dateutil>=2.7.3->pandas->yahoo_fin) (1.15.0)\n",
      "Requirement already satisfied: urllib3<1.27,>=1.21.1 in /Users/jk/anaconda3/lib/python3.8/site-packages (from requests->yahoo_fin) (1.26.4)\n",
      "Requirement already satisfied: idna<3,>=2.5 in /Users/jk/anaconda3/lib/python3.8/site-packages (from requests->yahoo_fin) (2.10)\n",
      "Requirement already satisfied: chardet<5,>=3.0.2 in /Users/jk/anaconda3/lib/python3.8/site-packages (from requests->yahoo_fin) (4.0.0)\n",
      "Requirement already satisfied: certifi>=2017.4.17 in /Users/jk/anaconda3/lib/python3.8/site-packages (from requests->yahoo_fin) (2021.10.8)\n",
      "Requirement already satisfied: w3lib in /Users/jk/anaconda3/lib/python3.8/site-packages (from requests-html->yahoo_fin) (1.22.0)\n",
      "Requirement already satisfied: parse in /Users/jk/anaconda3/lib/python3.8/site-packages (from requests-html->yahoo_fin) (1.19.0)\n",
      "Requirement already satisfied: pyquery in /Users/jk/anaconda3/lib/python3.8/site-packages (from requests-html->yahoo_fin) (1.4.3)\n",
      "Requirement already satisfied: bs4 in /Users/jk/anaconda3/lib/python3.8/site-packages (from requests-html->yahoo_fin) (0.0.1)\n",
      "Requirement already satisfied: pyppeteer>=0.0.14 in /Users/jk/anaconda3/lib/python3.8/site-packages (from requests-html->yahoo_fin) (1.0.2)\n",
      "Requirement already satisfied: fake-useragent in /Users/jk/anaconda3/lib/python3.8/site-packages (from requests-html->yahoo_fin) (0.1.11)\n",
      "Requirement already satisfied: appdirs<2.0.0,>=1.4.3 in /Users/jk/anaconda3/lib/python3.8/site-packages (from pyppeteer>=0.0.14->requests-html->yahoo_fin) (1.4.4)\n",
      "Requirement already satisfied: tqdm<5.0.0,>=4.42.1 in /Users/jk/anaconda3/lib/python3.8/site-packages (from pyppeteer>=0.0.14->requests-html->yahoo_fin) (4.59.0)\n",
      "Requirement already satisfied: pyee<9.0.0,>=8.1.0 in /Users/jk/anaconda3/lib/python3.8/site-packages (from pyppeteer>=0.0.14->requests-html->yahoo_fin) (8.2.2)\n",
      "Requirement already satisfied: websockets<11.0,>=10.0 in /Users/jk/anaconda3/lib/python3.8/site-packages (from pyppeteer>=0.0.14->requests-html->yahoo_fin) (10.1)\n",
      "Requirement already satisfied: importlib-metadata>=1.4 in /Users/jk/anaconda3/lib/python3.8/site-packages (from pyppeteer>=0.0.14->requests-html->yahoo_fin) (3.10.0)\n",
      "Requirement already satisfied: zipp>=0.5 in /Users/jk/anaconda3/lib/python3.8/site-packages (from importlib-metadata>=1.4->pyppeteer>=0.0.14->requests-html->yahoo_fin) (3.4.1)\n",
      "Requirement already satisfied: beautifulsoup4 in /Users/jk/anaconda3/lib/python3.8/site-packages (from bs4->requests-html->yahoo_fin) (4.9.3)\n",
      "Requirement already satisfied: soupsieve>1.2 in /Users/jk/anaconda3/lib/python3.8/site-packages (from beautifulsoup4->bs4->requests-html->yahoo_fin) (2.2.1)\n",
      "Requirement already satisfied: cssselect>0.7.9 in /Users/jk/anaconda3/lib/python3.8/site-packages (from pyquery->requests-html->yahoo_fin) (1.1.0)\n",
      "Requirement already satisfied: lxml>=2.1 in /Users/jk/anaconda3/lib/python3.8/site-packages (from pyquery->requests-html->yahoo_fin) (4.6.3)\n",
      "Requirement already satisfied: requests_html in /Users/jk/anaconda3/lib/python3.8/site-packages (0.10.0)\n",
      "Requirement already satisfied: fake-useragent in /Users/jk/anaconda3/lib/python3.8/site-packages (from requests_html) (0.1.11)\n",
      "Requirement already satisfied: bs4 in /Users/jk/anaconda3/lib/python3.8/site-packages (from requests_html) (0.0.1)\n",
      "Requirement already satisfied: pyquery in /Users/jk/anaconda3/lib/python3.8/site-packages (from requests_html) (1.4.3)\n",
      "Requirement already satisfied: pyppeteer>=0.0.14 in /Users/jk/anaconda3/lib/python3.8/site-packages (from requests_html) (1.0.2)\n",
      "Requirement already satisfied: requests in /Users/jk/anaconda3/lib/python3.8/site-packages (from requests_html) (2.25.1)\n",
      "Requirement already satisfied: w3lib in /Users/jk/anaconda3/lib/python3.8/site-packages (from requests_html) (1.22.0)\n",
      "Requirement already satisfied: parse in /Users/jk/anaconda3/lib/python3.8/site-packages (from requests_html) (1.19.0)\n",
      "Requirement already satisfied: websockets<11.0,>=10.0 in /Users/jk/anaconda3/lib/python3.8/site-packages (from pyppeteer>=0.0.14->requests_html) (10.1)\n",
      "Requirement already satisfied: importlib-metadata>=1.4 in /Users/jk/anaconda3/lib/python3.8/site-packages (from pyppeteer>=0.0.14->requests_html) (3.10.0)\n",
      "Requirement already satisfied: certifi>=2021 in /Users/jk/anaconda3/lib/python3.8/site-packages (from pyppeteer>=0.0.14->requests_html) (2021.10.8)\n",
      "Requirement already satisfied: appdirs<2.0.0,>=1.4.3 in /Users/jk/anaconda3/lib/python3.8/site-packages (from pyppeteer>=0.0.14->requests_html) (1.4.4)\n",
      "Requirement already satisfied: pyee<9.0.0,>=8.1.0 in /Users/jk/anaconda3/lib/python3.8/site-packages (from pyppeteer>=0.0.14->requests_html) (8.2.2)\n",
      "Requirement already satisfied: urllib3<2.0.0,>=1.25.8 in /Users/jk/anaconda3/lib/python3.8/site-packages (from pyppeteer>=0.0.14->requests_html) (1.26.4)\n",
      "Requirement already satisfied: tqdm<5.0.0,>=4.42.1 in /Users/jk/anaconda3/lib/python3.8/site-packages (from pyppeteer>=0.0.14->requests_html) (4.59.0)\n",
      "Requirement already satisfied: zipp>=0.5 in /Users/jk/anaconda3/lib/python3.8/site-packages (from importlib-metadata>=1.4->pyppeteer>=0.0.14->requests_html) (3.4.1)\n",
      "Requirement already satisfied: beautifulsoup4 in /Users/jk/anaconda3/lib/python3.8/site-packages (from bs4->requests_html) (4.9.3)\n",
      "Requirement already satisfied: soupsieve>1.2 in /Users/jk/anaconda3/lib/python3.8/site-packages (from beautifulsoup4->bs4->requests_html) (2.2.1)\n",
      "Requirement already satisfied: cssselect>0.7.9 in /Users/jk/anaconda3/lib/python3.8/site-packages (from pyquery->requests_html) (1.1.0)\n",
      "Requirement already satisfied: lxml>=2.1 in /Users/jk/anaconda3/lib/python3.8/site-packages (from pyquery->requests_html) (4.6.3)\n",
      "Requirement already satisfied: chardet<5,>=3.0.2 in /Users/jk/anaconda3/lib/python3.8/site-packages (from requests->requests_html) (4.0.0)\n",
      "Requirement already satisfied: idna<3,>=2.5 in /Users/jk/anaconda3/lib/python3.8/site-packages (from requests->requests_html) (2.10)\n",
      "Requirement already satisfied: six>=1.4.1 in /Users/jk/anaconda3/lib/python3.8/site-packages (from w3lib->requests_html) (1.15.0)\n",
      "Requirement already satisfied: plotly.express in /Users/jk/anaconda3/lib/python3.8/site-packages (0.4.1)\n",
      "Requirement already satisfied: patsy>=0.5 in /Users/jk/anaconda3/lib/python3.8/site-packages (from plotly.express) (0.5.1)\n",
      "Requirement already satisfied: pandas>=0.20.0 in /Users/jk/anaconda3/lib/python3.8/site-packages (from plotly.express) (1.2.4)\n",
      "Requirement already satisfied: numpy>=1.11 in /Users/jk/anaconda3/lib/python3.8/site-packages (from plotly.express) (1.20.1)\n",
      "Requirement already satisfied: scipy>=0.18 in /Users/jk/anaconda3/lib/python3.8/site-packages (from plotly.express) (1.6.2)\n",
      "Requirement already satisfied: statsmodels>=0.9.0 in /Users/jk/anaconda3/lib/python3.8/site-packages (from plotly.express) (0.12.2)\n",
      "Requirement already satisfied: plotly>=4.1.0 in /Users/jk/anaconda3/lib/python3.8/site-packages (from plotly.express) (5.5.0)\n",
      "Requirement already satisfied: python-dateutil>=2.7.3 in /Users/jk/anaconda3/lib/python3.8/site-packages (from pandas>=0.20.0->plotly.express) (2.8.1)\n",
      "Requirement already satisfied: pytz>=2017.3 in /Users/jk/anaconda3/lib/python3.8/site-packages (from pandas>=0.20.0->plotly.express) (2021.1)\n",
      "Requirement already satisfied: six in /Users/jk/anaconda3/lib/python3.8/site-packages (from patsy>=0.5->plotly.express) (1.15.0)\n",
      "Requirement already satisfied: tenacity>=6.2.0 in /Users/jk/anaconda3/lib/python3.8/site-packages (from plotly>=4.1.0->plotly.express) (8.0.1)\n"
     ]
    },
    {
     "name": "stdout",
     "output_type": "stream",
     "text": [
      "Requirement already satisfied: nbformat in /Users/jk/anaconda3/lib/python3.8/site-packages (5.1.3)\n",
      "Requirement already satisfied: ipython-genutils in /Users/jk/anaconda3/lib/python3.8/site-packages (from nbformat) (0.2.0)\n",
      "Requirement already satisfied: jsonschema!=2.5.0,>=2.4 in /Users/jk/anaconda3/lib/python3.8/site-packages (from nbformat) (3.2.0)\n",
      "Requirement already satisfied: traitlets>=4.1 in /Users/jk/anaconda3/lib/python3.8/site-packages (from nbformat) (5.0.5)\n",
      "Requirement already satisfied: jupyter-core in /Users/jk/anaconda3/lib/python3.8/site-packages (from nbformat) (4.7.1)\n",
      "Requirement already satisfied: pyrsistent>=0.14.0 in /Users/jk/anaconda3/lib/python3.8/site-packages (from jsonschema!=2.5.0,>=2.4->nbformat) (0.17.3)\n",
      "Requirement already satisfied: attrs>=17.4.0 in /Users/jk/anaconda3/lib/python3.8/site-packages (from jsonschema!=2.5.0,>=2.4->nbformat) (20.3.0)\n",
      "Requirement already satisfied: six>=1.11.0 in /Users/jk/anaconda3/lib/python3.8/site-packages (from jsonschema!=2.5.0,>=2.4->nbformat) (1.15.0)\n",
      "Requirement already satisfied: setuptools in /Users/jk/anaconda3/lib/python3.8/site-packages (from jsonschema!=2.5.0,>=2.4->nbformat) (52.0.0.post20210125)\n",
      "Requirement already satisfied: schedule in /Users/jk/anaconda3/lib/python3.8/site-packages (1.1.0)\n"
     ]
    }
   ],
   "source": [
    "# %%\n",
    "!pip install yahoo_fin\n",
    "!pip install requests_html\n",
    "!pip install plotly.express\n",
    "!pip install nbformat \n",
    "!pip install schedule"
   ]
  },
  {
   "cell_type": "code",
   "execution_count": 245,
   "id": "5f9b7c4e",
   "metadata": {},
   "outputs": [],
   "source": [
    "import yahoo_fin.stock_info as si #Get data\n",
    "import pandas as pd #Data manipulation\n",
    "from tqdm import tqdm #Make a progress bar because that's cool...\n",
    "from bs4 import BeautifulSoup # to parse external data\n",
    "import requests # to get data\n",
    "from requests_html import HTMLSession\n",
    "#import matplotlib.pyplot as plt\n",
    "import plotly.express as px #Charting\n",
    "import pickle\n",
    "import schedule\n",
    "import time"
   ]
  },
  {
   "cell_type": "code",
   "execution_count": 147,
   "id": "d0abf5b6",
   "metadata": {},
   "outputs": [
    {
     "data": {
      "text/plain": [
       "['ADS.DE',\n",
       " 'ADYEN.AS',\n",
       " 'AD.AS',\n",
       " 'AI.PA',\n",
       " 'AIR.PA',\n",
       " 'ALV.DE',\n",
       " 'ABI.BR',\n",
       " 'ASML.AS',\n",
       " 'CS.PA',\n",
       " 'BAS.DE',\n",
       " 'BAYN.DE',\n",
       " 'BBVA.MC',\n",
       " 'SAN.MC',\n",
       " 'BMW.DE',\n",
       " 'BNP.PA',\n",
       " 'CRG.IR',\n",
       " 'DAI.DE',\n",
       " 'BN.PA',\n",
       " 'DB1.DE',\n",
       " 'DPW.DE',\n",
       " 'DTE.DE',\n",
       " 'ENEL.MI',\n",
       " 'ENI.MI',\n",
       " 'EL.PA',\n",
       " 'FLTR.IR',\n",
       " 'IBE.MC',\n",
       " 'ITX.MC',\n",
       " 'IFX.DE',\n",
       " 'INGA.AS',\n",
       " 'ISP.MI',\n",
       " 'KER.PA',\n",
       " 'KNEBV.HE',\n",
       " 'OR.PA',\n",
       " 'LIN.DE',\n",
       " 'MC.PA',\n",
       " 'MUV2.DE',\n",
       " 'RI.PA',\n",
       " 'PHIA.AS',\n",
       " 'PRX.AS',\n",
       " 'SAF.PA',\n",
       " 'SAN.PA',\n",
       " 'SAP.DE',\n",
       " 'SU.PA',\n",
       " 'SIE.DE',\n",
       " 'STLA.MI',\n",
       " 'TTE.PA',\n",
       " 'UMG.AS',\n",
       " 'DG.PA',\n",
       " 'VOW.DE',\n",
       " 'VNA.DE']"
      ]
     },
     "execution_count": 147,
     "metadata": {},
     "output_type": "execute_result"
    }
   ],
   "source": [
    "def getEURSTX50tickers():\n",
    "    resp = requests.get('https://en.wikipedia.org/wiki/EURO_STOXX_50')\n",
    "    soup = BeautifulSoup(resp.text, 'lxml')\n",
    "    tableEURSTX = soup.find(text=\"Ticker\").find_parent(\"table\").find('tbody').findAll('tr')[1:]\n",
    "\n",
    "    EURSTX_tickers = []\n",
    "    for row in tableEURSTX:\n",
    "        ticker1 = row.findAll('td')[0].text.strip()\n",
    "        EURSTX_tickers.append(ticker1)\n",
    "    with open(\"EURSTX50tickers.pickle\", \"wb\") as f:\n",
    "        pickle.dump(EURSTX_tickers, f)\n",
    "    return EURSTX_tickers\n",
    "\n",
    "ER_tickers = getEURSTX50tickers()\n",
    "ER_tickers"
   ]
  },
  {
   "cell_type": "code",
   "execution_count": 148,
   "id": "c4fc98b4",
   "metadata": {},
   "outputs": [],
   "source": [
    "def valuation_measures(reload_EURSTX50=False):\n",
    "       \n",
    "    if reload_EURSTX50:\n",
    "        EURSTX_tickers = getEURSTX50tickers()\n",
    "    else:\n",
    "        with open(\"EURSTX50tickers.pickle\",\"rb\") as f:\n",
    "            EURSTX_tickers = pickle.load(f)\n",
    "    ticker_stats = {}     \n",
    "    for ticker in EURSTX_tickers:\n",
    "        try:\n",
    "            df = si.get_stats_valuation(ticker)\n",
    "            df = df.iloc[:,:2]\n",
    "            df.columns = [\"Attribute\", \"Recent\"]\n",
    "            ticker_stats[ticker] = df\n",
    "        except:\n",
    "            pass\n",
    "    dat = pd.concat(ticker_stats)\n",
    "    dat = dat.reset_index()\n",
    "    dat = dat.dropna()\n",
    "    del dat[\"level_1\"]\n",
    "    dat.columns = [\"Ticker\", \"Attribute\", \"Recent\"]\n",
    "    dat.to_csv('df1.csv')\n",
    "    return dat"
   ]
  },
  {
   "cell_type": "code",
   "execution_count": 170,
   "id": "cab81b1e",
   "metadata": {},
   "outputs": [
    {
     "data": {
      "text/html": [
       "<div>\n",
       "<style scoped>\n",
       "    .dataframe tbody tr th:only-of-type {\n",
       "        vertical-align: middle;\n",
       "    }\n",
       "\n",
       "    .dataframe tbody tr th {\n",
       "        vertical-align: top;\n",
       "    }\n",
       "\n",
       "    .dataframe thead th {\n",
       "        text-align: right;\n",
       "    }\n",
       "</style>\n",
       "<table border=\"1\" class=\"dataframe\">\n",
       "  <thead>\n",
       "    <tr style=\"text-align: right;\">\n",
       "      <th></th>\n",
       "      <th>Ticker</th>\n",
       "      <th>Attribute</th>\n",
       "      <th>Recent</th>\n",
       "    </tr>\n",
       "  </thead>\n",
       "  <tbody>\n",
       "    <tr>\n",
       "      <th>0</th>\n",
       "      <td>ADS.DE</td>\n",
       "      <td>Market Cap (intraday)</td>\n",
       "      <td>46.54B</td>\n",
       "    </tr>\n",
       "    <tr>\n",
       "      <th>1</th>\n",
       "      <td>ADS.DE</td>\n",
       "      <td>Enterprise Value</td>\n",
       "      <td>47.38B</td>\n",
       "    </tr>\n",
       "    <tr>\n",
       "      <th>2</th>\n",
       "      <td>ADS.DE</td>\n",
       "      <td>Trailing P/E</td>\n",
       "      <td>32.69</td>\n",
       "    </tr>\n",
       "    <tr>\n",
       "      <th>3</th>\n",
       "      <td>ADS.DE</td>\n",
       "      <td>Forward P/E</td>\n",
       "      <td>24.94</td>\n",
       "    </tr>\n",
       "    <tr>\n",
       "      <th>4</th>\n",
       "      <td>ADS.DE</td>\n",
       "      <td>PEG Ratio (5 yr expected)</td>\n",
       "      <td>0.59</td>\n",
       "    </tr>\n",
       "    <tr>\n",
       "      <th>...</th>\n",
       "      <td>...</td>\n",
       "      <td>...</td>\n",
       "      <td>...</td>\n",
       "    </tr>\n",
       "    <tr>\n",
       "      <th>444</th>\n",
       "      <td>VNA.DE</td>\n",
       "      <td>Forward P/E</td>\n",
       "      <td>19.57</td>\n",
       "    </tr>\n",
       "    <tr>\n",
       "      <th>446</th>\n",
       "      <td>VNA.DE</td>\n",
       "      <td>Price/Sales (ttm)</td>\n",
       "      <td>9.45</td>\n",
       "    </tr>\n",
       "    <tr>\n",
       "      <th>447</th>\n",
       "      <td>VNA.DE</td>\n",
       "      <td>Price/Book (mrq)</td>\n",
       "      <td>1.41</td>\n",
       "    </tr>\n",
       "    <tr>\n",
       "      <th>448</th>\n",
       "      <td>VNA.DE</td>\n",
       "      <td>Enterprise Value/Revenue</td>\n",
       "      <td>11.12</td>\n",
       "    </tr>\n",
       "    <tr>\n",
       "      <th>449</th>\n",
       "      <td>VNA.DE</td>\n",
       "      <td>Enterprise Value/EBITDA</td>\n",
       "      <td>4.13</td>\n",
       "    </tr>\n",
       "  </tbody>\n",
       "</table>\n",
       "<p>413 rows × 3 columns</p>\n",
       "</div>"
      ],
      "text/plain": [
       "     Ticker                  Attribute  Recent\n",
       "0    ADS.DE      Market Cap (intraday)  46.54B\n",
       "1    ADS.DE           Enterprise Value  47.38B\n",
       "2    ADS.DE               Trailing P/E   32.69\n",
       "3    ADS.DE                Forward P/E   24.94\n",
       "4    ADS.DE  PEG Ratio (5 yr expected)    0.59\n",
       "..      ...                        ...     ...\n",
       "444  VNA.DE                Forward P/E   19.57\n",
       "446  VNA.DE          Price/Sales (ttm)    9.45\n",
       "447  VNA.DE           Price/Book (mrq)    1.41\n",
       "448  VNA.DE   Enterprise Value/Revenue   11.12\n",
       "449  VNA.DE    Enterprise Value/EBITDA    4.13\n",
       "\n",
       "[413 rows x 3 columns]"
      ]
     },
     "execution_count": 170,
     "metadata": {},
     "output_type": "execute_result"
    }
   ],
   "source": [
    "df1 = valuation_measures()\n",
    "df1\n"
   ]
  },
  {
   "cell_type": "code",
   "execution_count": 150,
   "id": "1bc8dd44",
   "metadata": {},
   "outputs": [],
   "source": [
    "def extra_stats(reload_EURSTX50=False):\n",
    "    \n",
    "    if reload_EURSTX50:\n",
    "        EURSTX_tickers = getEURSTX50tickers()\n",
    "    else:\n",
    "        with open(\"EURSTX50tickers.pickle\",\"rb\") as f:\n",
    "            EURSTX_tickers = pickle.load(f)\n",
    "    ticker_extra_stats = {}\n",
    "    for ticker in tqdm(ER_tickers):\n",
    "        try:\n",
    "            ticker_extra_stats[ticker] = si.get_stats(ticker)\n",
    "        except:\n",
    "            pass\n",
    "    dat2 = pd.concat(ticker_extra_stats)\n",
    "    dat2 = dat2.reset_index()\n",
    "    dat2 = dat2.dropna()\n",
    "    del dat2[\"level_1\"]\n",
    "    dat2.columns = [\"Ticker\", \"Attribute\", \"Value\"]\n",
    "    dat2.to_csv('df2.csv')\n",
    "    return dat2"
   ]
  },
  {
   "cell_type": "code",
   "execution_count": 171,
   "id": "7d8be0e2",
   "metadata": {},
   "outputs": [
    {
     "name": "stderr",
     "output_type": "stream",
     "text": [
      "100%|██████████| 50/50 [00:48<00:00,  1.02it/s]\n"
     ]
    },
    {
     "data": {
      "text/html": [
       "<div>\n",
       "<style scoped>\n",
       "    .dataframe tbody tr th:only-of-type {\n",
       "        vertical-align: middle;\n",
       "    }\n",
       "\n",
       "    .dataframe tbody tr th {\n",
       "        vertical-align: top;\n",
       "    }\n",
       "\n",
       "    .dataframe thead th {\n",
       "        text-align: right;\n",
       "    }\n",
       "</style>\n",
       "<table border=\"1\" class=\"dataframe\">\n",
       "  <thead>\n",
       "    <tr style=\"text-align: right;\">\n",
       "      <th></th>\n",
       "      <th>Ticker</th>\n",
       "      <th>Attribute</th>\n",
       "      <th>Value</th>\n",
       "    </tr>\n",
       "  </thead>\n",
       "  <tbody>\n",
       "    <tr>\n",
       "      <th>0</th>\n",
       "      <td>ADS.DE</td>\n",
       "      <td>Beta (5Y Monthly)</td>\n",
       "      <td>0.87</td>\n",
       "    </tr>\n",
       "    <tr>\n",
       "      <th>1</th>\n",
       "      <td>ADS.DE</td>\n",
       "      <td>52-Week Change 3</td>\n",
       "      <td>-13.79%</td>\n",
       "    </tr>\n",
       "    <tr>\n",
       "      <th>2</th>\n",
       "      <td>ADS.DE</td>\n",
       "      <td>S&amp;P500 52-Week Change 3</td>\n",
       "      <td>14.94%</td>\n",
       "    </tr>\n",
       "    <tr>\n",
       "      <th>3</th>\n",
       "      <td>ADS.DE</td>\n",
       "      <td>52 Week High 3</td>\n",
       "      <td>336.25</td>\n",
       "    </tr>\n",
       "    <tr>\n",
       "      <th>4</th>\n",
       "      <td>ADS.DE</td>\n",
       "      <td>52 Week Low 3</td>\n",
       "      <td>231.55</td>\n",
       "    </tr>\n",
       "    <tr>\n",
       "      <th>...</th>\n",
       "      <td>...</td>\n",
       "      <td>...</td>\n",
       "      <td>...</td>\n",
       "    </tr>\n",
       "    <tr>\n",
       "      <th>2545</th>\n",
       "      <td>VNA.DE</td>\n",
       "      <td>Total Debt/Equity (mrq)</td>\n",
       "      <td>162.57</td>\n",
       "    </tr>\n",
       "    <tr>\n",
       "      <th>2546</th>\n",
       "      <td>VNA.DE</td>\n",
       "      <td>Current Ratio (mrq)</td>\n",
       "      <td>0.39</td>\n",
       "    </tr>\n",
       "    <tr>\n",
       "      <th>2547</th>\n",
       "      <td>VNA.DE</td>\n",
       "      <td>Book Value Per Share (mrq)</td>\n",
       "      <td>47.85</td>\n",
       "    </tr>\n",
       "    <tr>\n",
       "      <th>2548</th>\n",
       "      <td>VNA.DE</td>\n",
       "      <td>Operating Cash Flow (ttm)</td>\n",
       "      <td>1.44B</td>\n",
       "    </tr>\n",
       "    <tr>\n",
       "      <th>2549</th>\n",
       "      <td>VNA.DE</td>\n",
       "      <td>Levered Free Cash Flow (ttm)</td>\n",
       "      <td>8.66B</td>\n",
       "    </tr>\n",
       "  </tbody>\n",
       "</table>\n",
       "<p>2068 rows × 3 columns</p>\n",
       "</div>"
      ],
      "text/plain": [
       "      Ticker                     Attribute    Value\n",
       "0     ADS.DE             Beta (5Y Monthly)     0.87\n",
       "1     ADS.DE              52-Week Change 3  -13.79%\n",
       "2     ADS.DE       S&P500 52-Week Change 3   14.94%\n",
       "3     ADS.DE                52 Week High 3   336.25\n",
       "4     ADS.DE                 52 Week Low 3   231.55\n",
       "...      ...                           ...      ...\n",
       "2545  VNA.DE       Total Debt/Equity (mrq)   162.57\n",
       "2546  VNA.DE           Current Ratio (mrq)     0.39\n",
       "2547  VNA.DE    Book Value Per Share (mrq)    47.85\n",
       "2548  VNA.DE     Operating Cash Flow (ttm)    1.44B\n",
       "2549  VNA.DE  Levered Free Cash Flow (ttm)    8.66B\n",
       "\n",
       "[2068 rows x 3 columns]"
      ]
     },
     "execution_count": 171,
     "metadata": {},
     "output_type": "execute_result"
    }
   ],
   "source": [
    "df2 = extra_stats()\n",
    "df2"
   ]
  },
  {
   "cell_type": "code",
   "execution_count": 152,
   "id": "2ea542ab",
   "metadata": {},
   "outputs": [
    {
     "name": "stdout",
     "output_type": "stream",
     "text": [
      "     Ticker                  Attribute  Recent\n",
      "0    ADS.DE      Market Cap (intraday)  46.54B\n",
      "1    ADS.DE           Enterprise Value  47.38B\n",
      "2    ADS.DE               Trailing P/E   32.69\n",
      "3    ADS.DE                Forward P/E   24.94\n",
      "4    ADS.DE  PEG Ratio (5 yr expected)    0.59\n",
      "..      ...                        ...     ...\n",
      "444  VNA.DE                Forward P/E   19.57\n",
      "446  VNA.DE          Price/Sales (ttm)    9.45\n",
      "447  VNA.DE           Price/Book (mrq)    1.41\n",
      "448  VNA.DE   Enterprise Value/Revenue   11.12\n",
      "449  VNA.DE    Enterprise Value/EBITDA    4.13\n",
      "\n",
      "[413 rows x 3 columns]\n"
     ]
    }
   ],
   "source": [
    "print(df1)"
   ]
  },
  {
   "cell_type": "code",
   "execution_count": 153,
   "id": "3767657c",
   "metadata": {},
   "outputs": [
    {
     "name": "stdout",
     "output_type": "stream",
     "text": [
      "      Ticker                     Attribute    Value\n",
      "0     ADS.DE             Beta (5Y Monthly)     0.87\n",
      "1     ADS.DE              52-Week Change 3  -13.79%\n",
      "2     ADS.DE       S&P500 52-Week Change 3   14.94%\n",
      "3     ADS.DE                52 Week High 3   336.25\n",
      "4     ADS.DE                 52 Week Low 3   231.55\n",
      "...      ...                           ...      ...\n",
      "2545  VNA.DE       Total Debt/Equity (mrq)   162.57\n",
      "2546  VNA.DE           Current Ratio (mrq)     0.39\n",
      "2547  VNA.DE    Book Value Per Share (mrq)    47.85\n",
      "2548  VNA.DE     Operating Cash Flow (ttm)    1.44B\n",
      "2549  VNA.DE  Levered Free Cash Flow (ttm)    8.66B\n",
      "\n",
      "[2068 rows x 3 columns]\n"
     ]
    }
   ],
   "source": [
    "print(df2)"
   ]
  },
  {
   "cell_type": "code",
   "execution_count": 215,
   "id": "6adef930",
   "metadata": {},
   "outputs": [],
   "source": [
    "df1_wide = df1.pivot(index = \"Ticker\", columns=\"Attribute\", values=\"Recent\")\n",
    "df2_wide = df2.pivot(index = \"Ticker\", columns=\"Attribute\", values=\"Value\")"
   ]
  },
  {
   "cell_type": "code",
   "execution_count": 216,
   "id": "8ab6af29",
   "metadata": {},
   "outputs": [],
   "source": [
    "# %%\n",
    "df2_wide.rename(columns = {\"% Held by Insiders 1\":\"% Held by Insiders\"}, inplace = True)\n",
    "df2_wide.rename(columns = {\"% Held by Institutions 1\":\"% Held by Institutions\"}, inplace = True)\n",
    "df2_wide.rename(columns = {\"200-Day Moving Average 3\":\"200-Day Moving Average\"}, inplace = True)\n",
    "df2_wide.rename(columns = {\"5 Year Average Dividend Yield 4\":\"5 Year Average Dividend Yield %\"}, inplace = True)\n",
    "df2_wide.rename(columns = {\"50-Day Moving Average 3\":\"50-Day Moving Average\"}, inplace = True)\n",
    "df2_wide.rename(columns = {\"52 Week High 3\":\"52 Week High\"}, inplace = True)\n",
    "df2_wide.rename(columns = {\"52 Week Low 3\":\"52 Week Low\"}, inplace = True)\n",
    "df2_wide.rename(columns = {\"52-Week Change 3\":\"52-Week Change %\"}, inplace = True)\n",
    "df2_wide.rename(columns = {\"Avg Vol (10 day) 3\":\"Avg Vol (10 day)\"}, inplace = True)\n",
    "df2_wide.rename(columns = {\"Avg Vol (3 month) 3\":\"Avg Vol (3 month)\"}, inplace = True)\n",
    "df2_wide.rename(columns = {\"Dividend Date 3\":\"Dividend Date\"}, inplace = True)\n",
    "df2_wide.rename(columns = {\"Ex-Dividend Date 4\":\"Ex-Dividend Date\"}, inplace = True)\n",
    "df2_wide.rename(columns = {\"Forward Annual Dividend Rate 4\":\"Forward Annual Dividend Rate\"}, inplace = True)\n",
    "df2_wide.rename(columns = {\"Forward Annual Dividend Yield 4\":\"Forward Annual Dividend Yield %\"}, inplace = True)\n",
    "df2_wide.rename(columns = {\"Last Split Date 3\":\"Last Split Date\"}, inplace = True)\n",
    "df2_wide.rename(columns = {\"Last Split Factor 2\":\"Last Split Factor\"}, inplace = True)\n",
    "df2_wide.rename(columns = {\"Operating Margin (ttm)\":\"Operating Margin (ttm) %\"}, inplace = True)\n",
    "df2_wide.rename(columns = {\"Payout Ratio 4\":\"Payout Ratio %\"}, inplace = True)\n",
    "df2_wide.rename(columns = {\"Profit Margin\":\"Profit Margin %\"}, inplace = True)\n",
    "df2_wide.rename(columns = {\"Quarterly Earnings Growth (yoy)\":\"Quarterly Earnings Growth (yoy) %\"}, inplace = True)\n",
    "df2_wide.rename(columns = {\"Quarterly Revenue Growth (yoy)\":\"Quarterly Revenue Growth (yoy) %\"}, inplace = True)\n",
    "df2_wide.rename(columns = {\"Return on Assets (ttm)\":\"Return on Assets (ttm) %\"}, inplace = True)\n",
    "df2_wide.rename(columns = {\"Return on Equity (ttm)\":\"Return on Equity (ttm) %\"}, inplace = True)\n",
    "df2_wide.rename(columns = {\"S&P500 52-Week Change 3\":\"S&P500 52-Week Change %\"}, inplace = True)\n",
    "df2_wide.rename(columns = {\"Shares Outstanding 5\":\"Shares Outstanding\"}, inplace = True)\n",
    "df2_wide.rename(columns = {\"Trailing Annual Dividend Rate 3\":\"Trailing Annual Dividend Rate\"}, inplace = True)\n",
    "df2_wide.rename(columns = {\"Trailing Annual Dividend Yield 3\":\"Trailing Annual Dividend Yield %\"}, inplace = True)"
   ]
  },
  {
   "cell_type": "code",
   "execution_count": 217,
   "id": "672f6170",
   "metadata": {},
   "outputs": [],
   "source": [
    "# Convert string values to float as necessary\n",
    "df1_wide['Trailing P/E'] = df1_wide['Trailing P/E'].astype(float)\n",
    "df1_wide['Enterprise Value/EBITDA'] = df1_wide['Enterprise Value/EBITDA'].astype(float)\n",
    "df1_wide['Enterprise Value/Revenue'] = df1_wide['Enterprise Value/Revenue'].astype(float)\n",
    "df1_wide['Forward P/E'] = df1_wide['Forward P/E'].astype(float)\n",
    "df1_wide['PEG Ratio (5 yr expected)'] = df1_wide['PEG Ratio (5 yr expected)'].astype(float)\n",
    "df1_wide['Price/Book (mrq)'] = df1_wide['Price/Book (mrq)'].astype(float)\n",
    "df1_wide['Price/Sales (ttm)'] = df1_wide['Price/Sales (ttm)'].astype(float)\n",
    "\n",
    "\n",
    "df2_wide['50-Day Moving Average'] = df2_wide['50-Day Moving Average'].astype(float)\n",
    "df2_wide['52 Week High'] = df2_wide['52 Week High'].astype(float)\n",
    "df2_wide['52 Week Low'] = df2_wide['52 Week Low'].astype(float)\n",
    "df2_wide['Beta (5Y Monthly)'] = df2_wide['Beta (5Y Monthly)'].astype(float)\n",
    "df2_wide['Book Value Per Share (mrq)'] = df2_wide['Book Value Per Share (mrq)'].astype(float)\n",
    "df2_wide['Current Ratio (mrq)'] = df2_wide['Current Ratio (mrq)'].astype(float)\n",
    "df2_wide['Diluted EPS (ttm)'] = df2_wide['Diluted EPS (ttm)'].astype(float)\n",
    "df2_wide['Forward Annual Dividend Rate'] = df2_wide['Forward Annual Dividend Rate'].astype(float)\n",
    "df2_wide['Quarterly Revenue Growth (yoy) %'] = df2_wide['Quarterly Revenue Growth (yoy) %'].astype(str).str.strip('%').astype('float')\n",
    "df2_wide['Revenue Per Share (ttm)'] = df2_wide['Revenue Per Share (ttm)'].astype(float)\n",
    "df2_wide['Total Cash Per Share (mrq)'] = df2_wide['Total Cash Per Share (mrq)'].astype(float)\n",
    "df2_wide['Total Debt/Equity (mrq)'] = df2_wide['Total Debt/Equity (mrq)'].astype(float)\n",
    "df2_wide['Trailing Annual Dividend Rate'] = df2_wide['Trailing Annual Dividend Rate'].astype(float)\n",
    "df2_wide['200-Day Moving Average'] = df2_wide['200-Day Moving Average'].astype(float)\n",
    "df2_wide['% Held by Insiders'] = df2_wide['% Held by Insiders'].astype(str).str.strip('%').astype('float') / 100.0\n",
    "df2_wide['% Held by Institutions'] = df2_wide['% Held by Institutions'].astype(str).str.strip('%').astype('float') / 100.0\n",
    "df2_wide['5 Year Average Dividend Yield %'] = df2_wide['5 Year Average Dividend Yield %'].astype(float) / 100.0\n",
    "df2_wide['Forward Annual Dividend Yield %'] = df2_wide['Forward Annual Dividend Yield %'].astype(str).str.strip('%').astype('float') / 100.0\n",
    "df2_wide['Operating Margin (ttm) %'] = df2_wide['Operating Margin (ttm) %'].astype(str).str.strip('%').astype('float') / 100.0\n",
    "df2_wide['Payout Ratio %'] = df2_wide['Payout Ratio %'].astype(str).str.strip('%').astype('float') / 100.0\n",
    "df2_wide['Profit Margin %'] = df2_wide['Profit Margin %'].astype(str).str.strip('%').astype('float') / 100.0\n",
    "df2_wide['Return on Assets (ttm) %'] = df2_wide['Return on Assets (ttm) %'].astype(str).str.strip('%').astype('float') / 100.0\n",
    "df2_wide['Return on Equity (ttm) %'] = df2_wide['Return on Equity (ttm) %'].astype(str).str.strip('%').astype('float') / 100.0\n",
    "df2_wide['Trailing Annual Dividend Yield %'] = df2_wide['Trailing Annual Dividend Yield %'].astype(str).str.strip('%').astype('float')\n",
    "#df2_wide['S&P500 52-Week Change %'] = df2_wide['S&P500 52-Week Change %'].astype(str).str.strip('%').astype('float') / 100.0\n",
    "#df2_wide['Quarterly Earnings Growth (yoy) %'] = df2_wide['Quarterly Earnings Growth (yoy) %'].astype(str).str.strip('%').astype('float') / 100.0\n",
    "#df2_wide['52-Week Change %'] = df2_wide['52-Week Change %'].astype(str).str.strip('%').astype('float') / 100.0"
   ]
  },
  {
   "cell_type": "code",
   "execution_count": 218,
   "id": "ebe705ec",
   "metadata": {},
   "outputs": [
    {
     "data": {
      "text/html": [
       "<div>\n",
       "<style scoped>\n",
       "    .dataframe tbody tr th:only-of-type {\n",
       "        vertical-align: middle;\n",
       "    }\n",
       "\n",
       "    .dataframe tbody tr th {\n",
       "        vertical-align: top;\n",
       "    }\n",
       "\n",
       "    .dataframe thead th {\n",
       "        text-align: right;\n",
       "    }\n",
       "</style>\n",
       "<table border=\"1\" class=\"dataframe\">\n",
       "  <thead>\n",
       "    <tr style=\"text-align: right;\">\n",
       "      <th>Attribute</th>\n",
       "      <th>Enterprise Value</th>\n",
       "      <th>Enterprise Value/EBITDA</th>\n",
       "      <th>Enterprise Value/Revenue</th>\n",
       "      <th>Forward P/E</th>\n",
       "      <th>Market Cap (intraday)</th>\n",
       "      <th>PEG Ratio (5 yr expected)</th>\n",
       "      <th>Price/Book (mrq)</th>\n",
       "      <th>Price/Sales (ttm)</th>\n",
       "      <th>Trailing P/E</th>\n",
       "      <th>% Held by Insiders</th>\n",
       "      <th>...</th>\n",
       "      <th>Revenue (ttm)</th>\n",
       "      <th>Revenue Per Share (ttm)</th>\n",
       "      <th>S&amp;P500 52-Week Change %</th>\n",
       "      <th>Shares Outstanding</th>\n",
       "      <th>Total Cash (mrq)</th>\n",
       "      <th>Total Cash Per Share (mrq)</th>\n",
       "      <th>Total Debt (mrq)</th>\n",
       "      <th>Total Debt/Equity (mrq)</th>\n",
       "      <th>Trailing Annual Dividend Rate</th>\n",
       "      <th>Trailing Annual Dividend Yield %</th>\n",
       "    </tr>\n",
       "    <tr>\n",
       "      <th>Ticker</th>\n",
       "      <th></th>\n",
       "      <th></th>\n",
       "      <th></th>\n",
       "      <th></th>\n",
       "      <th></th>\n",
       "      <th></th>\n",
       "      <th></th>\n",
       "      <th></th>\n",
       "      <th></th>\n",
       "      <th></th>\n",
       "      <th></th>\n",
       "      <th></th>\n",
       "      <th></th>\n",
       "      <th></th>\n",
       "      <th></th>\n",
       "      <th></th>\n",
       "      <th></th>\n",
       "      <th></th>\n",
       "      <th></th>\n",
       "      <th></th>\n",
       "      <th></th>\n",
       "    </tr>\n",
       "  </thead>\n",
       "  <tbody>\n",
       "    <tr>\n",
       "      <th>ABI.BR</th>\n",
       "      <td>168.58B</td>\n",
       "      <td>12.45</td>\n",
       "      <td>3.19</td>\n",
       "      <td>18.66</td>\n",
       "      <td>94.62B</td>\n",
       "      <td>6.35</td>\n",
       "      <td>1.56</td>\n",
       "      <td>2.33</td>\n",
       "      <td>42.45</td>\n",
       "      <td>0.4874</td>\n",
       "      <td>...</td>\n",
       "      <td>52.87B</td>\n",
       "      <td>26.37</td>\n",
       "      <td>14.94%</td>\n",
       "      <td>1.74B</td>\n",
       "      <td>7.08B</td>\n",
       "      <td>3.57</td>\n",
       "      <td>90.64B</td>\n",
       "      <td>113.92</td>\n",
       "      <td>0.00</td>\n",
       "      <td>0.00</td>\n",
       "    </tr>\n",
       "    <tr>\n",
       "      <th>AD.AS</th>\n",
       "      <td>28.21B</td>\n",
       "      <td>5.18</td>\n",
       "      <td>0.38</td>\n",
       "      <td>13.35</td>\n",
       "      <td>29.12B</td>\n",
       "      <td>17.34</td>\n",
       "      <td>2.23</td>\n",
       "      <td>0.40</td>\n",
       "      <td>18.61</td>\n",
       "      <td>0.0005</td>\n",
       "      <td>...</td>\n",
       "      <td>75.05B</td>\n",
       "      <td>72.38</td>\n",
       "      <td>14.94%</td>\n",
       "      <td>1.01B</td>\n",
       "      <td>5.17B</td>\n",
       "      <td>5.06</td>\n",
       "      <td>19.17B</td>\n",
       "      <td>146.51</td>\n",
       "      <td>0.83</td>\n",
       "      <td>2.91</td>\n",
       "    </tr>\n",
       "    <tr>\n",
       "      <th>ADS.DE</th>\n",
       "      <td>47.38B</td>\n",
       "      <td>14.17</td>\n",
       "      <td>2.09</td>\n",
       "      <td>24.94</td>\n",
       "      <td>46.54B</td>\n",
       "      <td>0.59</td>\n",
       "      <td>6.04</td>\n",
       "      <td>2.09</td>\n",
       "      <td>32.69</td>\n",
       "      <td>0.1029</td>\n",
       "      <td>...</td>\n",
       "      <td>22.65B</td>\n",
       "      <td>116.19</td>\n",
       "      <td>14.94%</td>\n",
       "      <td>192.1M</td>\n",
       "      <td>4.43B</td>\n",
       "      <td>22.95</td>\n",
       "      <td>5.27B</td>\n",
       "      <td>66.01</td>\n",
       "      <td>3.00</td>\n",
       "      <td>1.25</td>\n",
       "    </tr>\n",
       "    <tr>\n",
       "      <th>ADYEN.AS</th>\n",
       "      <td>46.92B</td>\n",
       "      <td>94.14</td>\n",
       "      <td>10.12</td>\n",
       "      <td>79.37</td>\n",
       "      <td>50.12B</td>\n",
       "      <td>NaN</td>\n",
       "      <td>34.89</td>\n",
       "      <td>10.70</td>\n",
       "      <td>134.80</td>\n",
       "      <td>0.2365</td>\n",
       "      <td>...</td>\n",
       "      <td>4.64B</td>\n",
       "      <td>152.76</td>\n",
       "      <td>14.94%</td>\n",
       "      <td>30.96M</td>\n",
       "      <td>3.34B</td>\n",
       "      <td>109.83</td>\n",
       "      <td>128.36M</td>\n",
       "      <td>8.94</td>\n",
       "      <td>0.00</td>\n",
       "      <td>0.00</td>\n",
       "    </tr>\n",
       "    <tr>\n",
       "      <th>AI.PA</th>\n",
       "      <td>84.75B</td>\n",
       "      <td>14.32</td>\n",
       "      <td>4.02</td>\n",
       "      <td>23.98</td>\n",
       "      <td>71.58B</td>\n",
       "      <td>2.38</td>\n",
       "      <td>3.75</td>\n",
       "      <td>3.40</td>\n",
       "      <td>27.61</td>\n",
       "      <td>0.0261</td>\n",
       "      <td>...</td>\n",
       "      <td>21.06B</td>\n",
       "      <td>44.62</td>\n",
       "      <td>14.94%</td>\n",
       "      <td>474.06M</td>\n",
       "      <td>1.39B</td>\n",
       "      <td>2.94</td>\n",
       "      <td>14.61B</td>\n",
       "      <td>74.66</td>\n",
       "      <td>2.75</td>\n",
       "      <td>1.87</td>\n",
       "    </tr>\n",
       "    <tr>\n",
       "      <th>AIR.PA</th>\n",
       "      <td>84.00B</td>\n",
       "      <td>10.68</td>\n",
       "      <td>1.53</td>\n",
       "      <td>21.46</td>\n",
       "      <td>87.73B</td>\n",
       "      <td>1.11</td>\n",
       "      <td>9.98</td>\n",
       "      <td>1.60</td>\n",
       "      <td>20.95</td>\n",
       "      <td>0.2584</td>\n",
       "      <td>...</td>\n",
       "      <td>54.91B</td>\n",
       "      <td>69.96</td>\n",
       "      <td>14.94%</td>\n",
       "      <td>785.85M</td>\n",
       "      <td>16.65B</td>\n",
       "      <td>21.19</td>\n",
       "      <td>14.92B</td>\n",
       "      <td>169.50</td>\n",
       "      <td>0.00</td>\n",
       "      <td>0.00</td>\n",
       "    </tr>\n",
       "    <tr>\n",
       "      <th>ALV.DE</th>\n",
       "      <td>106.40B</td>\n",
       "      <td>NaN</td>\n",
       "      <td>0.94</td>\n",
       "      <td>10.21</td>\n",
       "      <td>92.09B</td>\n",
       "      <td>1.09</td>\n",
       "      <td>1.13</td>\n",
       "      <td>0.80</td>\n",
       "      <td>10.84</td>\n",
       "      <td>0.0000</td>\n",
       "      <td>...</td>\n",
       "      <td>119.85B</td>\n",
       "      <td>288.44</td>\n",
       "      <td>14.94%</td>\n",
       "      <td>408.46M</td>\n",
       "      <td>21.94B</td>\n",
       "      <td>52.89</td>\n",
       "      <td>36.25B</td>\n",
       "      <td>42.47</td>\n",
       "      <td>0.00</td>\n",
       "      <td>0.00</td>\n",
       "    </tr>\n",
       "    <tr>\n",
       "      <th>ASML.AS</th>\n",
       "      <td>229.72B</td>\n",
       "      <td>32.78</td>\n",
       "      <td>12.34</td>\n",
       "      <td>33.67</td>\n",
       "      <td>233.24B</td>\n",
       "      <td>2.49</td>\n",
       "      <td>23.00</td>\n",
       "      <td>12.65</td>\n",
       "      <td>40.01</td>\n",
       "      <td>0.0001</td>\n",
       "      <td>...</td>\n",
       "      <td>18.61B</td>\n",
       "      <td>45.42</td>\n",
       "      <td>14.94%</td>\n",
       "      <td>406.47M</td>\n",
       "      <td>7.59B</td>\n",
       "      <td>18.77</td>\n",
       "      <td>4.08B</td>\n",
       "      <td>40.19</td>\n",
       "      <td>5.50</td>\n",
       "      <td>0.97</td>\n",
       "    </tr>\n",
       "    <tr>\n",
       "      <th>BAS.DE</th>\n",
       "      <td>78.66B</td>\n",
       "      <td>6.87</td>\n",
       "      <td>1.05</td>\n",
       "      <td>11.32</td>\n",
       "      <td>61.98B</td>\n",
       "      <td>0.79</td>\n",
       "      <td>1.57</td>\n",
       "      <td>0.83</td>\n",
       "      <td>11.54</td>\n",
       "      <td>0.0000</td>\n",
       "      <td>...</td>\n",
       "      <td>74.73B</td>\n",
       "      <td>81.36</td>\n",
       "      <td>14.94%</td>\n",
       "      <td>918.48M</td>\n",
       "      <td>3.1B</td>\n",
       "      <td>3.37</td>\n",
       "      <td>19.78B</td>\n",
       "      <td>48.70</td>\n",
       "      <td>3.30</td>\n",
       "      <td>4.95</td>\n",
       "    </tr>\n",
       "    <tr>\n",
       "      <th>BAYN.DE</th>\n",
       "      <td>81.70B</td>\n",
       "      <td>11.26</td>\n",
       "      <td>1.90</td>\n",
       "      <td>7.86</td>\n",
       "      <td>52.03B</td>\n",
       "      <td>3.01</td>\n",
       "      <td>1.67</td>\n",
       "      <td>1.21</td>\n",
       "      <td>230.26</td>\n",
       "      <td>0.0000</td>\n",
       "      <td>...</td>\n",
       "      <td>42.96B</td>\n",
       "      <td>43.73</td>\n",
       "      <td>14.94%</td>\n",
       "      <td>982.42M</td>\n",
       "      <td>8.22B</td>\n",
       "      <td>8.37</td>\n",
       "      <td>41.77B</td>\n",
       "      <td>133.55</td>\n",
       "      <td>2.00</td>\n",
       "      <td>3.80</td>\n",
       "    </tr>\n",
       "    <tr>\n",
       "      <th>BBVA.MC</th>\n",
       "      <td>NaN</td>\n",
       "      <td>NaN</td>\n",
       "      <td>NaN</td>\n",
       "      <td>7.68</td>\n",
       "      <td>36.91B</td>\n",
       "      <td>0.44</td>\n",
       "      <td>0.82</td>\n",
       "      <td>1.57</td>\n",
       "      <td>10.35</td>\n",
       "      <td>0.0002</td>\n",
       "      <td>...</td>\n",
       "      <td>18.03B</td>\n",
       "      <td>2.60</td>\n",
       "      <td>14.94%</td>\n",
       "      <td>6.03B</td>\n",
       "      <td>191.29B</td>\n",
       "      <td>28.53</td>\n",
       "      <td>55.76B</td>\n",
       "      <td>NaN</td>\n",
       "      <td>0.31</td>\n",
       "      <td>5.45</td>\n",
       "    </tr>\n",
       "    <tr>\n",
       "      <th>BMW.DE</th>\n",
       "      <td>129.87B</td>\n",
       "      <td>5.86</td>\n",
       "      <td>1.16</td>\n",
       "      <td>6.23</td>\n",
       "      <td>60.94B</td>\n",
       "      <td>0.25</td>\n",
       "      <td>0.86</td>\n",
       "      <td>0.55</td>\n",
       "      <td>5.24</td>\n",
       "      <td>0.4674</td>\n",
       "      <td>...</td>\n",
       "      <td>112.31B</td>\n",
       "      <td>170.25</td>\n",
       "      <td>14.94%</td>\n",
       "      <td>602M</td>\n",
       "      <td>14.33B</td>\n",
       "      <td>21.72</td>\n",
       "      <td>104.5B</td>\n",
       "      <td>144.44</td>\n",
       "      <td>1.90</td>\n",
       "      <td>2.12</td>\n",
       "    </tr>\n",
       "    <tr>\n",
       "      <th>BN.PA</th>\n",
       "      <td>46.02B</td>\n",
       "      <td>12.87</td>\n",
       "      <td>1.98</td>\n",
       "      <td>16.89</td>\n",
       "      <td>35.16B</td>\n",
       "      <td>4.80</td>\n",
       "      <td>2.12</td>\n",
       "      <td>1.54</td>\n",
       "      <td>17.95</td>\n",
       "      <td>0.0265</td>\n",
       "      <td>...</td>\n",
       "      <td>23.27B</td>\n",
       "      <td>35.80</td>\n",
       "      <td>14.94%</td>\n",
       "      <td>638.09M</td>\n",
       "      <td>6.29B</td>\n",
       "      <td>9.66</td>\n",
       "      <td>17.66B</td>\n",
       "      <td>105.75</td>\n",
       "      <td>1.94</td>\n",
       "      <td>3.54</td>\n",
       "    </tr>\n",
       "    <tr>\n",
       "      <th>BNP.PA</th>\n",
       "      <td>NaN</td>\n",
       "      <td>NaN</td>\n",
       "      <td>NaN</td>\n",
       "      <td>9.51</td>\n",
       "      <td>78.49B</td>\n",
       "      <td>1.01</td>\n",
       "      <td>0.68</td>\n",
       "      <td>1.41</td>\n",
       "      <td>9.54</td>\n",
       "      <td>0.1320</td>\n",
       "      <td>...</td>\n",
       "      <td>43.18B</td>\n",
       "      <td>34.61</td>\n",
       "      <td>14.94%</td>\n",
       "      <td>1.23B</td>\n",
       "      <td>1.21T</td>\n",
       "      <td>969.91</td>\n",
       "      <td>520.91B</td>\n",
       "      <td>NaN</td>\n",
       "      <td>1.11</td>\n",
       "      <td>1.73</td>\n",
       "    </tr>\n",
       "    <tr>\n",
       "      <th>CRG.IR</th>\n",
       "      <td>40.73B</td>\n",
       "      <td>9.40</td>\n",
       "      <td>1.38</td>\n",
       "      <td>14.47</td>\n",
       "      <td>35.29B</td>\n",
       "      <td>1.22</td>\n",
       "      <td>2.05</td>\n",
       "      <td>1.39</td>\n",
       "      <td>27.12</td>\n",
       "      <td>0.0002</td>\n",
       "      <td>...</td>\n",
       "      <td>29.42B</td>\n",
       "      <td>37.49</td>\n",
       "      <td>14.94%</td>\n",
       "      <td>768.51M</td>\n",
       "      <td>6.29B</td>\n",
       "      <td>8.02</td>\n",
       "      <td>12.47B</td>\n",
       "      <td>62.14</td>\n",
       "      <td>1.16</td>\n",
       "      <td>2.61</td>\n",
       "    </tr>\n",
       "    <tr>\n",
       "      <th>DAI.DE</th>\n",
       "      <td>177.90B</td>\n",
       "      <td>7.27</td>\n",
       "      <td>1.06</td>\n",
       "      <td>7.17</td>\n",
       "      <td>75.06B</td>\n",
       "      <td>0.46</td>\n",
       "      <td>1.02</td>\n",
       "      <td>0.45</td>\n",
       "      <td>6.49</td>\n",
       "      <td>0.1835</td>\n",
       "      <td>...</td>\n",
       "      <td>167.87B</td>\n",
       "      <td>156.91</td>\n",
       "      <td>14.94%</td>\n",
       "      <td>1.07B</td>\n",
       "      <td>21.22B</td>\n",
       "      <td>19.84</td>\n",
       "      <td>130.71B</td>\n",
       "      <td>173.66</td>\n",
       "      <td>1.35</td>\n",
       "      <td>1.92</td>\n",
       "    </tr>\n",
       "    <tr>\n",
       "      <th>DB1.DE</th>\n",
       "      <td>-57.81B</td>\n",
       "      <td>-28.94</td>\n",
       "      <td>-13.83</td>\n",
       "      <td>21.51</td>\n",
       "      <td>28.33B</td>\n",
       "      <td>2.99</td>\n",
       "      <td>3.90</td>\n",
       "      <td>6.78</td>\n",
       "      <td>24.46</td>\n",
       "      <td>0.0000</td>\n",
       "      <td>...</td>\n",
       "      <td>4.18B</td>\n",
       "      <td>22.78</td>\n",
       "      <td>14.94%</td>\n",
       "      <td>183.52M</td>\n",
       "      <td>20.88B</td>\n",
       "      <td>113.79</td>\n",
       "      <td>4.79B</td>\n",
       "      <td>65.89</td>\n",
       "      <td>3.00</td>\n",
       "      <td>1.92</td>\n",
       "    </tr>\n",
       "    <tr>\n",
       "      <th>DG.PA</th>\n",
       "      <td>76.03B</td>\n",
       "      <td>10.94</td>\n",
       "      <td>1.58</td>\n",
       "      <td>15.58</td>\n",
       "      <td>55.29B</td>\n",
       "      <td>0.59</td>\n",
       "      <td>2.59</td>\n",
       "      <td>1.16</td>\n",
       "      <td>24.89</td>\n",
       "      <td>0.0894</td>\n",
       "      <td>...</td>\n",
       "      <td>49.98B</td>\n",
       "      <td>86.80</td>\n",
       "      <td>14.94%</td>\n",
       "      <td>566.68M</td>\n",
       "      <td>9.3B</td>\n",
       "      <td>16.38</td>\n",
       "      <td>30.66B</td>\n",
       "      <td>123.77</td>\n",
       "      <td>2.90</td>\n",
       "      <td>2.95</td>\n",
       "    </tr>\n",
       "    <tr>\n",
       "      <th>DPW.DE</th>\n",
       "      <td>78.83B</td>\n",
       "      <td>6.88</td>\n",
       "      <td>1.02</td>\n",
       "      <td>13.72</td>\n",
       "      <td>66.28B</td>\n",
       "      <td>1.19</td>\n",
       "      <td>3.83</td>\n",
       "      <td>0.87</td>\n",
       "      <td>13.86</td>\n",
       "      <td>0.2049</td>\n",
       "      <td>...</td>\n",
       "      <td>77.82B</td>\n",
       "      <td>62.95</td>\n",
       "      <td>14.94%</td>\n",
       "      <td>1.24B</td>\n",
       "      <td>5.91B</td>\n",
       "      <td>4.81</td>\n",
       "      <td>19.42B</td>\n",
       "      <td>110.06</td>\n",
       "      <td>1.35</td>\n",
       "      <td>2.59</td>\n",
       "    </tr>\n",
       "    <tr>\n",
       "      <th>DTE.DE</th>\n",
       "      <td>217.74B</td>\n",
       "      <td>5.03</td>\n",
       "      <td>2.03</td>\n",
       "      <td>13.50</td>\n",
       "      <td>86.32B</td>\n",
       "      <td>1.29</td>\n",
       "      <td>2.10</td>\n",
       "      <td>0.77</td>\n",
       "      <td>15.18</td>\n",
       "      <td>0.1836</td>\n",
       "      <td>...</td>\n",
       "      <td>110.35B</td>\n",
       "      <td>23.18</td>\n",
       "      <td>14.94%</td>\n",
       "      <td>4.99B</td>\n",
       "      <td>6.34B</td>\n",
       "      <td>1.32</td>\n",
       "      <td>141.73B</td>\n",
       "      <td>179.72</td>\n",
       "      <td>0.60</td>\n",
       "      <td>3.52</td>\n",
       "    </tr>\n",
       "    <tr>\n",
       "      <th>EL.PA</th>\n",
       "      <td>77.79B</td>\n",
       "      <td>18.71</td>\n",
       "      <td>4.58</td>\n",
       "      <td>27.62</td>\n",
       "      <td>75.82B</td>\n",
       "      <td>NaN</td>\n",
       "      <td>2.24</td>\n",
       "      <td>4.48</td>\n",
       "      <td>56.18</td>\n",
       "      <td>0.3599</td>\n",
       "      <td>...</td>\n",
       "      <td>16.97B</td>\n",
       "      <td>38.86</td>\n",
       "      <td>14.94%</td>\n",
       "      <td>441.06M</td>\n",
       "      <td>9.44B</td>\n",
       "      <td>21.43</td>\n",
       "      <td>11.41B</td>\n",
       "      <td>33.20</td>\n",
       "      <td>1.08</td>\n",
       "      <td>0.63</td>\n",
       "    </tr>\n",
       "    <tr>\n",
       "      <th>ENEL.MI</th>\n",
       "      <td>92.90B</td>\n",
       "      <td>6.20</td>\n",
       "      <td>1.19</td>\n",
       "      <td>12.11</td>\n",
       "      <td>68.89B</td>\n",
       "      <td>1.74</td>\n",
       "      <td>2.26</td>\n",
       "      <td>0.91</td>\n",
       "      <td>32.28</td>\n",
       "      <td>0.2358</td>\n",
       "      <td>...</td>\n",
       "      <td>72.46B</td>\n",
       "      <td>7.16</td>\n",
       "      <td>14.94%</td>\n",
       "      <td>10.16B</td>\n",
       "      <td>10.44B</td>\n",
       "      <td>1.03</td>\n",
       "      <td>67.58B</td>\n",
       "      <td>153.31</td>\n",
       "      <td>0.37</td>\n",
       "      <td>5.62</td>\n",
       "    </tr>\n",
       "    <tr>\n",
       "      <th>ENI.MI</th>\n",
       "      <td>63.60B</td>\n",
       "      <td>3.95</td>\n",
       "      <td>1.04</td>\n",
       "      <td>8.08</td>\n",
       "      <td>47.04B</td>\n",
       "      <td>NaN</td>\n",
       "      <td>1.17</td>\n",
       "      <td>0.77</td>\n",
       "      <td>33.22</td>\n",
       "      <td>0.3030</td>\n",
       "      <td>...</td>\n",
       "      <td>62.62B</td>\n",
       "      <td>17.53</td>\n",
       "      <td>14.94%</td>\n",
       "      <td>3.54B</td>\n",
       "      <td>13.83B</td>\n",
       "      <td>3.87</td>\n",
       "      <td>31.42B</td>\n",
       "      <td>78.01</td>\n",
       "      <td>0.67</td>\n",
       "      <td>4.97</td>\n",
       "    </tr>\n",
       "    <tr>\n",
       "      <th>IBE.MC</th>\n",
       "      <td>100.15B</td>\n",
       "      <td>9.52</td>\n",
       "      <td>2.71</td>\n",
       "      <td>15.48</td>\n",
       "      <td>63.50B</td>\n",
       "      <td>2.73</td>\n",
       "      <td>1.38</td>\n",
       "      <td>1.73</td>\n",
       "      <td>19.53</td>\n",
       "      <td>0.0021</td>\n",
       "      <td>...</td>\n",
       "      <td>36.9B</td>\n",
       "      <td>5.72</td>\n",
       "      <td>14.94%</td>\n",
       "      <td>6.26B</td>\n",
       "      <td>5.42B</td>\n",
       "      <td>0.85</td>\n",
       "      <td>42.07B</td>\n",
       "      <td>80.79</td>\n",
       "      <td>0.42</td>\n",
       "      <td>4.33</td>\n",
       "    </tr>\n",
       "    <tr>\n",
       "      <th>IFX.DE</th>\n",
       "      <td>48.28B</td>\n",
       "      <td>16.16</td>\n",
       "      <td>4.37</td>\n",
       "      <td>21.37</td>\n",
       "      <td>45.29B</td>\n",
       "      <td>1.23</td>\n",
       "      <td>3.97</td>\n",
       "      <td>4.10</td>\n",
       "      <td>39.55</td>\n",
       "      <td>0.0000</td>\n",
       "      <td>...</td>\n",
       "      <td>11.59B</td>\n",
       "      <td>8.91</td>\n",
       "      <td>14.94%</td>\n",
       "      <td>1.3B</td>\n",
       "      <td>4.28B</td>\n",
       "      <td>3.29</td>\n",
       "      <td>6.99B</td>\n",
       "      <td>58.06</td>\n",
       "      <td>0.27</td>\n",
       "      <td>0.81</td>\n",
       "    </tr>\n",
       "    <tr>\n",
       "      <th>INGA.AS</th>\n",
       "      <td>NaN</td>\n",
       "      <td>NaN</td>\n",
       "      <td>NaN</td>\n",
       "      <td>10.20</td>\n",
       "      <td>49.92B</td>\n",
       "      <td>0.61</td>\n",
       "      <td>0.90</td>\n",
       "      <td>2.83</td>\n",
       "      <td>11.49</td>\n",
       "      <td>0.0000</td>\n",
       "      <td>...</td>\n",
       "      <td>17.97B</td>\n",
       "      <td>4.76</td>\n",
       "      <td>14.94%</td>\n",
       "      <td>3.78B</td>\n",
       "      <td>159.44B</td>\n",
       "      <td>42.23</td>\n",
       "      <td>179.54B</td>\n",
       "      <td>NaN</td>\n",
       "      <td>0.62</td>\n",
       "      <td>4.71</td>\n",
       "    </tr>\n",
       "    <tr>\n",
       "      <th>ISP.MI</th>\n",
       "      <td>NaN</td>\n",
       "      <td>NaN</td>\n",
       "      <td>NaN</td>\n",
       "      <td>11.14</td>\n",
       "      <td>52.84B</td>\n",
       "      <td>NaN</td>\n",
       "      <td>0.79</td>\n",
       "      <td>1.58</td>\n",
       "      <td>86.56</td>\n",
       "      <td>0.0473</td>\n",
       "      <td>...</td>\n",
       "      <td>18.02B</td>\n",
       "      <td>NaN</td>\n",
       "      <td>14.94%</td>\n",
       "      <td>19.37B</td>\n",
       "      <td>87.14B</td>\n",
       "      <td>NaN</td>\n",
       "      <td>312.42B</td>\n",
       "      <td>NaN</td>\n",
       "      <td>0.00</td>\n",
       "      <td>0.00</td>\n",
       "    </tr>\n",
       "    <tr>\n",
       "      <th>ITX.MC</th>\n",
       "      <td>76.71B</td>\n",
       "      <td>11.75</td>\n",
       "      <td>2.99</td>\n",
       "      <td>19.80</td>\n",
       "      <td>80.43B</td>\n",
       "      <td>0.54</td>\n",
       "      <td>5.39</td>\n",
       "      <td>3.14</td>\n",
       "      <td>27.38</td>\n",
       "      <td>0.6435</td>\n",
       "      <td>...</td>\n",
       "      <td>25.64B</td>\n",
       "      <td>8.23</td>\n",
       "      <td>14.94%</td>\n",
       "      <td>3.11B</td>\n",
       "      <td>9.58B</td>\n",
       "      <td>3.08</td>\n",
       "      <td>5.86B</td>\n",
       "      <td>39.20</td>\n",
       "      <td>0.00</td>\n",
       "      <td>0.00</td>\n",
       "    </tr>\n",
       "    <tr>\n",
       "      <th>KER.PA</th>\n",
       "      <td>86.52B</td>\n",
       "      <td>14.07</td>\n",
       "      <td>5.49</td>\n",
       "      <td>21.93</td>\n",
       "      <td>81.81B</td>\n",
       "      <td>1.40</td>\n",
       "      <td>6.54</td>\n",
       "      <td>5.22</td>\n",
       "      <td>24.68</td>\n",
       "      <td>0.4171</td>\n",
       "      <td>...</td>\n",
       "      <td>15.77B</td>\n",
       "      <td>126.25</td>\n",
       "      <td>14.94%</td>\n",
       "      <td>124.07M</td>\n",
       "      <td>4.79B</td>\n",
       "      <td>38.42</td>\n",
       "      <td>9.82B</td>\n",
       "      <td>76.89</td>\n",
       "      <td>9.00</td>\n",
       "      <td>1.38</td>\n",
       "    </tr>\n",
       "    <tr>\n",
       "      <th>KNEBV.HE</th>\n",
       "      <td>26.71B</td>\n",
       "      <td>16.85</td>\n",
       "      <td>2.54</td>\n",
       "      <td>28.01</td>\n",
       "      <td>29.05B</td>\n",
       "      <td>4.25</td>\n",
       "      <td>9.15</td>\n",
       "      <td>2.76</td>\n",
       "      <td>28.61</td>\n",
       "      <td>0.2781</td>\n",
       "      <td>...</td>\n",
       "      <td>10.51B</td>\n",
       "      <td>20.30</td>\n",
       "      <td>14.94%</td>\n",
       "      <td>441.96M</td>\n",
       "      <td>2.88B</td>\n",
       "      <td>5.57</td>\n",
       "      <td>552.2M</td>\n",
       "      <td>17.26</td>\n",
       "      <td>1.75</td>\n",
       "      <td>3.16</td>\n",
       "    </tr>\n",
       "    <tr>\n",
       "      <th>LIN.DE</th>\n",
       "      <td>152.08B</td>\n",
       "      <td>15.68</td>\n",
       "      <td>5.11</td>\n",
       "      <td>26.53</td>\n",
       "      <td>141.44B</td>\n",
       "      <td>2.15</td>\n",
       "      <td>3.60</td>\n",
       "      <td>5.49</td>\n",
       "      <td>45.85</td>\n",
       "      <td>0.0020</td>\n",
       "      <td>...</td>\n",
       "      <td>29.77B</td>\n",
       "      <td>57.22</td>\n",
       "      <td>14.94%</td>\n",
       "      <td>512.56M</td>\n",
       "      <td>4.7B</td>\n",
       "      <td>9.17</td>\n",
       "      <td>16.73B</td>\n",
       "      <td>36.57</td>\n",
       "      <td>4.14</td>\n",
       "      <td>1.58</td>\n",
       "    </tr>\n",
       "    <tr>\n",
       "      <th>MC.PA</th>\n",
       "      <td>387.95B</td>\n",
       "      <td>19.34</td>\n",
       "      <td>7.06</td>\n",
       "      <td>27.32</td>\n",
       "      <td>358.12B</td>\n",
       "      <td>1.17</td>\n",
       "      <td>8.70</td>\n",
       "      <td>6.53</td>\n",
       "      <td>37.92</td>\n",
       "      <td>0.4748</td>\n",
       "      <td>...</td>\n",
       "      <td>64.21B</td>\n",
       "      <td>127.50</td>\n",
       "      <td>14.94%</td>\n",
       "      <td>503.19M</td>\n",
       "      <td>10.6B</td>\n",
       "      <td>21.04</td>\n",
       "      <td>34.54B</td>\n",
       "      <td>70.63</td>\n",
       "      <td>10.00</td>\n",
       "      <td>1.42</td>\n",
       "    </tr>\n",
       "    <tr>\n",
       "      <th>MUV2.DE</th>\n",
       "      <td>37.41B</td>\n",
       "      <td>NaN</td>\n",
       "      <td>0.55</td>\n",
       "      <td>12.08</td>\n",
       "      <td>38.38B</td>\n",
       "      <td>0.52</td>\n",
       "      <td>1.28</td>\n",
       "      <td>0.57</td>\n",
       "      <td>16.90</td>\n",
       "      <td>0.0003</td>\n",
       "      <td>...</td>\n",
       "      <td>62.96B</td>\n",
       "      <td>449.53</td>\n",
       "      <td>14.94%</td>\n",
       "      <td>140.1M</td>\n",
       "      <td>7.21B</td>\n",
       "      <td>51.58</td>\n",
       "      <td>5.29B</td>\n",
       "      <td>17.60</td>\n",
       "      <td>9.80</td>\n",
       "      <td>3.67</td>\n",
       "    </tr>\n",
       "    <tr>\n",
       "      <th>OR.PA</th>\n",
       "      <td>197.07B</td>\n",
       "      <td>25.44</td>\n",
       "      <td>6.54</td>\n",
       "      <td>40.32</td>\n",
       "      <td>199.44B</td>\n",
       "      <td>4.08</td>\n",
       "      <td>6.73</td>\n",
       "      <td>6.95</td>\n",
       "      <td>51.03</td>\n",
       "      <td>0.5418</td>\n",
       "      <td>...</td>\n",
       "      <td>30.11B</td>\n",
       "      <td>53.81</td>\n",
       "      <td>14.94%</td>\n",
       "      <td>535.41M</td>\n",
       "      <td>4.82B</td>\n",
       "      <td>8.65</td>\n",
       "      <td>2.45B</td>\n",
       "      <td>8.27</td>\n",
       "      <td>4.00</td>\n",
       "      <td>1.09</td>\n",
       "    </tr>\n",
       "    <tr>\n",
       "      <th>PHIA.AS</th>\n",
       "      <td>29.77B</td>\n",
       "      <td>14.74</td>\n",
       "      <td>1.74</td>\n",
       "      <td>17.06</td>\n",
       "      <td>25.10B</td>\n",
       "      <td>3.13</td>\n",
       "      <td>1.74</td>\n",
       "      <td>1.53</td>\n",
       "      <td>43.04</td>\n",
       "      <td>0.0009</td>\n",
       "      <td>...</td>\n",
       "      <td>17.16B</td>\n",
       "      <td>18.97</td>\n",
       "      <td>14.94%</td>\n",
       "      <td>870.18M</td>\n",
       "      <td>2.3B</td>\n",
       "      <td>2.65</td>\n",
       "      <td>6.98B</td>\n",
       "      <td>48.22</td>\n",
       "      <td>0.85</td>\n",
       "      <td>2.94</td>\n",
       "    </tr>\n",
       "    <tr>\n",
       "      <th>PRX.AS</th>\n",
       "      <td>219.41B</td>\n",
       "      <td>10.62</td>\n",
       "      <td>36.52</td>\n",
       "      <td>12.92</td>\n",
       "      <td>221.89B</td>\n",
       "      <td>NaN</td>\n",
       "      <td>4.59</td>\n",
       "      <td>21.27</td>\n",
       "      <td>6.30</td>\n",
       "      <td>0.5763</td>\n",
       "      <td>...</td>\n",
       "      <td>6.01B</td>\n",
       "      <td>3.76</td>\n",
       "      <td>14.94%</td>\n",
       "      <td>2.01B</td>\n",
       "      <td>13.68B</td>\n",
       "      <td>8.67</td>\n",
       "      <td>10.81B</td>\n",
       "      <td>19.78</td>\n",
       "      <td>0.16</td>\n",
       "      <td>0.23</td>\n",
       "    </tr>\n",
       "    <tr>\n",
       "      <th>RI.PA</th>\n",
       "      <td>57.36B</td>\n",
       "      <td>21.79</td>\n",
       "      <td>6.50</td>\n",
       "      <td>26.53</td>\n",
       "      <td>49.84B</td>\n",
       "      <td>2.24</td>\n",
       "      <td>3.36</td>\n",
       "      <td>5.69</td>\n",
       "      <td>38.48</td>\n",
       "      <td>0.2456</td>\n",
       "      <td>...</td>\n",
       "      <td>8.82B</td>\n",
       "      <td>33.83</td>\n",
       "      <td>14.94%</td>\n",
       "      <td>259.6M</td>\n",
       "      <td>2.08B</td>\n",
       "      <td>7.96</td>\n",
       "      <td>9.59B</td>\n",
       "      <td>63.65</td>\n",
       "      <td>3.12</td>\n",
       "      <td>1.64</td>\n",
       "    </tr>\n",
       "    <tr>\n",
       "      <th>SAF.PA</th>\n",
       "      <td>48.65B</td>\n",
       "      <td>13.44</td>\n",
       "      <td>3.36</td>\n",
       "      <td>28.90</td>\n",
       "      <td>45.85B</td>\n",
       "      <td>0.89</td>\n",
       "      <td>3.52</td>\n",
       "      <td>3.27</td>\n",
       "      <td>34.32</td>\n",
       "      <td>0.1845</td>\n",
       "      <td>...</td>\n",
       "      <td>14.65B</td>\n",
       "      <td>34.34</td>\n",
       "      <td>14.94%</td>\n",
       "      <td>426.79M</td>\n",
       "      <td>4.06B</td>\n",
       "      <td>9.52</td>\n",
       "      <td>6.88B</td>\n",
       "      <td>51.15</td>\n",
       "      <td>0.43</td>\n",
       "      <td>0.41</td>\n",
       "    </tr>\n",
       "    <tr>\n",
       "      <th>SAN.MC</th>\n",
       "      <td>NaN</td>\n",
       "      <td>NaN</td>\n",
       "      <td>NaN</td>\n",
       "      <td>6.32</td>\n",
       "      <td>56.29B</td>\n",
       "      <td>NaN</td>\n",
       "      <td>0.65</td>\n",
       "      <td>1.27</td>\n",
       "      <td>7.57</td>\n",
       "      <td>0.0073</td>\n",
       "      <td>...</td>\n",
       "      <td>39.01B</td>\n",
       "      <td>2.10</td>\n",
       "      <td>14.94%</td>\n",
       "      <td>17.06B</td>\n",
       "      <td>380.05B</td>\n",
       "      <td>22.27</td>\n",
       "      <td>305.44B</td>\n",
       "      <td>NaN</td>\n",
       "      <td>0.00</td>\n",
       "      <td>0.00</td>\n",
       "    </tr>\n",
       "    <tr>\n",
       "      <th>SAN.PA</th>\n",
       "      <td>126.27B</td>\n",
       "      <td>11.34</td>\n",
       "      <td>3.36</td>\n",
       "      <td>12.55</td>\n",
       "      <td>114.34B</td>\n",
       "      <td>3.50</td>\n",
       "      <td>1.81</td>\n",
       "      <td>3.06</td>\n",
       "      <td>19.84</td>\n",
       "      <td>0.1115</td>\n",
       "      <td>...</td>\n",
       "      <td>39.18B</td>\n",
       "      <td>31.28</td>\n",
       "      <td>14.94%</td>\n",
       "      <td>1.25B</td>\n",
       "      <td>NaN</td>\n",
       "      <td>NaN</td>\n",
       "      <td>NaN</td>\n",
       "      <td>NaN</td>\n",
       "      <td>3.33</td>\n",
       "      <td>3.69</td>\n",
       "    </tr>\n",
       "    <tr>\n",
       "      <th>SAP.DE</th>\n",
       "      <td>134.74B</td>\n",
       "      <td>28.91</td>\n",
       "      <td>4.84</td>\n",
       "      <td>19.34</td>\n",
       "      <td>128.69B</td>\n",
       "      <td>2.14</td>\n",
       "      <td>3.66</td>\n",
       "      <td>4.62</td>\n",
       "      <td>23.92</td>\n",
       "      <td>0.1109</td>\n",
       "      <td>...</td>\n",
       "      <td>27.84B</td>\n",
       "      <td>23.59</td>\n",
       "      <td>14.94%</td>\n",
       "      <td>1.18B</td>\n",
       "      <td>11.66B</td>\n",
       "      <td>9.88</td>\n",
       "      <td>15.57B</td>\n",
       "      <td>37.41</td>\n",
       "      <td>0.00</td>\n",
       "      <td>0.00</td>\n",
       "    </tr>\n",
       "    <tr>\n",
       "      <th>SIE.DE</th>\n",
       "      <td>146.43B</td>\n",
       "      <td>13.06</td>\n",
       "      <td>2.35</td>\n",
       "      <td>16.10</td>\n",
       "      <td>109.78B</td>\n",
       "      <td>2.47</td>\n",
       "      <td>2.47</td>\n",
       "      <td>1.78</td>\n",
       "      <td>21.79</td>\n",
       "      <td>0.0600</td>\n",
       "      <td>...</td>\n",
       "      <td>62.26B</td>\n",
       "      <td>77.65</td>\n",
       "      <td>14.94%</td>\n",
       "      <td>802.36M</td>\n",
       "      <td>10.68B</td>\n",
       "      <td>13.31</td>\n",
       "      <td>48.7B</td>\n",
       "      <td>98.83</td>\n",
       "      <td>4.00</td>\n",
       "      <td>3.01</td>\n",
       "    </tr>\n",
       "    <tr>\n",
       "      <th>STLA.MI</th>\n",
       "      <td>44.25B</td>\n",
       "      <td>2.69</td>\n",
       "      <td>0.35</td>\n",
       "      <td>4.48</td>\n",
       "      <td>54.56B</td>\n",
       "      <td>0.27</td>\n",
       "      <td>1.17</td>\n",
       "      <td>0.33</td>\n",
       "      <td>4.87</td>\n",
       "      <td>0.2601</td>\n",
       "      <td>...</td>\n",
       "      <td>113.73B</td>\n",
       "      <td>56.86</td>\n",
       "      <td>14.94%</td>\n",
       "      <td>3.13B</td>\n",
       "      <td>41.67B</td>\n",
       "      <td>13.31</td>\n",
       "      <td>31.36B</td>\n",
       "      <td>67.10</td>\n",
       "      <td>0.00</td>\n",
       "      <td>0.00</td>\n",
       "    </tr>\n",
       "    <tr>\n",
       "      <th>SU.PA</th>\n",
       "      <td>90.92B</td>\n",
       "      <td>17.49</td>\n",
       "      <td>3.32</td>\n",
       "      <td>22.57</td>\n",
       "      <td>83.06B</td>\n",
       "      <td>2.06</td>\n",
       "      <td>3.83</td>\n",
       "      <td>3.05</td>\n",
       "      <td>28.68</td>\n",
       "      <td>0.0377</td>\n",
       "      <td>...</td>\n",
       "      <td>27.36B</td>\n",
       "      <td>49.31</td>\n",
       "      <td>14.94%</td>\n",
       "      <td>556.58M</td>\n",
       "      <td>3.57B</td>\n",
       "      <td>6.44</td>\n",
       "      <td>11.45B</td>\n",
       "      <td>45.16</td>\n",
       "      <td>2.60</td>\n",
       "      <td>1.77</td>\n",
       "    </tr>\n",
       "    <tr>\n",
       "      <th>TTE.PA</th>\n",
       "      <td>159.86B</td>\n",
       "      <td>4.82</td>\n",
       "      <td>0.99</td>\n",
       "      <td>9.35</td>\n",
       "      <td>129.41B</td>\n",
       "      <td>NaN</td>\n",
       "      <td>1.33</td>\n",
       "      <td>0.95</td>\n",
       "      <td>13.83</td>\n",
       "      <td>0.0641</td>\n",
       "      <td>...</td>\n",
       "      <td>161.68B</td>\n",
       "      <td>59.10</td>\n",
       "      <td>14.94%</td>\n",
       "      <td>2.6B</td>\n",
       "      <td>32.88B</td>\n",
       "      <td>12.45</td>\n",
       "      <td>67.78B</td>\n",
       "      <td>59.87</td>\n",
       "      <td>3.10</td>\n",
       "      <td>6.08</td>\n",
       "    </tr>\n",
       "    <tr>\n",
       "      <th>UMG.AS</th>\n",
       "      <td>42.21B</td>\n",
       "      <td>28.68</td>\n",
       "      <td>5.41</td>\n",
       "      <td>27.25</td>\n",
       "      <td>39.56B</td>\n",
       "      <td>NaN</td>\n",
       "      <td>26.61</td>\n",
       "      <td>5.07</td>\n",
       "      <td>36.98</td>\n",
       "      <td>0.4805</td>\n",
       "      <td>...</td>\n",
       "      <td>7.8B</td>\n",
       "      <td>4.30</td>\n",
       "      <td>14.94%</td>\n",
       "      <td>1.81B</td>\n",
       "      <td>936M</td>\n",
       "      <td>0.52</td>\n",
       "      <td>3.44B</td>\n",
       "      <td>231.07</td>\n",
       "      <td>0.20</td>\n",
       "      <td>0.95</td>\n",
       "    </tr>\n",
       "    <tr>\n",
       "      <th>VNA.DE</th>\n",
       "      <td>35.84B</td>\n",
       "      <td>4.13</td>\n",
       "      <td>11.12</td>\n",
       "      <td>19.57</td>\n",
       "      <td>39.17B</td>\n",
       "      <td>NaN</td>\n",
       "      <td>1.41</td>\n",
       "      <td>9.45</td>\n",
       "      <td>5.84</td>\n",
       "      <td>0.0000</td>\n",
       "      <td>...</td>\n",
       "      <td>4.28B</td>\n",
       "      <td>7.52</td>\n",
       "      <td>14.94%</td>\n",
       "      <td>776.6M</td>\n",
       "      <td>2.17B</td>\n",
       "      <td>3.78</td>\n",
       "      <td>46.7B</td>\n",
       "      <td>162.57</td>\n",
       "      <td>1.69</td>\n",
       "      <td>3.47</td>\n",
       "    </tr>\n",
       "    <tr>\n",
       "      <th>VOW.DE</th>\n",
       "      <td>230.05B</td>\n",
       "      <td>4.33</td>\n",
       "      <td>0.91</td>\n",
       "      <td>7.86</td>\n",
       "      <td>112.25B</td>\n",
       "      <td>0.79</td>\n",
       "      <td>0.91</td>\n",
       "      <td>0.50</td>\n",
       "      <td>7.17</td>\n",
       "      <td>0.7331</td>\n",
       "      <td>...</td>\n",
       "      <td>254B</td>\n",
       "      <td>506.68</td>\n",
       "      <td>14.94%</td>\n",
       "      <td>295.09M</td>\n",
       "      <td>40.66B</td>\n",
       "      <td>81.11</td>\n",
       "      <td>205.86B</td>\n",
       "      <td>145.32</td>\n",
       "      <td>4.86</td>\n",
       "      <td>1.97</td>\n",
       "    </tr>\n",
       "  </tbody>\n",
       "</table>\n",
       "<p>48 rows × 54 columns</p>\n",
       "</div>"
      ],
      "text/plain": [
       "Attribute Enterprise Value  Enterprise Value/EBITDA  Enterprise Value/Revenue  \\\n",
       "Ticker                                                                          \n",
       "ABI.BR             168.58B                    12.45                      3.19   \n",
       "AD.AS               28.21B                     5.18                      0.38   \n",
       "ADS.DE              47.38B                    14.17                      2.09   \n",
       "ADYEN.AS            46.92B                    94.14                     10.12   \n",
       "AI.PA               84.75B                    14.32                      4.02   \n",
       "AIR.PA              84.00B                    10.68                      1.53   \n",
       "ALV.DE             106.40B                      NaN                      0.94   \n",
       "ASML.AS            229.72B                    32.78                     12.34   \n",
       "BAS.DE              78.66B                     6.87                      1.05   \n",
       "BAYN.DE             81.70B                    11.26                      1.90   \n",
       "BBVA.MC                NaN                      NaN                       NaN   \n",
       "BMW.DE             129.87B                     5.86                      1.16   \n",
       "BN.PA               46.02B                    12.87                      1.98   \n",
       "BNP.PA                 NaN                      NaN                       NaN   \n",
       "CRG.IR              40.73B                     9.40                      1.38   \n",
       "DAI.DE             177.90B                     7.27                      1.06   \n",
       "DB1.DE             -57.81B                   -28.94                    -13.83   \n",
       "DG.PA               76.03B                    10.94                      1.58   \n",
       "DPW.DE              78.83B                     6.88                      1.02   \n",
       "DTE.DE             217.74B                     5.03                      2.03   \n",
       "EL.PA               77.79B                    18.71                      4.58   \n",
       "ENEL.MI             92.90B                     6.20                      1.19   \n",
       "ENI.MI              63.60B                     3.95                      1.04   \n",
       "IBE.MC             100.15B                     9.52                      2.71   \n",
       "IFX.DE              48.28B                    16.16                      4.37   \n",
       "INGA.AS                NaN                      NaN                       NaN   \n",
       "ISP.MI                 NaN                      NaN                       NaN   \n",
       "ITX.MC              76.71B                    11.75                      2.99   \n",
       "KER.PA              86.52B                    14.07                      5.49   \n",
       "KNEBV.HE            26.71B                    16.85                      2.54   \n",
       "LIN.DE             152.08B                    15.68                      5.11   \n",
       "MC.PA              387.95B                    19.34                      7.06   \n",
       "MUV2.DE             37.41B                      NaN                      0.55   \n",
       "OR.PA              197.07B                    25.44                      6.54   \n",
       "PHIA.AS             29.77B                    14.74                      1.74   \n",
       "PRX.AS             219.41B                    10.62                     36.52   \n",
       "RI.PA               57.36B                    21.79                      6.50   \n",
       "SAF.PA              48.65B                    13.44                      3.36   \n",
       "SAN.MC                 NaN                      NaN                       NaN   \n",
       "SAN.PA             126.27B                    11.34                      3.36   \n",
       "SAP.DE             134.74B                    28.91                      4.84   \n",
       "SIE.DE             146.43B                    13.06                      2.35   \n",
       "STLA.MI             44.25B                     2.69                      0.35   \n",
       "SU.PA               90.92B                    17.49                      3.32   \n",
       "TTE.PA             159.86B                     4.82                      0.99   \n",
       "UMG.AS              42.21B                    28.68                      5.41   \n",
       "VNA.DE              35.84B                     4.13                     11.12   \n",
       "VOW.DE             230.05B                     4.33                      0.91   \n",
       "\n",
       "Attribute  Forward P/E Market Cap (intraday)  PEG Ratio (5 yr expected)  \\\n",
       "Ticker                                                                    \n",
       "ABI.BR           18.66                94.62B                       6.35   \n",
       "AD.AS            13.35                29.12B                      17.34   \n",
       "ADS.DE           24.94                46.54B                       0.59   \n",
       "ADYEN.AS         79.37                50.12B                        NaN   \n",
       "AI.PA            23.98                71.58B                       2.38   \n",
       "AIR.PA           21.46                87.73B                       1.11   \n",
       "ALV.DE           10.21                92.09B                       1.09   \n",
       "ASML.AS          33.67               233.24B                       2.49   \n",
       "BAS.DE           11.32                61.98B                       0.79   \n",
       "BAYN.DE           7.86                52.03B                       3.01   \n",
       "BBVA.MC           7.68                36.91B                       0.44   \n",
       "BMW.DE            6.23                60.94B                       0.25   \n",
       "BN.PA            16.89                35.16B                       4.80   \n",
       "BNP.PA            9.51                78.49B                       1.01   \n",
       "CRG.IR           14.47                35.29B                       1.22   \n",
       "DAI.DE            7.17                75.06B                       0.46   \n",
       "DB1.DE           21.51                28.33B                       2.99   \n",
       "DG.PA            15.58                55.29B                       0.59   \n",
       "DPW.DE           13.72                66.28B                       1.19   \n",
       "DTE.DE           13.50                86.32B                       1.29   \n",
       "EL.PA            27.62                75.82B                        NaN   \n",
       "ENEL.MI          12.11                68.89B                       1.74   \n",
       "ENI.MI            8.08                47.04B                        NaN   \n",
       "IBE.MC           15.48                63.50B                       2.73   \n",
       "IFX.DE           21.37                45.29B                       1.23   \n",
       "INGA.AS          10.20                49.92B                       0.61   \n",
       "ISP.MI           11.14                52.84B                        NaN   \n",
       "ITX.MC           19.80                80.43B                       0.54   \n",
       "KER.PA           21.93                81.81B                       1.40   \n",
       "KNEBV.HE         28.01                29.05B                       4.25   \n",
       "LIN.DE           26.53               141.44B                       2.15   \n",
       "MC.PA            27.32               358.12B                       1.17   \n",
       "MUV2.DE          12.08                38.38B                       0.52   \n",
       "OR.PA            40.32               199.44B                       4.08   \n",
       "PHIA.AS          17.06                25.10B                       3.13   \n",
       "PRX.AS           12.92               221.89B                        NaN   \n",
       "RI.PA            26.53                49.84B                       2.24   \n",
       "SAF.PA           28.90                45.85B                       0.89   \n",
       "SAN.MC            6.32                56.29B                        NaN   \n",
       "SAN.PA           12.55               114.34B                       3.50   \n",
       "SAP.DE           19.34               128.69B                       2.14   \n",
       "SIE.DE           16.10               109.78B                       2.47   \n",
       "STLA.MI           4.48                54.56B                       0.27   \n",
       "SU.PA            22.57                83.06B                       2.06   \n",
       "TTE.PA            9.35               129.41B                        NaN   \n",
       "UMG.AS           27.25                39.56B                        NaN   \n",
       "VNA.DE           19.57                39.17B                        NaN   \n",
       "VOW.DE            7.86               112.25B                       0.79   \n",
       "\n",
       "Attribute  Price/Book (mrq)  Price/Sales (ttm)  Trailing P/E  \\\n",
       "Ticker                                                         \n",
       "ABI.BR                 1.56               2.33         42.45   \n",
       "AD.AS                  2.23               0.40         18.61   \n",
       "ADS.DE                 6.04               2.09         32.69   \n",
       "ADYEN.AS              34.89              10.70        134.80   \n",
       "AI.PA                  3.75               3.40         27.61   \n",
       "AIR.PA                 9.98               1.60         20.95   \n",
       "ALV.DE                 1.13               0.80         10.84   \n",
       "ASML.AS               23.00              12.65         40.01   \n",
       "BAS.DE                 1.57               0.83         11.54   \n",
       "BAYN.DE                1.67               1.21        230.26   \n",
       "BBVA.MC                0.82               1.57         10.35   \n",
       "BMW.DE                 0.86               0.55          5.24   \n",
       "BN.PA                  2.12               1.54         17.95   \n",
       "BNP.PA                 0.68               1.41          9.54   \n",
       "CRG.IR                 2.05               1.39         27.12   \n",
       "DAI.DE                 1.02               0.45          6.49   \n",
       "DB1.DE                 3.90               6.78         24.46   \n",
       "DG.PA                  2.59               1.16         24.89   \n",
       "DPW.DE                 3.83               0.87         13.86   \n",
       "DTE.DE                 2.10               0.77         15.18   \n",
       "EL.PA                  2.24               4.48         56.18   \n",
       "ENEL.MI                2.26               0.91         32.28   \n",
       "ENI.MI                 1.17               0.77         33.22   \n",
       "IBE.MC                 1.38               1.73         19.53   \n",
       "IFX.DE                 3.97               4.10         39.55   \n",
       "INGA.AS                0.90               2.83         11.49   \n",
       "ISP.MI                 0.79               1.58         86.56   \n",
       "ITX.MC                 5.39               3.14         27.38   \n",
       "KER.PA                 6.54               5.22         24.68   \n",
       "KNEBV.HE               9.15               2.76         28.61   \n",
       "LIN.DE                 3.60               5.49         45.85   \n",
       "MC.PA                  8.70               6.53         37.92   \n",
       "MUV2.DE                1.28               0.57         16.90   \n",
       "OR.PA                  6.73               6.95         51.03   \n",
       "PHIA.AS                1.74               1.53         43.04   \n",
       "PRX.AS                 4.59              21.27          6.30   \n",
       "RI.PA                  3.36               5.69         38.48   \n",
       "SAF.PA                 3.52               3.27         34.32   \n",
       "SAN.MC                 0.65               1.27          7.57   \n",
       "SAN.PA                 1.81               3.06         19.84   \n",
       "SAP.DE                 3.66               4.62         23.92   \n",
       "SIE.DE                 2.47               1.78         21.79   \n",
       "STLA.MI                1.17               0.33          4.87   \n",
       "SU.PA                  3.83               3.05         28.68   \n",
       "TTE.PA                 1.33               0.95         13.83   \n",
       "UMG.AS                26.61               5.07         36.98   \n",
       "VNA.DE                 1.41               9.45          5.84   \n",
       "VOW.DE                 0.91               0.50          7.17   \n",
       "\n",
       "Attribute  % Held by Insiders  ...  Revenue (ttm)  Revenue Per Share (ttm)  \\\n",
       "Ticker                         ...                                           \n",
       "ABI.BR                 0.4874  ...         52.87B                    26.37   \n",
       "AD.AS                  0.0005  ...         75.05B                    72.38   \n",
       "ADS.DE                 0.1029  ...         22.65B                   116.19   \n",
       "ADYEN.AS               0.2365  ...          4.64B                   152.76   \n",
       "AI.PA                  0.0261  ...         21.06B                    44.62   \n",
       "AIR.PA                 0.2584  ...         54.91B                    69.96   \n",
       "ALV.DE                 0.0000  ...        119.85B                   288.44   \n",
       "ASML.AS                0.0001  ...         18.61B                    45.42   \n",
       "BAS.DE                 0.0000  ...         74.73B                    81.36   \n",
       "BAYN.DE                0.0000  ...         42.96B                    43.73   \n",
       "BBVA.MC                0.0002  ...         18.03B                     2.60   \n",
       "BMW.DE                 0.4674  ...        112.31B                   170.25   \n",
       "BN.PA                  0.0265  ...         23.27B                    35.80   \n",
       "BNP.PA                 0.1320  ...         43.18B                    34.61   \n",
       "CRG.IR                 0.0002  ...         29.42B                    37.49   \n",
       "DAI.DE                 0.1835  ...        167.87B                   156.91   \n",
       "DB1.DE                 0.0000  ...          4.18B                    22.78   \n",
       "DG.PA                  0.0894  ...         49.98B                    86.80   \n",
       "DPW.DE                 0.2049  ...         77.82B                    62.95   \n",
       "DTE.DE                 0.1836  ...        110.35B                    23.18   \n",
       "EL.PA                  0.3599  ...         16.97B                    38.86   \n",
       "ENEL.MI                0.2358  ...         72.46B                     7.16   \n",
       "ENI.MI                 0.3030  ...         62.62B                    17.53   \n",
       "IBE.MC                 0.0021  ...          36.9B                     5.72   \n",
       "IFX.DE                 0.0000  ...         11.59B                     8.91   \n",
       "INGA.AS                0.0000  ...         17.97B                     4.76   \n",
       "ISP.MI                 0.0473  ...         18.02B                      NaN   \n",
       "ITX.MC                 0.6435  ...         25.64B                     8.23   \n",
       "KER.PA                 0.4171  ...         15.77B                   126.25   \n",
       "KNEBV.HE               0.2781  ...         10.51B                    20.30   \n",
       "LIN.DE                 0.0020  ...         29.77B                    57.22   \n",
       "MC.PA                  0.4748  ...         64.21B                   127.50   \n",
       "MUV2.DE                0.0003  ...         62.96B                   449.53   \n",
       "OR.PA                  0.5418  ...         30.11B                    53.81   \n",
       "PHIA.AS                0.0009  ...         17.16B                    18.97   \n",
       "PRX.AS                 0.5763  ...          6.01B                     3.76   \n",
       "RI.PA                  0.2456  ...          8.82B                    33.83   \n",
       "SAF.PA                 0.1845  ...         14.65B                    34.34   \n",
       "SAN.MC                 0.0073  ...         39.01B                     2.10   \n",
       "SAN.PA                 0.1115  ...         39.18B                    31.28   \n",
       "SAP.DE                 0.1109  ...         27.84B                    23.59   \n",
       "SIE.DE                 0.0600  ...         62.26B                    77.65   \n",
       "STLA.MI                0.2601  ...        113.73B                    56.86   \n",
       "SU.PA                  0.0377  ...         27.36B                    49.31   \n",
       "TTE.PA                 0.0641  ...        161.68B                    59.10   \n",
       "UMG.AS                 0.4805  ...           7.8B                     4.30   \n",
       "VNA.DE                 0.0000  ...          4.28B                     7.52   \n",
       "VOW.DE                 0.7331  ...           254B                   506.68   \n",
       "\n",
       "Attribute  S&P500 52-Week Change %  Shares Outstanding  Total Cash (mrq)  \\\n",
       "Ticker                                                                     \n",
       "ABI.BR                      14.94%               1.74B             7.08B   \n",
       "AD.AS                       14.94%               1.01B             5.17B   \n",
       "ADS.DE                      14.94%              192.1M             4.43B   \n",
       "ADYEN.AS                    14.94%              30.96M             3.34B   \n",
       "AI.PA                       14.94%             474.06M             1.39B   \n",
       "AIR.PA                      14.94%             785.85M            16.65B   \n",
       "ALV.DE                      14.94%             408.46M            21.94B   \n",
       "ASML.AS                     14.94%             406.47M             7.59B   \n",
       "BAS.DE                      14.94%             918.48M              3.1B   \n",
       "BAYN.DE                     14.94%             982.42M             8.22B   \n",
       "BBVA.MC                     14.94%               6.03B           191.29B   \n",
       "BMW.DE                      14.94%                602M            14.33B   \n",
       "BN.PA                       14.94%             638.09M             6.29B   \n",
       "BNP.PA                      14.94%               1.23B             1.21T   \n",
       "CRG.IR                      14.94%             768.51M             6.29B   \n",
       "DAI.DE                      14.94%               1.07B            21.22B   \n",
       "DB1.DE                      14.94%             183.52M            20.88B   \n",
       "DG.PA                       14.94%             566.68M              9.3B   \n",
       "DPW.DE                      14.94%               1.24B             5.91B   \n",
       "DTE.DE                      14.94%               4.99B             6.34B   \n",
       "EL.PA                       14.94%             441.06M             9.44B   \n",
       "ENEL.MI                     14.94%              10.16B            10.44B   \n",
       "ENI.MI                      14.94%               3.54B            13.83B   \n",
       "IBE.MC                      14.94%               6.26B             5.42B   \n",
       "IFX.DE                      14.94%                1.3B             4.28B   \n",
       "INGA.AS                     14.94%               3.78B           159.44B   \n",
       "ISP.MI                      14.94%              19.37B            87.14B   \n",
       "ITX.MC                      14.94%               3.11B             9.58B   \n",
       "KER.PA                      14.94%             124.07M             4.79B   \n",
       "KNEBV.HE                    14.94%             441.96M             2.88B   \n",
       "LIN.DE                      14.94%             512.56M              4.7B   \n",
       "MC.PA                       14.94%             503.19M             10.6B   \n",
       "MUV2.DE                     14.94%              140.1M             7.21B   \n",
       "OR.PA                       14.94%             535.41M             4.82B   \n",
       "PHIA.AS                     14.94%             870.18M              2.3B   \n",
       "PRX.AS                      14.94%               2.01B            13.68B   \n",
       "RI.PA                       14.94%              259.6M             2.08B   \n",
       "SAF.PA                      14.94%             426.79M             4.06B   \n",
       "SAN.MC                      14.94%              17.06B           380.05B   \n",
       "SAN.PA                      14.94%               1.25B               NaN   \n",
       "SAP.DE                      14.94%               1.18B            11.66B   \n",
       "SIE.DE                      14.94%             802.36M            10.68B   \n",
       "STLA.MI                     14.94%               3.13B            41.67B   \n",
       "SU.PA                       14.94%             556.58M             3.57B   \n",
       "TTE.PA                      14.94%                2.6B            32.88B   \n",
       "UMG.AS                      14.94%               1.81B              936M   \n",
       "VNA.DE                      14.94%              776.6M             2.17B   \n",
       "VOW.DE                      14.94%             295.09M            40.66B   \n",
       "\n",
       "Attribute  Total Cash Per Share (mrq) Total Debt (mrq)  \\\n",
       "Ticker                                                   \n",
       "ABI.BR                           3.57           90.64B   \n",
       "AD.AS                            5.06           19.17B   \n",
       "ADS.DE                          22.95            5.27B   \n",
       "ADYEN.AS                       109.83          128.36M   \n",
       "AI.PA                            2.94           14.61B   \n",
       "AIR.PA                          21.19           14.92B   \n",
       "ALV.DE                          52.89           36.25B   \n",
       "ASML.AS                         18.77            4.08B   \n",
       "BAS.DE                           3.37           19.78B   \n",
       "BAYN.DE                          8.37           41.77B   \n",
       "BBVA.MC                         28.53           55.76B   \n",
       "BMW.DE                          21.72           104.5B   \n",
       "BN.PA                            9.66           17.66B   \n",
       "BNP.PA                         969.91          520.91B   \n",
       "CRG.IR                           8.02           12.47B   \n",
       "DAI.DE                          19.84          130.71B   \n",
       "DB1.DE                         113.79            4.79B   \n",
       "DG.PA                           16.38           30.66B   \n",
       "DPW.DE                           4.81           19.42B   \n",
       "DTE.DE                           1.32          141.73B   \n",
       "EL.PA                           21.43           11.41B   \n",
       "ENEL.MI                          1.03           67.58B   \n",
       "ENI.MI                           3.87           31.42B   \n",
       "IBE.MC                           0.85           42.07B   \n",
       "IFX.DE                           3.29            6.99B   \n",
       "INGA.AS                         42.23          179.54B   \n",
       "ISP.MI                            NaN          312.42B   \n",
       "ITX.MC                           3.08            5.86B   \n",
       "KER.PA                          38.42            9.82B   \n",
       "KNEBV.HE                         5.57           552.2M   \n",
       "LIN.DE                           9.17           16.73B   \n",
       "MC.PA                           21.04           34.54B   \n",
       "MUV2.DE                         51.58            5.29B   \n",
       "OR.PA                            8.65            2.45B   \n",
       "PHIA.AS                          2.65            6.98B   \n",
       "PRX.AS                           8.67           10.81B   \n",
       "RI.PA                            7.96            9.59B   \n",
       "SAF.PA                           9.52            6.88B   \n",
       "SAN.MC                          22.27          305.44B   \n",
       "SAN.PA                            NaN              NaN   \n",
       "SAP.DE                           9.88           15.57B   \n",
       "SIE.DE                          13.31            48.7B   \n",
       "STLA.MI                         13.31           31.36B   \n",
       "SU.PA                            6.44           11.45B   \n",
       "TTE.PA                          12.45           67.78B   \n",
       "UMG.AS                           0.52            3.44B   \n",
       "VNA.DE                           3.78            46.7B   \n",
       "VOW.DE                          81.11          205.86B   \n",
       "\n",
       "Attribute Total Debt/Equity (mrq) Trailing Annual Dividend Rate  \\\n",
       "Ticker                                                            \n",
       "ABI.BR                     113.92                          0.00   \n",
       "AD.AS                      146.51                          0.83   \n",
       "ADS.DE                      66.01                          3.00   \n",
       "ADYEN.AS                     8.94                          0.00   \n",
       "AI.PA                       74.66                          2.75   \n",
       "AIR.PA                     169.50                          0.00   \n",
       "ALV.DE                      42.47                          0.00   \n",
       "ASML.AS                     40.19                          5.50   \n",
       "BAS.DE                      48.70                          3.30   \n",
       "BAYN.DE                    133.55                          2.00   \n",
       "BBVA.MC                       NaN                          0.31   \n",
       "BMW.DE                     144.44                          1.90   \n",
       "BN.PA                      105.75                          1.94   \n",
       "BNP.PA                        NaN                          1.11   \n",
       "CRG.IR                      62.14                          1.16   \n",
       "DAI.DE                     173.66                          1.35   \n",
       "DB1.DE                      65.89                          3.00   \n",
       "DG.PA                      123.77                          2.90   \n",
       "DPW.DE                     110.06                          1.35   \n",
       "DTE.DE                     179.72                          0.60   \n",
       "EL.PA                       33.20                          1.08   \n",
       "ENEL.MI                    153.31                          0.37   \n",
       "ENI.MI                      78.01                          0.67   \n",
       "IBE.MC                      80.79                          0.42   \n",
       "IFX.DE                      58.06                          0.27   \n",
       "INGA.AS                       NaN                          0.62   \n",
       "ISP.MI                        NaN                          0.00   \n",
       "ITX.MC                      39.20                          0.00   \n",
       "KER.PA                      76.89                          9.00   \n",
       "KNEBV.HE                    17.26                          1.75   \n",
       "LIN.DE                      36.57                          4.14   \n",
       "MC.PA                       70.63                         10.00   \n",
       "MUV2.DE                     17.60                          9.80   \n",
       "OR.PA                        8.27                          4.00   \n",
       "PHIA.AS                     48.22                          0.85   \n",
       "PRX.AS                      19.78                          0.16   \n",
       "RI.PA                       63.65                          3.12   \n",
       "SAF.PA                      51.15                          0.43   \n",
       "SAN.MC                        NaN                          0.00   \n",
       "SAN.PA                        NaN                          3.33   \n",
       "SAP.DE                      37.41                          0.00   \n",
       "SIE.DE                      98.83                          4.00   \n",
       "STLA.MI                     67.10                          0.00   \n",
       "SU.PA                       45.16                          2.60   \n",
       "TTE.PA                      59.87                          3.10   \n",
       "UMG.AS                     231.07                          0.20   \n",
       "VNA.DE                     162.57                          1.69   \n",
       "VOW.DE                     145.32                          4.86   \n",
       "\n",
       "Attribute  Trailing Annual Dividend Yield %  \n",
       "Ticker                                       \n",
       "ABI.BR                                 0.00  \n",
       "AD.AS                                  2.91  \n",
       "ADS.DE                                 1.25  \n",
       "ADYEN.AS                               0.00  \n",
       "AI.PA                                  1.87  \n",
       "AIR.PA                                 0.00  \n",
       "ALV.DE                                 0.00  \n",
       "ASML.AS                                0.97  \n",
       "BAS.DE                                 4.95  \n",
       "BAYN.DE                                3.80  \n",
       "BBVA.MC                                5.45  \n",
       "BMW.DE                                 2.12  \n",
       "BN.PA                                  3.54  \n",
       "BNP.PA                                 1.73  \n",
       "CRG.IR                                 2.61  \n",
       "DAI.DE                                 1.92  \n",
       "DB1.DE                                 1.92  \n",
       "DG.PA                                  2.95  \n",
       "DPW.DE                                 2.59  \n",
       "DTE.DE                                 3.52  \n",
       "EL.PA                                  0.63  \n",
       "ENEL.MI                                5.62  \n",
       "ENI.MI                                 4.97  \n",
       "IBE.MC                                 4.33  \n",
       "IFX.DE                                 0.81  \n",
       "INGA.AS                                4.71  \n",
       "ISP.MI                                 0.00  \n",
       "ITX.MC                                 0.00  \n",
       "KER.PA                                 1.38  \n",
       "KNEBV.HE                               3.16  \n",
       "LIN.DE                                 1.58  \n",
       "MC.PA                                  1.42  \n",
       "MUV2.DE                                3.67  \n",
       "OR.PA                                  1.09  \n",
       "PHIA.AS                                2.94  \n",
       "PRX.AS                                 0.23  \n",
       "RI.PA                                  1.64  \n",
       "SAF.PA                                 0.41  \n",
       "SAN.MC                                 0.00  \n",
       "SAN.PA                                 3.69  \n",
       "SAP.DE                                 0.00  \n",
       "SIE.DE                                 3.01  \n",
       "STLA.MI                                0.00  \n",
       "SU.PA                                  1.77  \n",
       "TTE.PA                                 6.08  \n",
       "UMG.AS                                 0.95  \n",
       "VNA.DE                                 3.47  \n",
       "VOW.DE                                 1.97  \n",
       "\n",
       "[48 rows x 54 columns]"
      ]
     },
     "execution_count": 218,
     "metadata": {},
     "output_type": "execute_result"
    }
   ],
   "source": [
    "# Merge the dataframes into company_data\n",
    "company_data = pd.concat([df1_wide, df2_wide], axis=1, join='inner')\n",
    "company_data = company_data[company_data['Trailing P/E'].notna()]\n",
    "company_data"
   ]
  },
  {
   "cell_type": "code",
   "execution_count": 176,
   "id": "ac63d87e",
   "metadata": {},
   "outputs": [
    {
     "data": {
      "application/vnd.plotly.v1+json": {
       "config": {
        "plotlyServerURL": "https://plot.ly"
       },
       "data": [
        {
         "hovertemplate": "<b>%{hovertext}</b><br><br>Quarterly Revenue Growth (yoy) %=%{x}<br>Price/Sales (ttm)=%{y}<br>Trailing P/E=%{marker.size}<extra></extra>",
         "hovertext": [
          "ABI.BR",
          "AD.AS",
          "ADS.DE",
          "ADYEN.AS",
          "AI.PA",
          "AIR.PA",
          "ALV.DE",
          "ASML.AS",
          "BAS.DE",
          "BAYN.DE",
          "BBVA.MC",
          "BMW.DE",
          "BN.PA",
          "BNP.PA",
          "CRG.IR",
          "DAI.DE",
          "DB1.DE",
          "DG.PA",
          "DPW.DE",
          "DTE.DE",
          "EL.PA",
          "ENEL.MI",
          "ENI.MI",
          "IBE.MC",
          "IFX.DE",
          "INGA.AS",
          "ISP.MI",
          "ITX.MC",
          "KER.PA",
          "KNEBV.HE",
          "LIN.DE",
          "MC.PA",
          "MUV2.DE",
          "OR.PA",
          "PHIA.AS",
          "PRX.AS",
          "RI.PA",
          "SAF.PA",
          "SAN.MC",
          "SAN.PA",
          "SAP.DE",
          "SIE.DE",
          "STLA.MI",
          "SU.PA",
          "TTE.PA",
          "UMG.AS",
          "VNA.DE",
          "VOW.DE"
         ],
         "legendgroup": "",
         "marker": {
          "color": "#636efa",
          "size": [
           42.45,
           18.61,
           32.69,
           134.8,
           27.61,
           20.95,
           10.84,
           40.01,
           11.54,
           230.26,
           10.35,
           5.24,
           17.95,
           9.54,
           27.12,
           6.49,
           24.46,
           24.89,
           13.86,
           15.18,
           56.18,
           32.28,
           33.22,
           19.53,
           39.55,
           11.49,
           86.56,
           27.38,
           24.68,
           28.61,
           45.85,
           37.92,
           16.9,
           51.03,
           43.04,
           6.3,
           38.48,
           34.32,
           7.57,
           19.84,
           23.92,
           21.79,
           4.87,
           28.68,
           13.83,
           36.98,
           5.84,
           7.17
          ],
          "sizemode": "area",
          "sizeref": 0.57565,
          "symbol": "circle"
         },
         "mode": "markers",
         "name": "",
         "orientation": "v",
         "showlegend": false,
         "type": "scatter",
         "x": [
          11.4,
          4,
          3.4,
          63.7,
          5.6,
          -6.2,
          3.8,
          17.2,
          42.4,
          15,
          4.7,
          4.5,
          -2.9,
          11.9,
          15,
          0.1,
          31.8,
          7,
          23.5,
          1.9,
          40.7,
          74.4,
          83,
          18.9,
          20.1,
          6.5,
          12.4,
          22.1,
          49.6,
          5.6,
          11.9,
          35.4,
          9.9,
          16.2,
          -17.6,
          41,
          29.1,
          -23.7,
          28.6,
          7,
          5.9,
          17.7,
          270.2,
          19,
          80.3,
          19.6,
          7,
          -4.1
         ],
         "xaxis": "x",
         "y": [
          2.33,
          0.4,
          2.09,
          10.7,
          3.4,
          1.6,
          0.8,
          12.65,
          0.83,
          1.21,
          1.57,
          0.55,
          1.54,
          1.41,
          1.39,
          0.45,
          6.78,
          1.16,
          0.87,
          0.77,
          4.48,
          0.91,
          0.77,
          1.73,
          4.1,
          2.83,
          1.58,
          3.14,
          5.22,
          2.76,
          5.49,
          6.53,
          0.57,
          6.95,
          1.53,
          21.27,
          5.69,
          3.27,
          1.27,
          3.06,
          4.62,
          1.78,
          0.33,
          3.05,
          0.95,
          5.07,
          9.45,
          0.5
         ],
         "yaxis": "y"
        }
       ],
       "layout": {
        "height": 700,
        "legend": {
         "itemsizing": "constant",
         "tracegroupgap": 0
        },
        "margin": {
         "b": 20,
         "l": 20,
         "r": 20,
         "t": 40
        },
        "paper_bgcolor": "#ffffff",
        "template": {
         "data": {
          "bar": [
           {
            "error_x": {
             "color": "#2a3f5f"
            },
            "error_y": {
             "color": "#2a3f5f"
            },
            "marker": {
             "line": {
              "color": "#E5ECF6",
              "width": 0.5
             },
             "pattern": {
              "fillmode": "overlay",
              "size": 10,
              "solidity": 0.2
             }
            },
            "type": "bar"
           }
          ],
          "barpolar": [
           {
            "marker": {
             "line": {
              "color": "#E5ECF6",
              "width": 0.5
             },
             "pattern": {
              "fillmode": "overlay",
              "size": 10,
              "solidity": 0.2
             }
            },
            "type": "barpolar"
           }
          ],
          "carpet": [
           {
            "aaxis": {
             "endlinecolor": "#2a3f5f",
             "gridcolor": "white",
             "linecolor": "white",
             "minorgridcolor": "white",
             "startlinecolor": "#2a3f5f"
            },
            "baxis": {
             "endlinecolor": "#2a3f5f",
             "gridcolor": "white",
             "linecolor": "white",
             "minorgridcolor": "white",
             "startlinecolor": "#2a3f5f"
            },
            "type": "carpet"
           }
          ],
          "choropleth": [
           {
            "colorbar": {
             "outlinewidth": 0,
             "ticks": ""
            },
            "type": "choropleth"
           }
          ],
          "contour": [
           {
            "colorbar": {
             "outlinewidth": 0,
             "ticks": ""
            },
            "colorscale": [
             [
              0,
              "#0d0887"
             ],
             [
              0.1111111111111111,
              "#46039f"
             ],
             [
              0.2222222222222222,
              "#7201a8"
             ],
             [
              0.3333333333333333,
              "#9c179e"
             ],
             [
              0.4444444444444444,
              "#bd3786"
             ],
             [
              0.5555555555555556,
              "#d8576b"
             ],
             [
              0.6666666666666666,
              "#ed7953"
             ],
             [
              0.7777777777777778,
              "#fb9f3a"
             ],
             [
              0.8888888888888888,
              "#fdca26"
             ],
             [
              1,
              "#f0f921"
             ]
            ],
            "type": "contour"
           }
          ],
          "contourcarpet": [
           {
            "colorbar": {
             "outlinewidth": 0,
             "ticks": ""
            },
            "type": "contourcarpet"
           }
          ],
          "heatmap": [
           {
            "colorbar": {
             "outlinewidth": 0,
             "ticks": ""
            },
            "colorscale": [
             [
              0,
              "#0d0887"
             ],
             [
              0.1111111111111111,
              "#46039f"
             ],
             [
              0.2222222222222222,
              "#7201a8"
             ],
             [
              0.3333333333333333,
              "#9c179e"
             ],
             [
              0.4444444444444444,
              "#bd3786"
             ],
             [
              0.5555555555555556,
              "#d8576b"
             ],
             [
              0.6666666666666666,
              "#ed7953"
             ],
             [
              0.7777777777777778,
              "#fb9f3a"
             ],
             [
              0.8888888888888888,
              "#fdca26"
             ],
             [
              1,
              "#f0f921"
             ]
            ],
            "type": "heatmap"
           }
          ],
          "heatmapgl": [
           {
            "colorbar": {
             "outlinewidth": 0,
             "ticks": ""
            },
            "colorscale": [
             [
              0,
              "#0d0887"
             ],
             [
              0.1111111111111111,
              "#46039f"
             ],
             [
              0.2222222222222222,
              "#7201a8"
             ],
             [
              0.3333333333333333,
              "#9c179e"
             ],
             [
              0.4444444444444444,
              "#bd3786"
             ],
             [
              0.5555555555555556,
              "#d8576b"
             ],
             [
              0.6666666666666666,
              "#ed7953"
             ],
             [
              0.7777777777777778,
              "#fb9f3a"
             ],
             [
              0.8888888888888888,
              "#fdca26"
             ],
             [
              1,
              "#f0f921"
             ]
            ],
            "type": "heatmapgl"
           }
          ],
          "histogram": [
           {
            "marker": {
             "pattern": {
              "fillmode": "overlay",
              "size": 10,
              "solidity": 0.2
             }
            },
            "type": "histogram"
           }
          ],
          "histogram2d": [
           {
            "colorbar": {
             "outlinewidth": 0,
             "ticks": ""
            },
            "colorscale": [
             [
              0,
              "#0d0887"
             ],
             [
              0.1111111111111111,
              "#46039f"
             ],
             [
              0.2222222222222222,
              "#7201a8"
             ],
             [
              0.3333333333333333,
              "#9c179e"
             ],
             [
              0.4444444444444444,
              "#bd3786"
             ],
             [
              0.5555555555555556,
              "#d8576b"
             ],
             [
              0.6666666666666666,
              "#ed7953"
             ],
             [
              0.7777777777777778,
              "#fb9f3a"
             ],
             [
              0.8888888888888888,
              "#fdca26"
             ],
             [
              1,
              "#f0f921"
             ]
            ],
            "type": "histogram2d"
           }
          ],
          "histogram2dcontour": [
           {
            "colorbar": {
             "outlinewidth": 0,
             "ticks": ""
            },
            "colorscale": [
             [
              0,
              "#0d0887"
             ],
             [
              0.1111111111111111,
              "#46039f"
             ],
             [
              0.2222222222222222,
              "#7201a8"
             ],
             [
              0.3333333333333333,
              "#9c179e"
             ],
             [
              0.4444444444444444,
              "#bd3786"
             ],
             [
              0.5555555555555556,
              "#d8576b"
             ],
             [
              0.6666666666666666,
              "#ed7953"
             ],
             [
              0.7777777777777778,
              "#fb9f3a"
             ],
             [
              0.8888888888888888,
              "#fdca26"
             ],
             [
              1,
              "#f0f921"
             ]
            ],
            "type": "histogram2dcontour"
           }
          ],
          "mesh3d": [
           {
            "colorbar": {
             "outlinewidth": 0,
             "ticks": ""
            },
            "type": "mesh3d"
           }
          ],
          "parcoords": [
           {
            "line": {
             "colorbar": {
              "outlinewidth": 0,
              "ticks": ""
             }
            },
            "type": "parcoords"
           }
          ],
          "pie": [
           {
            "automargin": true,
            "type": "pie"
           }
          ],
          "scatter": [
           {
            "marker": {
             "colorbar": {
              "outlinewidth": 0,
              "ticks": ""
             }
            },
            "type": "scatter"
           }
          ],
          "scatter3d": [
           {
            "line": {
             "colorbar": {
              "outlinewidth": 0,
              "ticks": ""
             }
            },
            "marker": {
             "colorbar": {
              "outlinewidth": 0,
              "ticks": ""
             }
            },
            "type": "scatter3d"
           }
          ],
          "scattercarpet": [
           {
            "marker": {
             "colorbar": {
              "outlinewidth": 0,
              "ticks": ""
             }
            },
            "type": "scattercarpet"
           }
          ],
          "scattergeo": [
           {
            "marker": {
             "colorbar": {
              "outlinewidth": 0,
              "ticks": ""
             }
            },
            "type": "scattergeo"
           }
          ],
          "scattergl": [
           {
            "marker": {
             "colorbar": {
              "outlinewidth": 0,
              "ticks": ""
             }
            },
            "type": "scattergl"
           }
          ],
          "scattermapbox": [
           {
            "marker": {
             "colorbar": {
              "outlinewidth": 0,
              "ticks": ""
             }
            },
            "type": "scattermapbox"
           }
          ],
          "scatterpolar": [
           {
            "marker": {
             "colorbar": {
              "outlinewidth": 0,
              "ticks": ""
             }
            },
            "type": "scatterpolar"
           }
          ],
          "scatterpolargl": [
           {
            "marker": {
             "colorbar": {
              "outlinewidth": 0,
              "ticks": ""
             }
            },
            "type": "scatterpolargl"
           }
          ],
          "scatterternary": [
           {
            "marker": {
             "colorbar": {
              "outlinewidth": 0,
              "ticks": ""
             }
            },
            "type": "scatterternary"
           }
          ],
          "surface": [
           {
            "colorbar": {
             "outlinewidth": 0,
             "ticks": ""
            },
            "colorscale": [
             [
              0,
              "#0d0887"
             ],
             [
              0.1111111111111111,
              "#46039f"
             ],
             [
              0.2222222222222222,
              "#7201a8"
             ],
             [
              0.3333333333333333,
              "#9c179e"
             ],
             [
              0.4444444444444444,
              "#bd3786"
             ],
             [
              0.5555555555555556,
              "#d8576b"
             ],
             [
              0.6666666666666666,
              "#ed7953"
             ],
             [
              0.7777777777777778,
              "#fb9f3a"
             ],
             [
              0.8888888888888888,
              "#fdca26"
             ],
             [
              1,
              "#f0f921"
             ]
            ],
            "type": "surface"
           }
          ],
          "table": [
           {
            "cells": {
             "fill": {
              "color": "#EBF0F8"
             },
             "line": {
              "color": "white"
             }
            },
            "header": {
             "fill": {
              "color": "#C8D4E3"
             },
             "line": {
              "color": "white"
             }
            },
            "type": "table"
           }
          ]
         },
         "layout": {
          "annotationdefaults": {
           "arrowcolor": "#2a3f5f",
           "arrowhead": 0,
           "arrowwidth": 1
          },
          "autotypenumbers": "strict",
          "coloraxis": {
           "colorbar": {
            "outlinewidth": 0,
            "ticks": ""
           }
          },
          "colorscale": {
           "diverging": [
            [
             0,
             "#8e0152"
            ],
            [
             0.1,
             "#c51b7d"
            ],
            [
             0.2,
             "#de77ae"
            ],
            [
             0.3,
             "#f1b6da"
            ],
            [
             0.4,
             "#fde0ef"
            ],
            [
             0.5,
             "#f7f7f7"
            ],
            [
             0.6,
             "#e6f5d0"
            ],
            [
             0.7,
             "#b8e186"
            ],
            [
             0.8,
             "#7fbc41"
            ],
            [
             0.9,
             "#4d9221"
            ],
            [
             1,
             "#276419"
            ]
           ],
           "sequential": [
            [
             0,
             "#0d0887"
            ],
            [
             0.1111111111111111,
             "#46039f"
            ],
            [
             0.2222222222222222,
             "#7201a8"
            ],
            [
             0.3333333333333333,
             "#9c179e"
            ],
            [
             0.4444444444444444,
             "#bd3786"
            ],
            [
             0.5555555555555556,
             "#d8576b"
            ],
            [
             0.6666666666666666,
             "#ed7953"
            ],
            [
             0.7777777777777778,
             "#fb9f3a"
            ],
            [
             0.8888888888888888,
             "#fdca26"
            ],
            [
             1,
             "#f0f921"
            ]
           ],
           "sequentialminus": [
            [
             0,
             "#0d0887"
            ],
            [
             0.1111111111111111,
             "#46039f"
            ],
            [
             0.2222222222222222,
             "#7201a8"
            ],
            [
             0.3333333333333333,
             "#9c179e"
            ],
            [
             0.4444444444444444,
             "#bd3786"
            ],
            [
             0.5555555555555556,
             "#d8576b"
            ],
            [
             0.6666666666666666,
             "#ed7953"
            ],
            [
             0.7777777777777778,
             "#fb9f3a"
            ],
            [
             0.8888888888888888,
             "#fdca26"
            ],
            [
             1,
             "#f0f921"
            ]
           ]
          },
          "colorway": [
           "#636efa",
           "#EF553B",
           "#00cc96",
           "#ab63fa",
           "#FFA15A",
           "#19d3f3",
           "#FF6692",
           "#B6E880",
           "#FF97FF",
           "#FECB52"
          ],
          "font": {
           "color": "#2a3f5f"
          },
          "geo": {
           "bgcolor": "white",
           "lakecolor": "white",
           "landcolor": "#E5ECF6",
           "showlakes": true,
           "showland": true,
           "subunitcolor": "white"
          },
          "hoverlabel": {
           "align": "left"
          },
          "hovermode": "closest",
          "mapbox": {
           "style": "light"
          },
          "paper_bgcolor": "white",
          "plot_bgcolor": "#E5ECF6",
          "polar": {
           "angularaxis": {
            "gridcolor": "white",
            "linecolor": "white",
            "ticks": ""
           },
           "bgcolor": "#E5ECF6",
           "radialaxis": {
            "gridcolor": "white",
            "linecolor": "white",
            "ticks": ""
           }
          },
          "scene": {
           "xaxis": {
            "backgroundcolor": "#E5ECF6",
            "gridcolor": "white",
            "gridwidth": 2,
            "linecolor": "white",
            "showbackground": true,
            "ticks": "",
            "zerolinecolor": "white"
           },
           "yaxis": {
            "backgroundcolor": "#E5ECF6",
            "gridcolor": "white",
            "gridwidth": 2,
            "linecolor": "white",
            "showbackground": true,
            "ticks": "",
            "zerolinecolor": "white"
           },
           "zaxis": {
            "backgroundcolor": "#E5ECF6",
            "gridcolor": "white",
            "gridwidth": 2,
            "linecolor": "white",
            "showbackground": true,
            "ticks": "",
            "zerolinecolor": "white"
           }
          },
          "shapedefaults": {
           "line": {
            "color": "#2a3f5f"
           }
          },
          "ternary": {
           "aaxis": {
            "gridcolor": "white",
            "linecolor": "white",
            "ticks": ""
           },
           "baxis": {
            "gridcolor": "white",
            "linecolor": "white",
            "ticks": ""
           },
           "bgcolor": "#E5ECF6",
           "caxis": {
            "gridcolor": "white",
            "linecolor": "white",
            "ticks": ""
           }
          },
          "title": {
           "x": 0.05
          },
          "xaxis": {
           "automargin": true,
           "gridcolor": "white",
           "linecolor": "white",
           "ticks": "",
           "title": {
            "standoff": 15
           },
           "zerolinecolor": "white",
           "zerolinewidth": 2
          },
          "yaxis": {
           "automargin": true,
           "gridcolor": "white",
           "linecolor": "white",
           "ticks": "",
           "title": {
            "standoff": 15
           },
           "zerolinecolor": "white",
           "zerolinewidth": 2
          }
         }
        },
        "title": {
         "text": "Quarterly Revenue Growth (yoy) % vs. Price/Sales (ttm) vs. Trailing P/E"
        },
        "width": 1250,
        "xaxis": {
         "anchor": "y",
         "domain": [
          0,
          1
         ],
         "title": {
          "text": "Quarterly Revenue Growth (yoy) %"
         }
        },
        "yaxis": {
         "anchor": "x",
         "domain": [
          0,
          1
         ],
         "title": {
          "text": "Price/Sales (ttm)"
         }
        }
       }
      },
      "text/html": [
       "<div>                            <div id=\"105b6ca7-a223-420b-9179-d42b0e983048\" class=\"plotly-graph-div\" style=\"height:700px; width:1250px;\"></div>            <script type=\"text/javascript\">                require([\"plotly\"], function(Plotly) {                    window.PLOTLYENV=window.PLOTLYENV || {};                                    if (document.getElementById(\"105b6ca7-a223-420b-9179-d42b0e983048\")) {                    Plotly.newPlot(                        \"105b6ca7-a223-420b-9179-d42b0e983048\",                        [{\"hovertemplate\":\"<b>%{hovertext}</b><br><br>Quarterly Revenue Growth (yoy) %=%{x}<br>Price/Sales (ttm)=%{y}<br>Trailing P/E=%{marker.size}<extra></extra>\",\"hovertext\":[\"ABI.BR\",\"AD.AS\",\"ADS.DE\",\"ADYEN.AS\",\"AI.PA\",\"AIR.PA\",\"ALV.DE\",\"ASML.AS\",\"BAS.DE\",\"BAYN.DE\",\"BBVA.MC\",\"BMW.DE\",\"BN.PA\",\"BNP.PA\",\"CRG.IR\",\"DAI.DE\",\"DB1.DE\",\"DG.PA\",\"DPW.DE\",\"DTE.DE\",\"EL.PA\",\"ENEL.MI\",\"ENI.MI\",\"IBE.MC\",\"IFX.DE\",\"INGA.AS\",\"ISP.MI\",\"ITX.MC\",\"KER.PA\",\"KNEBV.HE\",\"LIN.DE\",\"MC.PA\",\"MUV2.DE\",\"OR.PA\",\"PHIA.AS\",\"PRX.AS\",\"RI.PA\",\"SAF.PA\",\"SAN.MC\",\"SAN.PA\",\"SAP.DE\",\"SIE.DE\",\"STLA.MI\",\"SU.PA\",\"TTE.PA\",\"UMG.AS\",\"VNA.DE\",\"VOW.DE\"],\"legendgroup\":\"\",\"marker\":{\"color\":\"#636efa\",\"size\":[42.45,18.61,32.69,134.8,27.61,20.95,10.84,40.01,11.54,230.26,10.35,5.24,17.95,9.54,27.12,6.49,24.46,24.89,13.86,15.18,56.18,32.28,33.22,19.53,39.55,11.49,86.56,27.38,24.68,28.61,45.85,37.92,16.9,51.03,43.04,6.3,38.48,34.32,7.57,19.84,23.92,21.79,4.87,28.68,13.83,36.98,5.84,7.17],\"sizemode\":\"area\",\"sizeref\":0.57565,\"symbol\":\"circle\"},\"mode\":\"markers\",\"name\":\"\",\"orientation\":\"v\",\"showlegend\":false,\"x\":[11.4,4.0,3.4,63.7,5.6,-6.2,3.8,17.2,42.4,15.0,4.7,4.5,-2.9,11.9,15.0,0.1,31.8,7.0,23.5,1.9,40.7,74.4,83.0,18.9,20.1,6.5,12.4,22.1,49.6,5.6,11.9,35.4,9.9,16.2,-17.6,41.0,29.1,-23.7,28.6,7.0,5.9,17.7,270.2,19.0,80.3,19.6,7.0,-4.1],\"xaxis\":\"x\",\"y\":[2.33,0.4,2.09,10.7,3.4,1.6,0.8,12.65,0.83,1.21,1.57,0.55,1.54,1.41,1.39,0.45,6.78,1.16,0.87,0.77,4.48,0.91,0.77,1.73,4.1,2.83,1.58,3.14,5.22,2.76,5.49,6.53,0.57,6.95,1.53,21.27,5.69,3.27,1.27,3.06,4.62,1.78,0.33,3.05,0.95,5.07,9.45,0.5],\"yaxis\":\"y\",\"type\":\"scatter\"}],                        {\"template\":{\"data\":{\"bar\":[{\"error_x\":{\"color\":\"#2a3f5f\"},\"error_y\":{\"color\":\"#2a3f5f\"},\"marker\":{\"line\":{\"color\":\"#E5ECF6\",\"width\":0.5},\"pattern\":{\"fillmode\":\"overlay\",\"size\":10,\"solidity\":0.2}},\"type\":\"bar\"}],\"barpolar\":[{\"marker\":{\"line\":{\"color\":\"#E5ECF6\",\"width\":0.5},\"pattern\":{\"fillmode\":\"overlay\",\"size\":10,\"solidity\":0.2}},\"type\":\"barpolar\"}],\"carpet\":[{\"aaxis\":{\"endlinecolor\":\"#2a3f5f\",\"gridcolor\":\"white\",\"linecolor\":\"white\",\"minorgridcolor\":\"white\",\"startlinecolor\":\"#2a3f5f\"},\"baxis\":{\"endlinecolor\":\"#2a3f5f\",\"gridcolor\":\"white\",\"linecolor\":\"white\",\"minorgridcolor\":\"white\",\"startlinecolor\":\"#2a3f5f\"},\"type\":\"carpet\"}],\"choropleth\":[{\"colorbar\":{\"outlinewidth\":0,\"ticks\":\"\"},\"type\":\"choropleth\"}],\"contour\":[{\"colorbar\":{\"outlinewidth\":0,\"ticks\":\"\"},\"colorscale\":[[0.0,\"#0d0887\"],[0.1111111111111111,\"#46039f\"],[0.2222222222222222,\"#7201a8\"],[0.3333333333333333,\"#9c179e\"],[0.4444444444444444,\"#bd3786\"],[0.5555555555555556,\"#d8576b\"],[0.6666666666666666,\"#ed7953\"],[0.7777777777777778,\"#fb9f3a\"],[0.8888888888888888,\"#fdca26\"],[1.0,\"#f0f921\"]],\"type\":\"contour\"}],\"contourcarpet\":[{\"colorbar\":{\"outlinewidth\":0,\"ticks\":\"\"},\"type\":\"contourcarpet\"}],\"heatmap\":[{\"colorbar\":{\"outlinewidth\":0,\"ticks\":\"\"},\"colorscale\":[[0.0,\"#0d0887\"],[0.1111111111111111,\"#46039f\"],[0.2222222222222222,\"#7201a8\"],[0.3333333333333333,\"#9c179e\"],[0.4444444444444444,\"#bd3786\"],[0.5555555555555556,\"#d8576b\"],[0.6666666666666666,\"#ed7953\"],[0.7777777777777778,\"#fb9f3a\"],[0.8888888888888888,\"#fdca26\"],[1.0,\"#f0f921\"]],\"type\":\"heatmap\"}],\"heatmapgl\":[{\"colorbar\":{\"outlinewidth\":0,\"ticks\":\"\"},\"colorscale\":[[0.0,\"#0d0887\"],[0.1111111111111111,\"#46039f\"],[0.2222222222222222,\"#7201a8\"],[0.3333333333333333,\"#9c179e\"],[0.4444444444444444,\"#bd3786\"],[0.5555555555555556,\"#d8576b\"],[0.6666666666666666,\"#ed7953\"],[0.7777777777777778,\"#fb9f3a\"],[0.8888888888888888,\"#fdca26\"],[1.0,\"#f0f921\"]],\"type\":\"heatmapgl\"}],\"histogram\":[{\"marker\":{\"pattern\":{\"fillmode\":\"overlay\",\"size\":10,\"solidity\":0.2}},\"type\":\"histogram\"}],\"histogram2d\":[{\"colorbar\":{\"outlinewidth\":0,\"ticks\":\"\"},\"colorscale\":[[0.0,\"#0d0887\"],[0.1111111111111111,\"#46039f\"],[0.2222222222222222,\"#7201a8\"],[0.3333333333333333,\"#9c179e\"],[0.4444444444444444,\"#bd3786\"],[0.5555555555555556,\"#d8576b\"],[0.6666666666666666,\"#ed7953\"],[0.7777777777777778,\"#fb9f3a\"],[0.8888888888888888,\"#fdca26\"],[1.0,\"#f0f921\"]],\"type\":\"histogram2d\"}],\"histogram2dcontour\":[{\"colorbar\":{\"outlinewidth\":0,\"ticks\":\"\"},\"colorscale\":[[0.0,\"#0d0887\"],[0.1111111111111111,\"#46039f\"],[0.2222222222222222,\"#7201a8\"],[0.3333333333333333,\"#9c179e\"],[0.4444444444444444,\"#bd3786\"],[0.5555555555555556,\"#d8576b\"],[0.6666666666666666,\"#ed7953\"],[0.7777777777777778,\"#fb9f3a\"],[0.8888888888888888,\"#fdca26\"],[1.0,\"#f0f921\"]],\"type\":\"histogram2dcontour\"}],\"mesh3d\":[{\"colorbar\":{\"outlinewidth\":0,\"ticks\":\"\"},\"type\":\"mesh3d\"}],\"parcoords\":[{\"line\":{\"colorbar\":{\"outlinewidth\":0,\"ticks\":\"\"}},\"type\":\"parcoords\"}],\"pie\":[{\"automargin\":true,\"type\":\"pie\"}],\"scatter\":[{\"marker\":{\"colorbar\":{\"outlinewidth\":0,\"ticks\":\"\"}},\"type\":\"scatter\"}],\"scatter3d\":[{\"line\":{\"colorbar\":{\"outlinewidth\":0,\"ticks\":\"\"}},\"marker\":{\"colorbar\":{\"outlinewidth\":0,\"ticks\":\"\"}},\"type\":\"scatter3d\"}],\"scattercarpet\":[{\"marker\":{\"colorbar\":{\"outlinewidth\":0,\"ticks\":\"\"}},\"type\":\"scattercarpet\"}],\"scattergeo\":[{\"marker\":{\"colorbar\":{\"outlinewidth\":0,\"ticks\":\"\"}},\"type\":\"scattergeo\"}],\"scattergl\":[{\"marker\":{\"colorbar\":{\"outlinewidth\":0,\"ticks\":\"\"}},\"type\":\"scattergl\"}],\"scattermapbox\":[{\"marker\":{\"colorbar\":{\"outlinewidth\":0,\"ticks\":\"\"}},\"type\":\"scattermapbox\"}],\"scatterpolar\":[{\"marker\":{\"colorbar\":{\"outlinewidth\":0,\"ticks\":\"\"}},\"type\":\"scatterpolar\"}],\"scatterpolargl\":[{\"marker\":{\"colorbar\":{\"outlinewidth\":0,\"ticks\":\"\"}},\"type\":\"scatterpolargl\"}],\"scatterternary\":[{\"marker\":{\"colorbar\":{\"outlinewidth\":0,\"ticks\":\"\"}},\"type\":\"scatterternary\"}],\"surface\":[{\"colorbar\":{\"outlinewidth\":0,\"ticks\":\"\"},\"colorscale\":[[0.0,\"#0d0887\"],[0.1111111111111111,\"#46039f\"],[0.2222222222222222,\"#7201a8\"],[0.3333333333333333,\"#9c179e\"],[0.4444444444444444,\"#bd3786\"],[0.5555555555555556,\"#d8576b\"],[0.6666666666666666,\"#ed7953\"],[0.7777777777777778,\"#fb9f3a\"],[0.8888888888888888,\"#fdca26\"],[1.0,\"#f0f921\"]],\"type\":\"surface\"}],\"table\":[{\"cells\":{\"fill\":{\"color\":\"#EBF0F8\"},\"line\":{\"color\":\"white\"}},\"header\":{\"fill\":{\"color\":\"#C8D4E3\"},\"line\":{\"color\":\"white\"}},\"type\":\"table\"}]},\"layout\":{\"annotationdefaults\":{\"arrowcolor\":\"#2a3f5f\",\"arrowhead\":0,\"arrowwidth\":1},\"autotypenumbers\":\"strict\",\"coloraxis\":{\"colorbar\":{\"outlinewidth\":0,\"ticks\":\"\"}},\"colorscale\":{\"diverging\":[[0,\"#8e0152\"],[0.1,\"#c51b7d\"],[0.2,\"#de77ae\"],[0.3,\"#f1b6da\"],[0.4,\"#fde0ef\"],[0.5,\"#f7f7f7\"],[0.6,\"#e6f5d0\"],[0.7,\"#b8e186\"],[0.8,\"#7fbc41\"],[0.9,\"#4d9221\"],[1,\"#276419\"]],\"sequential\":[[0.0,\"#0d0887\"],[0.1111111111111111,\"#46039f\"],[0.2222222222222222,\"#7201a8\"],[0.3333333333333333,\"#9c179e\"],[0.4444444444444444,\"#bd3786\"],[0.5555555555555556,\"#d8576b\"],[0.6666666666666666,\"#ed7953\"],[0.7777777777777778,\"#fb9f3a\"],[0.8888888888888888,\"#fdca26\"],[1.0,\"#f0f921\"]],\"sequentialminus\":[[0.0,\"#0d0887\"],[0.1111111111111111,\"#46039f\"],[0.2222222222222222,\"#7201a8\"],[0.3333333333333333,\"#9c179e\"],[0.4444444444444444,\"#bd3786\"],[0.5555555555555556,\"#d8576b\"],[0.6666666666666666,\"#ed7953\"],[0.7777777777777778,\"#fb9f3a\"],[0.8888888888888888,\"#fdca26\"],[1.0,\"#f0f921\"]]},\"colorway\":[\"#636efa\",\"#EF553B\",\"#00cc96\",\"#ab63fa\",\"#FFA15A\",\"#19d3f3\",\"#FF6692\",\"#B6E880\",\"#FF97FF\",\"#FECB52\"],\"font\":{\"color\":\"#2a3f5f\"},\"geo\":{\"bgcolor\":\"white\",\"lakecolor\":\"white\",\"landcolor\":\"#E5ECF6\",\"showlakes\":true,\"showland\":true,\"subunitcolor\":\"white\"},\"hoverlabel\":{\"align\":\"left\"},\"hovermode\":\"closest\",\"mapbox\":{\"style\":\"light\"},\"paper_bgcolor\":\"white\",\"plot_bgcolor\":\"#E5ECF6\",\"polar\":{\"angularaxis\":{\"gridcolor\":\"white\",\"linecolor\":\"white\",\"ticks\":\"\"},\"bgcolor\":\"#E5ECF6\",\"radialaxis\":{\"gridcolor\":\"white\",\"linecolor\":\"white\",\"ticks\":\"\"}},\"scene\":{\"xaxis\":{\"backgroundcolor\":\"#E5ECF6\",\"gridcolor\":\"white\",\"gridwidth\":2,\"linecolor\":\"white\",\"showbackground\":true,\"ticks\":\"\",\"zerolinecolor\":\"white\"},\"yaxis\":{\"backgroundcolor\":\"#E5ECF6\",\"gridcolor\":\"white\",\"gridwidth\":2,\"linecolor\":\"white\",\"showbackground\":true,\"ticks\":\"\",\"zerolinecolor\":\"white\"},\"zaxis\":{\"backgroundcolor\":\"#E5ECF6\",\"gridcolor\":\"white\",\"gridwidth\":2,\"linecolor\":\"white\",\"showbackground\":true,\"ticks\":\"\",\"zerolinecolor\":\"white\"}},\"shapedefaults\":{\"line\":{\"color\":\"#2a3f5f\"}},\"ternary\":{\"aaxis\":{\"gridcolor\":\"white\",\"linecolor\":\"white\",\"ticks\":\"\"},\"baxis\":{\"gridcolor\":\"white\",\"linecolor\":\"white\",\"ticks\":\"\"},\"bgcolor\":\"#E5ECF6\",\"caxis\":{\"gridcolor\":\"white\",\"linecolor\":\"white\",\"ticks\":\"\"}},\"title\":{\"x\":0.05},\"xaxis\":{\"automargin\":true,\"gridcolor\":\"white\",\"linecolor\":\"white\",\"ticks\":\"\",\"title\":{\"standoff\":15},\"zerolinecolor\":\"white\",\"zerolinewidth\":2},\"yaxis\":{\"automargin\":true,\"gridcolor\":\"white\",\"linecolor\":\"white\",\"ticks\":\"\",\"title\":{\"standoff\":15},\"zerolinecolor\":\"white\",\"zerolinewidth\":2}}},\"xaxis\":{\"anchor\":\"y\",\"domain\":[0.0,1.0],\"title\":{\"text\":\"Quarterly Revenue Growth (yoy) %\"}},\"yaxis\":{\"anchor\":\"x\",\"domain\":[0.0,1.0],\"title\":{\"text\":\"Price/Sales (ttm)\"}},\"legend\":{\"tracegroupgap\":0,\"itemsizing\":\"constant\"},\"title\":{\"text\":\"Quarterly Revenue Growth (yoy) % vs. Price/Sales (ttm) vs. Trailing P/E\"},\"height\":700,\"width\":1250,\"margin\":{\"l\":20,\"r\":20,\"t\":40,\"b\":20},\"paper_bgcolor\":\"#ffffff\"},                        {\"responsive\": true}                    ).then(function(){\n",
       "                            \n",
       "var gd = document.getElementById('105b6ca7-a223-420b-9179-d42b0e983048');\n",
       "var x = new MutationObserver(function (mutations, observer) {{\n",
       "        var display = window.getComputedStyle(gd).display;\n",
       "        if (!display || display === 'none') {{\n",
       "            console.log([gd, 'removed!']);\n",
       "            Plotly.purge(gd);\n",
       "            observer.disconnect();\n",
       "        }}\n",
       "}});\n",
       "\n",
       "// Listen for the removal of the full notebook cells\n",
       "var notebookContainer = gd.closest('#notebook-container');\n",
       "if (notebookContainer) {{\n",
       "    x.observe(notebookContainer, {childList: true});\n",
       "}}\n",
       "\n",
       "// Listen for the clearing of the current output cell\n",
       "var outputEl = gd.closest('.output');\n",
       "if (outputEl) {{\n",
       "    x.observe(outputEl, {childList: true});\n",
       "}}\n",
       "\n",
       "                        })                };                });            </script>        </div>"
      ]
     },
     "metadata": {},
     "output_type": "display_data"
    }
   ],
   "source": [
    "# %%\n",
    "# Plot out the data\n",
    "\n",
    "ValueStockChart = px.scatter(company_data,\n",
    "                   x='Quarterly Revenue Growth (yoy) %',\n",
    "                   y='Price/Sales (ttm)',\n",
    "                   size = \"Trailing P/E\",\n",
    "                   hover_name = company_data.index,\n",
    "                   title=\"Quarterly Revenue Growth (yoy) % vs. Price/Sales (ttm) vs. Trailing P/E\",\n",
    "                   width=1250,\n",
    "                   height=700)\n",
    "\n",
    "# Update chart layouts\n",
    "ValueStockChart.update_layout(\n",
    "    margin=dict(l=20, r=20, t=40, b=20),\n",
    "    paper_bgcolor=\"#ffffff\",\n",
    ")\n",
    "\n",
    "ValueStockChart.show()"
   ]
  },
  {
   "cell_type": "code",
   "execution_count": 257,
   "id": "ecd22992",
   "metadata": {},
   "outputs": [
    {
     "data": {
      "application/vnd.plotly.v1+json": {
       "config": {
        "plotlyServerURL": "https://plot.ly"
       },
       "data": [
        {
         "hovertemplate": "<b>%{hovertext}</b><br><br>Quarterly Revenue Growth (yoy) %=%{x}<br>Price/Sales (ttm)=%{y}<br>Trailing P/E=%{marker.size}<extra></extra>",
         "hovertext": [
          "ABI.BR",
          "AD.AS",
          "ADS.DE",
          "ADYEN.AS",
          "AI.PA",
          "AIR.PA",
          "ALV.DE",
          "ASML.AS",
          "BAS.DE",
          "BAYN.DE",
          "BBVA.MC",
          "BMW.DE",
          "BN.PA",
          "BNP.PA",
          "CRG.IR",
          "DAI.DE",
          "DB1.DE",
          "DG.PA",
          "DPW.DE",
          "DTE.DE",
          "EL.PA",
          "ENEL.MI",
          "ENI.MI",
          "IBE.MC",
          "IFX.DE",
          "INGA.AS",
          "ISP.MI",
          "ITX.MC",
          "KER.PA",
          "KNEBV.HE",
          "LIN.DE",
          "MC.PA",
          "MUV2.DE",
          "OR.PA",
          "PHIA.AS",
          "PRX.AS",
          "RI.PA",
          "SAF.PA",
          "SAN.MC",
          "SAN.PA",
          "SAP.DE",
          "SIE.DE",
          "STLA.MI",
          "SU.PA",
          "TTE.PA",
          "UMG.AS",
          "VNA.DE",
          "VOW.DE"
         ],
         "legendgroup": "",
         "marker": {
          "color": "#636efa",
          "size": [
           42.45,
           18.61,
           32.69,
           134.8,
           27.61,
           20.95,
           10.84,
           40.01,
           11.54,
           230.26,
           10.35,
           5.24,
           17.95,
           9.54,
           27.12,
           6.49,
           24.46,
           24.89,
           13.86,
           15.18,
           56.18,
           32.28,
           33.22,
           19.53,
           39.55,
           11.49,
           86.56,
           27.38,
           24.68,
           28.61,
           45.85,
           37.92,
           16.9,
           51.03,
           43.04,
           6.3,
           38.48,
           34.32,
           7.57,
           19.84,
           23.92,
           21.79,
           4.87,
           28.68,
           13.83,
           36.98,
           5.84,
           7.17
          ],
          "sizemode": "area",
          "sizeref": 0.57565,
          "symbol": "circle"
         },
         "mode": "markers",
         "name": "",
         "orientation": "v",
         "showlegend": false,
         "type": "scatter",
         "x": [
          11.4,
          4,
          3.4,
          63.7,
          5.6,
          -6.2,
          3.8,
          17.2,
          42.4,
          15,
          4.7,
          4.5,
          -2.9,
          11.9,
          15,
          0.1,
          31.8,
          7,
          23.5,
          1.9,
          40.7,
          74.4,
          83,
          18.9,
          20.1,
          6.5,
          12.4,
          22.1,
          49.6,
          5.6,
          11.9,
          35.4,
          9.9,
          16.2,
          -17.6,
          41,
          29.1,
          -23.7,
          28.6,
          7,
          5.9,
          17.7,
          270.2,
          19,
          80.3,
          19.6,
          7,
          -4.1
         ],
         "xaxis": "x",
         "y": [
          2.33,
          0.4,
          2.09,
          10.7,
          3.4,
          1.6,
          0.8,
          12.65,
          0.83,
          1.21,
          1.57,
          0.55,
          1.54,
          1.41,
          1.39,
          0.45,
          6.78,
          1.16,
          0.87,
          0.77,
          4.48,
          0.91,
          0.77,
          1.73,
          4.1,
          2.83,
          1.58,
          3.14,
          5.22,
          2.76,
          5.49,
          6.53,
          0.57,
          6.95,
          1.53,
          21.27,
          5.69,
          3.27,
          1.27,
          3.06,
          4.62,
          1.78,
          0.33,
          3.05,
          0.95,
          5.07,
          9.45,
          0.5
         ],
         "yaxis": "y"
        }
       ],
       "layout": {
        "height": 700,
        "legend": {
         "itemsizing": "constant",
         "tracegroupgap": 0
        },
        "template": {
         "data": {
          "bar": [
           {
            "error_x": {
             "color": "#2a3f5f"
            },
            "error_y": {
             "color": "#2a3f5f"
            },
            "marker": {
             "line": {
              "color": "#E5ECF6",
              "width": 0.5
             },
             "pattern": {
              "fillmode": "overlay",
              "size": 10,
              "solidity": 0.2
             }
            },
            "type": "bar"
           }
          ],
          "barpolar": [
           {
            "marker": {
             "line": {
              "color": "#E5ECF6",
              "width": 0.5
             },
             "pattern": {
              "fillmode": "overlay",
              "size": 10,
              "solidity": 0.2
             }
            },
            "type": "barpolar"
           }
          ],
          "carpet": [
           {
            "aaxis": {
             "endlinecolor": "#2a3f5f",
             "gridcolor": "white",
             "linecolor": "white",
             "minorgridcolor": "white",
             "startlinecolor": "#2a3f5f"
            },
            "baxis": {
             "endlinecolor": "#2a3f5f",
             "gridcolor": "white",
             "linecolor": "white",
             "minorgridcolor": "white",
             "startlinecolor": "#2a3f5f"
            },
            "type": "carpet"
           }
          ],
          "choropleth": [
           {
            "colorbar": {
             "outlinewidth": 0,
             "ticks": ""
            },
            "type": "choropleth"
           }
          ],
          "contour": [
           {
            "colorbar": {
             "outlinewidth": 0,
             "ticks": ""
            },
            "colorscale": [
             [
              0,
              "#0d0887"
             ],
             [
              0.1111111111111111,
              "#46039f"
             ],
             [
              0.2222222222222222,
              "#7201a8"
             ],
             [
              0.3333333333333333,
              "#9c179e"
             ],
             [
              0.4444444444444444,
              "#bd3786"
             ],
             [
              0.5555555555555556,
              "#d8576b"
             ],
             [
              0.6666666666666666,
              "#ed7953"
             ],
             [
              0.7777777777777778,
              "#fb9f3a"
             ],
             [
              0.8888888888888888,
              "#fdca26"
             ],
             [
              1,
              "#f0f921"
             ]
            ],
            "type": "contour"
           }
          ],
          "contourcarpet": [
           {
            "colorbar": {
             "outlinewidth": 0,
             "ticks": ""
            },
            "type": "contourcarpet"
           }
          ],
          "heatmap": [
           {
            "colorbar": {
             "outlinewidth": 0,
             "ticks": ""
            },
            "colorscale": [
             [
              0,
              "#0d0887"
             ],
             [
              0.1111111111111111,
              "#46039f"
             ],
             [
              0.2222222222222222,
              "#7201a8"
             ],
             [
              0.3333333333333333,
              "#9c179e"
             ],
             [
              0.4444444444444444,
              "#bd3786"
             ],
             [
              0.5555555555555556,
              "#d8576b"
             ],
             [
              0.6666666666666666,
              "#ed7953"
             ],
             [
              0.7777777777777778,
              "#fb9f3a"
             ],
             [
              0.8888888888888888,
              "#fdca26"
             ],
             [
              1,
              "#f0f921"
             ]
            ],
            "type": "heatmap"
           }
          ],
          "heatmapgl": [
           {
            "colorbar": {
             "outlinewidth": 0,
             "ticks": ""
            },
            "colorscale": [
             [
              0,
              "#0d0887"
             ],
             [
              0.1111111111111111,
              "#46039f"
             ],
             [
              0.2222222222222222,
              "#7201a8"
             ],
             [
              0.3333333333333333,
              "#9c179e"
             ],
             [
              0.4444444444444444,
              "#bd3786"
             ],
             [
              0.5555555555555556,
              "#d8576b"
             ],
             [
              0.6666666666666666,
              "#ed7953"
             ],
             [
              0.7777777777777778,
              "#fb9f3a"
             ],
             [
              0.8888888888888888,
              "#fdca26"
             ],
             [
              1,
              "#f0f921"
             ]
            ],
            "type": "heatmapgl"
           }
          ],
          "histogram": [
           {
            "marker": {
             "pattern": {
              "fillmode": "overlay",
              "size": 10,
              "solidity": 0.2
             }
            },
            "type": "histogram"
           }
          ],
          "histogram2d": [
           {
            "colorbar": {
             "outlinewidth": 0,
             "ticks": ""
            },
            "colorscale": [
             [
              0,
              "#0d0887"
             ],
             [
              0.1111111111111111,
              "#46039f"
             ],
             [
              0.2222222222222222,
              "#7201a8"
             ],
             [
              0.3333333333333333,
              "#9c179e"
             ],
             [
              0.4444444444444444,
              "#bd3786"
             ],
             [
              0.5555555555555556,
              "#d8576b"
             ],
             [
              0.6666666666666666,
              "#ed7953"
             ],
             [
              0.7777777777777778,
              "#fb9f3a"
             ],
             [
              0.8888888888888888,
              "#fdca26"
             ],
             [
              1,
              "#f0f921"
             ]
            ],
            "type": "histogram2d"
           }
          ],
          "histogram2dcontour": [
           {
            "colorbar": {
             "outlinewidth": 0,
             "ticks": ""
            },
            "colorscale": [
             [
              0,
              "#0d0887"
             ],
             [
              0.1111111111111111,
              "#46039f"
             ],
             [
              0.2222222222222222,
              "#7201a8"
             ],
             [
              0.3333333333333333,
              "#9c179e"
             ],
             [
              0.4444444444444444,
              "#bd3786"
             ],
             [
              0.5555555555555556,
              "#d8576b"
             ],
             [
              0.6666666666666666,
              "#ed7953"
             ],
             [
              0.7777777777777778,
              "#fb9f3a"
             ],
             [
              0.8888888888888888,
              "#fdca26"
             ],
             [
              1,
              "#f0f921"
             ]
            ],
            "type": "histogram2dcontour"
           }
          ],
          "mesh3d": [
           {
            "colorbar": {
             "outlinewidth": 0,
             "ticks": ""
            },
            "type": "mesh3d"
           }
          ],
          "parcoords": [
           {
            "line": {
             "colorbar": {
              "outlinewidth": 0,
              "ticks": ""
             }
            },
            "type": "parcoords"
           }
          ],
          "pie": [
           {
            "automargin": true,
            "type": "pie"
           }
          ],
          "scatter": [
           {
            "marker": {
             "colorbar": {
              "outlinewidth": 0,
              "ticks": ""
             }
            },
            "type": "scatter"
           }
          ],
          "scatter3d": [
           {
            "line": {
             "colorbar": {
              "outlinewidth": 0,
              "ticks": ""
             }
            },
            "marker": {
             "colorbar": {
              "outlinewidth": 0,
              "ticks": ""
             }
            },
            "type": "scatter3d"
           }
          ],
          "scattercarpet": [
           {
            "marker": {
             "colorbar": {
              "outlinewidth": 0,
              "ticks": ""
             }
            },
            "type": "scattercarpet"
           }
          ],
          "scattergeo": [
           {
            "marker": {
             "colorbar": {
              "outlinewidth": 0,
              "ticks": ""
             }
            },
            "type": "scattergeo"
           }
          ],
          "scattergl": [
           {
            "marker": {
             "colorbar": {
              "outlinewidth": 0,
              "ticks": ""
             }
            },
            "type": "scattergl"
           }
          ],
          "scattermapbox": [
           {
            "marker": {
             "colorbar": {
              "outlinewidth": 0,
              "ticks": ""
             }
            },
            "type": "scattermapbox"
           }
          ],
          "scatterpolar": [
           {
            "marker": {
             "colorbar": {
              "outlinewidth": 0,
              "ticks": ""
             }
            },
            "type": "scatterpolar"
           }
          ],
          "scatterpolargl": [
           {
            "marker": {
             "colorbar": {
              "outlinewidth": 0,
              "ticks": ""
             }
            },
            "type": "scatterpolargl"
           }
          ],
          "scatterternary": [
           {
            "marker": {
             "colorbar": {
              "outlinewidth": 0,
              "ticks": ""
             }
            },
            "type": "scatterternary"
           }
          ],
          "surface": [
           {
            "colorbar": {
             "outlinewidth": 0,
             "ticks": ""
            },
            "colorscale": [
             [
              0,
              "#0d0887"
             ],
             [
              0.1111111111111111,
              "#46039f"
             ],
             [
              0.2222222222222222,
              "#7201a8"
             ],
             [
              0.3333333333333333,
              "#9c179e"
             ],
             [
              0.4444444444444444,
              "#bd3786"
             ],
             [
              0.5555555555555556,
              "#d8576b"
             ],
             [
              0.6666666666666666,
              "#ed7953"
             ],
             [
              0.7777777777777778,
              "#fb9f3a"
             ],
             [
              0.8888888888888888,
              "#fdca26"
             ],
             [
              1,
              "#f0f921"
             ]
            ],
            "type": "surface"
           }
          ],
          "table": [
           {
            "cells": {
             "fill": {
              "color": "#EBF0F8"
             },
             "line": {
              "color": "white"
             }
            },
            "header": {
             "fill": {
              "color": "#C8D4E3"
             },
             "line": {
              "color": "white"
             }
            },
            "type": "table"
           }
          ]
         },
         "layout": {
          "annotationdefaults": {
           "arrowcolor": "#2a3f5f",
           "arrowhead": 0,
           "arrowwidth": 1
          },
          "autotypenumbers": "strict",
          "coloraxis": {
           "colorbar": {
            "outlinewidth": 0,
            "ticks": ""
           }
          },
          "colorscale": {
           "diverging": [
            [
             0,
             "#8e0152"
            ],
            [
             0.1,
             "#c51b7d"
            ],
            [
             0.2,
             "#de77ae"
            ],
            [
             0.3,
             "#f1b6da"
            ],
            [
             0.4,
             "#fde0ef"
            ],
            [
             0.5,
             "#f7f7f7"
            ],
            [
             0.6,
             "#e6f5d0"
            ],
            [
             0.7,
             "#b8e186"
            ],
            [
             0.8,
             "#7fbc41"
            ],
            [
             0.9,
             "#4d9221"
            ],
            [
             1,
             "#276419"
            ]
           ],
           "sequential": [
            [
             0,
             "#0d0887"
            ],
            [
             0.1111111111111111,
             "#46039f"
            ],
            [
             0.2222222222222222,
             "#7201a8"
            ],
            [
             0.3333333333333333,
             "#9c179e"
            ],
            [
             0.4444444444444444,
             "#bd3786"
            ],
            [
             0.5555555555555556,
             "#d8576b"
            ],
            [
             0.6666666666666666,
             "#ed7953"
            ],
            [
             0.7777777777777778,
             "#fb9f3a"
            ],
            [
             0.8888888888888888,
             "#fdca26"
            ],
            [
             1,
             "#f0f921"
            ]
           ],
           "sequentialminus": [
            [
             0,
             "#0d0887"
            ],
            [
             0.1111111111111111,
             "#46039f"
            ],
            [
             0.2222222222222222,
             "#7201a8"
            ],
            [
             0.3333333333333333,
             "#9c179e"
            ],
            [
             0.4444444444444444,
             "#bd3786"
            ],
            [
             0.5555555555555556,
             "#d8576b"
            ],
            [
             0.6666666666666666,
             "#ed7953"
            ],
            [
             0.7777777777777778,
             "#fb9f3a"
            ],
            [
             0.8888888888888888,
             "#fdca26"
            ],
            [
             1,
             "#f0f921"
            ]
           ]
          },
          "colorway": [
           "#636efa",
           "#EF553B",
           "#00cc96",
           "#ab63fa",
           "#FFA15A",
           "#19d3f3",
           "#FF6692",
           "#B6E880",
           "#FF97FF",
           "#FECB52"
          ],
          "font": {
           "color": "#2a3f5f"
          },
          "geo": {
           "bgcolor": "white",
           "lakecolor": "white",
           "landcolor": "#E5ECF6",
           "showlakes": true,
           "showland": true,
           "subunitcolor": "white"
          },
          "hoverlabel": {
           "align": "left"
          },
          "hovermode": "closest",
          "mapbox": {
           "style": "light"
          },
          "paper_bgcolor": "white",
          "plot_bgcolor": "#E5ECF6",
          "polar": {
           "angularaxis": {
            "gridcolor": "white",
            "linecolor": "white",
            "ticks": ""
           },
           "bgcolor": "#E5ECF6",
           "radialaxis": {
            "gridcolor": "white",
            "linecolor": "white",
            "ticks": ""
           }
          },
          "scene": {
           "xaxis": {
            "backgroundcolor": "#E5ECF6",
            "gridcolor": "white",
            "gridwidth": 2,
            "linecolor": "white",
            "showbackground": true,
            "ticks": "",
            "zerolinecolor": "white"
           },
           "yaxis": {
            "backgroundcolor": "#E5ECF6",
            "gridcolor": "white",
            "gridwidth": 2,
            "linecolor": "white",
            "showbackground": true,
            "ticks": "",
            "zerolinecolor": "white"
           },
           "zaxis": {
            "backgroundcolor": "#E5ECF6",
            "gridcolor": "white",
            "gridwidth": 2,
            "linecolor": "white",
            "showbackground": true,
            "ticks": "",
            "zerolinecolor": "white"
           }
          },
          "shapedefaults": {
           "line": {
            "color": "#2a3f5f"
           }
          },
          "ternary": {
           "aaxis": {
            "gridcolor": "white",
            "linecolor": "white",
            "ticks": ""
           },
           "baxis": {
            "gridcolor": "white",
            "linecolor": "white",
            "ticks": ""
           },
           "bgcolor": "#E5ECF6",
           "caxis": {
            "gridcolor": "white",
            "linecolor": "white",
            "ticks": ""
           }
          },
          "title": {
           "x": 0.05
          },
          "xaxis": {
           "automargin": true,
           "gridcolor": "white",
           "linecolor": "white",
           "ticks": "",
           "title": {
            "standoff": 15
           },
           "zerolinecolor": "white",
           "zerolinewidth": 2
          },
          "yaxis": {
           "automargin": true,
           "gridcolor": "white",
           "linecolor": "white",
           "ticks": "",
           "title": {
            "standoff": 15
           },
           "zerolinecolor": "white",
           "zerolinewidth": 2
          }
         }
        },
        "title": {
         "text": "Quarterly Revenue Growth (yoy) % vs. Price/Sales (ttm) vs. Trailing P/E"
        },
        "width": 1250,
        "xaxis": {
         "anchor": "y",
         "domain": [
          0,
          1
         ],
         "title": {
          "text": "Quarterly Revenue Growth (yoy) %"
         }
        },
        "yaxis": {
         "anchor": "x",
         "domain": [
          0,
          1
         ],
         "title": {
          "text": "Price/Sales (ttm)"
         }
        }
       }
      },
      "text/html": [
       "<div>                            <div id=\"22c522bf-9197-4e68-ac76-912bf3042473\" class=\"plotly-graph-div\" style=\"height:700px; width:1250px;\"></div>            <script type=\"text/javascript\">                require([\"plotly\"], function(Plotly) {                    window.PLOTLYENV=window.PLOTLYENV || {};                                    if (document.getElementById(\"22c522bf-9197-4e68-ac76-912bf3042473\")) {                    Plotly.newPlot(                        \"22c522bf-9197-4e68-ac76-912bf3042473\",                        [{\"hovertemplate\":\"<b>%{hovertext}</b><br><br>Quarterly Revenue Growth (yoy) %=%{x}<br>Price/Sales (ttm)=%{y}<br>Trailing P/E=%{marker.size}<extra></extra>\",\"hovertext\":[\"ABI.BR\",\"AD.AS\",\"ADS.DE\",\"ADYEN.AS\",\"AI.PA\",\"AIR.PA\",\"ALV.DE\",\"ASML.AS\",\"BAS.DE\",\"BAYN.DE\",\"BBVA.MC\",\"BMW.DE\",\"BN.PA\",\"BNP.PA\",\"CRG.IR\",\"DAI.DE\",\"DB1.DE\",\"DG.PA\",\"DPW.DE\",\"DTE.DE\",\"EL.PA\",\"ENEL.MI\",\"ENI.MI\",\"IBE.MC\",\"IFX.DE\",\"INGA.AS\",\"ISP.MI\",\"ITX.MC\",\"KER.PA\",\"KNEBV.HE\",\"LIN.DE\",\"MC.PA\",\"MUV2.DE\",\"OR.PA\",\"PHIA.AS\",\"PRX.AS\",\"RI.PA\",\"SAF.PA\",\"SAN.MC\",\"SAN.PA\",\"SAP.DE\",\"SIE.DE\",\"STLA.MI\",\"SU.PA\",\"TTE.PA\",\"UMG.AS\",\"VNA.DE\",\"VOW.DE\"],\"legendgroup\":\"\",\"marker\":{\"color\":\"#636efa\",\"size\":[42.45,18.61,32.69,134.8,27.61,20.95,10.84,40.01,11.54,230.26,10.35,5.24,17.95,9.54,27.12,6.49,24.46,24.89,13.86,15.18,56.18,32.28,33.22,19.53,39.55,11.49,86.56,27.38,24.68,28.61,45.85,37.92,16.9,51.03,43.04,6.3,38.48,34.32,7.57,19.84,23.92,21.79,4.87,28.68,13.83,36.98,5.84,7.17],\"sizemode\":\"area\",\"sizeref\":0.57565,\"symbol\":\"circle\"},\"mode\":\"markers\",\"name\":\"\",\"orientation\":\"v\",\"showlegend\":false,\"x\":[11.4,4.0,3.4,63.7,5.6,-6.2,3.8,17.2,42.4,15.0,4.7,4.5,-2.9,11.9,15.0,0.1,31.8,7.0,23.5,1.9,40.7,74.4,83.0,18.9,20.1,6.5,12.4,22.1,49.6,5.6,11.9,35.4,9.9,16.2,-17.6,41.0,29.1,-23.7,28.6,7.0,5.9,17.7,270.2,19.0,80.3,19.6,7.0,-4.1],\"xaxis\":\"x\",\"y\":[2.33,0.4,2.09,10.7,3.4,1.6,0.8,12.65,0.83,1.21,1.57,0.55,1.54,1.41,1.39,0.45,6.78,1.16,0.87,0.77,4.48,0.91,0.77,1.73,4.1,2.83,1.58,3.14,5.22,2.76,5.49,6.53,0.57,6.95,1.53,21.27,5.69,3.27,1.27,3.06,4.62,1.78,0.33,3.05,0.95,5.07,9.45,0.5],\"yaxis\":\"y\",\"type\":\"scatter\"}],                        {\"template\":{\"data\":{\"bar\":[{\"error_x\":{\"color\":\"#2a3f5f\"},\"error_y\":{\"color\":\"#2a3f5f\"},\"marker\":{\"line\":{\"color\":\"#E5ECF6\",\"width\":0.5},\"pattern\":{\"fillmode\":\"overlay\",\"size\":10,\"solidity\":0.2}},\"type\":\"bar\"}],\"barpolar\":[{\"marker\":{\"line\":{\"color\":\"#E5ECF6\",\"width\":0.5},\"pattern\":{\"fillmode\":\"overlay\",\"size\":10,\"solidity\":0.2}},\"type\":\"barpolar\"}],\"carpet\":[{\"aaxis\":{\"endlinecolor\":\"#2a3f5f\",\"gridcolor\":\"white\",\"linecolor\":\"white\",\"minorgridcolor\":\"white\",\"startlinecolor\":\"#2a3f5f\"},\"baxis\":{\"endlinecolor\":\"#2a3f5f\",\"gridcolor\":\"white\",\"linecolor\":\"white\",\"minorgridcolor\":\"white\",\"startlinecolor\":\"#2a3f5f\"},\"type\":\"carpet\"}],\"choropleth\":[{\"colorbar\":{\"outlinewidth\":0,\"ticks\":\"\"},\"type\":\"choropleth\"}],\"contour\":[{\"colorbar\":{\"outlinewidth\":0,\"ticks\":\"\"},\"colorscale\":[[0.0,\"#0d0887\"],[0.1111111111111111,\"#46039f\"],[0.2222222222222222,\"#7201a8\"],[0.3333333333333333,\"#9c179e\"],[0.4444444444444444,\"#bd3786\"],[0.5555555555555556,\"#d8576b\"],[0.6666666666666666,\"#ed7953\"],[0.7777777777777778,\"#fb9f3a\"],[0.8888888888888888,\"#fdca26\"],[1.0,\"#f0f921\"]],\"type\":\"contour\"}],\"contourcarpet\":[{\"colorbar\":{\"outlinewidth\":0,\"ticks\":\"\"},\"type\":\"contourcarpet\"}],\"heatmap\":[{\"colorbar\":{\"outlinewidth\":0,\"ticks\":\"\"},\"colorscale\":[[0.0,\"#0d0887\"],[0.1111111111111111,\"#46039f\"],[0.2222222222222222,\"#7201a8\"],[0.3333333333333333,\"#9c179e\"],[0.4444444444444444,\"#bd3786\"],[0.5555555555555556,\"#d8576b\"],[0.6666666666666666,\"#ed7953\"],[0.7777777777777778,\"#fb9f3a\"],[0.8888888888888888,\"#fdca26\"],[1.0,\"#f0f921\"]],\"type\":\"heatmap\"}],\"heatmapgl\":[{\"colorbar\":{\"outlinewidth\":0,\"ticks\":\"\"},\"colorscale\":[[0.0,\"#0d0887\"],[0.1111111111111111,\"#46039f\"],[0.2222222222222222,\"#7201a8\"],[0.3333333333333333,\"#9c179e\"],[0.4444444444444444,\"#bd3786\"],[0.5555555555555556,\"#d8576b\"],[0.6666666666666666,\"#ed7953\"],[0.7777777777777778,\"#fb9f3a\"],[0.8888888888888888,\"#fdca26\"],[1.0,\"#f0f921\"]],\"type\":\"heatmapgl\"}],\"histogram\":[{\"marker\":{\"pattern\":{\"fillmode\":\"overlay\",\"size\":10,\"solidity\":0.2}},\"type\":\"histogram\"}],\"histogram2d\":[{\"colorbar\":{\"outlinewidth\":0,\"ticks\":\"\"},\"colorscale\":[[0.0,\"#0d0887\"],[0.1111111111111111,\"#46039f\"],[0.2222222222222222,\"#7201a8\"],[0.3333333333333333,\"#9c179e\"],[0.4444444444444444,\"#bd3786\"],[0.5555555555555556,\"#d8576b\"],[0.6666666666666666,\"#ed7953\"],[0.7777777777777778,\"#fb9f3a\"],[0.8888888888888888,\"#fdca26\"],[1.0,\"#f0f921\"]],\"type\":\"histogram2d\"}],\"histogram2dcontour\":[{\"colorbar\":{\"outlinewidth\":0,\"ticks\":\"\"},\"colorscale\":[[0.0,\"#0d0887\"],[0.1111111111111111,\"#46039f\"],[0.2222222222222222,\"#7201a8\"],[0.3333333333333333,\"#9c179e\"],[0.4444444444444444,\"#bd3786\"],[0.5555555555555556,\"#d8576b\"],[0.6666666666666666,\"#ed7953\"],[0.7777777777777778,\"#fb9f3a\"],[0.8888888888888888,\"#fdca26\"],[1.0,\"#f0f921\"]],\"type\":\"histogram2dcontour\"}],\"mesh3d\":[{\"colorbar\":{\"outlinewidth\":0,\"ticks\":\"\"},\"type\":\"mesh3d\"}],\"parcoords\":[{\"line\":{\"colorbar\":{\"outlinewidth\":0,\"ticks\":\"\"}},\"type\":\"parcoords\"}],\"pie\":[{\"automargin\":true,\"type\":\"pie\"}],\"scatter\":[{\"marker\":{\"colorbar\":{\"outlinewidth\":0,\"ticks\":\"\"}},\"type\":\"scatter\"}],\"scatter3d\":[{\"line\":{\"colorbar\":{\"outlinewidth\":0,\"ticks\":\"\"}},\"marker\":{\"colorbar\":{\"outlinewidth\":0,\"ticks\":\"\"}},\"type\":\"scatter3d\"}],\"scattercarpet\":[{\"marker\":{\"colorbar\":{\"outlinewidth\":0,\"ticks\":\"\"}},\"type\":\"scattercarpet\"}],\"scattergeo\":[{\"marker\":{\"colorbar\":{\"outlinewidth\":0,\"ticks\":\"\"}},\"type\":\"scattergeo\"}],\"scattergl\":[{\"marker\":{\"colorbar\":{\"outlinewidth\":0,\"ticks\":\"\"}},\"type\":\"scattergl\"}],\"scattermapbox\":[{\"marker\":{\"colorbar\":{\"outlinewidth\":0,\"ticks\":\"\"}},\"type\":\"scattermapbox\"}],\"scatterpolar\":[{\"marker\":{\"colorbar\":{\"outlinewidth\":0,\"ticks\":\"\"}},\"type\":\"scatterpolar\"}],\"scatterpolargl\":[{\"marker\":{\"colorbar\":{\"outlinewidth\":0,\"ticks\":\"\"}},\"type\":\"scatterpolargl\"}],\"scatterternary\":[{\"marker\":{\"colorbar\":{\"outlinewidth\":0,\"ticks\":\"\"}},\"type\":\"scatterternary\"}],\"surface\":[{\"colorbar\":{\"outlinewidth\":0,\"ticks\":\"\"},\"colorscale\":[[0.0,\"#0d0887\"],[0.1111111111111111,\"#46039f\"],[0.2222222222222222,\"#7201a8\"],[0.3333333333333333,\"#9c179e\"],[0.4444444444444444,\"#bd3786\"],[0.5555555555555556,\"#d8576b\"],[0.6666666666666666,\"#ed7953\"],[0.7777777777777778,\"#fb9f3a\"],[0.8888888888888888,\"#fdca26\"],[1.0,\"#f0f921\"]],\"type\":\"surface\"}],\"table\":[{\"cells\":{\"fill\":{\"color\":\"#EBF0F8\"},\"line\":{\"color\":\"white\"}},\"header\":{\"fill\":{\"color\":\"#C8D4E3\"},\"line\":{\"color\":\"white\"}},\"type\":\"table\"}]},\"layout\":{\"annotationdefaults\":{\"arrowcolor\":\"#2a3f5f\",\"arrowhead\":0,\"arrowwidth\":1},\"autotypenumbers\":\"strict\",\"coloraxis\":{\"colorbar\":{\"outlinewidth\":0,\"ticks\":\"\"}},\"colorscale\":{\"diverging\":[[0,\"#8e0152\"],[0.1,\"#c51b7d\"],[0.2,\"#de77ae\"],[0.3,\"#f1b6da\"],[0.4,\"#fde0ef\"],[0.5,\"#f7f7f7\"],[0.6,\"#e6f5d0\"],[0.7,\"#b8e186\"],[0.8,\"#7fbc41\"],[0.9,\"#4d9221\"],[1,\"#276419\"]],\"sequential\":[[0.0,\"#0d0887\"],[0.1111111111111111,\"#46039f\"],[0.2222222222222222,\"#7201a8\"],[0.3333333333333333,\"#9c179e\"],[0.4444444444444444,\"#bd3786\"],[0.5555555555555556,\"#d8576b\"],[0.6666666666666666,\"#ed7953\"],[0.7777777777777778,\"#fb9f3a\"],[0.8888888888888888,\"#fdca26\"],[1.0,\"#f0f921\"]],\"sequentialminus\":[[0.0,\"#0d0887\"],[0.1111111111111111,\"#46039f\"],[0.2222222222222222,\"#7201a8\"],[0.3333333333333333,\"#9c179e\"],[0.4444444444444444,\"#bd3786\"],[0.5555555555555556,\"#d8576b\"],[0.6666666666666666,\"#ed7953\"],[0.7777777777777778,\"#fb9f3a\"],[0.8888888888888888,\"#fdca26\"],[1.0,\"#f0f921\"]]},\"colorway\":[\"#636efa\",\"#EF553B\",\"#00cc96\",\"#ab63fa\",\"#FFA15A\",\"#19d3f3\",\"#FF6692\",\"#B6E880\",\"#FF97FF\",\"#FECB52\"],\"font\":{\"color\":\"#2a3f5f\"},\"geo\":{\"bgcolor\":\"white\",\"lakecolor\":\"white\",\"landcolor\":\"#E5ECF6\",\"showlakes\":true,\"showland\":true,\"subunitcolor\":\"white\"},\"hoverlabel\":{\"align\":\"left\"},\"hovermode\":\"closest\",\"mapbox\":{\"style\":\"light\"},\"paper_bgcolor\":\"white\",\"plot_bgcolor\":\"#E5ECF6\",\"polar\":{\"angularaxis\":{\"gridcolor\":\"white\",\"linecolor\":\"white\",\"ticks\":\"\"},\"bgcolor\":\"#E5ECF6\",\"radialaxis\":{\"gridcolor\":\"white\",\"linecolor\":\"white\",\"ticks\":\"\"}},\"scene\":{\"xaxis\":{\"backgroundcolor\":\"#E5ECF6\",\"gridcolor\":\"white\",\"gridwidth\":2,\"linecolor\":\"white\",\"showbackground\":true,\"ticks\":\"\",\"zerolinecolor\":\"white\"},\"yaxis\":{\"backgroundcolor\":\"#E5ECF6\",\"gridcolor\":\"white\",\"gridwidth\":2,\"linecolor\":\"white\",\"showbackground\":true,\"ticks\":\"\",\"zerolinecolor\":\"white\"},\"zaxis\":{\"backgroundcolor\":\"#E5ECF6\",\"gridcolor\":\"white\",\"gridwidth\":2,\"linecolor\":\"white\",\"showbackground\":true,\"ticks\":\"\",\"zerolinecolor\":\"white\"}},\"shapedefaults\":{\"line\":{\"color\":\"#2a3f5f\"}},\"ternary\":{\"aaxis\":{\"gridcolor\":\"white\",\"linecolor\":\"white\",\"ticks\":\"\"},\"baxis\":{\"gridcolor\":\"white\",\"linecolor\":\"white\",\"ticks\":\"\"},\"bgcolor\":\"#E5ECF6\",\"caxis\":{\"gridcolor\":\"white\",\"linecolor\":\"white\",\"ticks\":\"\"}},\"title\":{\"x\":0.05},\"xaxis\":{\"automargin\":true,\"gridcolor\":\"white\",\"linecolor\":\"white\",\"ticks\":\"\",\"title\":{\"standoff\":15},\"zerolinecolor\":\"white\",\"zerolinewidth\":2},\"yaxis\":{\"automargin\":true,\"gridcolor\":\"white\",\"linecolor\":\"white\",\"ticks\":\"\",\"title\":{\"standoff\":15},\"zerolinecolor\":\"white\",\"zerolinewidth\":2}}},\"xaxis\":{\"anchor\":\"y\",\"domain\":[0.0,1.0],\"title\":{\"text\":\"Quarterly Revenue Growth (yoy) %\"}},\"yaxis\":{\"anchor\":\"x\",\"domain\":[0.0,1.0],\"title\":{\"text\":\"Price/Sales (ttm)\"}},\"legend\":{\"tracegroupgap\":0,\"itemsizing\":\"constant\"},\"title\":{\"text\":\"Quarterly Revenue Growth (yoy) % vs. Price/Sales (ttm) vs. Trailing P/E\"},\"height\":700,\"width\":1250},                        {\"responsive\": true}                    ).then(function(){\n",
       "                            \n",
       "var gd = document.getElementById('22c522bf-9197-4e68-ac76-912bf3042473');\n",
       "var x = new MutationObserver(function (mutations, observer) {{\n",
       "        var display = window.getComputedStyle(gd).display;\n",
       "        if (!display || display === 'none') {{\n",
       "            console.log([gd, 'removed!']);\n",
       "            Plotly.purge(gd);\n",
       "            observer.disconnect();\n",
       "        }}\n",
       "}});\n",
       "\n",
       "// Listen for the removal of the full notebook cells\n",
       "var notebookContainer = gd.closest('#notebook-container');\n",
       "if (notebookContainer) {{\n",
       "    x.observe(notebookContainer, {childList: true});\n",
       "}}\n",
       "\n",
       "// Listen for the clearing of the current output cell\n",
       "var outputEl = gd.closest('.output');\n",
       "if (outputEl) {{\n",
       "    x.observe(outputEl, {childList: true});\n",
       "}}\n",
       "\n",
       "                        })                };                });            </script>        </div>"
      ]
     },
     "metadata": {},
     "output_type": "display_data"
    }
   ],
   "source": [
    "if not os.path.exists(\"images\"):\n",
    "    os.mkdir(\"images\")\n",
    "\n",
    "def plot_value_stocks(graph_type = None):\n",
    "    if graph_type == \"valuePS\":\n",
    "        valuePS = px.scatter(company_data,\n",
    "                   x='Quarterly Revenue Growth (yoy) %',\n",
    "                   y='Price/Sales (ttm)',\n",
    "                   size = \"Trailing P/E\",\n",
    "                   hover_name = company_data.index,\n",
    "                   title=\"Quarterly Revenue Growth (yoy) % vs. Price/Sales (ttm) vs. Trailing P/E\",\n",
    "                   width=1250,\n",
    "                   height=700)\n",
    "        return valuePS.show()\n",
    "    elif graph_type == \"valueDiv\":\n",
    "        ValueDiv = px.scatter(company_data,\n",
    "                   x='Quarterly Revenue Growth (yoy) %',\n",
    "                   y='Trailing Annual Dividend Yield %',\n",
    "                   size = \"Trailing P/E\",\n",
    "                   hover_name = company_data.index,\n",
    "                   title=\"Quarterly Revenue Growth (yoy) % vs. Trailing Annual Dividend Yield % vs. Trailing P/E\",\n",
    "                   width=1250,\n",
    "                   height=700)\n",
    "        return ValueDiv.show()\n",
    "    elif graph_type == \"valuePB\":\n",
    "        ValuePB = px.scatter(company_data,\n",
    "                   x='Quarterly Revenue Growth (yoy) %',\n",
    "                   y='Price/Book (mrq)',\n",
    "                   size = \"Trailing P/E\",\n",
    "                   hover_name = company_data.index,\n",
    "                   title=\"Quarterly Revenue Growth (yoy) % vs. Price/Book (mrq) vs. Trailing P/E\",\n",
    "                   width=1250,\n",
    "                   height=700)\n",
    "        return ValuePB.show()\n",
    "    elif graph_type == \"valueEBITDA\":\n",
    "        valueEBITDA = px.scatter(company_data,\n",
    "                   x='Quarterly Revenue Growth (yoy) %',\n",
    "                   y='Enterprise Value/EBITDA',\n",
    "                   size = \"Trailing P/E\",\n",
    "                   hover_name = company_data.index,\n",
    "                   title=\"Quarterly Revenue Growth (yoy) % vs. Enterprise Value/EBITDA vs. Trailing P/E\",\n",
    "                   width=1250,\n",
    "                   height=700)\n",
    "        return valueEBITDA.show()\n",
    "    else: \n",
    "        print(\"You have to include graph_type argument in the function! Then, you can choose from different graph types!\")\n",
    "    \n",
    "\n",
    "plot_value_stocks(graph_type = \"valuePS\")\n",
    "\n",
    "    "
   ]
  },
  {
   "cell_type": "code",
   "execution_count": 252,
   "id": "71f0e87a",
   "metadata": {},
   "outputs": [
    {
     "data": {
      "application/vnd.plotly.v1+json": {
       "config": {
        "plotlyServerURL": "https://plot.ly"
       },
       "data": [
        {
         "hovertemplate": "<b>%{hovertext}</b><br><br>Quarterly Revenue Growth (yoy) %=%{x}<br>Trailing Annual Dividend Yield %=%{y}<br>Trailing P/E=%{marker.size}<extra></extra>",
         "hovertext": [
          "ABI.BR",
          "AD.AS",
          "ADS.DE",
          "ADYEN.AS",
          "AI.PA",
          "AIR.PA",
          "ALV.DE",
          "ASML.AS",
          "BAS.DE",
          "BAYN.DE",
          "BBVA.MC",
          "BMW.DE",
          "BN.PA",
          "BNP.PA",
          "CRG.IR",
          "DAI.DE",
          "DB1.DE",
          "DG.PA",
          "DPW.DE",
          "DTE.DE",
          "EL.PA",
          "ENEL.MI",
          "ENI.MI",
          "IBE.MC",
          "IFX.DE",
          "INGA.AS",
          "ISP.MI",
          "ITX.MC",
          "KER.PA",
          "KNEBV.HE",
          "LIN.DE",
          "MC.PA",
          "MUV2.DE",
          "OR.PA",
          "PHIA.AS",
          "PRX.AS",
          "RI.PA",
          "SAF.PA",
          "SAN.MC",
          "SAN.PA",
          "SAP.DE",
          "SIE.DE",
          "STLA.MI",
          "SU.PA",
          "TTE.PA",
          "UMG.AS",
          "VNA.DE",
          "VOW.DE"
         ],
         "legendgroup": "",
         "marker": {
          "color": "#636efa",
          "size": [
           42.45,
           18.61,
           32.69,
           134.8,
           27.61,
           20.95,
           10.84,
           40.01,
           11.54,
           230.26,
           10.35,
           5.24,
           17.95,
           9.54,
           27.12,
           6.49,
           24.46,
           24.89,
           13.86,
           15.18,
           56.18,
           32.28,
           33.22,
           19.53,
           39.55,
           11.49,
           86.56,
           27.38,
           24.68,
           28.61,
           45.85,
           37.92,
           16.9,
           51.03,
           43.04,
           6.3,
           38.48,
           34.32,
           7.57,
           19.84,
           23.92,
           21.79,
           4.87,
           28.68,
           13.83,
           36.98,
           5.84,
           7.17
          ],
          "sizemode": "area",
          "sizeref": 0.57565,
          "symbol": "circle"
         },
         "mode": "markers",
         "name": "",
         "orientation": "v",
         "showlegend": false,
         "type": "scatter",
         "x": [
          11.4,
          4,
          3.4,
          63.7,
          5.6,
          -6.2,
          3.8,
          17.2,
          42.4,
          15,
          4.7,
          4.5,
          -2.9,
          11.9,
          15,
          0.1,
          31.8,
          7,
          23.5,
          1.9,
          40.7,
          74.4,
          83,
          18.9,
          20.1,
          6.5,
          12.4,
          22.1,
          49.6,
          5.6,
          11.9,
          35.4,
          9.9,
          16.2,
          -17.6,
          41,
          29.1,
          -23.7,
          28.6,
          7,
          5.9,
          17.7,
          270.2,
          19,
          80.3,
          19.6,
          7,
          -4.1
         ],
         "xaxis": "x",
         "y": [
          0,
          2.91,
          1.25,
          0,
          1.87,
          0,
          0,
          0.97,
          4.95,
          3.8,
          5.45,
          2.12,
          3.54,
          1.73,
          2.61,
          1.92,
          1.92,
          2.95,
          2.59,
          3.52,
          0.63,
          5.62,
          4.97,
          4.33,
          0.81,
          4.71,
          0,
          0,
          1.38,
          3.16,
          1.58,
          1.42,
          3.67,
          1.09,
          2.94,
          0.23,
          1.64,
          0.41,
          0,
          3.69,
          0,
          3.01,
          0,
          1.77,
          6.08,
          0.95,
          3.47,
          1.97
         ],
         "yaxis": "y"
        }
       ],
       "layout": {
        "height": 700,
        "legend": {
         "itemsizing": "constant",
         "tracegroupgap": 0
        },
        "template": {
         "data": {
          "bar": [
           {
            "error_x": {
             "color": "#2a3f5f"
            },
            "error_y": {
             "color": "#2a3f5f"
            },
            "marker": {
             "line": {
              "color": "#E5ECF6",
              "width": 0.5
             },
             "pattern": {
              "fillmode": "overlay",
              "size": 10,
              "solidity": 0.2
             }
            },
            "type": "bar"
           }
          ],
          "barpolar": [
           {
            "marker": {
             "line": {
              "color": "#E5ECF6",
              "width": 0.5
             },
             "pattern": {
              "fillmode": "overlay",
              "size": 10,
              "solidity": 0.2
             }
            },
            "type": "barpolar"
           }
          ],
          "carpet": [
           {
            "aaxis": {
             "endlinecolor": "#2a3f5f",
             "gridcolor": "white",
             "linecolor": "white",
             "minorgridcolor": "white",
             "startlinecolor": "#2a3f5f"
            },
            "baxis": {
             "endlinecolor": "#2a3f5f",
             "gridcolor": "white",
             "linecolor": "white",
             "minorgridcolor": "white",
             "startlinecolor": "#2a3f5f"
            },
            "type": "carpet"
           }
          ],
          "choropleth": [
           {
            "colorbar": {
             "outlinewidth": 0,
             "ticks": ""
            },
            "type": "choropleth"
           }
          ],
          "contour": [
           {
            "colorbar": {
             "outlinewidth": 0,
             "ticks": ""
            },
            "colorscale": [
             [
              0,
              "#0d0887"
             ],
             [
              0.1111111111111111,
              "#46039f"
             ],
             [
              0.2222222222222222,
              "#7201a8"
             ],
             [
              0.3333333333333333,
              "#9c179e"
             ],
             [
              0.4444444444444444,
              "#bd3786"
             ],
             [
              0.5555555555555556,
              "#d8576b"
             ],
             [
              0.6666666666666666,
              "#ed7953"
             ],
             [
              0.7777777777777778,
              "#fb9f3a"
             ],
             [
              0.8888888888888888,
              "#fdca26"
             ],
             [
              1,
              "#f0f921"
             ]
            ],
            "type": "contour"
           }
          ],
          "contourcarpet": [
           {
            "colorbar": {
             "outlinewidth": 0,
             "ticks": ""
            },
            "type": "contourcarpet"
           }
          ],
          "heatmap": [
           {
            "colorbar": {
             "outlinewidth": 0,
             "ticks": ""
            },
            "colorscale": [
             [
              0,
              "#0d0887"
             ],
             [
              0.1111111111111111,
              "#46039f"
             ],
             [
              0.2222222222222222,
              "#7201a8"
             ],
             [
              0.3333333333333333,
              "#9c179e"
             ],
             [
              0.4444444444444444,
              "#bd3786"
             ],
             [
              0.5555555555555556,
              "#d8576b"
             ],
             [
              0.6666666666666666,
              "#ed7953"
             ],
             [
              0.7777777777777778,
              "#fb9f3a"
             ],
             [
              0.8888888888888888,
              "#fdca26"
             ],
             [
              1,
              "#f0f921"
             ]
            ],
            "type": "heatmap"
           }
          ],
          "heatmapgl": [
           {
            "colorbar": {
             "outlinewidth": 0,
             "ticks": ""
            },
            "colorscale": [
             [
              0,
              "#0d0887"
             ],
             [
              0.1111111111111111,
              "#46039f"
             ],
             [
              0.2222222222222222,
              "#7201a8"
             ],
             [
              0.3333333333333333,
              "#9c179e"
             ],
             [
              0.4444444444444444,
              "#bd3786"
             ],
             [
              0.5555555555555556,
              "#d8576b"
             ],
             [
              0.6666666666666666,
              "#ed7953"
             ],
             [
              0.7777777777777778,
              "#fb9f3a"
             ],
             [
              0.8888888888888888,
              "#fdca26"
             ],
             [
              1,
              "#f0f921"
             ]
            ],
            "type": "heatmapgl"
           }
          ],
          "histogram": [
           {
            "marker": {
             "pattern": {
              "fillmode": "overlay",
              "size": 10,
              "solidity": 0.2
             }
            },
            "type": "histogram"
           }
          ],
          "histogram2d": [
           {
            "colorbar": {
             "outlinewidth": 0,
             "ticks": ""
            },
            "colorscale": [
             [
              0,
              "#0d0887"
             ],
             [
              0.1111111111111111,
              "#46039f"
             ],
             [
              0.2222222222222222,
              "#7201a8"
             ],
             [
              0.3333333333333333,
              "#9c179e"
             ],
             [
              0.4444444444444444,
              "#bd3786"
             ],
             [
              0.5555555555555556,
              "#d8576b"
             ],
             [
              0.6666666666666666,
              "#ed7953"
             ],
             [
              0.7777777777777778,
              "#fb9f3a"
             ],
             [
              0.8888888888888888,
              "#fdca26"
             ],
             [
              1,
              "#f0f921"
             ]
            ],
            "type": "histogram2d"
           }
          ],
          "histogram2dcontour": [
           {
            "colorbar": {
             "outlinewidth": 0,
             "ticks": ""
            },
            "colorscale": [
             [
              0,
              "#0d0887"
             ],
             [
              0.1111111111111111,
              "#46039f"
             ],
             [
              0.2222222222222222,
              "#7201a8"
             ],
             [
              0.3333333333333333,
              "#9c179e"
             ],
             [
              0.4444444444444444,
              "#bd3786"
             ],
             [
              0.5555555555555556,
              "#d8576b"
             ],
             [
              0.6666666666666666,
              "#ed7953"
             ],
             [
              0.7777777777777778,
              "#fb9f3a"
             ],
             [
              0.8888888888888888,
              "#fdca26"
             ],
             [
              1,
              "#f0f921"
             ]
            ],
            "type": "histogram2dcontour"
           }
          ],
          "mesh3d": [
           {
            "colorbar": {
             "outlinewidth": 0,
             "ticks": ""
            },
            "type": "mesh3d"
           }
          ],
          "parcoords": [
           {
            "line": {
             "colorbar": {
              "outlinewidth": 0,
              "ticks": ""
             }
            },
            "type": "parcoords"
           }
          ],
          "pie": [
           {
            "automargin": true,
            "type": "pie"
           }
          ],
          "scatter": [
           {
            "marker": {
             "colorbar": {
              "outlinewidth": 0,
              "ticks": ""
             }
            },
            "type": "scatter"
           }
          ],
          "scatter3d": [
           {
            "line": {
             "colorbar": {
              "outlinewidth": 0,
              "ticks": ""
             }
            },
            "marker": {
             "colorbar": {
              "outlinewidth": 0,
              "ticks": ""
             }
            },
            "type": "scatter3d"
           }
          ],
          "scattercarpet": [
           {
            "marker": {
             "colorbar": {
              "outlinewidth": 0,
              "ticks": ""
             }
            },
            "type": "scattercarpet"
           }
          ],
          "scattergeo": [
           {
            "marker": {
             "colorbar": {
              "outlinewidth": 0,
              "ticks": ""
             }
            },
            "type": "scattergeo"
           }
          ],
          "scattergl": [
           {
            "marker": {
             "colorbar": {
              "outlinewidth": 0,
              "ticks": ""
             }
            },
            "type": "scattergl"
           }
          ],
          "scattermapbox": [
           {
            "marker": {
             "colorbar": {
              "outlinewidth": 0,
              "ticks": ""
             }
            },
            "type": "scattermapbox"
           }
          ],
          "scatterpolar": [
           {
            "marker": {
             "colorbar": {
              "outlinewidth": 0,
              "ticks": ""
             }
            },
            "type": "scatterpolar"
           }
          ],
          "scatterpolargl": [
           {
            "marker": {
             "colorbar": {
              "outlinewidth": 0,
              "ticks": ""
             }
            },
            "type": "scatterpolargl"
           }
          ],
          "scatterternary": [
           {
            "marker": {
             "colorbar": {
              "outlinewidth": 0,
              "ticks": ""
             }
            },
            "type": "scatterternary"
           }
          ],
          "surface": [
           {
            "colorbar": {
             "outlinewidth": 0,
             "ticks": ""
            },
            "colorscale": [
             [
              0,
              "#0d0887"
             ],
             [
              0.1111111111111111,
              "#46039f"
             ],
             [
              0.2222222222222222,
              "#7201a8"
             ],
             [
              0.3333333333333333,
              "#9c179e"
             ],
             [
              0.4444444444444444,
              "#bd3786"
             ],
             [
              0.5555555555555556,
              "#d8576b"
             ],
             [
              0.6666666666666666,
              "#ed7953"
             ],
             [
              0.7777777777777778,
              "#fb9f3a"
             ],
             [
              0.8888888888888888,
              "#fdca26"
             ],
             [
              1,
              "#f0f921"
             ]
            ],
            "type": "surface"
           }
          ],
          "table": [
           {
            "cells": {
             "fill": {
              "color": "#EBF0F8"
             },
             "line": {
              "color": "white"
             }
            },
            "header": {
             "fill": {
              "color": "#C8D4E3"
             },
             "line": {
              "color": "white"
             }
            },
            "type": "table"
           }
          ]
         },
         "layout": {
          "annotationdefaults": {
           "arrowcolor": "#2a3f5f",
           "arrowhead": 0,
           "arrowwidth": 1
          },
          "autotypenumbers": "strict",
          "coloraxis": {
           "colorbar": {
            "outlinewidth": 0,
            "ticks": ""
           }
          },
          "colorscale": {
           "diverging": [
            [
             0,
             "#8e0152"
            ],
            [
             0.1,
             "#c51b7d"
            ],
            [
             0.2,
             "#de77ae"
            ],
            [
             0.3,
             "#f1b6da"
            ],
            [
             0.4,
             "#fde0ef"
            ],
            [
             0.5,
             "#f7f7f7"
            ],
            [
             0.6,
             "#e6f5d0"
            ],
            [
             0.7,
             "#b8e186"
            ],
            [
             0.8,
             "#7fbc41"
            ],
            [
             0.9,
             "#4d9221"
            ],
            [
             1,
             "#276419"
            ]
           ],
           "sequential": [
            [
             0,
             "#0d0887"
            ],
            [
             0.1111111111111111,
             "#46039f"
            ],
            [
             0.2222222222222222,
             "#7201a8"
            ],
            [
             0.3333333333333333,
             "#9c179e"
            ],
            [
             0.4444444444444444,
             "#bd3786"
            ],
            [
             0.5555555555555556,
             "#d8576b"
            ],
            [
             0.6666666666666666,
             "#ed7953"
            ],
            [
             0.7777777777777778,
             "#fb9f3a"
            ],
            [
             0.8888888888888888,
             "#fdca26"
            ],
            [
             1,
             "#f0f921"
            ]
           ],
           "sequentialminus": [
            [
             0,
             "#0d0887"
            ],
            [
             0.1111111111111111,
             "#46039f"
            ],
            [
             0.2222222222222222,
             "#7201a8"
            ],
            [
             0.3333333333333333,
             "#9c179e"
            ],
            [
             0.4444444444444444,
             "#bd3786"
            ],
            [
             0.5555555555555556,
             "#d8576b"
            ],
            [
             0.6666666666666666,
             "#ed7953"
            ],
            [
             0.7777777777777778,
             "#fb9f3a"
            ],
            [
             0.8888888888888888,
             "#fdca26"
            ],
            [
             1,
             "#f0f921"
            ]
           ]
          },
          "colorway": [
           "#636efa",
           "#EF553B",
           "#00cc96",
           "#ab63fa",
           "#FFA15A",
           "#19d3f3",
           "#FF6692",
           "#B6E880",
           "#FF97FF",
           "#FECB52"
          ],
          "font": {
           "color": "#2a3f5f"
          },
          "geo": {
           "bgcolor": "white",
           "lakecolor": "white",
           "landcolor": "#E5ECF6",
           "showlakes": true,
           "showland": true,
           "subunitcolor": "white"
          },
          "hoverlabel": {
           "align": "left"
          },
          "hovermode": "closest",
          "mapbox": {
           "style": "light"
          },
          "paper_bgcolor": "white",
          "plot_bgcolor": "#E5ECF6",
          "polar": {
           "angularaxis": {
            "gridcolor": "white",
            "linecolor": "white",
            "ticks": ""
           },
           "bgcolor": "#E5ECF6",
           "radialaxis": {
            "gridcolor": "white",
            "linecolor": "white",
            "ticks": ""
           }
          },
          "scene": {
           "xaxis": {
            "backgroundcolor": "#E5ECF6",
            "gridcolor": "white",
            "gridwidth": 2,
            "linecolor": "white",
            "showbackground": true,
            "ticks": "",
            "zerolinecolor": "white"
           },
           "yaxis": {
            "backgroundcolor": "#E5ECF6",
            "gridcolor": "white",
            "gridwidth": 2,
            "linecolor": "white",
            "showbackground": true,
            "ticks": "",
            "zerolinecolor": "white"
           },
           "zaxis": {
            "backgroundcolor": "#E5ECF6",
            "gridcolor": "white",
            "gridwidth": 2,
            "linecolor": "white",
            "showbackground": true,
            "ticks": "",
            "zerolinecolor": "white"
           }
          },
          "shapedefaults": {
           "line": {
            "color": "#2a3f5f"
           }
          },
          "ternary": {
           "aaxis": {
            "gridcolor": "white",
            "linecolor": "white",
            "ticks": ""
           },
           "baxis": {
            "gridcolor": "white",
            "linecolor": "white",
            "ticks": ""
           },
           "bgcolor": "#E5ECF6",
           "caxis": {
            "gridcolor": "white",
            "linecolor": "white",
            "ticks": ""
           }
          },
          "title": {
           "x": 0.05
          },
          "xaxis": {
           "automargin": true,
           "gridcolor": "white",
           "linecolor": "white",
           "ticks": "",
           "title": {
            "standoff": 15
           },
           "zerolinecolor": "white",
           "zerolinewidth": 2
          },
          "yaxis": {
           "automargin": true,
           "gridcolor": "white",
           "linecolor": "white",
           "ticks": "",
           "title": {
            "standoff": 15
           },
           "zerolinecolor": "white",
           "zerolinewidth": 2
          }
         }
        },
        "title": {
         "text": "Quarterly Revenue Growth (yoy) % vs. Trailing Annual Dividend Yield % vs. Trailing P/E"
        },
        "width": 1250,
        "xaxis": {
         "anchor": "y",
         "domain": [
          0,
          1
         ],
         "title": {
          "text": "Quarterly Revenue Growth (yoy) %"
         }
        },
        "yaxis": {
         "anchor": "x",
         "domain": [
          0,
          1
         ],
         "title": {
          "text": "Trailing Annual Dividend Yield %"
         }
        }
       }
      },
      "text/html": [
       "<div>                            <div id=\"168686a5-e93c-47cd-9d13-5caf578f3dbd\" class=\"plotly-graph-div\" style=\"height:700px; width:1250px;\"></div>            <script type=\"text/javascript\">                require([\"plotly\"], function(Plotly) {                    window.PLOTLYENV=window.PLOTLYENV || {};                                    if (document.getElementById(\"168686a5-e93c-47cd-9d13-5caf578f3dbd\")) {                    Plotly.newPlot(                        \"168686a5-e93c-47cd-9d13-5caf578f3dbd\",                        [{\"hovertemplate\":\"<b>%{hovertext}</b><br><br>Quarterly Revenue Growth (yoy) %=%{x}<br>Trailing Annual Dividend Yield %=%{y}<br>Trailing P/E=%{marker.size}<extra></extra>\",\"hovertext\":[\"ABI.BR\",\"AD.AS\",\"ADS.DE\",\"ADYEN.AS\",\"AI.PA\",\"AIR.PA\",\"ALV.DE\",\"ASML.AS\",\"BAS.DE\",\"BAYN.DE\",\"BBVA.MC\",\"BMW.DE\",\"BN.PA\",\"BNP.PA\",\"CRG.IR\",\"DAI.DE\",\"DB1.DE\",\"DG.PA\",\"DPW.DE\",\"DTE.DE\",\"EL.PA\",\"ENEL.MI\",\"ENI.MI\",\"IBE.MC\",\"IFX.DE\",\"INGA.AS\",\"ISP.MI\",\"ITX.MC\",\"KER.PA\",\"KNEBV.HE\",\"LIN.DE\",\"MC.PA\",\"MUV2.DE\",\"OR.PA\",\"PHIA.AS\",\"PRX.AS\",\"RI.PA\",\"SAF.PA\",\"SAN.MC\",\"SAN.PA\",\"SAP.DE\",\"SIE.DE\",\"STLA.MI\",\"SU.PA\",\"TTE.PA\",\"UMG.AS\",\"VNA.DE\",\"VOW.DE\"],\"legendgroup\":\"\",\"marker\":{\"color\":\"#636efa\",\"size\":[42.45,18.61,32.69,134.8,27.61,20.95,10.84,40.01,11.54,230.26,10.35,5.24,17.95,9.54,27.12,6.49,24.46,24.89,13.86,15.18,56.18,32.28,33.22,19.53,39.55,11.49,86.56,27.38,24.68,28.61,45.85,37.92,16.9,51.03,43.04,6.3,38.48,34.32,7.57,19.84,23.92,21.79,4.87,28.68,13.83,36.98,5.84,7.17],\"sizemode\":\"area\",\"sizeref\":0.57565,\"symbol\":\"circle\"},\"mode\":\"markers\",\"name\":\"\",\"orientation\":\"v\",\"showlegend\":false,\"x\":[11.4,4.0,3.4,63.7,5.6,-6.2,3.8,17.2,42.4,15.0,4.7,4.5,-2.9,11.9,15.0,0.1,31.8,7.0,23.5,1.9,40.7,74.4,83.0,18.9,20.1,6.5,12.4,22.1,49.6,5.6,11.9,35.4,9.9,16.2,-17.6,41.0,29.1,-23.7,28.6,7.0,5.9,17.7,270.2,19.0,80.3,19.6,7.0,-4.1],\"xaxis\":\"x\",\"y\":[0.0,2.91,1.25,0.0,1.87,0.0,0.0,0.97,4.95,3.8,5.45,2.12,3.54,1.73,2.61,1.92,1.92,2.95,2.59,3.52,0.63,5.62,4.97,4.33,0.81,4.71,0.0,0.0,1.38,3.16,1.58,1.42,3.67,1.09,2.94,0.23,1.64,0.41,0.0,3.69,0.0,3.01,0.0,1.77,6.08,0.95,3.47,1.97],\"yaxis\":\"y\",\"type\":\"scatter\"}],                        {\"template\":{\"data\":{\"bar\":[{\"error_x\":{\"color\":\"#2a3f5f\"},\"error_y\":{\"color\":\"#2a3f5f\"},\"marker\":{\"line\":{\"color\":\"#E5ECF6\",\"width\":0.5},\"pattern\":{\"fillmode\":\"overlay\",\"size\":10,\"solidity\":0.2}},\"type\":\"bar\"}],\"barpolar\":[{\"marker\":{\"line\":{\"color\":\"#E5ECF6\",\"width\":0.5},\"pattern\":{\"fillmode\":\"overlay\",\"size\":10,\"solidity\":0.2}},\"type\":\"barpolar\"}],\"carpet\":[{\"aaxis\":{\"endlinecolor\":\"#2a3f5f\",\"gridcolor\":\"white\",\"linecolor\":\"white\",\"minorgridcolor\":\"white\",\"startlinecolor\":\"#2a3f5f\"},\"baxis\":{\"endlinecolor\":\"#2a3f5f\",\"gridcolor\":\"white\",\"linecolor\":\"white\",\"minorgridcolor\":\"white\",\"startlinecolor\":\"#2a3f5f\"},\"type\":\"carpet\"}],\"choropleth\":[{\"colorbar\":{\"outlinewidth\":0,\"ticks\":\"\"},\"type\":\"choropleth\"}],\"contour\":[{\"colorbar\":{\"outlinewidth\":0,\"ticks\":\"\"},\"colorscale\":[[0.0,\"#0d0887\"],[0.1111111111111111,\"#46039f\"],[0.2222222222222222,\"#7201a8\"],[0.3333333333333333,\"#9c179e\"],[0.4444444444444444,\"#bd3786\"],[0.5555555555555556,\"#d8576b\"],[0.6666666666666666,\"#ed7953\"],[0.7777777777777778,\"#fb9f3a\"],[0.8888888888888888,\"#fdca26\"],[1.0,\"#f0f921\"]],\"type\":\"contour\"}],\"contourcarpet\":[{\"colorbar\":{\"outlinewidth\":0,\"ticks\":\"\"},\"type\":\"contourcarpet\"}],\"heatmap\":[{\"colorbar\":{\"outlinewidth\":0,\"ticks\":\"\"},\"colorscale\":[[0.0,\"#0d0887\"],[0.1111111111111111,\"#46039f\"],[0.2222222222222222,\"#7201a8\"],[0.3333333333333333,\"#9c179e\"],[0.4444444444444444,\"#bd3786\"],[0.5555555555555556,\"#d8576b\"],[0.6666666666666666,\"#ed7953\"],[0.7777777777777778,\"#fb9f3a\"],[0.8888888888888888,\"#fdca26\"],[1.0,\"#f0f921\"]],\"type\":\"heatmap\"}],\"heatmapgl\":[{\"colorbar\":{\"outlinewidth\":0,\"ticks\":\"\"},\"colorscale\":[[0.0,\"#0d0887\"],[0.1111111111111111,\"#46039f\"],[0.2222222222222222,\"#7201a8\"],[0.3333333333333333,\"#9c179e\"],[0.4444444444444444,\"#bd3786\"],[0.5555555555555556,\"#d8576b\"],[0.6666666666666666,\"#ed7953\"],[0.7777777777777778,\"#fb9f3a\"],[0.8888888888888888,\"#fdca26\"],[1.0,\"#f0f921\"]],\"type\":\"heatmapgl\"}],\"histogram\":[{\"marker\":{\"pattern\":{\"fillmode\":\"overlay\",\"size\":10,\"solidity\":0.2}},\"type\":\"histogram\"}],\"histogram2d\":[{\"colorbar\":{\"outlinewidth\":0,\"ticks\":\"\"},\"colorscale\":[[0.0,\"#0d0887\"],[0.1111111111111111,\"#46039f\"],[0.2222222222222222,\"#7201a8\"],[0.3333333333333333,\"#9c179e\"],[0.4444444444444444,\"#bd3786\"],[0.5555555555555556,\"#d8576b\"],[0.6666666666666666,\"#ed7953\"],[0.7777777777777778,\"#fb9f3a\"],[0.8888888888888888,\"#fdca26\"],[1.0,\"#f0f921\"]],\"type\":\"histogram2d\"}],\"histogram2dcontour\":[{\"colorbar\":{\"outlinewidth\":0,\"ticks\":\"\"},\"colorscale\":[[0.0,\"#0d0887\"],[0.1111111111111111,\"#46039f\"],[0.2222222222222222,\"#7201a8\"],[0.3333333333333333,\"#9c179e\"],[0.4444444444444444,\"#bd3786\"],[0.5555555555555556,\"#d8576b\"],[0.6666666666666666,\"#ed7953\"],[0.7777777777777778,\"#fb9f3a\"],[0.8888888888888888,\"#fdca26\"],[1.0,\"#f0f921\"]],\"type\":\"histogram2dcontour\"}],\"mesh3d\":[{\"colorbar\":{\"outlinewidth\":0,\"ticks\":\"\"},\"type\":\"mesh3d\"}],\"parcoords\":[{\"line\":{\"colorbar\":{\"outlinewidth\":0,\"ticks\":\"\"}},\"type\":\"parcoords\"}],\"pie\":[{\"automargin\":true,\"type\":\"pie\"}],\"scatter\":[{\"marker\":{\"colorbar\":{\"outlinewidth\":0,\"ticks\":\"\"}},\"type\":\"scatter\"}],\"scatter3d\":[{\"line\":{\"colorbar\":{\"outlinewidth\":0,\"ticks\":\"\"}},\"marker\":{\"colorbar\":{\"outlinewidth\":0,\"ticks\":\"\"}},\"type\":\"scatter3d\"}],\"scattercarpet\":[{\"marker\":{\"colorbar\":{\"outlinewidth\":0,\"ticks\":\"\"}},\"type\":\"scattercarpet\"}],\"scattergeo\":[{\"marker\":{\"colorbar\":{\"outlinewidth\":0,\"ticks\":\"\"}},\"type\":\"scattergeo\"}],\"scattergl\":[{\"marker\":{\"colorbar\":{\"outlinewidth\":0,\"ticks\":\"\"}},\"type\":\"scattergl\"}],\"scattermapbox\":[{\"marker\":{\"colorbar\":{\"outlinewidth\":0,\"ticks\":\"\"}},\"type\":\"scattermapbox\"}],\"scatterpolar\":[{\"marker\":{\"colorbar\":{\"outlinewidth\":0,\"ticks\":\"\"}},\"type\":\"scatterpolar\"}],\"scatterpolargl\":[{\"marker\":{\"colorbar\":{\"outlinewidth\":0,\"ticks\":\"\"}},\"type\":\"scatterpolargl\"}],\"scatterternary\":[{\"marker\":{\"colorbar\":{\"outlinewidth\":0,\"ticks\":\"\"}},\"type\":\"scatterternary\"}],\"surface\":[{\"colorbar\":{\"outlinewidth\":0,\"ticks\":\"\"},\"colorscale\":[[0.0,\"#0d0887\"],[0.1111111111111111,\"#46039f\"],[0.2222222222222222,\"#7201a8\"],[0.3333333333333333,\"#9c179e\"],[0.4444444444444444,\"#bd3786\"],[0.5555555555555556,\"#d8576b\"],[0.6666666666666666,\"#ed7953\"],[0.7777777777777778,\"#fb9f3a\"],[0.8888888888888888,\"#fdca26\"],[1.0,\"#f0f921\"]],\"type\":\"surface\"}],\"table\":[{\"cells\":{\"fill\":{\"color\":\"#EBF0F8\"},\"line\":{\"color\":\"white\"}},\"header\":{\"fill\":{\"color\":\"#C8D4E3\"},\"line\":{\"color\":\"white\"}},\"type\":\"table\"}]},\"layout\":{\"annotationdefaults\":{\"arrowcolor\":\"#2a3f5f\",\"arrowhead\":0,\"arrowwidth\":1},\"autotypenumbers\":\"strict\",\"coloraxis\":{\"colorbar\":{\"outlinewidth\":0,\"ticks\":\"\"}},\"colorscale\":{\"diverging\":[[0,\"#8e0152\"],[0.1,\"#c51b7d\"],[0.2,\"#de77ae\"],[0.3,\"#f1b6da\"],[0.4,\"#fde0ef\"],[0.5,\"#f7f7f7\"],[0.6,\"#e6f5d0\"],[0.7,\"#b8e186\"],[0.8,\"#7fbc41\"],[0.9,\"#4d9221\"],[1,\"#276419\"]],\"sequential\":[[0.0,\"#0d0887\"],[0.1111111111111111,\"#46039f\"],[0.2222222222222222,\"#7201a8\"],[0.3333333333333333,\"#9c179e\"],[0.4444444444444444,\"#bd3786\"],[0.5555555555555556,\"#d8576b\"],[0.6666666666666666,\"#ed7953\"],[0.7777777777777778,\"#fb9f3a\"],[0.8888888888888888,\"#fdca26\"],[1.0,\"#f0f921\"]],\"sequentialminus\":[[0.0,\"#0d0887\"],[0.1111111111111111,\"#46039f\"],[0.2222222222222222,\"#7201a8\"],[0.3333333333333333,\"#9c179e\"],[0.4444444444444444,\"#bd3786\"],[0.5555555555555556,\"#d8576b\"],[0.6666666666666666,\"#ed7953\"],[0.7777777777777778,\"#fb9f3a\"],[0.8888888888888888,\"#fdca26\"],[1.0,\"#f0f921\"]]},\"colorway\":[\"#636efa\",\"#EF553B\",\"#00cc96\",\"#ab63fa\",\"#FFA15A\",\"#19d3f3\",\"#FF6692\",\"#B6E880\",\"#FF97FF\",\"#FECB52\"],\"font\":{\"color\":\"#2a3f5f\"},\"geo\":{\"bgcolor\":\"white\",\"lakecolor\":\"white\",\"landcolor\":\"#E5ECF6\",\"showlakes\":true,\"showland\":true,\"subunitcolor\":\"white\"},\"hoverlabel\":{\"align\":\"left\"},\"hovermode\":\"closest\",\"mapbox\":{\"style\":\"light\"},\"paper_bgcolor\":\"white\",\"plot_bgcolor\":\"#E5ECF6\",\"polar\":{\"angularaxis\":{\"gridcolor\":\"white\",\"linecolor\":\"white\",\"ticks\":\"\"},\"bgcolor\":\"#E5ECF6\",\"radialaxis\":{\"gridcolor\":\"white\",\"linecolor\":\"white\",\"ticks\":\"\"}},\"scene\":{\"xaxis\":{\"backgroundcolor\":\"#E5ECF6\",\"gridcolor\":\"white\",\"gridwidth\":2,\"linecolor\":\"white\",\"showbackground\":true,\"ticks\":\"\",\"zerolinecolor\":\"white\"},\"yaxis\":{\"backgroundcolor\":\"#E5ECF6\",\"gridcolor\":\"white\",\"gridwidth\":2,\"linecolor\":\"white\",\"showbackground\":true,\"ticks\":\"\",\"zerolinecolor\":\"white\"},\"zaxis\":{\"backgroundcolor\":\"#E5ECF6\",\"gridcolor\":\"white\",\"gridwidth\":2,\"linecolor\":\"white\",\"showbackground\":true,\"ticks\":\"\",\"zerolinecolor\":\"white\"}},\"shapedefaults\":{\"line\":{\"color\":\"#2a3f5f\"}},\"ternary\":{\"aaxis\":{\"gridcolor\":\"white\",\"linecolor\":\"white\",\"ticks\":\"\"},\"baxis\":{\"gridcolor\":\"white\",\"linecolor\":\"white\",\"ticks\":\"\"},\"bgcolor\":\"#E5ECF6\",\"caxis\":{\"gridcolor\":\"white\",\"linecolor\":\"white\",\"ticks\":\"\"}},\"title\":{\"x\":0.05},\"xaxis\":{\"automargin\":true,\"gridcolor\":\"white\",\"linecolor\":\"white\",\"ticks\":\"\",\"title\":{\"standoff\":15},\"zerolinecolor\":\"white\",\"zerolinewidth\":2},\"yaxis\":{\"automargin\":true,\"gridcolor\":\"white\",\"linecolor\":\"white\",\"ticks\":\"\",\"title\":{\"standoff\":15},\"zerolinecolor\":\"white\",\"zerolinewidth\":2}}},\"xaxis\":{\"anchor\":\"y\",\"domain\":[0.0,1.0],\"title\":{\"text\":\"Quarterly Revenue Growth (yoy) %\"}},\"yaxis\":{\"anchor\":\"x\",\"domain\":[0.0,1.0],\"title\":{\"text\":\"Trailing Annual Dividend Yield %\"}},\"legend\":{\"tracegroupgap\":0,\"itemsizing\":\"constant\"},\"title\":{\"text\":\"Quarterly Revenue Growth (yoy) % vs. Trailing Annual Dividend Yield % vs. Trailing P/E\"},\"height\":700,\"width\":1250},                        {\"responsive\": true}                    ).then(function(){\n",
       "                            \n",
       "var gd = document.getElementById('168686a5-e93c-47cd-9d13-5caf578f3dbd');\n",
       "var x = new MutationObserver(function (mutations, observer) {{\n",
       "        var display = window.getComputedStyle(gd).display;\n",
       "        if (!display || display === 'none') {{\n",
       "            console.log([gd, 'removed!']);\n",
       "            Plotly.purge(gd);\n",
       "            observer.disconnect();\n",
       "        }}\n",
       "}});\n",
       "\n",
       "// Listen for the removal of the full notebook cells\n",
       "var notebookContainer = gd.closest('#notebook-container');\n",
       "if (notebookContainer) {{\n",
       "    x.observe(notebookContainer, {childList: true});\n",
       "}}\n",
       "\n",
       "// Listen for the clearing of the current output cell\n",
       "var outputEl = gd.closest('.output');\n",
       "if (outputEl) {{\n",
       "    x.observe(outputEl, {childList: true});\n",
       "}}\n",
       "\n",
       "                        })                };                });            </script>        </div>"
      ]
     },
     "metadata": {},
     "output_type": "display_data"
    }
   ],
   "source": [
    "plot_value_stocks(graph_type = \"valueDiv\")"
   ]
  },
  {
   "cell_type": "code",
   "execution_count": 253,
   "id": "ddef0e50",
   "metadata": {},
   "outputs": [
    {
     "data": {
      "application/vnd.plotly.v1+json": {
       "config": {
        "plotlyServerURL": "https://plot.ly"
       },
       "data": [
        {
         "hovertemplate": "<b>%{hovertext}</b><br><br>Quarterly Revenue Growth (yoy) %=%{x}<br>Price/Book (mrq)=%{y}<br>Trailing P/E=%{marker.size}<extra></extra>",
         "hovertext": [
          "ABI.BR",
          "AD.AS",
          "ADS.DE",
          "ADYEN.AS",
          "AI.PA",
          "AIR.PA",
          "ALV.DE",
          "ASML.AS",
          "BAS.DE",
          "BAYN.DE",
          "BBVA.MC",
          "BMW.DE",
          "BN.PA",
          "BNP.PA",
          "CRG.IR",
          "DAI.DE",
          "DB1.DE",
          "DG.PA",
          "DPW.DE",
          "DTE.DE",
          "EL.PA",
          "ENEL.MI",
          "ENI.MI",
          "IBE.MC",
          "IFX.DE",
          "INGA.AS",
          "ISP.MI",
          "ITX.MC",
          "KER.PA",
          "KNEBV.HE",
          "LIN.DE",
          "MC.PA",
          "MUV2.DE",
          "OR.PA",
          "PHIA.AS",
          "PRX.AS",
          "RI.PA",
          "SAF.PA",
          "SAN.MC",
          "SAN.PA",
          "SAP.DE",
          "SIE.DE",
          "STLA.MI",
          "SU.PA",
          "TTE.PA",
          "UMG.AS",
          "VNA.DE",
          "VOW.DE"
         ],
         "legendgroup": "",
         "marker": {
          "color": "#636efa",
          "size": [
           42.45,
           18.61,
           32.69,
           134.8,
           27.61,
           20.95,
           10.84,
           40.01,
           11.54,
           230.26,
           10.35,
           5.24,
           17.95,
           9.54,
           27.12,
           6.49,
           24.46,
           24.89,
           13.86,
           15.18,
           56.18,
           32.28,
           33.22,
           19.53,
           39.55,
           11.49,
           86.56,
           27.38,
           24.68,
           28.61,
           45.85,
           37.92,
           16.9,
           51.03,
           43.04,
           6.3,
           38.48,
           34.32,
           7.57,
           19.84,
           23.92,
           21.79,
           4.87,
           28.68,
           13.83,
           36.98,
           5.84,
           7.17
          ],
          "sizemode": "area",
          "sizeref": 0.57565,
          "symbol": "circle"
         },
         "mode": "markers",
         "name": "",
         "orientation": "v",
         "showlegend": false,
         "type": "scatter",
         "x": [
          11.4,
          4,
          3.4,
          63.7,
          5.6,
          -6.2,
          3.8,
          17.2,
          42.4,
          15,
          4.7,
          4.5,
          -2.9,
          11.9,
          15,
          0.1,
          31.8,
          7,
          23.5,
          1.9,
          40.7,
          74.4,
          83,
          18.9,
          20.1,
          6.5,
          12.4,
          22.1,
          49.6,
          5.6,
          11.9,
          35.4,
          9.9,
          16.2,
          -17.6,
          41,
          29.1,
          -23.7,
          28.6,
          7,
          5.9,
          17.7,
          270.2,
          19,
          80.3,
          19.6,
          7,
          -4.1
         ],
         "xaxis": "x",
         "y": [
          1.56,
          2.23,
          6.04,
          34.89,
          3.75,
          9.98,
          1.13,
          23,
          1.57,
          1.67,
          0.82,
          0.86,
          2.12,
          0.68,
          2.05,
          1.02,
          3.9,
          2.59,
          3.83,
          2.1,
          2.24,
          2.26,
          1.17,
          1.38,
          3.97,
          0.9,
          0.79,
          5.39,
          6.54,
          9.15,
          3.6,
          8.7,
          1.28,
          6.73,
          1.74,
          4.59,
          3.36,
          3.52,
          0.65,
          1.81,
          3.66,
          2.47,
          1.17,
          3.83,
          1.33,
          26.61,
          1.41,
          0.91
         ],
         "yaxis": "y"
        }
       ],
       "layout": {
        "height": 700,
        "legend": {
         "itemsizing": "constant",
         "tracegroupgap": 0
        },
        "template": {
         "data": {
          "bar": [
           {
            "error_x": {
             "color": "#2a3f5f"
            },
            "error_y": {
             "color": "#2a3f5f"
            },
            "marker": {
             "line": {
              "color": "#E5ECF6",
              "width": 0.5
             },
             "pattern": {
              "fillmode": "overlay",
              "size": 10,
              "solidity": 0.2
             }
            },
            "type": "bar"
           }
          ],
          "barpolar": [
           {
            "marker": {
             "line": {
              "color": "#E5ECF6",
              "width": 0.5
             },
             "pattern": {
              "fillmode": "overlay",
              "size": 10,
              "solidity": 0.2
             }
            },
            "type": "barpolar"
           }
          ],
          "carpet": [
           {
            "aaxis": {
             "endlinecolor": "#2a3f5f",
             "gridcolor": "white",
             "linecolor": "white",
             "minorgridcolor": "white",
             "startlinecolor": "#2a3f5f"
            },
            "baxis": {
             "endlinecolor": "#2a3f5f",
             "gridcolor": "white",
             "linecolor": "white",
             "minorgridcolor": "white",
             "startlinecolor": "#2a3f5f"
            },
            "type": "carpet"
           }
          ],
          "choropleth": [
           {
            "colorbar": {
             "outlinewidth": 0,
             "ticks": ""
            },
            "type": "choropleth"
           }
          ],
          "contour": [
           {
            "colorbar": {
             "outlinewidth": 0,
             "ticks": ""
            },
            "colorscale": [
             [
              0,
              "#0d0887"
             ],
             [
              0.1111111111111111,
              "#46039f"
             ],
             [
              0.2222222222222222,
              "#7201a8"
             ],
             [
              0.3333333333333333,
              "#9c179e"
             ],
             [
              0.4444444444444444,
              "#bd3786"
             ],
             [
              0.5555555555555556,
              "#d8576b"
             ],
             [
              0.6666666666666666,
              "#ed7953"
             ],
             [
              0.7777777777777778,
              "#fb9f3a"
             ],
             [
              0.8888888888888888,
              "#fdca26"
             ],
             [
              1,
              "#f0f921"
             ]
            ],
            "type": "contour"
           }
          ],
          "contourcarpet": [
           {
            "colorbar": {
             "outlinewidth": 0,
             "ticks": ""
            },
            "type": "contourcarpet"
           }
          ],
          "heatmap": [
           {
            "colorbar": {
             "outlinewidth": 0,
             "ticks": ""
            },
            "colorscale": [
             [
              0,
              "#0d0887"
             ],
             [
              0.1111111111111111,
              "#46039f"
             ],
             [
              0.2222222222222222,
              "#7201a8"
             ],
             [
              0.3333333333333333,
              "#9c179e"
             ],
             [
              0.4444444444444444,
              "#bd3786"
             ],
             [
              0.5555555555555556,
              "#d8576b"
             ],
             [
              0.6666666666666666,
              "#ed7953"
             ],
             [
              0.7777777777777778,
              "#fb9f3a"
             ],
             [
              0.8888888888888888,
              "#fdca26"
             ],
             [
              1,
              "#f0f921"
             ]
            ],
            "type": "heatmap"
           }
          ],
          "heatmapgl": [
           {
            "colorbar": {
             "outlinewidth": 0,
             "ticks": ""
            },
            "colorscale": [
             [
              0,
              "#0d0887"
             ],
             [
              0.1111111111111111,
              "#46039f"
             ],
             [
              0.2222222222222222,
              "#7201a8"
             ],
             [
              0.3333333333333333,
              "#9c179e"
             ],
             [
              0.4444444444444444,
              "#bd3786"
             ],
             [
              0.5555555555555556,
              "#d8576b"
             ],
             [
              0.6666666666666666,
              "#ed7953"
             ],
             [
              0.7777777777777778,
              "#fb9f3a"
             ],
             [
              0.8888888888888888,
              "#fdca26"
             ],
             [
              1,
              "#f0f921"
             ]
            ],
            "type": "heatmapgl"
           }
          ],
          "histogram": [
           {
            "marker": {
             "pattern": {
              "fillmode": "overlay",
              "size": 10,
              "solidity": 0.2
             }
            },
            "type": "histogram"
           }
          ],
          "histogram2d": [
           {
            "colorbar": {
             "outlinewidth": 0,
             "ticks": ""
            },
            "colorscale": [
             [
              0,
              "#0d0887"
             ],
             [
              0.1111111111111111,
              "#46039f"
             ],
             [
              0.2222222222222222,
              "#7201a8"
             ],
             [
              0.3333333333333333,
              "#9c179e"
             ],
             [
              0.4444444444444444,
              "#bd3786"
             ],
             [
              0.5555555555555556,
              "#d8576b"
             ],
             [
              0.6666666666666666,
              "#ed7953"
             ],
             [
              0.7777777777777778,
              "#fb9f3a"
             ],
             [
              0.8888888888888888,
              "#fdca26"
             ],
             [
              1,
              "#f0f921"
             ]
            ],
            "type": "histogram2d"
           }
          ],
          "histogram2dcontour": [
           {
            "colorbar": {
             "outlinewidth": 0,
             "ticks": ""
            },
            "colorscale": [
             [
              0,
              "#0d0887"
             ],
             [
              0.1111111111111111,
              "#46039f"
             ],
             [
              0.2222222222222222,
              "#7201a8"
             ],
             [
              0.3333333333333333,
              "#9c179e"
             ],
             [
              0.4444444444444444,
              "#bd3786"
             ],
             [
              0.5555555555555556,
              "#d8576b"
             ],
             [
              0.6666666666666666,
              "#ed7953"
             ],
             [
              0.7777777777777778,
              "#fb9f3a"
             ],
             [
              0.8888888888888888,
              "#fdca26"
             ],
             [
              1,
              "#f0f921"
             ]
            ],
            "type": "histogram2dcontour"
           }
          ],
          "mesh3d": [
           {
            "colorbar": {
             "outlinewidth": 0,
             "ticks": ""
            },
            "type": "mesh3d"
           }
          ],
          "parcoords": [
           {
            "line": {
             "colorbar": {
              "outlinewidth": 0,
              "ticks": ""
             }
            },
            "type": "parcoords"
           }
          ],
          "pie": [
           {
            "automargin": true,
            "type": "pie"
           }
          ],
          "scatter": [
           {
            "marker": {
             "colorbar": {
              "outlinewidth": 0,
              "ticks": ""
             }
            },
            "type": "scatter"
           }
          ],
          "scatter3d": [
           {
            "line": {
             "colorbar": {
              "outlinewidth": 0,
              "ticks": ""
             }
            },
            "marker": {
             "colorbar": {
              "outlinewidth": 0,
              "ticks": ""
             }
            },
            "type": "scatter3d"
           }
          ],
          "scattercarpet": [
           {
            "marker": {
             "colorbar": {
              "outlinewidth": 0,
              "ticks": ""
             }
            },
            "type": "scattercarpet"
           }
          ],
          "scattergeo": [
           {
            "marker": {
             "colorbar": {
              "outlinewidth": 0,
              "ticks": ""
             }
            },
            "type": "scattergeo"
           }
          ],
          "scattergl": [
           {
            "marker": {
             "colorbar": {
              "outlinewidth": 0,
              "ticks": ""
             }
            },
            "type": "scattergl"
           }
          ],
          "scattermapbox": [
           {
            "marker": {
             "colorbar": {
              "outlinewidth": 0,
              "ticks": ""
             }
            },
            "type": "scattermapbox"
           }
          ],
          "scatterpolar": [
           {
            "marker": {
             "colorbar": {
              "outlinewidth": 0,
              "ticks": ""
             }
            },
            "type": "scatterpolar"
           }
          ],
          "scatterpolargl": [
           {
            "marker": {
             "colorbar": {
              "outlinewidth": 0,
              "ticks": ""
             }
            },
            "type": "scatterpolargl"
           }
          ],
          "scatterternary": [
           {
            "marker": {
             "colorbar": {
              "outlinewidth": 0,
              "ticks": ""
             }
            },
            "type": "scatterternary"
           }
          ],
          "surface": [
           {
            "colorbar": {
             "outlinewidth": 0,
             "ticks": ""
            },
            "colorscale": [
             [
              0,
              "#0d0887"
             ],
             [
              0.1111111111111111,
              "#46039f"
             ],
             [
              0.2222222222222222,
              "#7201a8"
             ],
             [
              0.3333333333333333,
              "#9c179e"
             ],
             [
              0.4444444444444444,
              "#bd3786"
             ],
             [
              0.5555555555555556,
              "#d8576b"
             ],
             [
              0.6666666666666666,
              "#ed7953"
             ],
             [
              0.7777777777777778,
              "#fb9f3a"
             ],
             [
              0.8888888888888888,
              "#fdca26"
             ],
             [
              1,
              "#f0f921"
             ]
            ],
            "type": "surface"
           }
          ],
          "table": [
           {
            "cells": {
             "fill": {
              "color": "#EBF0F8"
             },
             "line": {
              "color": "white"
             }
            },
            "header": {
             "fill": {
              "color": "#C8D4E3"
             },
             "line": {
              "color": "white"
             }
            },
            "type": "table"
           }
          ]
         },
         "layout": {
          "annotationdefaults": {
           "arrowcolor": "#2a3f5f",
           "arrowhead": 0,
           "arrowwidth": 1
          },
          "autotypenumbers": "strict",
          "coloraxis": {
           "colorbar": {
            "outlinewidth": 0,
            "ticks": ""
           }
          },
          "colorscale": {
           "diverging": [
            [
             0,
             "#8e0152"
            ],
            [
             0.1,
             "#c51b7d"
            ],
            [
             0.2,
             "#de77ae"
            ],
            [
             0.3,
             "#f1b6da"
            ],
            [
             0.4,
             "#fde0ef"
            ],
            [
             0.5,
             "#f7f7f7"
            ],
            [
             0.6,
             "#e6f5d0"
            ],
            [
             0.7,
             "#b8e186"
            ],
            [
             0.8,
             "#7fbc41"
            ],
            [
             0.9,
             "#4d9221"
            ],
            [
             1,
             "#276419"
            ]
           ],
           "sequential": [
            [
             0,
             "#0d0887"
            ],
            [
             0.1111111111111111,
             "#46039f"
            ],
            [
             0.2222222222222222,
             "#7201a8"
            ],
            [
             0.3333333333333333,
             "#9c179e"
            ],
            [
             0.4444444444444444,
             "#bd3786"
            ],
            [
             0.5555555555555556,
             "#d8576b"
            ],
            [
             0.6666666666666666,
             "#ed7953"
            ],
            [
             0.7777777777777778,
             "#fb9f3a"
            ],
            [
             0.8888888888888888,
             "#fdca26"
            ],
            [
             1,
             "#f0f921"
            ]
           ],
           "sequentialminus": [
            [
             0,
             "#0d0887"
            ],
            [
             0.1111111111111111,
             "#46039f"
            ],
            [
             0.2222222222222222,
             "#7201a8"
            ],
            [
             0.3333333333333333,
             "#9c179e"
            ],
            [
             0.4444444444444444,
             "#bd3786"
            ],
            [
             0.5555555555555556,
             "#d8576b"
            ],
            [
             0.6666666666666666,
             "#ed7953"
            ],
            [
             0.7777777777777778,
             "#fb9f3a"
            ],
            [
             0.8888888888888888,
             "#fdca26"
            ],
            [
             1,
             "#f0f921"
            ]
           ]
          },
          "colorway": [
           "#636efa",
           "#EF553B",
           "#00cc96",
           "#ab63fa",
           "#FFA15A",
           "#19d3f3",
           "#FF6692",
           "#B6E880",
           "#FF97FF",
           "#FECB52"
          ],
          "font": {
           "color": "#2a3f5f"
          },
          "geo": {
           "bgcolor": "white",
           "lakecolor": "white",
           "landcolor": "#E5ECF6",
           "showlakes": true,
           "showland": true,
           "subunitcolor": "white"
          },
          "hoverlabel": {
           "align": "left"
          },
          "hovermode": "closest",
          "mapbox": {
           "style": "light"
          },
          "paper_bgcolor": "white",
          "plot_bgcolor": "#E5ECF6",
          "polar": {
           "angularaxis": {
            "gridcolor": "white",
            "linecolor": "white",
            "ticks": ""
           },
           "bgcolor": "#E5ECF6",
           "radialaxis": {
            "gridcolor": "white",
            "linecolor": "white",
            "ticks": ""
           }
          },
          "scene": {
           "xaxis": {
            "backgroundcolor": "#E5ECF6",
            "gridcolor": "white",
            "gridwidth": 2,
            "linecolor": "white",
            "showbackground": true,
            "ticks": "",
            "zerolinecolor": "white"
           },
           "yaxis": {
            "backgroundcolor": "#E5ECF6",
            "gridcolor": "white",
            "gridwidth": 2,
            "linecolor": "white",
            "showbackground": true,
            "ticks": "",
            "zerolinecolor": "white"
           },
           "zaxis": {
            "backgroundcolor": "#E5ECF6",
            "gridcolor": "white",
            "gridwidth": 2,
            "linecolor": "white",
            "showbackground": true,
            "ticks": "",
            "zerolinecolor": "white"
           }
          },
          "shapedefaults": {
           "line": {
            "color": "#2a3f5f"
           }
          },
          "ternary": {
           "aaxis": {
            "gridcolor": "white",
            "linecolor": "white",
            "ticks": ""
           },
           "baxis": {
            "gridcolor": "white",
            "linecolor": "white",
            "ticks": ""
           },
           "bgcolor": "#E5ECF6",
           "caxis": {
            "gridcolor": "white",
            "linecolor": "white",
            "ticks": ""
           }
          },
          "title": {
           "x": 0.05
          },
          "xaxis": {
           "automargin": true,
           "gridcolor": "white",
           "linecolor": "white",
           "ticks": "",
           "title": {
            "standoff": 15
           },
           "zerolinecolor": "white",
           "zerolinewidth": 2
          },
          "yaxis": {
           "automargin": true,
           "gridcolor": "white",
           "linecolor": "white",
           "ticks": "",
           "title": {
            "standoff": 15
           },
           "zerolinecolor": "white",
           "zerolinewidth": 2
          }
         }
        },
        "title": {
         "text": "Quarterly Revenue Growth (yoy) % vs. Price/Book (mrq) vs. Trailing P/E"
        },
        "width": 1250,
        "xaxis": {
         "anchor": "y",
         "domain": [
          0,
          1
         ],
         "title": {
          "text": "Quarterly Revenue Growth (yoy) %"
         }
        },
        "yaxis": {
         "anchor": "x",
         "domain": [
          0,
          1
         ],
         "title": {
          "text": "Price/Book (mrq)"
         }
        }
       }
      },
      "text/html": [
       "<div>                            <div id=\"a6369080-6497-4062-a46e-5fd9fb04a97f\" class=\"plotly-graph-div\" style=\"height:700px; width:1250px;\"></div>            <script type=\"text/javascript\">                require([\"plotly\"], function(Plotly) {                    window.PLOTLYENV=window.PLOTLYENV || {};                                    if (document.getElementById(\"a6369080-6497-4062-a46e-5fd9fb04a97f\")) {                    Plotly.newPlot(                        \"a6369080-6497-4062-a46e-5fd9fb04a97f\",                        [{\"hovertemplate\":\"<b>%{hovertext}</b><br><br>Quarterly Revenue Growth (yoy) %=%{x}<br>Price/Book (mrq)=%{y}<br>Trailing P/E=%{marker.size}<extra></extra>\",\"hovertext\":[\"ABI.BR\",\"AD.AS\",\"ADS.DE\",\"ADYEN.AS\",\"AI.PA\",\"AIR.PA\",\"ALV.DE\",\"ASML.AS\",\"BAS.DE\",\"BAYN.DE\",\"BBVA.MC\",\"BMW.DE\",\"BN.PA\",\"BNP.PA\",\"CRG.IR\",\"DAI.DE\",\"DB1.DE\",\"DG.PA\",\"DPW.DE\",\"DTE.DE\",\"EL.PA\",\"ENEL.MI\",\"ENI.MI\",\"IBE.MC\",\"IFX.DE\",\"INGA.AS\",\"ISP.MI\",\"ITX.MC\",\"KER.PA\",\"KNEBV.HE\",\"LIN.DE\",\"MC.PA\",\"MUV2.DE\",\"OR.PA\",\"PHIA.AS\",\"PRX.AS\",\"RI.PA\",\"SAF.PA\",\"SAN.MC\",\"SAN.PA\",\"SAP.DE\",\"SIE.DE\",\"STLA.MI\",\"SU.PA\",\"TTE.PA\",\"UMG.AS\",\"VNA.DE\",\"VOW.DE\"],\"legendgroup\":\"\",\"marker\":{\"color\":\"#636efa\",\"size\":[42.45,18.61,32.69,134.8,27.61,20.95,10.84,40.01,11.54,230.26,10.35,5.24,17.95,9.54,27.12,6.49,24.46,24.89,13.86,15.18,56.18,32.28,33.22,19.53,39.55,11.49,86.56,27.38,24.68,28.61,45.85,37.92,16.9,51.03,43.04,6.3,38.48,34.32,7.57,19.84,23.92,21.79,4.87,28.68,13.83,36.98,5.84,7.17],\"sizemode\":\"area\",\"sizeref\":0.57565,\"symbol\":\"circle\"},\"mode\":\"markers\",\"name\":\"\",\"orientation\":\"v\",\"showlegend\":false,\"x\":[11.4,4.0,3.4,63.7,5.6,-6.2,3.8,17.2,42.4,15.0,4.7,4.5,-2.9,11.9,15.0,0.1,31.8,7.0,23.5,1.9,40.7,74.4,83.0,18.9,20.1,6.5,12.4,22.1,49.6,5.6,11.9,35.4,9.9,16.2,-17.6,41.0,29.1,-23.7,28.6,7.0,5.9,17.7,270.2,19.0,80.3,19.6,7.0,-4.1],\"xaxis\":\"x\",\"y\":[1.56,2.23,6.04,34.89,3.75,9.98,1.13,23.0,1.57,1.67,0.82,0.86,2.12,0.68,2.05,1.02,3.9,2.59,3.83,2.1,2.24,2.26,1.17,1.38,3.97,0.9,0.79,5.39,6.54,9.15,3.6,8.7,1.28,6.73,1.74,4.59,3.36,3.52,0.65,1.81,3.66,2.47,1.17,3.83,1.33,26.61,1.41,0.91],\"yaxis\":\"y\",\"type\":\"scatter\"}],                        {\"template\":{\"data\":{\"bar\":[{\"error_x\":{\"color\":\"#2a3f5f\"},\"error_y\":{\"color\":\"#2a3f5f\"},\"marker\":{\"line\":{\"color\":\"#E5ECF6\",\"width\":0.5},\"pattern\":{\"fillmode\":\"overlay\",\"size\":10,\"solidity\":0.2}},\"type\":\"bar\"}],\"barpolar\":[{\"marker\":{\"line\":{\"color\":\"#E5ECF6\",\"width\":0.5},\"pattern\":{\"fillmode\":\"overlay\",\"size\":10,\"solidity\":0.2}},\"type\":\"barpolar\"}],\"carpet\":[{\"aaxis\":{\"endlinecolor\":\"#2a3f5f\",\"gridcolor\":\"white\",\"linecolor\":\"white\",\"minorgridcolor\":\"white\",\"startlinecolor\":\"#2a3f5f\"},\"baxis\":{\"endlinecolor\":\"#2a3f5f\",\"gridcolor\":\"white\",\"linecolor\":\"white\",\"minorgridcolor\":\"white\",\"startlinecolor\":\"#2a3f5f\"},\"type\":\"carpet\"}],\"choropleth\":[{\"colorbar\":{\"outlinewidth\":0,\"ticks\":\"\"},\"type\":\"choropleth\"}],\"contour\":[{\"colorbar\":{\"outlinewidth\":0,\"ticks\":\"\"},\"colorscale\":[[0.0,\"#0d0887\"],[0.1111111111111111,\"#46039f\"],[0.2222222222222222,\"#7201a8\"],[0.3333333333333333,\"#9c179e\"],[0.4444444444444444,\"#bd3786\"],[0.5555555555555556,\"#d8576b\"],[0.6666666666666666,\"#ed7953\"],[0.7777777777777778,\"#fb9f3a\"],[0.8888888888888888,\"#fdca26\"],[1.0,\"#f0f921\"]],\"type\":\"contour\"}],\"contourcarpet\":[{\"colorbar\":{\"outlinewidth\":0,\"ticks\":\"\"},\"type\":\"contourcarpet\"}],\"heatmap\":[{\"colorbar\":{\"outlinewidth\":0,\"ticks\":\"\"},\"colorscale\":[[0.0,\"#0d0887\"],[0.1111111111111111,\"#46039f\"],[0.2222222222222222,\"#7201a8\"],[0.3333333333333333,\"#9c179e\"],[0.4444444444444444,\"#bd3786\"],[0.5555555555555556,\"#d8576b\"],[0.6666666666666666,\"#ed7953\"],[0.7777777777777778,\"#fb9f3a\"],[0.8888888888888888,\"#fdca26\"],[1.0,\"#f0f921\"]],\"type\":\"heatmap\"}],\"heatmapgl\":[{\"colorbar\":{\"outlinewidth\":0,\"ticks\":\"\"},\"colorscale\":[[0.0,\"#0d0887\"],[0.1111111111111111,\"#46039f\"],[0.2222222222222222,\"#7201a8\"],[0.3333333333333333,\"#9c179e\"],[0.4444444444444444,\"#bd3786\"],[0.5555555555555556,\"#d8576b\"],[0.6666666666666666,\"#ed7953\"],[0.7777777777777778,\"#fb9f3a\"],[0.8888888888888888,\"#fdca26\"],[1.0,\"#f0f921\"]],\"type\":\"heatmapgl\"}],\"histogram\":[{\"marker\":{\"pattern\":{\"fillmode\":\"overlay\",\"size\":10,\"solidity\":0.2}},\"type\":\"histogram\"}],\"histogram2d\":[{\"colorbar\":{\"outlinewidth\":0,\"ticks\":\"\"},\"colorscale\":[[0.0,\"#0d0887\"],[0.1111111111111111,\"#46039f\"],[0.2222222222222222,\"#7201a8\"],[0.3333333333333333,\"#9c179e\"],[0.4444444444444444,\"#bd3786\"],[0.5555555555555556,\"#d8576b\"],[0.6666666666666666,\"#ed7953\"],[0.7777777777777778,\"#fb9f3a\"],[0.8888888888888888,\"#fdca26\"],[1.0,\"#f0f921\"]],\"type\":\"histogram2d\"}],\"histogram2dcontour\":[{\"colorbar\":{\"outlinewidth\":0,\"ticks\":\"\"},\"colorscale\":[[0.0,\"#0d0887\"],[0.1111111111111111,\"#46039f\"],[0.2222222222222222,\"#7201a8\"],[0.3333333333333333,\"#9c179e\"],[0.4444444444444444,\"#bd3786\"],[0.5555555555555556,\"#d8576b\"],[0.6666666666666666,\"#ed7953\"],[0.7777777777777778,\"#fb9f3a\"],[0.8888888888888888,\"#fdca26\"],[1.0,\"#f0f921\"]],\"type\":\"histogram2dcontour\"}],\"mesh3d\":[{\"colorbar\":{\"outlinewidth\":0,\"ticks\":\"\"},\"type\":\"mesh3d\"}],\"parcoords\":[{\"line\":{\"colorbar\":{\"outlinewidth\":0,\"ticks\":\"\"}},\"type\":\"parcoords\"}],\"pie\":[{\"automargin\":true,\"type\":\"pie\"}],\"scatter\":[{\"marker\":{\"colorbar\":{\"outlinewidth\":0,\"ticks\":\"\"}},\"type\":\"scatter\"}],\"scatter3d\":[{\"line\":{\"colorbar\":{\"outlinewidth\":0,\"ticks\":\"\"}},\"marker\":{\"colorbar\":{\"outlinewidth\":0,\"ticks\":\"\"}},\"type\":\"scatter3d\"}],\"scattercarpet\":[{\"marker\":{\"colorbar\":{\"outlinewidth\":0,\"ticks\":\"\"}},\"type\":\"scattercarpet\"}],\"scattergeo\":[{\"marker\":{\"colorbar\":{\"outlinewidth\":0,\"ticks\":\"\"}},\"type\":\"scattergeo\"}],\"scattergl\":[{\"marker\":{\"colorbar\":{\"outlinewidth\":0,\"ticks\":\"\"}},\"type\":\"scattergl\"}],\"scattermapbox\":[{\"marker\":{\"colorbar\":{\"outlinewidth\":0,\"ticks\":\"\"}},\"type\":\"scattermapbox\"}],\"scatterpolar\":[{\"marker\":{\"colorbar\":{\"outlinewidth\":0,\"ticks\":\"\"}},\"type\":\"scatterpolar\"}],\"scatterpolargl\":[{\"marker\":{\"colorbar\":{\"outlinewidth\":0,\"ticks\":\"\"}},\"type\":\"scatterpolargl\"}],\"scatterternary\":[{\"marker\":{\"colorbar\":{\"outlinewidth\":0,\"ticks\":\"\"}},\"type\":\"scatterternary\"}],\"surface\":[{\"colorbar\":{\"outlinewidth\":0,\"ticks\":\"\"},\"colorscale\":[[0.0,\"#0d0887\"],[0.1111111111111111,\"#46039f\"],[0.2222222222222222,\"#7201a8\"],[0.3333333333333333,\"#9c179e\"],[0.4444444444444444,\"#bd3786\"],[0.5555555555555556,\"#d8576b\"],[0.6666666666666666,\"#ed7953\"],[0.7777777777777778,\"#fb9f3a\"],[0.8888888888888888,\"#fdca26\"],[1.0,\"#f0f921\"]],\"type\":\"surface\"}],\"table\":[{\"cells\":{\"fill\":{\"color\":\"#EBF0F8\"},\"line\":{\"color\":\"white\"}},\"header\":{\"fill\":{\"color\":\"#C8D4E3\"},\"line\":{\"color\":\"white\"}},\"type\":\"table\"}]},\"layout\":{\"annotationdefaults\":{\"arrowcolor\":\"#2a3f5f\",\"arrowhead\":0,\"arrowwidth\":1},\"autotypenumbers\":\"strict\",\"coloraxis\":{\"colorbar\":{\"outlinewidth\":0,\"ticks\":\"\"}},\"colorscale\":{\"diverging\":[[0,\"#8e0152\"],[0.1,\"#c51b7d\"],[0.2,\"#de77ae\"],[0.3,\"#f1b6da\"],[0.4,\"#fde0ef\"],[0.5,\"#f7f7f7\"],[0.6,\"#e6f5d0\"],[0.7,\"#b8e186\"],[0.8,\"#7fbc41\"],[0.9,\"#4d9221\"],[1,\"#276419\"]],\"sequential\":[[0.0,\"#0d0887\"],[0.1111111111111111,\"#46039f\"],[0.2222222222222222,\"#7201a8\"],[0.3333333333333333,\"#9c179e\"],[0.4444444444444444,\"#bd3786\"],[0.5555555555555556,\"#d8576b\"],[0.6666666666666666,\"#ed7953\"],[0.7777777777777778,\"#fb9f3a\"],[0.8888888888888888,\"#fdca26\"],[1.0,\"#f0f921\"]],\"sequentialminus\":[[0.0,\"#0d0887\"],[0.1111111111111111,\"#46039f\"],[0.2222222222222222,\"#7201a8\"],[0.3333333333333333,\"#9c179e\"],[0.4444444444444444,\"#bd3786\"],[0.5555555555555556,\"#d8576b\"],[0.6666666666666666,\"#ed7953\"],[0.7777777777777778,\"#fb9f3a\"],[0.8888888888888888,\"#fdca26\"],[1.0,\"#f0f921\"]]},\"colorway\":[\"#636efa\",\"#EF553B\",\"#00cc96\",\"#ab63fa\",\"#FFA15A\",\"#19d3f3\",\"#FF6692\",\"#B6E880\",\"#FF97FF\",\"#FECB52\"],\"font\":{\"color\":\"#2a3f5f\"},\"geo\":{\"bgcolor\":\"white\",\"lakecolor\":\"white\",\"landcolor\":\"#E5ECF6\",\"showlakes\":true,\"showland\":true,\"subunitcolor\":\"white\"},\"hoverlabel\":{\"align\":\"left\"},\"hovermode\":\"closest\",\"mapbox\":{\"style\":\"light\"},\"paper_bgcolor\":\"white\",\"plot_bgcolor\":\"#E5ECF6\",\"polar\":{\"angularaxis\":{\"gridcolor\":\"white\",\"linecolor\":\"white\",\"ticks\":\"\"},\"bgcolor\":\"#E5ECF6\",\"radialaxis\":{\"gridcolor\":\"white\",\"linecolor\":\"white\",\"ticks\":\"\"}},\"scene\":{\"xaxis\":{\"backgroundcolor\":\"#E5ECF6\",\"gridcolor\":\"white\",\"gridwidth\":2,\"linecolor\":\"white\",\"showbackground\":true,\"ticks\":\"\",\"zerolinecolor\":\"white\"},\"yaxis\":{\"backgroundcolor\":\"#E5ECF6\",\"gridcolor\":\"white\",\"gridwidth\":2,\"linecolor\":\"white\",\"showbackground\":true,\"ticks\":\"\",\"zerolinecolor\":\"white\"},\"zaxis\":{\"backgroundcolor\":\"#E5ECF6\",\"gridcolor\":\"white\",\"gridwidth\":2,\"linecolor\":\"white\",\"showbackground\":true,\"ticks\":\"\",\"zerolinecolor\":\"white\"}},\"shapedefaults\":{\"line\":{\"color\":\"#2a3f5f\"}},\"ternary\":{\"aaxis\":{\"gridcolor\":\"white\",\"linecolor\":\"white\",\"ticks\":\"\"},\"baxis\":{\"gridcolor\":\"white\",\"linecolor\":\"white\",\"ticks\":\"\"},\"bgcolor\":\"#E5ECF6\",\"caxis\":{\"gridcolor\":\"white\",\"linecolor\":\"white\",\"ticks\":\"\"}},\"title\":{\"x\":0.05},\"xaxis\":{\"automargin\":true,\"gridcolor\":\"white\",\"linecolor\":\"white\",\"ticks\":\"\",\"title\":{\"standoff\":15},\"zerolinecolor\":\"white\",\"zerolinewidth\":2},\"yaxis\":{\"automargin\":true,\"gridcolor\":\"white\",\"linecolor\":\"white\",\"ticks\":\"\",\"title\":{\"standoff\":15},\"zerolinecolor\":\"white\",\"zerolinewidth\":2}}},\"xaxis\":{\"anchor\":\"y\",\"domain\":[0.0,1.0],\"title\":{\"text\":\"Quarterly Revenue Growth (yoy) %\"}},\"yaxis\":{\"anchor\":\"x\",\"domain\":[0.0,1.0],\"title\":{\"text\":\"Price/Book (mrq)\"}},\"legend\":{\"tracegroupgap\":0,\"itemsizing\":\"constant\"},\"title\":{\"text\":\"Quarterly Revenue Growth (yoy) % vs. Price/Book (mrq) vs. Trailing P/E\"},\"height\":700,\"width\":1250},                        {\"responsive\": true}                    ).then(function(){\n",
       "                            \n",
       "var gd = document.getElementById('a6369080-6497-4062-a46e-5fd9fb04a97f');\n",
       "var x = new MutationObserver(function (mutations, observer) {{\n",
       "        var display = window.getComputedStyle(gd).display;\n",
       "        if (!display || display === 'none') {{\n",
       "            console.log([gd, 'removed!']);\n",
       "            Plotly.purge(gd);\n",
       "            observer.disconnect();\n",
       "        }}\n",
       "}});\n",
       "\n",
       "// Listen for the removal of the full notebook cells\n",
       "var notebookContainer = gd.closest('#notebook-container');\n",
       "if (notebookContainer) {{\n",
       "    x.observe(notebookContainer, {childList: true});\n",
       "}}\n",
       "\n",
       "// Listen for the clearing of the current output cell\n",
       "var outputEl = gd.closest('.output');\n",
       "if (outputEl) {{\n",
       "    x.observe(outputEl, {childList: true});\n",
       "}}\n",
       "\n",
       "                        })                };                });            </script>        </div>"
      ]
     },
     "metadata": {},
     "output_type": "display_data"
    }
   ],
   "source": [
    "plot_value_stocks(graph_type = \"valuePB\")"
   ]
  },
  {
   "cell_type": "code",
   "execution_count": 254,
   "id": "03bb5348",
   "metadata": {},
   "outputs": [
    {
     "data": {
      "application/vnd.plotly.v1+json": {
       "config": {
        "plotlyServerURL": "https://plot.ly"
       },
       "data": [
        {
         "hovertemplate": "<b>%{hovertext}</b><br><br>Quarterly Revenue Growth (yoy) %=%{x}<br>Enterprise Value/EBITDA=%{y}<br>Trailing P/E=%{marker.size}<extra></extra>",
         "hovertext": [
          "ABI.BR",
          "AD.AS",
          "ADS.DE",
          "ADYEN.AS",
          "AI.PA",
          "AIR.PA",
          "ALV.DE",
          "ASML.AS",
          "BAS.DE",
          "BAYN.DE",
          "BBVA.MC",
          "BMW.DE",
          "BN.PA",
          "BNP.PA",
          "CRG.IR",
          "DAI.DE",
          "DB1.DE",
          "DG.PA",
          "DPW.DE",
          "DTE.DE",
          "EL.PA",
          "ENEL.MI",
          "ENI.MI",
          "IBE.MC",
          "IFX.DE",
          "INGA.AS",
          "ISP.MI",
          "ITX.MC",
          "KER.PA",
          "KNEBV.HE",
          "LIN.DE",
          "MC.PA",
          "MUV2.DE",
          "OR.PA",
          "PHIA.AS",
          "PRX.AS",
          "RI.PA",
          "SAF.PA",
          "SAN.MC",
          "SAN.PA",
          "SAP.DE",
          "SIE.DE",
          "STLA.MI",
          "SU.PA",
          "TTE.PA",
          "UMG.AS",
          "VNA.DE",
          "VOW.DE"
         ],
         "legendgroup": "",
         "marker": {
          "color": "#636efa",
          "size": [
           42.45,
           18.61,
           32.69,
           134.8,
           27.61,
           20.95,
           10.84,
           40.01,
           11.54,
           230.26,
           10.35,
           5.24,
           17.95,
           9.54,
           27.12,
           6.49,
           24.46,
           24.89,
           13.86,
           15.18,
           56.18,
           32.28,
           33.22,
           19.53,
           39.55,
           11.49,
           86.56,
           27.38,
           24.68,
           28.61,
           45.85,
           37.92,
           16.9,
           51.03,
           43.04,
           6.3,
           38.48,
           34.32,
           7.57,
           19.84,
           23.92,
           21.79,
           4.87,
           28.68,
           13.83,
           36.98,
           5.84,
           7.17
          ],
          "sizemode": "area",
          "sizeref": 0.57565,
          "symbol": "circle"
         },
         "mode": "markers",
         "name": "",
         "orientation": "v",
         "showlegend": false,
         "type": "scatter",
         "x": [
          11.4,
          4,
          3.4,
          63.7,
          5.6,
          -6.2,
          3.8,
          17.2,
          42.4,
          15,
          4.7,
          4.5,
          -2.9,
          11.9,
          15,
          0.1,
          31.8,
          7,
          23.5,
          1.9,
          40.7,
          74.4,
          83,
          18.9,
          20.1,
          6.5,
          12.4,
          22.1,
          49.6,
          5.6,
          11.9,
          35.4,
          9.9,
          16.2,
          -17.6,
          41,
          29.1,
          -23.7,
          28.6,
          7,
          5.9,
          17.7,
          270.2,
          19,
          80.3,
          19.6,
          7,
          -4.1
         ],
         "xaxis": "x",
         "y": [
          12.45,
          5.18,
          14.17,
          94.14,
          14.32,
          10.68,
          null,
          32.78,
          6.87,
          11.26,
          null,
          5.86,
          12.87,
          null,
          9.4,
          7.27,
          -28.94,
          10.94,
          6.88,
          5.03,
          18.71,
          6.2,
          3.95,
          9.52,
          16.16,
          null,
          null,
          11.75,
          14.07,
          16.85,
          15.68,
          19.34,
          null,
          25.44,
          14.74,
          10.62,
          21.79,
          13.44,
          null,
          11.34,
          28.91,
          13.06,
          2.69,
          17.49,
          4.82,
          28.68,
          4.13,
          4.33
         ],
         "yaxis": "y"
        }
       ],
       "layout": {
        "height": 700,
        "legend": {
         "itemsizing": "constant",
         "tracegroupgap": 0
        },
        "template": {
         "data": {
          "bar": [
           {
            "error_x": {
             "color": "#2a3f5f"
            },
            "error_y": {
             "color": "#2a3f5f"
            },
            "marker": {
             "line": {
              "color": "#E5ECF6",
              "width": 0.5
             },
             "pattern": {
              "fillmode": "overlay",
              "size": 10,
              "solidity": 0.2
             }
            },
            "type": "bar"
           }
          ],
          "barpolar": [
           {
            "marker": {
             "line": {
              "color": "#E5ECF6",
              "width": 0.5
             },
             "pattern": {
              "fillmode": "overlay",
              "size": 10,
              "solidity": 0.2
             }
            },
            "type": "barpolar"
           }
          ],
          "carpet": [
           {
            "aaxis": {
             "endlinecolor": "#2a3f5f",
             "gridcolor": "white",
             "linecolor": "white",
             "minorgridcolor": "white",
             "startlinecolor": "#2a3f5f"
            },
            "baxis": {
             "endlinecolor": "#2a3f5f",
             "gridcolor": "white",
             "linecolor": "white",
             "minorgridcolor": "white",
             "startlinecolor": "#2a3f5f"
            },
            "type": "carpet"
           }
          ],
          "choropleth": [
           {
            "colorbar": {
             "outlinewidth": 0,
             "ticks": ""
            },
            "type": "choropleth"
           }
          ],
          "contour": [
           {
            "colorbar": {
             "outlinewidth": 0,
             "ticks": ""
            },
            "colorscale": [
             [
              0,
              "#0d0887"
             ],
             [
              0.1111111111111111,
              "#46039f"
             ],
             [
              0.2222222222222222,
              "#7201a8"
             ],
             [
              0.3333333333333333,
              "#9c179e"
             ],
             [
              0.4444444444444444,
              "#bd3786"
             ],
             [
              0.5555555555555556,
              "#d8576b"
             ],
             [
              0.6666666666666666,
              "#ed7953"
             ],
             [
              0.7777777777777778,
              "#fb9f3a"
             ],
             [
              0.8888888888888888,
              "#fdca26"
             ],
             [
              1,
              "#f0f921"
             ]
            ],
            "type": "contour"
           }
          ],
          "contourcarpet": [
           {
            "colorbar": {
             "outlinewidth": 0,
             "ticks": ""
            },
            "type": "contourcarpet"
           }
          ],
          "heatmap": [
           {
            "colorbar": {
             "outlinewidth": 0,
             "ticks": ""
            },
            "colorscale": [
             [
              0,
              "#0d0887"
             ],
             [
              0.1111111111111111,
              "#46039f"
             ],
             [
              0.2222222222222222,
              "#7201a8"
             ],
             [
              0.3333333333333333,
              "#9c179e"
             ],
             [
              0.4444444444444444,
              "#bd3786"
             ],
             [
              0.5555555555555556,
              "#d8576b"
             ],
             [
              0.6666666666666666,
              "#ed7953"
             ],
             [
              0.7777777777777778,
              "#fb9f3a"
             ],
             [
              0.8888888888888888,
              "#fdca26"
             ],
             [
              1,
              "#f0f921"
             ]
            ],
            "type": "heatmap"
           }
          ],
          "heatmapgl": [
           {
            "colorbar": {
             "outlinewidth": 0,
             "ticks": ""
            },
            "colorscale": [
             [
              0,
              "#0d0887"
             ],
             [
              0.1111111111111111,
              "#46039f"
             ],
             [
              0.2222222222222222,
              "#7201a8"
             ],
             [
              0.3333333333333333,
              "#9c179e"
             ],
             [
              0.4444444444444444,
              "#bd3786"
             ],
             [
              0.5555555555555556,
              "#d8576b"
             ],
             [
              0.6666666666666666,
              "#ed7953"
             ],
             [
              0.7777777777777778,
              "#fb9f3a"
             ],
             [
              0.8888888888888888,
              "#fdca26"
             ],
             [
              1,
              "#f0f921"
             ]
            ],
            "type": "heatmapgl"
           }
          ],
          "histogram": [
           {
            "marker": {
             "pattern": {
              "fillmode": "overlay",
              "size": 10,
              "solidity": 0.2
             }
            },
            "type": "histogram"
           }
          ],
          "histogram2d": [
           {
            "colorbar": {
             "outlinewidth": 0,
             "ticks": ""
            },
            "colorscale": [
             [
              0,
              "#0d0887"
             ],
             [
              0.1111111111111111,
              "#46039f"
             ],
             [
              0.2222222222222222,
              "#7201a8"
             ],
             [
              0.3333333333333333,
              "#9c179e"
             ],
             [
              0.4444444444444444,
              "#bd3786"
             ],
             [
              0.5555555555555556,
              "#d8576b"
             ],
             [
              0.6666666666666666,
              "#ed7953"
             ],
             [
              0.7777777777777778,
              "#fb9f3a"
             ],
             [
              0.8888888888888888,
              "#fdca26"
             ],
             [
              1,
              "#f0f921"
             ]
            ],
            "type": "histogram2d"
           }
          ],
          "histogram2dcontour": [
           {
            "colorbar": {
             "outlinewidth": 0,
             "ticks": ""
            },
            "colorscale": [
             [
              0,
              "#0d0887"
             ],
             [
              0.1111111111111111,
              "#46039f"
             ],
             [
              0.2222222222222222,
              "#7201a8"
             ],
             [
              0.3333333333333333,
              "#9c179e"
             ],
             [
              0.4444444444444444,
              "#bd3786"
             ],
             [
              0.5555555555555556,
              "#d8576b"
             ],
             [
              0.6666666666666666,
              "#ed7953"
             ],
             [
              0.7777777777777778,
              "#fb9f3a"
             ],
             [
              0.8888888888888888,
              "#fdca26"
             ],
             [
              1,
              "#f0f921"
             ]
            ],
            "type": "histogram2dcontour"
           }
          ],
          "mesh3d": [
           {
            "colorbar": {
             "outlinewidth": 0,
             "ticks": ""
            },
            "type": "mesh3d"
           }
          ],
          "parcoords": [
           {
            "line": {
             "colorbar": {
              "outlinewidth": 0,
              "ticks": ""
             }
            },
            "type": "parcoords"
           }
          ],
          "pie": [
           {
            "automargin": true,
            "type": "pie"
           }
          ],
          "scatter": [
           {
            "marker": {
             "colorbar": {
              "outlinewidth": 0,
              "ticks": ""
             }
            },
            "type": "scatter"
           }
          ],
          "scatter3d": [
           {
            "line": {
             "colorbar": {
              "outlinewidth": 0,
              "ticks": ""
             }
            },
            "marker": {
             "colorbar": {
              "outlinewidth": 0,
              "ticks": ""
             }
            },
            "type": "scatter3d"
           }
          ],
          "scattercarpet": [
           {
            "marker": {
             "colorbar": {
              "outlinewidth": 0,
              "ticks": ""
             }
            },
            "type": "scattercarpet"
           }
          ],
          "scattergeo": [
           {
            "marker": {
             "colorbar": {
              "outlinewidth": 0,
              "ticks": ""
             }
            },
            "type": "scattergeo"
           }
          ],
          "scattergl": [
           {
            "marker": {
             "colorbar": {
              "outlinewidth": 0,
              "ticks": ""
             }
            },
            "type": "scattergl"
           }
          ],
          "scattermapbox": [
           {
            "marker": {
             "colorbar": {
              "outlinewidth": 0,
              "ticks": ""
             }
            },
            "type": "scattermapbox"
           }
          ],
          "scatterpolar": [
           {
            "marker": {
             "colorbar": {
              "outlinewidth": 0,
              "ticks": ""
             }
            },
            "type": "scatterpolar"
           }
          ],
          "scatterpolargl": [
           {
            "marker": {
             "colorbar": {
              "outlinewidth": 0,
              "ticks": ""
             }
            },
            "type": "scatterpolargl"
           }
          ],
          "scatterternary": [
           {
            "marker": {
             "colorbar": {
              "outlinewidth": 0,
              "ticks": ""
             }
            },
            "type": "scatterternary"
           }
          ],
          "surface": [
           {
            "colorbar": {
             "outlinewidth": 0,
             "ticks": ""
            },
            "colorscale": [
             [
              0,
              "#0d0887"
             ],
             [
              0.1111111111111111,
              "#46039f"
             ],
             [
              0.2222222222222222,
              "#7201a8"
             ],
             [
              0.3333333333333333,
              "#9c179e"
             ],
             [
              0.4444444444444444,
              "#bd3786"
             ],
             [
              0.5555555555555556,
              "#d8576b"
             ],
             [
              0.6666666666666666,
              "#ed7953"
             ],
             [
              0.7777777777777778,
              "#fb9f3a"
             ],
             [
              0.8888888888888888,
              "#fdca26"
             ],
             [
              1,
              "#f0f921"
             ]
            ],
            "type": "surface"
           }
          ],
          "table": [
           {
            "cells": {
             "fill": {
              "color": "#EBF0F8"
             },
             "line": {
              "color": "white"
             }
            },
            "header": {
             "fill": {
              "color": "#C8D4E3"
             },
             "line": {
              "color": "white"
             }
            },
            "type": "table"
           }
          ]
         },
         "layout": {
          "annotationdefaults": {
           "arrowcolor": "#2a3f5f",
           "arrowhead": 0,
           "arrowwidth": 1
          },
          "autotypenumbers": "strict",
          "coloraxis": {
           "colorbar": {
            "outlinewidth": 0,
            "ticks": ""
           }
          },
          "colorscale": {
           "diverging": [
            [
             0,
             "#8e0152"
            ],
            [
             0.1,
             "#c51b7d"
            ],
            [
             0.2,
             "#de77ae"
            ],
            [
             0.3,
             "#f1b6da"
            ],
            [
             0.4,
             "#fde0ef"
            ],
            [
             0.5,
             "#f7f7f7"
            ],
            [
             0.6,
             "#e6f5d0"
            ],
            [
             0.7,
             "#b8e186"
            ],
            [
             0.8,
             "#7fbc41"
            ],
            [
             0.9,
             "#4d9221"
            ],
            [
             1,
             "#276419"
            ]
           ],
           "sequential": [
            [
             0,
             "#0d0887"
            ],
            [
             0.1111111111111111,
             "#46039f"
            ],
            [
             0.2222222222222222,
             "#7201a8"
            ],
            [
             0.3333333333333333,
             "#9c179e"
            ],
            [
             0.4444444444444444,
             "#bd3786"
            ],
            [
             0.5555555555555556,
             "#d8576b"
            ],
            [
             0.6666666666666666,
             "#ed7953"
            ],
            [
             0.7777777777777778,
             "#fb9f3a"
            ],
            [
             0.8888888888888888,
             "#fdca26"
            ],
            [
             1,
             "#f0f921"
            ]
           ],
           "sequentialminus": [
            [
             0,
             "#0d0887"
            ],
            [
             0.1111111111111111,
             "#46039f"
            ],
            [
             0.2222222222222222,
             "#7201a8"
            ],
            [
             0.3333333333333333,
             "#9c179e"
            ],
            [
             0.4444444444444444,
             "#bd3786"
            ],
            [
             0.5555555555555556,
             "#d8576b"
            ],
            [
             0.6666666666666666,
             "#ed7953"
            ],
            [
             0.7777777777777778,
             "#fb9f3a"
            ],
            [
             0.8888888888888888,
             "#fdca26"
            ],
            [
             1,
             "#f0f921"
            ]
           ]
          },
          "colorway": [
           "#636efa",
           "#EF553B",
           "#00cc96",
           "#ab63fa",
           "#FFA15A",
           "#19d3f3",
           "#FF6692",
           "#B6E880",
           "#FF97FF",
           "#FECB52"
          ],
          "font": {
           "color": "#2a3f5f"
          },
          "geo": {
           "bgcolor": "white",
           "lakecolor": "white",
           "landcolor": "#E5ECF6",
           "showlakes": true,
           "showland": true,
           "subunitcolor": "white"
          },
          "hoverlabel": {
           "align": "left"
          },
          "hovermode": "closest",
          "mapbox": {
           "style": "light"
          },
          "paper_bgcolor": "white",
          "plot_bgcolor": "#E5ECF6",
          "polar": {
           "angularaxis": {
            "gridcolor": "white",
            "linecolor": "white",
            "ticks": ""
           },
           "bgcolor": "#E5ECF6",
           "radialaxis": {
            "gridcolor": "white",
            "linecolor": "white",
            "ticks": ""
           }
          },
          "scene": {
           "xaxis": {
            "backgroundcolor": "#E5ECF6",
            "gridcolor": "white",
            "gridwidth": 2,
            "linecolor": "white",
            "showbackground": true,
            "ticks": "",
            "zerolinecolor": "white"
           },
           "yaxis": {
            "backgroundcolor": "#E5ECF6",
            "gridcolor": "white",
            "gridwidth": 2,
            "linecolor": "white",
            "showbackground": true,
            "ticks": "",
            "zerolinecolor": "white"
           },
           "zaxis": {
            "backgroundcolor": "#E5ECF6",
            "gridcolor": "white",
            "gridwidth": 2,
            "linecolor": "white",
            "showbackground": true,
            "ticks": "",
            "zerolinecolor": "white"
           }
          },
          "shapedefaults": {
           "line": {
            "color": "#2a3f5f"
           }
          },
          "ternary": {
           "aaxis": {
            "gridcolor": "white",
            "linecolor": "white",
            "ticks": ""
           },
           "baxis": {
            "gridcolor": "white",
            "linecolor": "white",
            "ticks": ""
           },
           "bgcolor": "#E5ECF6",
           "caxis": {
            "gridcolor": "white",
            "linecolor": "white",
            "ticks": ""
           }
          },
          "title": {
           "x": 0.05
          },
          "xaxis": {
           "automargin": true,
           "gridcolor": "white",
           "linecolor": "white",
           "ticks": "",
           "title": {
            "standoff": 15
           },
           "zerolinecolor": "white",
           "zerolinewidth": 2
          },
          "yaxis": {
           "automargin": true,
           "gridcolor": "white",
           "linecolor": "white",
           "ticks": "",
           "title": {
            "standoff": 15
           },
           "zerolinecolor": "white",
           "zerolinewidth": 2
          }
         }
        },
        "title": {
         "text": "Quarterly Revenue Growth (yoy) % vs. Enterprise Value/EBITDA vs. Trailing P/E"
        },
        "width": 1250,
        "xaxis": {
         "anchor": "y",
         "domain": [
          0,
          1
         ],
         "title": {
          "text": "Quarterly Revenue Growth (yoy) %"
         }
        },
        "yaxis": {
         "anchor": "x",
         "domain": [
          0,
          1
         ],
         "title": {
          "text": "Enterprise Value/EBITDA"
         }
        }
       }
      },
      "text/html": [
       "<div>                            <div id=\"31edee2e-0826-4b8d-9b5e-8d6769b23adb\" class=\"plotly-graph-div\" style=\"height:700px; width:1250px;\"></div>            <script type=\"text/javascript\">                require([\"plotly\"], function(Plotly) {                    window.PLOTLYENV=window.PLOTLYENV || {};                                    if (document.getElementById(\"31edee2e-0826-4b8d-9b5e-8d6769b23adb\")) {                    Plotly.newPlot(                        \"31edee2e-0826-4b8d-9b5e-8d6769b23adb\",                        [{\"hovertemplate\":\"<b>%{hovertext}</b><br><br>Quarterly Revenue Growth (yoy) %=%{x}<br>Enterprise Value/EBITDA=%{y}<br>Trailing P/E=%{marker.size}<extra></extra>\",\"hovertext\":[\"ABI.BR\",\"AD.AS\",\"ADS.DE\",\"ADYEN.AS\",\"AI.PA\",\"AIR.PA\",\"ALV.DE\",\"ASML.AS\",\"BAS.DE\",\"BAYN.DE\",\"BBVA.MC\",\"BMW.DE\",\"BN.PA\",\"BNP.PA\",\"CRG.IR\",\"DAI.DE\",\"DB1.DE\",\"DG.PA\",\"DPW.DE\",\"DTE.DE\",\"EL.PA\",\"ENEL.MI\",\"ENI.MI\",\"IBE.MC\",\"IFX.DE\",\"INGA.AS\",\"ISP.MI\",\"ITX.MC\",\"KER.PA\",\"KNEBV.HE\",\"LIN.DE\",\"MC.PA\",\"MUV2.DE\",\"OR.PA\",\"PHIA.AS\",\"PRX.AS\",\"RI.PA\",\"SAF.PA\",\"SAN.MC\",\"SAN.PA\",\"SAP.DE\",\"SIE.DE\",\"STLA.MI\",\"SU.PA\",\"TTE.PA\",\"UMG.AS\",\"VNA.DE\",\"VOW.DE\"],\"legendgroup\":\"\",\"marker\":{\"color\":\"#636efa\",\"size\":[42.45,18.61,32.69,134.8,27.61,20.95,10.84,40.01,11.54,230.26,10.35,5.24,17.95,9.54,27.12,6.49,24.46,24.89,13.86,15.18,56.18,32.28,33.22,19.53,39.55,11.49,86.56,27.38,24.68,28.61,45.85,37.92,16.9,51.03,43.04,6.3,38.48,34.32,7.57,19.84,23.92,21.79,4.87,28.68,13.83,36.98,5.84,7.17],\"sizemode\":\"area\",\"sizeref\":0.57565,\"symbol\":\"circle\"},\"mode\":\"markers\",\"name\":\"\",\"orientation\":\"v\",\"showlegend\":false,\"x\":[11.4,4.0,3.4,63.7,5.6,-6.2,3.8,17.2,42.4,15.0,4.7,4.5,-2.9,11.9,15.0,0.1,31.8,7.0,23.5,1.9,40.7,74.4,83.0,18.9,20.1,6.5,12.4,22.1,49.6,5.6,11.9,35.4,9.9,16.2,-17.6,41.0,29.1,-23.7,28.6,7.0,5.9,17.7,270.2,19.0,80.3,19.6,7.0,-4.1],\"xaxis\":\"x\",\"y\":[12.45,5.18,14.17,94.14,14.32,10.68,null,32.78,6.87,11.26,null,5.86,12.87,null,9.4,7.27,-28.94,10.94,6.88,5.03,18.71,6.2,3.95,9.52,16.16,null,null,11.75,14.07,16.85,15.68,19.34,null,25.44,14.74,10.62,21.79,13.44,null,11.34,28.91,13.06,2.69,17.49,4.82,28.68,4.13,4.33],\"yaxis\":\"y\",\"type\":\"scatter\"}],                        {\"template\":{\"data\":{\"bar\":[{\"error_x\":{\"color\":\"#2a3f5f\"},\"error_y\":{\"color\":\"#2a3f5f\"},\"marker\":{\"line\":{\"color\":\"#E5ECF6\",\"width\":0.5},\"pattern\":{\"fillmode\":\"overlay\",\"size\":10,\"solidity\":0.2}},\"type\":\"bar\"}],\"barpolar\":[{\"marker\":{\"line\":{\"color\":\"#E5ECF6\",\"width\":0.5},\"pattern\":{\"fillmode\":\"overlay\",\"size\":10,\"solidity\":0.2}},\"type\":\"barpolar\"}],\"carpet\":[{\"aaxis\":{\"endlinecolor\":\"#2a3f5f\",\"gridcolor\":\"white\",\"linecolor\":\"white\",\"minorgridcolor\":\"white\",\"startlinecolor\":\"#2a3f5f\"},\"baxis\":{\"endlinecolor\":\"#2a3f5f\",\"gridcolor\":\"white\",\"linecolor\":\"white\",\"minorgridcolor\":\"white\",\"startlinecolor\":\"#2a3f5f\"},\"type\":\"carpet\"}],\"choropleth\":[{\"colorbar\":{\"outlinewidth\":0,\"ticks\":\"\"},\"type\":\"choropleth\"}],\"contour\":[{\"colorbar\":{\"outlinewidth\":0,\"ticks\":\"\"},\"colorscale\":[[0.0,\"#0d0887\"],[0.1111111111111111,\"#46039f\"],[0.2222222222222222,\"#7201a8\"],[0.3333333333333333,\"#9c179e\"],[0.4444444444444444,\"#bd3786\"],[0.5555555555555556,\"#d8576b\"],[0.6666666666666666,\"#ed7953\"],[0.7777777777777778,\"#fb9f3a\"],[0.8888888888888888,\"#fdca26\"],[1.0,\"#f0f921\"]],\"type\":\"contour\"}],\"contourcarpet\":[{\"colorbar\":{\"outlinewidth\":0,\"ticks\":\"\"},\"type\":\"contourcarpet\"}],\"heatmap\":[{\"colorbar\":{\"outlinewidth\":0,\"ticks\":\"\"},\"colorscale\":[[0.0,\"#0d0887\"],[0.1111111111111111,\"#46039f\"],[0.2222222222222222,\"#7201a8\"],[0.3333333333333333,\"#9c179e\"],[0.4444444444444444,\"#bd3786\"],[0.5555555555555556,\"#d8576b\"],[0.6666666666666666,\"#ed7953\"],[0.7777777777777778,\"#fb9f3a\"],[0.8888888888888888,\"#fdca26\"],[1.0,\"#f0f921\"]],\"type\":\"heatmap\"}],\"heatmapgl\":[{\"colorbar\":{\"outlinewidth\":0,\"ticks\":\"\"},\"colorscale\":[[0.0,\"#0d0887\"],[0.1111111111111111,\"#46039f\"],[0.2222222222222222,\"#7201a8\"],[0.3333333333333333,\"#9c179e\"],[0.4444444444444444,\"#bd3786\"],[0.5555555555555556,\"#d8576b\"],[0.6666666666666666,\"#ed7953\"],[0.7777777777777778,\"#fb9f3a\"],[0.8888888888888888,\"#fdca26\"],[1.0,\"#f0f921\"]],\"type\":\"heatmapgl\"}],\"histogram\":[{\"marker\":{\"pattern\":{\"fillmode\":\"overlay\",\"size\":10,\"solidity\":0.2}},\"type\":\"histogram\"}],\"histogram2d\":[{\"colorbar\":{\"outlinewidth\":0,\"ticks\":\"\"},\"colorscale\":[[0.0,\"#0d0887\"],[0.1111111111111111,\"#46039f\"],[0.2222222222222222,\"#7201a8\"],[0.3333333333333333,\"#9c179e\"],[0.4444444444444444,\"#bd3786\"],[0.5555555555555556,\"#d8576b\"],[0.6666666666666666,\"#ed7953\"],[0.7777777777777778,\"#fb9f3a\"],[0.8888888888888888,\"#fdca26\"],[1.0,\"#f0f921\"]],\"type\":\"histogram2d\"}],\"histogram2dcontour\":[{\"colorbar\":{\"outlinewidth\":0,\"ticks\":\"\"},\"colorscale\":[[0.0,\"#0d0887\"],[0.1111111111111111,\"#46039f\"],[0.2222222222222222,\"#7201a8\"],[0.3333333333333333,\"#9c179e\"],[0.4444444444444444,\"#bd3786\"],[0.5555555555555556,\"#d8576b\"],[0.6666666666666666,\"#ed7953\"],[0.7777777777777778,\"#fb9f3a\"],[0.8888888888888888,\"#fdca26\"],[1.0,\"#f0f921\"]],\"type\":\"histogram2dcontour\"}],\"mesh3d\":[{\"colorbar\":{\"outlinewidth\":0,\"ticks\":\"\"},\"type\":\"mesh3d\"}],\"parcoords\":[{\"line\":{\"colorbar\":{\"outlinewidth\":0,\"ticks\":\"\"}},\"type\":\"parcoords\"}],\"pie\":[{\"automargin\":true,\"type\":\"pie\"}],\"scatter\":[{\"marker\":{\"colorbar\":{\"outlinewidth\":0,\"ticks\":\"\"}},\"type\":\"scatter\"}],\"scatter3d\":[{\"line\":{\"colorbar\":{\"outlinewidth\":0,\"ticks\":\"\"}},\"marker\":{\"colorbar\":{\"outlinewidth\":0,\"ticks\":\"\"}},\"type\":\"scatter3d\"}],\"scattercarpet\":[{\"marker\":{\"colorbar\":{\"outlinewidth\":0,\"ticks\":\"\"}},\"type\":\"scattercarpet\"}],\"scattergeo\":[{\"marker\":{\"colorbar\":{\"outlinewidth\":0,\"ticks\":\"\"}},\"type\":\"scattergeo\"}],\"scattergl\":[{\"marker\":{\"colorbar\":{\"outlinewidth\":0,\"ticks\":\"\"}},\"type\":\"scattergl\"}],\"scattermapbox\":[{\"marker\":{\"colorbar\":{\"outlinewidth\":0,\"ticks\":\"\"}},\"type\":\"scattermapbox\"}],\"scatterpolar\":[{\"marker\":{\"colorbar\":{\"outlinewidth\":0,\"ticks\":\"\"}},\"type\":\"scatterpolar\"}],\"scatterpolargl\":[{\"marker\":{\"colorbar\":{\"outlinewidth\":0,\"ticks\":\"\"}},\"type\":\"scatterpolargl\"}],\"scatterternary\":[{\"marker\":{\"colorbar\":{\"outlinewidth\":0,\"ticks\":\"\"}},\"type\":\"scatterternary\"}],\"surface\":[{\"colorbar\":{\"outlinewidth\":0,\"ticks\":\"\"},\"colorscale\":[[0.0,\"#0d0887\"],[0.1111111111111111,\"#46039f\"],[0.2222222222222222,\"#7201a8\"],[0.3333333333333333,\"#9c179e\"],[0.4444444444444444,\"#bd3786\"],[0.5555555555555556,\"#d8576b\"],[0.6666666666666666,\"#ed7953\"],[0.7777777777777778,\"#fb9f3a\"],[0.8888888888888888,\"#fdca26\"],[1.0,\"#f0f921\"]],\"type\":\"surface\"}],\"table\":[{\"cells\":{\"fill\":{\"color\":\"#EBF0F8\"},\"line\":{\"color\":\"white\"}},\"header\":{\"fill\":{\"color\":\"#C8D4E3\"},\"line\":{\"color\":\"white\"}},\"type\":\"table\"}]},\"layout\":{\"annotationdefaults\":{\"arrowcolor\":\"#2a3f5f\",\"arrowhead\":0,\"arrowwidth\":1},\"autotypenumbers\":\"strict\",\"coloraxis\":{\"colorbar\":{\"outlinewidth\":0,\"ticks\":\"\"}},\"colorscale\":{\"diverging\":[[0,\"#8e0152\"],[0.1,\"#c51b7d\"],[0.2,\"#de77ae\"],[0.3,\"#f1b6da\"],[0.4,\"#fde0ef\"],[0.5,\"#f7f7f7\"],[0.6,\"#e6f5d0\"],[0.7,\"#b8e186\"],[0.8,\"#7fbc41\"],[0.9,\"#4d9221\"],[1,\"#276419\"]],\"sequential\":[[0.0,\"#0d0887\"],[0.1111111111111111,\"#46039f\"],[0.2222222222222222,\"#7201a8\"],[0.3333333333333333,\"#9c179e\"],[0.4444444444444444,\"#bd3786\"],[0.5555555555555556,\"#d8576b\"],[0.6666666666666666,\"#ed7953\"],[0.7777777777777778,\"#fb9f3a\"],[0.8888888888888888,\"#fdca26\"],[1.0,\"#f0f921\"]],\"sequentialminus\":[[0.0,\"#0d0887\"],[0.1111111111111111,\"#46039f\"],[0.2222222222222222,\"#7201a8\"],[0.3333333333333333,\"#9c179e\"],[0.4444444444444444,\"#bd3786\"],[0.5555555555555556,\"#d8576b\"],[0.6666666666666666,\"#ed7953\"],[0.7777777777777778,\"#fb9f3a\"],[0.8888888888888888,\"#fdca26\"],[1.0,\"#f0f921\"]]},\"colorway\":[\"#636efa\",\"#EF553B\",\"#00cc96\",\"#ab63fa\",\"#FFA15A\",\"#19d3f3\",\"#FF6692\",\"#B6E880\",\"#FF97FF\",\"#FECB52\"],\"font\":{\"color\":\"#2a3f5f\"},\"geo\":{\"bgcolor\":\"white\",\"lakecolor\":\"white\",\"landcolor\":\"#E5ECF6\",\"showlakes\":true,\"showland\":true,\"subunitcolor\":\"white\"},\"hoverlabel\":{\"align\":\"left\"},\"hovermode\":\"closest\",\"mapbox\":{\"style\":\"light\"},\"paper_bgcolor\":\"white\",\"plot_bgcolor\":\"#E5ECF6\",\"polar\":{\"angularaxis\":{\"gridcolor\":\"white\",\"linecolor\":\"white\",\"ticks\":\"\"},\"bgcolor\":\"#E5ECF6\",\"radialaxis\":{\"gridcolor\":\"white\",\"linecolor\":\"white\",\"ticks\":\"\"}},\"scene\":{\"xaxis\":{\"backgroundcolor\":\"#E5ECF6\",\"gridcolor\":\"white\",\"gridwidth\":2,\"linecolor\":\"white\",\"showbackground\":true,\"ticks\":\"\",\"zerolinecolor\":\"white\"},\"yaxis\":{\"backgroundcolor\":\"#E5ECF6\",\"gridcolor\":\"white\",\"gridwidth\":2,\"linecolor\":\"white\",\"showbackground\":true,\"ticks\":\"\",\"zerolinecolor\":\"white\"},\"zaxis\":{\"backgroundcolor\":\"#E5ECF6\",\"gridcolor\":\"white\",\"gridwidth\":2,\"linecolor\":\"white\",\"showbackground\":true,\"ticks\":\"\",\"zerolinecolor\":\"white\"}},\"shapedefaults\":{\"line\":{\"color\":\"#2a3f5f\"}},\"ternary\":{\"aaxis\":{\"gridcolor\":\"white\",\"linecolor\":\"white\",\"ticks\":\"\"},\"baxis\":{\"gridcolor\":\"white\",\"linecolor\":\"white\",\"ticks\":\"\"},\"bgcolor\":\"#E5ECF6\",\"caxis\":{\"gridcolor\":\"white\",\"linecolor\":\"white\",\"ticks\":\"\"}},\"title\":{\"x\":0.05},\"xaxis\":{\"automargin\":true,\"gridcolor\":\"white\",\"linecolor\":\"white\",\"ticks\":\"\",\"title\":{\"standoff\":15},\"zerolinecolor\":\"white\",\"zerolinewidth\":2},\"yaxis\":{\"automargin\":true,\"gridcolor\":\"white\",\"linecolor\":\"white\",\"ticks\":\"\",\"title\":{\"standoff\":15},\"zerolinecolor\":\"white\",\"zerolinewidth\":2}}},\"xaxis\":{\"anchor\":\"y\",\"domain\":[0.0,1.0],\"title\":{\"text\":\"Quarterly Revenue Growth (yoy) %\"}},\"yaxis\":{\"anchor\":\"x\",\"domain\":[0.0,1.0],\"title\":{\"text\":\"Enterprise Value/EBITDA\"}},\"legend\":{\"tracegroupgap\":0,\"itemsizing\":\"constant\"},\"title\":{\"text\":\"Quarterly Revenue Growth (yoy) % vs. Enterprise Value/EBITDA vs. Trailing P/E\"},\"height\":700,\"width\":1250},                        {\"responsive\": true}                    ).then(function(){\n",
       "                            \n",
       "var gd = document.getElementById('31edee2e-0826-4b8d-9b5e-8d6769b23adb');\n",
       "var x = new MutationObserver(function (mutations, observer) {{\n",
       "        var display = window.getComputedStyle(gd).display;\n",
       "        if (!display || display === 'none') {{\n",
       "            console.log([gd, 'removed!']);\n",
       "            Plotly.purge(gd);\n",
       "            observer.disconnect();\n",
       "        }}\n",
       "}});\n",
       "\n",
       "// Listen for the removal of the full notebook cells\n",
       "var notebookContainer = gd.closest('#notebook-container');\n",
       "if (notebookContainer) {{\n",
       "    x.observe(notebookContainer, {childList: true});\n",
       "}}\n",
       "\n",
       "// Listen for the clearing of the current output cell\n",
       "var outputEl = gd.closest('.output');\n",
       "if (outputEl) {{\n",
       "    x.observe(outputEl, {childList: true});\n",
       "}}\n",
       "\n",
       "                        })                };                });            </script>        </div>"
      ]
     },
     "metadata": {},
     "output_type": "display_data"
    }
   ],
   "source": [
    "plot_value_stocks(graph_type = \"valueEBITDA\")"
   ]
  },
  {
   "cell_type": "code",
   "execution_count": 160,
   "id": "c739cdfe",
   "metadata": {},
   "outputs": [],
   "source": [
    "# %% [markdown]\n",
    "# Notes for Jiri: \n",
    "# \n",
    "# Automation: \n",
    "# https://schedule.readthedocs.io/en/stable/examples.html\n",
    "# \n",
    "# a\n",
    "# \n",
    "# https://stackoverflow.com/questions/60330585/using-module-schedule-run-schedule-immediately-then-again-every-hour\n",
    "# \n",
    "# def job_1():\n",
    "#     print('Foo')\n",
    "# \n",
    "# def job_2():\n",
    "#     print('Bar')\n",
    "# \n",
    "# schedule.every().monday.at(\"12:40\").do(job_1)\n",
    "# schedule.every().tuesday.at(\"16:40\").do(job_2)\n",
    "# \n",
    "# schedule.run_all()\n",
    "# \n",
    "# # Add the delay_seconds argument to run the jobs with a number\n",
    "# # of seconds delay in between.\n",
    "# schedule.run_all(delay_seconds=10)```\n",
    "# \n",
    "# \n",
    "# https://schedule.readthedocs.io/en/stable/examples.html\n",
    "# \n",
    "# \n",
    "# All cells should be converted to functions (except import)\n",
    "# \n",
    "# THEN: \n",
    "# \n",
    "# def job_1():           --> NAME OF THE FUNCTION\n",
    "#     print('Foo')\n",
    "# \n",
    "# def job_2():          --> name of second function, then thrid etc. \n",
    "#     print('Bar')\n",
    "# \n",
    "# \n",
    "# \n",
    "# schedule.every().hour.do(job_1)\n",
    "# \n",
    "# schedule.every().hour.do(job_2)\n",
    "# schedule.every().hour.do(job_3)\n",
    "# \n",
    "# # Add the delay_seconds argument to run the jobs with a number\n",
    "# # of seconds delay in between.\n",
    "# schedule.run_all(delay_seconds=300)```    --> we need the code to run sequentially, so allow 4 minutes before the code moves on to the next section. That way, the data should be scraped for df1 before moving on \n",
    "# "
   ]
  }
 ],
 "metadata": {
  "kernelspec": {
   "display_name": "Python 3",
   "language": "python",
   "name": "python3"
  },
  "language_info": {
   "codemirror_mode": {
    "name": "ipython",
    "version": 3
   },
   "file_extension": ".py",
   "mimetype": "text/x-python",
   "name": "python",
   "nbconvert_exporter": "python",
   "pygments_lexer": "ipython3",
   "version": "3.8.8"
  }
 },
 "nbformat": 4,
 "nbformat_minor": 5
}
