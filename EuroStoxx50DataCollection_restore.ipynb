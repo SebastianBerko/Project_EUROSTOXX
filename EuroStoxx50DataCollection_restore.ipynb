{
 "cells": [
  {
   "cell_type": "code",
   "execution_count": 130,
   "id": "278c81c1",
   "metadata": {},
   "outputs": [
    {
     "name": "stdout",
     "output_type": "stream",
     "text": [
      "Requirement already satisfied: yahoo_fin in /Library/Frameworks/Python.framework/Versions/3.10/lib/python3.10/site-packages (0.8.9.1)\n",
      "Requirement already satisfied: requests in /Library/Frameworks/Python.framework/Versions/3.10/lib/python3.10/site-packages (from yahoo_fin) (2.27.1)\n",
      "Requirement already satisfied: feedparser in /Library/Frameworks/Python.framework/Versions/3.10/lib/python3.10/site-packages (from yahoo_fin) (6.0.8)\n",
      "Requirement already satisfied: pandas in /Library/Frameworks/Python.framework/Versions/3.10/lib/python3.10/site-packages (from yahoo_fin) (1.4.0)\n",
      "Requirement already satisfied: requests-html in /Library/Frameworks/Python.framework/Versions/3.10/lib/python3.10/site-packages (from yahoo_fin) (0.10.0)\n",
      "Requirement already satisfied: sgmllib3k in /Library/Frameworks/Python.framework/Versions/3.10/lib/python3.10/site-packages (from feedparser->yahoo_fin) (1.0.0)\n",
      "Requirement already satisfied: numpy>=1.21.0 in /Library/Frameworks/Python.framework/Versions/3.10/lib/python3.10/site-packages (from pandas->yahoo_fin) (1.22.2)\n",
      "Requirement already satisfied: pytz>=2020.1 in /Library/Frameworks/Python.framework/Versions/3.10/lib/python3.10/site-packages (from pandas->yahoo_fin) (2021.3)\n",
      "Requirement already satisfied: python-dateutil>=2.8.1 in /Library/Frameworks/Python.framework/Versions/3.10/lib/python3.10/site-packages (from pandas->yahoo_fin) (2.8.2)\n",
      "Requirement already satisfied: urllib3<1.27,>=1.21.1 in /Library/Frameworks/Python.framework/Versions/3.10/lib/python3.10/site-packages (from requests->yahoo_fin) (1.26.8)\n",
      "Requirement already satisfied: idna<4,>=2.5 in /Library/Frameworks/Python.framework/Versions/3.10/lib/python3.10/site-packages (from requests->yahoo_fin) (3.3)\n",
      "Requirement already satisfied: charset-normalizer~=2.0.0 in /Library/Frameworks/Python.framework/Versions/3.10/lib/python3.10/site-packages (from requests->yahoo_fin) (2.0.11)\n",
      "Requirement already satisfied: certifi>=2017.4.17 in /Library/Frameworks/Python.framework/Versions/3.10/lib/python3.10/site-packages (from requests->yahoo_fin) (2021.10.8)\n",
      "Requirement already satisfied: bs4 in /Library/Frameworks/Python.framework/Versions/3.10/lib/python3.10/site-packages (from requests-html->yahoo_fin) (0.0.1)\n",
      "Requirement already satisfied: parse in /Library/Frameworks/Python.framework/Versions/3.10/lib/python3.10/site-packages (from requests-html->yahoo_fin) (1.19.0)\n",
      "Requirement already satisfied: fake-useragent in /Library/Frameworks/Python.framework/Versions/3.10/lib/python3.10/site-packages (from requests-html->yahoo_fin) (0.1.11)\n",
      "Requirement already satisfied: pyppeteer>=0.0.14 in /Library/Frameworks/Python.framework/Versions/3.10/lib/python3.10/site-packages (from requests-html->yahoo_fin) (1.0.2)\n",
      "Requirement already satisfied: pyquery in /Library/Frameworks/Python.framework/Versions/3.10/lib/python3.10/site-packages (from requests-html->yahoo_fin) (1.4.3)\n",
      "Requirement already satisfied: w3lib in /Library/Frameworks/Python.framework/Versions/3.10/lib/python3.10/site-packages (from requests-html->yahoo_fin) (1.22.0)\n",
      "Requirement already satisfied: appdirs<2.0.0,>=1.4.3 in /Library/Frameworks/Python.framework/Versions/3.10/lib/python3.10/site-packages (from pyppeteer>=0.0.14->requests-html->yahoo_fin) (1.4.4)\n",
      "Requirement already satisfied: pyee<9.0.0,>=8.1.0 in /Library/Frameworks/Python.framework/Versions/3.10/lib/python3.10/site-packages (from pyppeteer>=0.0.14->requests-html->yahoo_fin) (8.2.2)\n",
      "Requirement already satisfied: importlib-metadata>=1.4 in /Library/Frameworks/Python.framework/Versions/3.10/lib/python3.10/site-packages (from pyppeteer>=0.0.14->requests-html->yahoo_fin) (4.10.1)\n",
      "Requirement already satisfied: tqdm<5.0.0,>=4.42.1 in /Library/Frameworks/Python.framework/Versions/3.10/lib/python3.10/site-packages (from pyppeteer>=0.0.14->requests-html->yahoo_fin) (4.62.3)\n",
      "Requirement already satisfied: websockets<11.0,>=10.0 in /Library/Frameworks/Python.framework/Versions/3.10/lib/python3.10/site-packages (from pyppeteer>=0.0.14->requests-html->yahoo_fin) (10.1)\n",
      "Requirement already satisfied: six>=1.5 in /Library/Frameworks/Python.framework/Versions/3.10/lib/python3.10/site-packages (from python-dateutil>=2.8.1->pandas->yahoo_fin) (1.16.0)\n",
      "Requirement already satisfied: beautifulsoup4 in /Library/Frameworks/Python.framework/Versions/3.10/lib/python3.10/site-packages (from bs4->requests-html->yahoo_fin) (4.10.0)\n",
      "Requirement already satisfied: cssselect>0.7.9 in /Library/Frameworks/Python.framework/Versions/3.10/lib/python3.10/site-packages (from pyquery->requests-html->yahoo_fin) (1.1.0)\n",
      "Requirement already satisfied: lxml>=2.1 in /Library/Frameworks/Python.framework/Versions/3.10/lib/python3.10/site-packages (from pyquery->requests-html->yahoo_fin) (4.7.1)\n",
      "Requirement already satisfied: zipp>=0.5 in /Library/Frameworks/Python.framework/Versions/3.10/lib/python3.10/site-packages (from importlib-metadata>=1.4->pyppeteer>=0.0.14->requests-html->yahoo_fin) (3.7.0)\n",
      "Requirement already satisfied: soupsieve>1.2 in /Library/Frameworks/Python.framework/Versions/3.10/lib/python3.10/site-packages (from beautifulsoup4->bs4->requests-html->yahoo_fin) (2.3.1)\n",
      "Requirement already satisfied: requests_html in /Library/Frameworks/Python.framework/Versions/3.10/lib/python3.10/site-packages (0.10.0)\n",
      "Requirement already satisfied: pyquery in /Library/Frameworks/Python.framework/Versions/3.10/lib/python3.10/site-packages (from requests_html) (1.4.3)\n",
      "Requirement already satisfied: pyppeteer>=0.0.14 in /Library/Frameworks/Python.framework/Versions/3.10/lib/python3.10/site-packages (from requests_html) (1.0.2)\n",
      "Requirement already satisfied: requests in /Library/Frameworks/Python.framework/Versions/3.10/lib/python3.10/site-packages (from requests_html) (2.27.1)\n",
      "Requirement already satisfied: bs4 in /Library/Frameworks/Python.framework/Versions/3.10/lib/python3.10/site-packages (from requests_html) (0.0.1)\n",
      "Requirement already satisfied: parse in /Library/Frameworks/Python.framework/Versions/3.10/lib/python3.10/site-packages (from requests_html) (1.19.0)\n",
      "Requirement already satisfied: w3lib in /Library/Frameworks/Python.framework/Versions/3.10/lib/python3.10/site-packages (from requests_html) (1.22.0)\n",
      "Requirement already satisfied: fake-useragent in /Library/Frameworks/Python.framework/Versions/3.10/lib/python3.10/site-packages (from requests_html) (0.1.11)\n",
      "Requirement already satisfied: importlib-metadata>=1.4 in /Library/Frameworks/Python.framework/Versions/3.10/lib/python3.10/site-packages (from pyppeteer>=0.0.14->requests_html) (4.10.1)\n",
      "Requirement already satisfied: appdirs<2.0.0,>=1.4.3 in /Library/Frameworks/Python.framework/Versions/3.10/lib/python3.10/site-packages (from pyppeteer>=0.0.14->requests_html) (1.4.4)\n",
      "Requirement already satisfied: urllib3<2.0.0,>=1.25.8 in /Library/Frameworks/Python.framework/Versions/3.10/lib/python3.10/site-packages (from pyppeteer>=0.0.14->requests_html) (1.26.8)\n",
      "Requirement already satisfied: pyee<9.0.0,>=8.1.0 in /Library/Frameworks/Python.framework/Versions/3.10/lib/python3.10/site-packages (from pyppeteer>=0.0.14->requests_html) (8.2.2)\n",
      "Requirement already satisfied: websockets<11.0,>=10.0 in /Library/Frameworks/Python.framework/Versions/3.10/lib/python3.10/site-packages (from pyppeteer>=0.0.14->requests_html) (10.1)\n",
      "Requirement already satisfied: tqdm<5.0.0,>=4.42.1 in /Library/Frameworks/Python.framework/Versions/3.10/lib/python3.10/site-packages (from pyppeteer>=0.0.14->requests_html) (4.62.3)\n",
      "Requirement already satisfied: certifi>=2021 in /Library/Frameworks/Python.framework/Versions/3.10/lib/python3.10/site-packages (from pyppeteer>=0.0.14->requests_html) (2021.10.8)\n",
      "Requirement already satisfied: beautifulsoup4 in /Library/Frameworks/Python.framework/Versions/3.10/lib/python3.10/site-packages (from bs4->requests_html) (4.10.0)\n",
      "Requirement already satisfied: cssselect>0.7.9 in /Library/Frameworks/Python.framework/Versions/3.10/lib/python3.10/site-packages (from pyquery->requests_html) (1.1.0)\n",
      "Requirement already satisfied: lxml>=2.1 in /Library/Frameworks/Python.framework/Versions/3.10/lib/python3.10/site-packages (from pyquery->requests_html) (4.7.1)\n",
      "Requirement already satisfied: charset-normalizer~=2.0.0 in /Library/Frameworks/Python.framework/Versions/3.10/lib/python3.10/site-packages (from requests->requests_html) (2.0.11)\n",
      "Requirement already satisfied: idna<4,>=2.5 in /Library/Frameworks/Python.framework/Versions/3.10/lib/python3.10/site-packages (from requests->requests_html) (3.3)\n",
      "Requirement already satisfied: six>=1.4.1 in /Library/Frameworks/Python.framework/Versions/3.10/lib/python3.10/site-packages (from w3lib->requests_html) (1.16.0)\n",
      "Requirement already satisfied: zipp>=0.5 in /Library/Frameworks/Python.framework/Versions/3.10/lib/python3.10/site-packages (from importlib-metadata>=1.4->pyppeteer>=0.0.14->requests_html) (3.7.0)\n",
      "Requirement already satisfied: soupsieve>1.2 in /Library/Frameworks/Python.framework/Versions/3.10/lib/python3.10/site-packages (from beautifulsoup4->bs4->requests_html) (2.3.1)\n",
      "Requirement already satisfied: plotly.express in /Library/Frameworks/Python.framework/Versions/3.10/lib/python3.10/site-packages (0.4.1)\n",
      "Requirement already satisfied: pandas>=0.20.0 in /Library/Frameworks/Python.framework/Versions/3.10/lib/python3.10/site-packages (from plotly.express) (1.4.0)\n",
      "Requirement already satisfied: scipy>=0.18 in /Library/Frameworks/Python.framework/Versions/3.10/lib/python3.10/site-packages (from plotly.express) (1.7.3)\n",
      "Requirement already satisfied: statsmodels>=0.9.0 in /Library/Frameworks/Python.framework/Versions/3.10/lib/python3.10/site-packages (from plotly.express) (0.13.1)\n",
      "Requirement already satisfied: patsy>=0.5 in /Library/Frameworks/Python.framework/Versions/3.10/lib/python3.10/site-packages (from plotly.express) (0.5.2)\n",
      "Requirement already satisfied: numpy>=1.11 in /Library/Frameworks/Python.framework/Versions/3.10/lib/python3.10/site-packages (from plotly.express) (1.22.2)\n",
      "Requirement already satisfied: plotly>=4.1.0 in /Library/Frameworks/Python.framework/Versions/3.10/lib/python3.10/site-packages (from plotly.express) (5.5.0)\n",
      "Requirement already satisfied: python-dateutil>=2.8.1 in /Library/Frameworks/Python.framework/Versions/3.10/lib/python3.10/site-packages (from pandas>=0.20.0->plotly.express) (2.8.2)\n",
      "Requirement already satisfied: pytz>=2020.1 in /Library/Frameworks/Python.framework/Versions/3.10/lib/python3.10/site-packages (from pandas>=0.20.0->plotly.express) (2021.3)\n",
      "Requirement already satisfied: six in /Library/Frameworks/Python.framework/Versions/3.10/lib/python3.10/site-packages (from patsy>=0.5->plotly.express) (1.16.0)\n",
      "Requirement already satisfied: tenacity>=6.2.0 in /Library/Frameworks/Python.framework/Versions/3.10/lib/python3.10/site-packages (from plotly>=4.1.0->plotly.express) (8.0.1)\n",
      "Requirement already satisfied: nbformat in /Library/Frameworks/Python.framework/Versions/3.10/lib/python3.10/site-packages (5.1.3)\n",
      "Requirement already satisfied: jsonschema!=2.5.0,>=2.4 in /Library/Frameworks/Python.framework/Versions/3.10/lib/python3.10/site-packages (from nbformat) (4.4.0)\n",
      "Requirement already satisfied: traitlets>=4.1 in /Library/Frameworks/Python.framework/Versions/3.10/lib/python3.10/site-packages (from nbformat) (5.1.1)\n",
      "Requirement already satisfied: ipython-genutils in /Library/Frameworks/Python.framework/Versions/3.10/lib/python3.10/site-packages (from nbformat) (0.2.0)\n",
      "Requirement already satisfied: jupyter-core in /Library/Frameworks/Python.framework/Versions/3.10/lib/python3.10/site-packages (from nbformat) (4.9.1)\n",
      "Requirement already satisfied: attrs>=17.4.0 in /Library/Frameworks/Python.framework/Versions/3.10/lib/python3.10/site-packages (from jsonschema!=2.5.0,>=2.4->nbformat) (21.4.0)\n",
      "Requirement already satisfied: pyrsistent!=0.17.0,!=0.17.1,!=0.17.2,>=0.14.0 in /Library/Frameworks/Python.framework/Versions/3.10/lib/python3.10/site-packages (from jsonschema!=2.5.0,>=2.4->nbformat) (0.18.1)\n"
     ]
    }
   ],
   "source": [
    "!pip install yahoo_fin\n",
    "!pip install requests_html\n",
    "!pip install plotly.express\n",
    "!pip install nbformat "
   ]
  },
  {
   "cell_type": "markdown",
   "id": "66f4553f",
   "metadata": {},
   "source": [
    "**We found the below method of downloading Yahoo Finance information from the statistics page on the internet and it seems to work. Alternativly, one could go into each of the ticker codes of Yahoo Finance page**\n"
   ]
  },
  {
   "cell_type": "code",
   "execution_count": 131,
   "id": "c56a4ff7",
   "metadata": {},
   "outputs": [],
   "source": [
    "import yahoo_fin.stock_info as si #Get data\n",
    "import pandas as pd #Data manipulation\n",
    "from tqdm import tqdm #Make a progress bar because that's cool...\n",
    "from bs4 import BeautifulSoup # to parse external data\n",
    "import requests # to get data\n",
    "from requests_html import HTMLSession\n",
    "#import matplotlib.pyplot as plt\n",
    "import plotly.express as px #Charting\n",
    "import pickle"
   ]
  },
  {
   "cell_type": "code",
   "execution_count": 132,
   "id": "6fdd9781",
   "metadata": {},
   "outputs": [
    {
     "data": {
      "text/plain": [
       "['ADS.DE',\n",
       " 'ADYEN.AS',\n",
       " 'AD.AS',\n",
       " 'AI.PA',\n",
       " 'AIR.PA',\n",
       " 'ALV.DE',\n",
       " 'ABI.BR',\n",
       " 'ASML.AS',\n",
       " 'CS.PA',\n",
       " 'BAS.DE',\n",
       " 'BAYN.DE',\n",
       " 'BBVA.MC',\n",
       " 'SAN.MC',\n",
       " 'BMW.DE',\n",
       " 'BNP.PA',\n",
       " 'CRG.IR',\n",
       " 'DAI.DE',\n",
       " 'BN.PA',\n",
       " 'DB1.DE',\n",
       " 'DPW.DE',\n",
       " 'DTE.DE',\n",
       " 'ENEL.MI',\n",
       " 'ENI.MI',\n",
       " 'EL.PA',\n",
       " 'FLTR.IR',\n",
       " 'IBE.MC',\n",
       " 'ITX.MC',\n",
       " 'IFX.DE',\n",
       " 'INGA.AS',\n",
       " 'ISP.MI',\n",
       " 'KER.PA',\n",
       " 'KNEBV.HE',\n",
       " 'OR.PA',\n",
       " 'LIN.DE',\n",
       " 'MC.PA',\n",
       " 'MUV2.DE',\n",
       " 'RI.PA',\n",
       " 'PHIA.AS',\n",
       " 'PRX.AS',\n",
       " 'SAF.PA',\n",
       " 'SAN.PA',\n",
       " 'SAP.DE',\n",
       " 'SU.PA',\n",
       " 'SIE.DE',\n",
       " 'STLA.MI',\n",
       " 'TTE.PA',\n",
       " 'UMG.AS',\n",
       " 'DG.PA',\n",
       " 'VOW.DE',\n",
       " 'VNA.DE']"
      ]
     },
     "execution_count": 132,
     "metadata": {},
     "output_type": "execute_result"
    }
   ],
   "source": [
    "def getEURSTX50tickers():\n",
    "    resp = requests.get('https://en.wikipedia.org/wiki/EURO_STOXX_50')\n",
    "    soup = BeautifulSoup(resp.text, 'lxml')\n",
    "    tableEURSTX = soup.find(text=\"Ticker\").find_parent(\"table\").find('tbody').findAll('tr')[1:]\n",
    "\n",
    "    EURSTX_tickers = []\n",
    "    for row in tableEURSTX:\n",
    "        ticker1 = row.findAll('td')[0].text.strip()\n",
    "        EURSTX_tickers.append(ticker1)\n",
    "    with open(\"EURSTX50tickers.pickle\", \"wb\") as f:\n",
    "        pickle.dump(EURSTX_tickers, f)\n",
    "    return EURSTX_tickers\n",
    "\n",
    "ER_tickers = getEURSTX50tickers()\n",
    "ER_tickers"
   ]
  },
  {
   "cell_type": "code",
   "execution_count": 133,
   "id": "3aafc98b",
   "metadata": {},
   "outputs": [],
   "source": [
    "def valuation_measures(reload_EURSTX50=False):\n",
    "       \n",
    "    if reload_EURSTX50:\n",
    "        EURSTX_tickers = getEURSTX50tickers()\n",
    "    else:\n",
    "        with open(\"EURSTX50tickers.pickle\",\"rb\") as f:\n",
    "            EURSTX_tickers = pickle.load(f)\n",
    "    ticker_stats = {}     \n",
    "    for ticker in EURSTX_tickers:\n",
    "        try:\n",
    "            df = si.get_stats_valuation(ticker)\n",
    "            df = df.iloc[:,:2]\n",
    "            df.columns = [\"Attribute\", \"Recent\"]\n",
    "            ticker_stats[ticker] = df\n",
    "        except:\n",
    "            pass\n",
    "    dat = pd.concat(ticker_stats)\n",
    "    dat = dat.reset_index()\n",
    "    dat = dat.dropna()\n",
    "    del dat[\"level_1\"]\n",
    "    dat.columns = [\"Ticker\", \"Attribute\", \"Recent\"]\n",
    "    dat.to_csv('df1.csv')\n",
    "    return dat"
   ]
  },
  {
   "cell_type": "code",
   "execution_count": 134,
   "id": "b69797e3",
   "metadata": {},
   "outputs": [
    {
     "data": {
      "text/html": [
       "<div>\n",
       "<style scoped>\n",
       "    .dataframe tbody tr th:only-of-type {\n",
       "        vertical-align: middle;\n",
       "    }\n",
       "\n",
       "    .dataframe tbody tr th {\n",
       "        vertical-align: top;\n",
       "    }\n",
       "\n",
       "    .dataframe thead th {\n",
       "        text-align: right;\n",
       "    }\n",
       "</style>\n",
       "<table border=\"1\" class=\"dataframe\">\n",
       "  <thead>\n",
       "    <tr style=\"text-align: right;\">\n",
       "      <th></th>\n",
       "      <th>Ticker</th>\n",
       "      <th>Attribute</th>\n",
       "      <th>Recent</th>\n",
       "    </tr>\n",
       "  </thead>\n",
       "  <tbody>\n",
       "    <tr>\n",
       "      <th>0</th>\n",
       "      <td>ADS.DE</td>\n",
       "      <td>Market Cap (intraday)</td>\n",
       "      <td>46.54B</td>\n",
       "    </tr>\n",
       "    <tr>\n",
       "      <th>1</th>\n",
       "      <td>ADS.DE</td>\n",
       "      <td>Enterprise Value</td>\n",
       "      <td>47.38B</td>\n",
       "    </tr>\n",
       "    <tr>\n",
       "      <th>2</th>\n",
       "      <td>ADS.DE</td>\n",
       "      <td>Trailing P/E</td>\n",
       "      <td>32.69</td>\n",
       "    </tr>\n",
       "    <tr>\n",
       "      <th>3</th>\n",
       "      <td>ADS.DE</td>\n",
       "      <td>Forward P/E</td>\n",
       "      <td>24.94</td>\n",
       "    </tr>\n",
       "    <tr>\n",
       "      <th>4</th>\n",
       "      <td>ADS.DE</td>\n",
       "      <td>PEG Ratio (5 yr expected)</td>\n",
       "      <td>0.59</td>\n",
       "    </tr>\n",
       "    <tr>\n",
       "      <th>...</th>\n",
       "      <td>...</td>\n",
       "      <td>...</td>\n",
       "      <td>...</td>\n",
       "    </tr>\n",
       "    <tr>\n",
       "      <th>148</th>\n",
       "      <td>DAI.DE</td>\n",
       "      <td>PEG Ratio (5 yr expected)</td>\n",
       "      <td>0.46</td>\n",
       "    </tr>\n",
       "    <tr>\n",
       "      <th>149</th>\n",
       "      <td>DAI.DE</td>\n",
       "      <td>Price/Sales (ttm)</td>\n",
       "      <td>0.45</td>\n",
       "    </tr>\n",
       "    <tr>\n",
       "      <th>150</th>\n",
       "      <td>DAI.DE</td>\n",
       "      <td>Price/Book (mrq)</td>\n",
       "      <td>1.02</td>\n",
       "    </tr>\n",
       "    <tr>\n",
       "      <th>151</th>\n",
       "      <td>DAI.DE</td>\n",
       "      <td>Enterprise Value/Revenue</td>\n",
       "      <td>1.06</td>\n",
       "    </tr>\n",
       "    <tr>\n",
       "      <th>152</th>\n",
       "      <td>DAI.DE</td>\n",
       "      <td>Enterprise Value/EBITDA</td>\n",
       "      <td>7.27</td>\n",
       "    </tr>\n",
       "  </tbody>\n",
       "</table>\n",
       "<p>118 rows × 3 columns</p>\n",
       "</div>"
      ],
      "text/plain": [
       "     Ticker                  Attribute  Recent\n",
       "0    ADS.DE      Market Cap (intraday)  46.54B\n",
       "1    ADS.DE           Enterprise Value  47.38B\n",
       "2    ADS.DE               Trailing P/E   32.69\n",
       "3    ADS.DE                Forward P/E   24.94\n",
       "4    ADS.DE  PEG Ratio (5 yr expected)    0.59\n",
       "..      ...                        ...     ...\n",
       "148  DAI.DE  PEG Ratio (5 yr expected)    0.46\n",
       "149  DAI.DE          Price/Sales (ttm)    0.45\n",
       "150  DAI.DE           Price/Book (mrq)    1.02\n",
       "151  DAI.DE   Enterprise Value/Revenue    1.06\n",
       "152  DAI.DE    Enterprise Value/EBITDA    7.27\n",
       "\n",
       "[118 rows x 3 columns]"
      ]
     },
     "execution_count": 134,
     "metadata": {},
     "output_type": "execute_result"
    }
   ],
   "source": [
    "df1 = valuation_measures()\n",
    "df1"
   ]
  },
  {
   "cell_type": "code",
   "execution_count": 135,
   "id": "7bb50dc7",
   "metadata": {},
   "outputs": [],
   "source": [
    "def extra_stats(reload_EURSTX50=False):\n",
    "    \n",
    "    if reload_EURSTX50:\n",
    "        EURSTX_tickers = getEURSTX50tickers()\n",
    "    else:\n",
    "        with open(\"EURSTX50tickers.pickle\",\"rb\") as f:\n",
    "            EURSTX_tickers = pickle.load(f)\n",
    "    ticker_extra_stats = {}\n",
    "    for ticker in tqdm(ER_tickers):\n",
    "        try:\n",
    "            ticker_extra_stats[ticker] = si.get_stats(ticker)\n",
    "        except:\n",
    "            pass\n",
    "    dat2 = pd.concat(ticker_extra_stats)\n",
    "    dat2 = dat2.reset_index()\n",
    "    dat2 = dat2.dropna()\n",
    "    del dat2[\"level_1\"]\n",
    "    dat2.columns = [\"Ticker\", \"Attribute\", \"Value\"]\n",
    "    dat2.to_csv('df2.csv')\n",
    "    return dat2"
   ]
  },
  {
   "cell_type": "code",
   "execution_count": 136,
   "id": "8208118c",
   "metadata": {},
   "outputs": [
    {
     "name": "stderr",
     "output_type": "stream",
     "text": [
      "100%|██████████| 50/50 [02:32<00:00,  3.05s/it]\n"
     ]
    },
    {
     "data": {
      "text/html": [
       "<div>\n",
       "<style scoped>\n",
       "    .dataframe tbody tr th:only-of-type {\n",
       "        vertical-align: middle;\n",
       "    }\n",
       "\n",
       "    .dataframe tbody tr th {\n",
       "        vertical-align: top;\n",
       "    }\n",
       "\n",
       "    .dataframe thead th {\n",
       "        text-align: right;\n",
       "    }\n",
       "</style>\n",
       "<table border=\"1\" class=\"dataframe\">\n",
       "  <thead>\n",
       "    <tr style=\"text-align: right;\">\n",
       "      <th></th>\n",
       "      <th>Ticker</th>\n",
       "      <th>Attribute</th>\n",
       "      <th>Value</th>\n",
       "    </tr>\n",
       "  </thead>\n",
       "  <tbody>\n",
       "    <tr>\n",
       "      <th>0</th>\n",
       "      <td>ADS.DE</td>\n",
       "      <td>Avg Vol (3 month) 3</td>\n",
       "      <td>641.52k</td>\n",
       "    </tr>\n",
       "    <tr>\n",
       "      <th>1</th>\n",
       "      <td>ADS.DE</td>\n",
       "      <td>Avg Vol (10 day) 3</td>\n",
       "      <td>839.38k</td>\n",
       "    </tr>\n",
       "    <tr>\n",
       "      <th>2</th>\n",
       "      <td>ADS.DE</td>\n",
       "      <td>Shares Outstanding 5</td>\n",
       "      <td>195.07M</td>\n",
       "    </tr>\n",
       "    <tr>\n",
       "      <th>4</th>\n",
       "      <td>ADS.DE</td>\n",
       "      <td>Float 8</td>\n",
       "      <td>173.21M</td>\n",
       "    </tr>\n",
       "    <tr>\n",
       "      <th>5</th>\n",
       "      <td>ADS.DE</td>\n",
       "      <td>% Held by Insiders 1</td>\n",
       "      <td>10.29%</td>\n",
       "    </tr>\n",
       "    <tr>\n",
       "      <th>...</th>\n",
       "      <td>...</td>\n",
       "      <td>...</td>\n",
       "      <td>...</td>\n",
       "    </tr>\n",
       "    <tr>\n",
       "      <th>2328</th>\n",
       "      <td>VNA.DE</td>\n",
       "      <td>Total Debt/Equity (mrq)</td>\n",
       "      <td>162.57</td>\n",
       "    </tr>\n",
       "    <tr>\n",
       "      <th>2329</th>\n",
       "      <td>VNA.DE</td>\n",
       "      <td>Current Ratio (mrq)</td>\n",
       "      <td>0.39</td>\n",
       "    </tr>\n",
       "    <tr>\n",
       "      <th>2330</th>\n",
       "      <td>VNA.DE</td>\n",
       "      <td>Book Value Per Share (mrq)</td>\n",
       "      <td>47.85</td>\n",
       "    </tr>\n",
       "    <tr>\n",
       "      <th>2331</th>\n",
       "      <td>VNA.DE</td>\n",
       "      <td>Operating Cash Flow (ttm)</td>\n",
       "      <td>1.44B</td>\n",
       "    </tr>\n",
       "    <tr>\n",
       "      <th>2332</th>\n",
       "      <td>VNA.DE</td>\n",
       "      <td>Levered Free Cash Flow (ttm)</td>\n",
       "      <td>8.66B</td>\n",
       "    </tr>\n",
       "  </tbody>\n",
       "</table>\n",
       "<p>1806 rows × 3 columns</p>\n",
       "</div>"
      ],
      "text/plain": [
       "      Ticker                     Attribute    Value\n",
       "0     ADS.DE           Avg Vol (3 month) 3  641.52k\n",
       "1     ADS.DE            Avg Vol (10 day) 3  839.38k\n",
       "2     ADS.DE          Shares Outstanding 5  195.07M\n",
       "4     ADS.DE                       Float 8  173.21M\n",
       "5     ADS.DE          % Held by Insiders 1   10.29%\n",
       "...      ...                           ...      ...\n",
       "2328  VNA.DE       Total Debt/Equity (mrq)   162.57\n",
       "2329  VNA.DE           Current Ratio (mrq)     0.39\n",
       "2330  VNA.DE    Book Value Per Share (mrq)    47.85\n",
       "2331  VNA.DE     Operating Cash Flow (ttm)    1.44B\n",
       "2332  VNA.DE  Levered Free Cash Flow (ttm)    8.66B\n",
       "\n",
       "[1806 rows x 3 columns]"
      ]
     },
     "execution_count": 136,
     "metadata": {},
     "output_type": "execute_result"
    }
   ],
   "source": [
    "df2 = extra_stats()\n",
    "df2"
   ]
  },
  {
   "cell_type": "code",
   "execution_count": 137,
   "id": "aa9a79e7",
   "metadata": {},
   "outputs": [
    {
     "name": "stdout",
     "output_type": "stream",
     "text": [
      "     Ticker                  Attribute  Recent\n",
      "0    ADS.DE      Market Cap (intraday)  46.54B\n",
      "1    ADS.DE           Enterprise Value  47.38B\n",
      "2    ADS.DE               Trailing P/E   32.69\n",
      "3    ADS.DE                Forward P/E   24.94\n",
      "4    ADS.DE  PEG Ratio (5 yr expected)    0.59\n",
      "..      ...                        ...     ...\n",
      "148  DAI.DE  PEG Ratio (5 yr expected)    0.46\n",
      "149  DAI.DE          Price/Sales (ttm)    0.45\n",
      "150  DAI.DE           Price/Book (mrq)    1.02\n",
      "151  DAI.DE   Enterprise Value/Revenue    1.06\n",
      "152  DAI.DE    Enterprise Value/EBITDA    7.27\n",
      "\n",
      "[118 rows x 3 columns]\n"
     ]
    }
   ],
   "source": [
    "print(df1)"
   ]
  },
  {
   "cell_type": "code",
   "execution_count": 138,
   "id": "b596719d",
   "metadata": {},
   "outputs": [
    {
     "name": "stdout",
     "output_type": "stream",
     "text": [
      "      Ticker                     Attribute    Value\n",
      "0     ADS.DE           Avg Vol (3 month) 3  641.52k\n",
      "1     ADS.DE            Avg Vol (10 day) 3  839.38k\n",
      "2     ADS.DE          Shares Outstanding 5  195.07M\n",
      "4     ADS.DE                       Float 8  173.21M\n",
      "5     ADS.DE          % Held by Insiders 1   10.29%\n",
      "...      ...                           ...      ...\n",
      "2328  VNA.DE       Total Debt/Equity (mrq)   162.57\n",
      "2329  VNA.DE           Current Ratio (mrq)     0.39\n",
      "2330  VNA.DE    Book Value Per Share (mrq)    47.85\n",
      "2331  VNA.DE     Operating Cash Flow (ttm)    1.44B\n",
      "2332  VNA.DE  Levered Free Cash Flow (ttm)    8.66B\n",
      "\n",
      "[1806 rows x 3 columns]\n"
     ]
    }
   ],
   "source": [
    "print(df2)"
   ]
  },
  {
   "cell_type": "code",
   "execution_count": 139,
   "id": "d6951bfb",
   "metadata": {},
   "outputs": [],
   "source": [
    "# Convert from long dataframe to wide dataframe using the pivot() method.\n",
    "df1_wide = df1.pivot(index = \"Ticker\", columns=\"Attribute\", values=\"Recent\")\n",
    "df2_wide = df2.pivot(index = \"Ticker\", columns=\"Attribute\", values=\"Value\")"
   ]
  },
  {
   "cell_type": "code",
   "execution_count": 140,
   "id": "ff419b8a",
   "metadata": {},
   "outputs": [
    {
     "name": "stdout",
     "output_type": "stream",
     "text": [
      "Attribute Enterprise Value Enterprise Value/EBITDA Enterprise Value/Revenue  \\\n",
      "Ticker                                                                        \n",
      "ABI.BR                 NaN                     NaN                      NaN   \n",
      "ADS.DE              47.38B                   14.17                     2.09   \n",
      "ADYEN.AS            46.92B                   94.14                    10.12   \n",
      "AI.PA               84.75B                   14.32                     4.02   \n",
      "AIR.PA              84.00B                   10.68                     1.53   \n",
      "ALV.DE             106.40B                     NaN                     0.94   \n",
      "ASML.AS            229.72B                   32.78                    12.34   \n",
      "BAS.DE              78.66B                    6.87                     1.05   \n",
      "BAYN.DE             81.70B                   11.26                     1.90   \n",
      "BBVA.MC                NaN                     NaN                      NaN   \n",
      "BMW.DE             129.87B                    5.86                     1.16   \n",
      "BNP.PA                 NaN                     NaN                      NaN   \n",
      "CRG.IR              40.73B                    9.40                     1.38   \n",
      "DAI.DE             177.90B                    7.27                     1.06   \n",
      "SAN.MC                 NaN                     NaN                      NaN   \n",
      "\n",
      "Attribute Forward P/E Market Cap (intraday) PEG Ratio (5 yr expected)  \\\n",
      "Ticker                                                                  \n",
      "ABI.BR          18.66                   NaN                      6.35   \n",
      "ADS.DE          24.94                46.54B                      0.59   \n",
      "ADYEN.AS        79.37                50.12B                       NaN   \n",
      "AI.PA           23.98                71.58B                      2.38   \n",
      "AIR.PA          21.46                87.73B                      1.11   \n",
      "ALV.DE          10.21                92.09B                      1.09   \n",
      "ASML.AS         33.67               233.24B                      2.49   \n",
      "BAS.DE          11.32                61.98B                      0.79   \n",
      "BAYN.DE          7.86                52.03B                      3.01   \n",
      "BBVA.MC          7.68                36.91B                      0.44   \n",
      "BMW.DE           6.23                60.94B                      0.25   \n",
      "BNP.PA           9.51                78.49B                      1.01   \n",
      "CRG.IR          14.47                35.29B                      1.22   \n",
      "DAI.DE           7.17                75.06B                      0.46   \n",
      "SAN.MC           6.32                56.29B                       NaN   \n",
      "\n",
      "Attribute Price/Book (mrq) Price/Sales (ttm) Trailing P/E  \n",
      "Ticker                                                     \n",
      "ABI.BR                 NaN              2.33        41.64  \n",
      "ADS.DE                6.04              2.09        32.69  \n",
      "ADYEN.AS             34.89             10.70       134.80  \n",
      "AI.PA                 3.75              3.40        27.61  \n",
      "AIR.PA                9.98              1.60        20.95  \n",
      "ALV.DE                1.13              0.80        10.84  \n",
      "ASML.AS              23.00             12.65        40.01  \n",
      "BAS.DE                1.57              0.83        11.54  \n",
      "BAYN.DE               1.67              1.21       230.26  \n",
      "BBVA.MC               0.82              1.57        10.35  \n",
      "BMW.DE                0.86              0.55         5.24  \n",
      "BNP.PA                0.68              1.41         9.54  \n",
      "CRG.IR                2.05              1.39        27.12  \n",
      "DAI.DE                1.02              0.45         6.49  \n",
      "SAN.MC                0.65              1.27         7.57  \n"
     ]
    }
   ],
   "source": [
    "print(df1_wide)"
   ]
  },
  {
   "cell_type": "code",
   "execution_count": 141,
   "id": "bf239945",
   "metadata": {},
   "outputs": [
    {
     "name": "stdout",
     "output_type": "stream",
     "text": [
      "Attribute % Held by Insiders 1 % Held by Institutions 1  \\\n",
      "Ticker                                                    \n",
      "ABI.BR                  48.74%                   14.18%   \n",
      "AD.AS                    0.05%                   52.48%   \n",
      "ADS.DE                  10.29%                   53.12%   \n",
      "ADYEN.AS                23.66%                   62.10%   \n",
      "AI.PA                    2.61%                   29.97%   \n",
      "AIR.PA                  25.84%                   31.54%   \n",
      "ALV.DE                   0.00%                   40.18%   \n",
      "ASML.AS                  0.01%                   57.12%   \n",
      "BAS.DE                   0.00%                   29.05%   \n",
      "BAYN.DE                  0.00%                   38.22%   \n",
      "BBVA.MC                  0.02%                   35.21%   \n",
      "BMW.DE                  46.74%                   21.66%   \n",
      "BN.PA                    2.65%                   55.26%   \n",
      "BNP.PA                  13.20%                   45.94%   \n",
      "CRG.IR                   0.02%                   53.57%   \n",
      "CS.PA                   18.80%                   40.26%   \n",
      "DAI.DE                  18.35%                   34.66%   \n",
      "DB1.DE                   0.00%                   60.42%   \n",
      "DG.PA                    8.94%                   38.05%   \n",
      "DPW.DE                  20.49%                   34.98%   \n",
      "DTE.DE                  18.36%                   42.75%   \n",
      "EL.PA                   35.99%                   26.84%   \n",
      "ENEL.MI                 23.58%                   35.36%   \n",
      "ENI.MI                  30.30%                   16.48%   \n",
      "FLTR.IR                  3.18%                   61.18%   \n",
      "IBE.MC                   0.21%                   42.09%   \n",
      "IFX.DE                   0.00%                   58.21%   \n",
      "INGA.AS                  0.00%                   51.65%   \n",
      "ISP.MI                   4.73%                   40.13%   \n",
      "ITX.MC                  64.35%                   15.42%   \n",
      "KER.PA                  41.71%                   26.41%   \n",
      "KNEBV.HE                27.81%                   36.54%   \n",
      "LIN.DE                   0.20%                   79.82%   \n",
      "MC.PA                   47.48%                   21.29%   \n",
      "MUV2.DE                  0.03%                   43.67%   \n",
      "OR.PA                   54.18%                   14.83%   \n",
      "PHIA.AS                  0.09%                   55.29%   \n",
      "PRX.AS                  57.67%                   15.55%   \n",
      "RI.PA                   24.56%                   50.68%   \n",
      "SAF.PA                  18.45%                   39.25%   \n",
      "SAN.MC                   0.73%                   30.99%   \n",
      "SAN.PA                  11.15%                   54.33%   \n",
      "SAP.DE                  11.09%                   35.47%   \n",
      "SIE.DE                   6.00%                   34.88%   \n",
      "STLA.MI                 26.01%                   52.63%   \n",
      "SU.PA                    3.77%                   56.48%   \n",
      "TTE.PA                   6.44%                   47.27%   \n",
      "UMG.AS                  48.05%                   22.54%   \n",
      "VNA.DE                   0.00%                   49.62%   \n",
      "VOW.DE                  73.31%                   18.71%   \n",
      "\n",
      "Attribute 200-Day Moving Average 3 5 Year Average Dividend Yield 4  \\\n",
      "Ticker                                                               \n",
      "ABI.BR                       54.96                            3.00   \n",
      "AD.AS                          NaN                            3.45   \n",
      "ADS.DE                         NaN                             NaN   \n",
      "ADYEN.AS                   2266.42                             NaN   \n",
      "AI.PA                          NaN                            2.18   \n",
      "AIR.PA                         NaN                             NaN   \n",
      "ALV.DE                      207.19                            4.53   \n",
      "ASML.AS                      645.2                            0.83   \n",
      "BAS.DE                         NaN                            4.73   \n",
      "BAYN.DE                      49.59                            3.92   \n",
      "BBVA.MC                       5.44                            4.91   \n",
      "BMW.DE                         NaN                            4.31   \n",
      "BN.PA                          NaN                             NaN   \n",
      "BNP.PA                         NaN                             NaN   \n",
      "CRG.IR                         NaN                            2.37   \n",
      "CS.PA                          NaN                             NaN   \n",
      "DAI.DE                       75.64                            5.05   \n",
      "DB1.DE                         NaN                            2.18   \n",
      "DG.PA                        91.68                            2.75   \n",
      "DPW.DE                         NaN                             NaN   \n",
      "DTE.DE                         NaN                             NaN   \n",
      "EL.PA                          NaN                             NaN   \n",
      "ENEL.MI                        NaN                            4.46   \n",
      "ENI.MI                         NaN                            6.14   \n",
      "FLTR.IR                        NaN                             NaN   \n",
      "IBE.MC                         NaN                            4.27   \n",
      "IFX.DE                        36.3                            1.15   \n",
      "INGA.AS                        NaN                             NaN   \n",
      "ISP.MI                         NaN                             NaN   \n",
      "ITX.MC                         NaN                            1.81   \n",
      "KER.PA                         NaN                            1.53   \n",
      "KNEBV.HE                     64.41                            3.19   \n",
      "LIN.DE                       266.9                             NaN   \n",
      "MC.PA                          NaN                            1.49   \n",
      "MUV2.DE                        NaN                            4.36   \n",
      "OR.PA                          NaN                             NaN   \n",
      "PHIA.AS                        NaN                             NaN   \n",
      "PRX.AS                       76.12                             NaN   \n",
      "RI.PA                       191.91                            1.69   \n",
      "SAF.PA                      112.83                             NaN   \n",
      "SAN.MC                         NaN                             NaN   \n",
      "SAN.PA                        87.1                            3.84   \n",
      "SAP.DE                         NaN                            1.40   \n",
      "SIE.DE                         NaN                            3.31   \n",
      "STLA.MI                      16.79                             NaN   \n",
      "SU.PA                          NaN                            2.70   \n",
      "TTE.PA                       41.36                            6.06   \n",
      "UMG.AS                         NaN                             NaN   \n",
      "VNA.DE                       52.86                            3.02   \n",
      "VOW.DE                      276.63                             NaN   \n",
      "\n",
      "Attribute 50-Day Moving Average 3 52 Week High 3 52 Week Low 3  \\\n",
      "Ticker                                                           \n",
      "ABI.BR                      54.33          65.86         46.66   \n",
      "AD.AS                         NaN            NaN           NaN   \n",
      "ADS.DE                        NaN            NaN           NaN   \n",
      "ADYEN.AS                  2113.95         2835.0        1619.0   \n",
      "AI.PA                         NaN            NaN           NaN   \n",
      "AIR.PA                        NaN            NaN           NaN   \n",
      "ALV.DE                      213.2         230.05        182.52   \n",
      "ASML.AS                    658.59          777.5        422.25   \n",
      "BAS.DE                        NaN            NaN           NaN   \n",
      "BAYN.DE                     48.67          57.73          43.9   \n",
      "BBVA.MC                      5.34           6.29          4.22   \n",
      "BMW.DE                        NaN            NaN           NaN   \n",
      "BN.PA                         NaN            NaN           NaN   \n",
      "BNP.PA                        NaN            NaN           NaN   \n",
      "CRG.IR                        NaN            NaN           NaN   \n",
      "CS.PA                         NaN            NaN           NaN   \n",
      "DAI.DE                      71.21          91.63         64.12   \n",
      "DB1.DE                        NaN            NaN           NaN   \n",
      "DG.PA                       92.04         100.82         82.94   \n",
      "DPW.DE                        NaN            NaN           NaN   \n",
      "DTE.DE                        NaN            NaN           NaN   \n",
      "EL.PA                         NaN            NaN           NaN   \n",
      "ENEL.MI                       NaN            NaN           NaN   \n",
      "ENI.MI                        NaN            NaN           NaN   \n",
      "FLTR.IR                       NaN            NaN           NaN   \n",
      "IBE.MC                        NaN            NaN           NaN   \n",
      "IFX.DE                      38.89          43.85         29.79   \n",
      "INGA.AS                       NaN            NaN           NaN   \n",
      "ISP.MI                        NaN            NaN           NaN   \n",
      "ITX.MC                        NaN            NaN           NaN   \n",
      "KER.PA                        NaN            NaN           NaN   \n",
      "KNEBV.HE                    60.32          73.86         54.22   \n",
      "LIN.DE                      290.8         309.35         201.8   \n",
      "MC.PA                         NaN            NaN           NaN   \n",
      "MUV2.DE                       NaN            NaN           NaN   \n",
      "OR.PA                         NaN            NaN           NaN   \n",
      "PHIA.AS                       NaN            NaN           NaN   \n",
      "PRX.AS                      72.43          110.0         65.71   \n",
      "RI.PA                      204.01          217.2         156.1   \n",
      "SAF.PA                     106.68         127.74         96.17   \n",
      "SAN.MC                        NaN            NaN           NaN   \n",
      "SAN.PA                      88.64          95.16         74.92   \n",
      "SAP.DE                        NaN            NaN           NaN   \n",
      "SIE.DE                        NaN            NaN           NaN   \n",
      "STLA.MI                     17.12          19.35         12.37   \n",
      "SU.PA                         NaN            NaN           NaN   \n",
      "TTE.PA                      46.39          52.49         33.91   \n",
      "UMG.AS                        NaN            NaN           NaN   \n",
      "VNA.DE                      48.82          60.96         46.28   \n",
      "VOW.DE                     264.06          357.4         179.6   \n",
      "\n",
      "Attribute Avg Vol (10 day) 3 Avg Vol (3 month) 3 Beta (5Y Monthly)  ...  \\\n",
      "Ticker                                                              ...   \n",
      "ABI.BR                 1.92M                1.7M               1.4  ...   \n",
      "AD.AS                  3.39M               2.86M               NaN  ...   \n",
      "ADS.DE               839.38k             641.52k               NaN  ...   \n",
      "ADYEN.AS              113.4k              78.41k              1.09  ...   \n",
      "AI.PA                814.64k             717.95k               NaN  ...   \n",
      "AIR.PA                 1.67M               1.62M               NaN  ...   \n",
      "ALV.DE                 1.08M             899.91k              1.35  ...   \n",
      "ASML.AS                1.06M              828.6k              0.95  ...   \n",
      "BAS.DE                 3.61M               3.02M               NaN  ...   \n",
      "BAYN.DE                3.52M               3.08M              1.31  ...   \n",
      "BBVA.MC                28.1M               23.5M              2.04  ...   \n",
      "BMW.DE                  1.4M               1.21M               NaN  ...   \n",
      "BN.PA                  1.71M               1.55M               NaN  ...   \n",
      "BNP.PA                 4.21M               3.24M               NaN  ...   \n",
      "CRG.IR                 2.43M               1.76M               NaN  ...   \n",
      "CS.PA                  6.32M               5.55M               NaN  ...   \n",
      "DAI.DE                 2.22M               3.19M              1.47  ...   \n",
      "DB1.DE               548.34k             457.36k               NaN  ...   \n",
      "DG.PA                  1.43M               1.28M              1.08  ...   \n",
      "DPW.DE                 2.78M               2.32M               NaN  ...   \n",
      "DTE.DE                13.05M              10.38M               NaN  ...   \n",
      "EL.PA                 680.1k             541.51k               NaN  ...   \n",
      "ENEL.MI               27.21M              27.08M               NaN  ...   \n",
      "ENI.MI                19.13M              15.57M               NaN  ...   \n",
      "FLTR.IR               412.2k             370.53k               NaN  ...   \n",
      "IBE.MC                13.06M              13.84M               NaN  ...   \n",
      "IFX.DE                 6.83M               4.39M              1.47  ...   \n",
      "INGA.AS               17.99M              15.04M               NaN  ...   \n",
      "ISP.MI               133.07M               91.7M               NaN  ...   \n",
      "ITX.MC                 3.48M               4.16M               NaN  ...   \n",
      "KER.PA               198.37k             188.18k               NaN  ...   \n",
      "KNEBV.HE             795.04k             750.99k              0.55  ...   \n",
      "LIN.DE               897.84k              723.7k              0.83  ...   \n",
      "MC.PA                508.74k             409.77k               NaN  ...   \n",
      "MUV2.DE              375.25k             324.74k               NaN  ...   \n",
      "OR.PA                493.71k             375.93k               NaN  ...   \n",
      "PHIA.AS                 3.9M               4.05M               NaN  ...   \n",
      "PRX.AS                 2.25M               2.21M              0.35  ...   \n",
      "RI.PA                424.74k             365.72k              0.47  ...   \n",
      "SAF.PA               947.16k             900.56k              1.53  ...   \n",
      "SAN.MC                62.68M              53.51M               NaN  ...   \n",
      "SAN.PA                 2.69M               2.01M              0.46  ...   \n",
      "SAP.DE                 3.56M               2.16M               NaN  ...   \n",
      "SIE.DE                 1.93M               1.45M               NaN  ...   \n",
      "STLA.MI               15.51M              12.16M               NaN  ...   \n",
      "SU.PA                  1.11M             894.58k               NaN  ...   \n",
      "TTE.PA                 8.61M               6.98M              1.16  ...   \n",
      "UMG.AS                 2.75M               2.49M               NaN  ...   \n",
      "VNA.DE                 2.09M               2.37M              0.44  ...   \n",
      "VOW.DE                50.11k              49.04k              1.46  ...   \n",
      "\n",
      "Attribute Return on Equity (ttm) Revenue (ttm) Revenue Per Share (ttm)  \\\n",
      "Ticker                                                                   \n",
      "ABI.BR                       NaN        52.87B                   26.37   \n",
      "AD.AS                     12.16%        75.05B                   72.38   \n",
      "ADS.DE                    20.05%        22.65B                  116.19   \n",
      "ADYEN.AS                  30.49%         4.64B                  152.76   \n",
      "AI.PA                     14.07%        21.06B                   44.62   \n",
      "AIR.PA                    76.81%        54.91B                   69.96   \n",
      "ALV.DE                    11.23%       119.85B                  288.44   \n",
      "ASML.AS                   43.26%        17.88B                   43.31   \n",
      "BAS.DE                    15.26%        74.73B                   81.36   \n",
      "BAYN.DE                    0.76%        42.96B                   43.73   \n",
      "BBVA.MC                    9.88%        17.75B                    2.67   \n",
      "BMW.DE                    17.92%       112.31B                  170.25   \n",
      "BN.PA                     12.56%        23.27B                   35.80   \n",
      "BNP.PA                     7.71%        43.18B                   34.61   \n",
      "CRG.IR                     8.07%        29.42B                   37.49   \n",
      "CS.PA                      7.26%       121.58B                   51.03   \n",
      "DAI.DE                    17.83%       167.87B                  156.91   \n",
      "DB1.DE                    17.69%         4.18B                   22.78   \n",
      "DG.PA                      8.16%        48.22B                   85.50   \n",
      "DPW.DE                    33.39%        77.82B                   62.95   \n",
      "DTE.DE                    10.59%       110.35B                   23.18   \n",
      "EL.PA                      4.25%        16.97B                   38.86   \n",
      "ENEL.MI                    7.34%        72.46B                    7.16   \n",
      "ENI.MI                     3.97%        62.62B                   17.53   \n",
      "FLTR.IR                   -1.16%         5.93B                   35.62   \n",
      "IBE.MC                     7.98%         36.9B                    5.72   \n",
      "IFX.DE                    10.87%        11.06B                    8.50   \n",
      "INGA.AS                    8.37%        17.71B                    4.54   \n",
      "ISP.MI                     1.28%        17.62B                    0.91   \n",
      "ITX.MC                    20.21%        25.64B                    8.23   \n",
      "KER.PA                    29.63%        15.77B                  126.25   \n",
      "KNEBV.HE                  35.30%        10.37B                   20.03   \n",
      "LIN.DE                     7.86%        29.77B                   57.22   \n",
      "MC.PA                     24.92%        54.92B                  109.03   \n",
      "MUV2.DE                    7.61%        62.96B                  449.53   \n",
      "OR.PA                     14.03%        30.11B                   53.81   \n",
      "PHIA.AS                      NaN        19.67B                   21.66   \n",
      "PRX.AS                    44.41%         6.01B                    3.76   \n",
      "RI.PA                      9.00%         8.82B                   33.83   \n",
      "SAF.PA                    10.76%        14.65B                   34.34   \n",
      "SAN.MC                     8.10%         36.7B                    1.94   \n",
      "SAN.PA                       NaN         38.5B                   30.73   \n",
      "SAP.DE                    17.74%         27.4B                   23.23   \n",
      "SIE.DE                    12.65%        62.26B                   77.65   \n",
      "STLA.MI                   20.44%       113.73B                   56.86   \n",
      "SU.PA                     12.71%        27.36B                   49.31   \n",
      "TTE.PA                    10.44%       161.68B                   59.10   \n",
      "UMG.AS                       NaN          7.8B                    4.30   \n",
      "VNA.DE                    20.41%         4.28B                    7.52   \n",
      "VOW.DE                    13.97%          254B                  506.68   \n",
      "\n",
      "Attribute Shares Outstanding 5 Total Cash (mrq) Total Cash Per Share (mrq)  \\\n",
      "Ticker                                                                       \n",
      "ABI.BR                   1.74B            7.08B                       3.57   \n",
      "AD.AS                    1.01B            5.17B                       5.06   \n",
      "ADS.DE                 195.07M            4.43B                      22.95   \n",
      "ADYEN.AS                30.94M            3.34B                     109.83   \n",
      "AI.PA                  473.65M            1.39B                       2.94   \n",
      "AIR.PA                 785.85M           16.65B                      21.19   \n",
      "ALV.DE                 408.46M           21.94B                      52.89   \n",
      "ASML.AS                406.47M            4.46B                      10.92   \n",
      "BAS.DE                 918.48M             3.1B                       3.37   \n",
      "BAYN.DE                982.42M            8.22B                       8.37   \n",
      "BBVA.MC                  6.54B          121.85B                      18.32   \n",
      "BMW.DE                    602M           14.33B                      21.72   \n",
      "BN.PA                  638.09M            6.29B                       9.66   \n",
      "BNP.PA                   1.23B            1.21T                     969.91   \n",
      "CRG.IR                 770.66M            6.29B                       8.02   \n",
      "CS.PA                    2.39B           26.79B                      11.22   \n",
      "DAI.DE                   1.07B           21.22B                      19.84   \n",
      "DB1.DE                 183.52M           20.88B                     113.79   \n",
      "DG.PA                  567.98M           10.45B                      18.25   \n",
      "DPW.DE                   1.24B            5.91B                       4.81   \n",
      "DTE.DE                   4.99B            6.34B                       1.32   \n",
      "EL.PA                  442.39M            9.44B                      21.43   \n",
      "ENEL.MI                 10.16B           10.44B                       1.03   \n",
      "ENI.MI                   3.54B           13.83B                       3.87   \n",
      "FLTR.IR                175.63M           643.1M                       3.68   \n",
      "IBE.MC                   6.27B            5.42B                       0.85   \n",
      "IFX.DE                    1.3B            3.92B                       3.01   \n",
      "INGA.AS                  3.78B          185.65B                      47.56   \n",
      "ISP.MI                  19.37B           87.14B                       4.71   \n",
      "ITX.MC                   3.11B            9.58B                       3.08   \n",
      "KER.PA                 124.07M            4.79B                      38.42   \n",
      "KNEBV.HE               441.75M             2.5B                       4.83   \n",
      "LIN.DE                 512.56M             4.7B                       9.17   \n",
      "MC.PA                  503.55M            8.72B                      17.32   \n",
      "MUV2.DE                 140.1M            7.21B                      51.58   \n",
      "OR.PA                  557.67M            4.82B                       8.65   \n",
      "PHIA.AS                879.23M               1B                        1.1   \n",
      "PRX.AS                   2.01B           13.68B                       8.67   \n",
      "RI.PA                  259.76M            2.08B                       7.96   \n",
      "SAF.PA                  426.7M            4.06B                       9.52   \n",
      "SAN.MC                  17.05B           355.2B                       20.5   \n",
      "SAN.PA                   1.26B            9.72B                       7.76   \n",
      "SAP.DE                   1.18B            7.94B                       6.73   \n",
      "SIE.DE                 802.36M           10.68B                      13.31   \n",
      "STLA.MI                  3.13B           41.67B                      13.31   \n",
      "SU.PA                  556.58M            3.57B                       6.44   \n",
      "TTE.PA                   2.61B           32.88B                      12.45   \n",
      "UMG.AS                   1.81B             936M                       0.52   \n",
      "VNA.DE                  776.6M            2.17B                       3.78   \n",
      "VOW.DE                 295.09M           40.66B                      81.11   \n",
      "\n",
      "Attribute Total Debt (mrq) Total Debt/Equity (mrq)  \\\n",
      "Ticker                                               \n",
      "ABI.BR              90.64B                  113.92   \n",
      "AD.AS               19.17B                  146.51   \n",
      "ADS.DE               5.27B                   66.01   \n",
      "ADYEN.AS           128.36M                    8.94   \n",
      "AI.PA               14.61B                   74.66   \n",
      "AIR.PA              14.92B                  169.50   \n",
      "ALV.DE              36.25B                   42.47   \n",
      "ASML.AS              4.11B                   35.69   \n",
      "BAS.DE              19.78B                   48.70   \n",
      "BAYN.DE             41.77B                  133.55   \n",
      "BBVA.MC            107.76B                     NaN   \n",
      "BMW.DE              104.5B                  144.44   \n",
      "BN.PA               17.66B                  105.75   \n",
      "BNP.PA             520.91B                     NaN   \n",
      "CRG.IR              12.47B                   62.14   \n",
      "CS.PA               55.92B                   69.77   \n",
      "DAI.DE             130.71B                  173.66   \n",
      "DB1.DE               4.79B                   65.89   \n",
      "DG.PA               32.09B                  138.13   \n",
      "DPW.DE              19.42B                  110.06   \n",
      "DTE.DE             141.73B                  179.72   \n",
      "EL.PA               11.41B                   33.20   \n",
      "ENEL.MI             67.58B                  153.31   \n",
      "ENI.MI              31.42B                   78.01   \n",
      "FLTR.IR              3.48B                   32.48   \n",
      "IBE.MC              42.07B                   80.79   \n",
      "IFX.DE               6.92B                   60.66   \n",
      "INGA.AS            201.22B                     NaN   \n",
      "ISP.MI             312.42B                     NaN   \n",
      "ITX.MC               5.86B                   39.20   \n",
      "KER.PA               9.82B                   76.89   \n",
      "KNEBV.HE            554.6M                   18.95   \n",
      "LIN.DE              16.73B                   36.57   \n",
      "MC.PA               38.55B                   90.44   \n",
      "MUV2.DE              5.29B                   17.60   \n",
      "OR.PA                2.45B                    8.27   \n",
      "PHIA.AS              7.83B                   65.33   \n",
      "PRX.AS              10.81B                   19.78   \n",
      "RI.PA                9.59B                   63.65   \n",
      "SAF.PA               6.88B                   51.15   \n",
      "SAN.MC             305.59B                     NaN   \n",
      "SAN.PA              21.65B                   34.17   \n",
      "SAP.DE              15.55B                   42.22   \n",
      "SIE.DE               48.7B                   98.83   \n",
      "STLA.MI             31.36B                   67.10   \n",
      "SU.PA               11.45B                   45.16   \n",
      "TTE.PA              67.78B                   59.87   \n",
      "UMG.AS               3.44B                  231.07   \n",
      "VNA.DE               46.7B                  162.57   \n",
      "VOW.DE             205.86B                  145.32   \n",
      "\n",
      "Attribute Trailing Annual Dividend Rate 3 Trailing Annual Dividend Yield 3  \n",
      "Ticker                                                                      \n",
      "ABI.BR                               0.61                            1.09%  \n",
      "AD.AS                                0.83                            2.84%  \n",
      "ADS.DE                               3.00                            1.22%  \n",
      "ADYEN.AS                              NaN                              NaN  \n",
      "AI.PA                                2.75                            1.79%  \n",
      "AIR.PA                               1.65                            1.46%  \n",
      "ALV.DE                               9.60                            4.23%  \n",
      "ASML.AS                              3.35                            0.56%  \n",
      "BAS.DE                               3.30                            4.86%  \n",
      "BAYN.DE                              2.00                            3.72%  \n",
      "BBVA.MC                              0.14                            2.39%  \n",
      "BMW.DE                               1.90                            2.03%  \n",
      "BN.PA                                1.94                            3.47%  \n",
      "BNP.PA                               1.11                            1.75%  \n",
      "CRG.IR                               1.16                            2.51%  \n",
      "CS.PA                                1.43                            5.02%  \n",
      "DAI.DE                               1.35                            1.92%  \n",
      "DB1.DE                               3.00                            1.93%  \n",
      "DG.PA                                2.69                            2.75%  \n",
      "DPW.DE                               1.35                            2.47%  \n",
      "DTE.DE                               0.60                            3.56%  \n",
      "EL.PA                                1.08                            0.61%  \n",
      "ENEL.MI                              0.37                            5.45%  \n",
      "ENI.MI                               0.67                            5.02%  \n",
      "FLTR.IR                               NaN                              NaN  \n",
      "IBE.MC                               0.42                            4.14%  \n",
      "IFX.DE                               0.27                            0.74%  \n",
      "INGA.AS                              0.48                            3.55%  \n",
      "ISP.MI                               0.21                            7.68%  \n",
      "ITX.MC                               0.22                            0.83%  \n",
      "KER.PA                               9.00                            1.33%  \n",
      "KNEBV.HE                             1.75                            3.12%  \n",
      "LIN.DE                               4.14                            1.45%  \n",
      "MC.PA                                7.00                            0.96%  \n",
      "MUV2.DE                              9.80                            3.53%  \n",
      "OR.PA                                4.00                            1.05%  \n",
      "PHIA.AS                              0.85                            2.90%  \n",
      "PRX.AS                               0.16                            0.23%  \n",
      "RI.PA                                3.12                            1.59%  \n",
      "SAF.PA                               0.43                            0.39%  \n",
      "SAN.MC                               0.08                            2.52%  \n",
      "SAN.PA                               3.20                            3.47%  \n",
      "SAP.DE                               1.85                            1.65%  \n",
      "SIE.DE                               4.00                            2.85%  \n",
      "STLA.MI                               NaN                              NaN  \n",
      "SU.PA                                2.60                            1.69%  \n",
      "TTE.PA                               3.10                            6.17%  \n",
      "UMG.AS                               0.20                            0.87%  \n",
      "VNA.DE                               1.69                            3.35%  \n",
      "VOW.DE                               4.86                            1.89%  \n",
      "\n",
      "[50 rows x 42 columns]\n"
     ]
    }
   ],
   "source": [
    "print(df2_wide)"
   ]
  },
  {
   "cell_type": "markdown",
   "id": "ef8591e5",
   "metadata": {},
   "source": [
    "**Now we simply need to format the data into a format which is usable in relation to the graph we wish to display:**\n",
    "\n",
    "At the moment, we have the data in very few columns and many rows. Essentially, every ticker is repeated for every attribute. We now wish to change this such that the ticker is displayed once in a row and all the attributed on a column name. "
   ]
  },
  {
   "cell_type": "markdown",
   "id": "917448e4",
   "metadata": {},
   "source": [
    "The next problem we encounter is that there are a bunch of footnotes in the attribute descriptions. The reason for this is that on the Yahoo Finance website, the attributes may / may not have some additional information attached to them. \n",
    "\n",
    "However, since we are aiming to create a scheduled graph, we are not really interested in these additional footnotes. \n",
    "\n",
    "Next step would be to eliminate these footnote numbers. \n",
    "In order to do that we need to rename all the colums affeted and subsequently change them from strings into floats\n",
    "\n",
    "\n"
   ]
  },
  {
   "cell_type": "code",
   "execution_count": 142,
   "id": "ef45b5b7",
   "metadata": {},
   "outputs": [
    {
     "data": {
      "text/html": [
       "<div>\n",
       "<style scoped>\n",
       "    .dataframe tbody tr th:only-of-type {\n",
       "        vertical-align: middle;\n",
       "    }\n",
       "\n",
       "    .dataframe tbody tr th {\n",
       "        vertical-align: top;\n",
       "    }\n",
       "\n",
       "    .dataframe thead th {\n",
       "        text-align: right;\n",
       "    }\n",
       "</style>\n",
       "<table border=\"1\" class=\"dataframe\">\n",
       "  <thead>\n",
       "    <tr style=\"text-align: right;\">\n",
       "      <th>Attribute</th>\n",
       "      <th>Enterprise Value</th>\n",
       "      <th>Enterprise Value/EBITDA</th>\n",
       "      <th>Enterprise Value/Revenue</th>\n",
       "      <th>Forward P/E</th>\n",
       "      <th>Market Cap (intraday)</th>\n",
       "      <th>PEG Ratio (5 yr expected)</th>\n",
       "      <th>Price/Book (mrq)</th>\n",
       "      <th>Price/Sales (ttm)</th>\n",
       "      <th>Trailing P/E</th>\n",
       "      <th>% Held by Insiders</th>\n",
       "      <th>...</th>\n",
       "      <th>Return on Equity (ttm) %</th>\n",
       "      <th>Revenue (ttm)</th>\n",
       "      <th>Revenue Per Share (ttm)</th>\n",
       "      <th>Shares Outstanding</th>\n",
       "      <th>Total Cash (mrq)</th>\n",
       "      <th>Total Cash Per Share (mrq)</th>\n",
       "      <th>Total Debt (mrq)</th>\n",
       "      <th>Total Debt/Equity (mrq)</th>\n",
       "      <th>Trailing Annual Dividend Rate</th>\n",
       "      <th>Trailing Annual Dividend Yield %</th>\n",
       "    </tr>\n",
       "    <tr>\n",
       "      <th>Ticker</th>\n",
       "      <th></th>\n",
       "      <th></th>\n",
       "      <th></th>\n",
       "      <th></th>\n",
       "      <th></th>\n",
       "      <th></th>\n",
       "      <th></th>\n",
       "      <th></th>\n",
       "      <th></th>\n",
       "      <th></th>\n",
       "      <th></th>\n",
       "      <th></th>\n",
       "      <th></th>\n",
       "      <th></th>\n",
       "      <th></th>\n",
       "      <th></th>\n",
       "      <th></th>\n",
       "      <th></th>\n",
       "      <th></th>\n",
       "      <th></th>\n",
       "      <th></th>\n",
       "    </tr>\n",
       "  </thead>\n",
       "  <tbody>\n",
       "    <tr>\n",
       "      <th>ABI.BR</th>\n",
       "      <td>NaN</td>\n",
       "      <td>NaN</td>\n",
       "      <td>NaN</td>\n",
       "      <td>18.66</td>\n",
       "      <td>NaN</td>\n",
       "      <td>6.35</td>\n",
       "      <td>NaN</td>\n",
       "      <td>2.33</td>\n",
       "      <td>41.64</td>\n",
       "      <td>0.4874</td>\n",
       "      <td>...</td>\n",
       "      <td>NaN</td>\n",
       "      <td>52.87B</td>\n",
       "      <td>26.37</td>\n",
       "      <td>1.74B</td>\n",
       "      <td>7.08B</td>\n",
       "      <td>3.57</td>\n",
       "      <td>90.64B</td>\n",
       "      <td>113.92</td>\n",
       "      <td>0.61</td>\n",
       "      <td>0.0109</td>\n",
       "    </tr>\n",
       "    <tr>\n",
       "      <th>ADS.DE</th>\n",
       "      <td>47.38B</td>\n",
       "      <td>14.17</td>\n",
       "      <td>2.09</td>\n",
       "      <td>24.94</td>\n",
       "      <td>46.54B</td>\n",
       "      <td>0.59</td>\n",
       "      <td>6.04</td>\n",
       "      <td>2.09</td>\n",
       "      <td>32.69</td>\n",
       "      <td>0.1029</td>\n",
       "      <td>...</td>\n",
       "      <td>0.2005</td>\n",
       "      <td>22.65B</td>\n",
       "      <td>116.19</td>\n",
       "      <td>195.07M</td>\n",
       "      <td>4.43B</td>\n",
       "      <td>22.95</td>\n",
       "      <td>5.27B</td>\n",
       "      <td>66.01</td>\n",
       "      <td>3.00</td>\n",
       "      <td>0.0122</td>\n",
       "    </tr>\n",
       "    <tr>\n",
       "      <th>ADYEN.AS</th>\n",
       "      <td>46.92B</td>\n",
       "      <td>94.14</td>\n",
       "      <td>10.12</td>\n",
       "      <td>79.37</td>\n",
       "      <td>50.12B</td>\n",
       "      <td>NaN</td>\n",
       "      <td>34.89</td>\n",
       "      <td>10.70</td>\n",
       "      <td>134.80</td>\n",
       "      <td>0.2366</td>\n",
       "      <td>...</td>\n",
       "      <td>0.3049</td>\n",
       "      <td>4.64B</td>\n",
       "      <td>152.76</td>\n",
       "      <td>30.94M</td>\n",
       "      <td>3.34B</td>\n",
       "      <td>109.83</td>\n",
       "      <td>128.36M</td>\n",
       "      <td>8.94</td>\n",
       "      <td>NaN</td>\n",
       "      <td>NaN</td>\n",
       "    </tr>\n",
       "    <tr>\n",
       "      <th>AI.PA</th>\n",
       "      <td>84.75B</td>\n",
       "      <td>14.32</td>\n",
       "      <td>4.02</td>\n",
       "      <td>23.98</td>\n",
       "      <td>71.58B</td>\n",
       "      <td>2.38</td>\n",
       "      <td>3.75</td>\n",
       "      <td>3.40</td>\n",
       "      <td>27.61</td>\n",
       "      <td>0.0261</td>\n",
       "      <td>...</td>\n",
       "      <td>0.1407</td>\n",
       "      <td>21.06B</td>\n",
       "      <td>44.62</td>\n",
       "      <td>473.65M</td>\n",
       "      <td>1.39B</td>\n",
       "      <td>2.94</td>\n",
       "      <td>14.61B</td>\n",
       "      <td>74.66</td>\n",
       "      <td>2.75</td>\n",
       "      <td>0.0179</td>\n",
       "    </tr>\n",
       "    <tr>\n",
       "      <th>AIR.PA</th>\n",
       "      <td>84.00B</td>\n",
       "      <td>10.68</td>\n",
       "      <td>1.53</td>\n",
       "      <td>21.46</td>\n",
       "      <td>87.73B</td>\n",
       "      <td>1.11</td>\n",
       "      <td>9.98</td>\n",
       "      <td>1.60</td>\n",
       "      <td>20.95</td>\n",
       "      <td>0.2584</td>\n",
       "      <td>...</td>\n",
       "      <td>0.7681</td>\n",
       "      <td>54.91B</td>\n",
       "      <td>69.96</td>\n",
       "      <td>785.85M</td>\n",
       "      <td>16.65B</td>\n",
       "      <td>21.19</td>\n",
       "      <td>14.92B</td>\n",
       "      <td>169.50</td>\n",
       "      <td>1.65</td>\n",
       "      <td>0.0146</td>\n",
       "    </tr>\n",
       "    <tr>\n",
       "      <th>ALV.DE</th>\n",
       "      <td>106.40B</td>\n",
       "      <td>NaN</td>\n",
       "      <td>0.94</td>\n",
       "      <td>10.21</td>\n",
       "      <td>92.09B</td>\n",
       "      <td>1.09</td>\n",
       "      <td>1.13</td>\n",
       "      <td>0.80</td>\n",
       "      <td>10.84</td>\n",
       "      <td>0.0000</td>\n",
       "      <td>...</td>\n",
       "      <td>0.1123</td>\n",
       "      <td>119.85B</td>\n",
       "      <td>288.44</td>\n",
       "      <td>408.46M</td>\n",
       "      <td>21.94B</td>\n",
       "      <td>52.89</td>\n",
       "      <td>36.25B</td>\n",
       "      <td>42.47</td>\n",
       "      <td>9.60</td>\n",
       "      <td>0.0423</td>\n",
       "    </tr>\n",
       "    <tr>\n",
       "      <th>ASML.AS</th>\n",
       "      <td>229.72B</td>\n",
       "      <td>32.78</td>\n",
       "      <td>12.34</td>\n",
       "      <td>33.67</td>\n",
       "      <td>233.24B</td>\n",
       "      <td>2.49</td>\n",
       "      <td>23.00</td>\n",
       "      <td>12.65</td>\n",
       "      <td>40.01</td>\n",
       "      <td>0.0001</td>\n",
       "      <td>...</td>\n",
       "      <td>0.4326</td>\n",
       "      <td>17.88B</td>\n",
       "      <td>43.31</td>\n",
       "      <td>406.47M</td>\n",
       "      <td>4.46B</td>\n",
       "      <td>10.92</td>\n",
       "      <td>4.11B</td>\n",
       "      <td>35.69</td>\n",
       "      <td>3.35</td>\n",
       "      <td>0.0056</td>\n",
       "    </tr>\n",
       "    <tr>\n",
       "      <th>BAS.DE</th>\n",
       "      <td>78.66B</td>\n",
       "      <td>6.87</td>\n",
       "      <td>1.05</td>\n",
       "      <td>11.32</td>\n",
       "      <td>61.98B</td>\n",
       "      <td>0.79</td>\n",
       "      <td>1.57</td>\n",
       "      <td>0.83</td>\n",
       "      <td>11.54</td>\n",
       "      <td>0.0000</td>\n",
       "      <td>...</td>\n",
       "      <td>0.1526</td>\n",
       "      <td>74.73B</td>\n",
       "      <td>81.36</td>\n",
       "      <td>918.48M</td>\n",
       "      <td>3.1B</td>\n",
       "      <td>3.37</td>\n",
       "      <td>19.78B</td>\n",
       "      <td>48.70</td>\n",
       "      <td>3.30</td>\n",
       "      <td>0.0486</td>\n",
       "    </tr>\n",
       "    <tr>\n",
       "      <th>BAYN.DE</th>\n",
       "      <td>81.70B</td>\n",
       "      <td>11.26</td>\n",
       "      <td>1.90</td>\n",
       "      <td>7.86</td>\n",
       "      <td>52.03B</td>\n",
       "      <td>3.01</td>\n",
       "      <td>1.67</td>\n",
       "      <td>1.21</td>\n",
       "      <td>230.26</td>\n",
       "      <td>0.0000</td>\n",
       "      <td>...</td>\n",
       "      <td>0.0076</td>\n",
       "      <td>42.96B</td>\n",
       "      <td>43.73</td>\n",
       "      <td>982.42M</td>\n",
       "      <td>8.22B</td>\n",
       "      <td>8.37</td>\n",
       "      <td>41.77B</td>\n",
       "      <td>133.55</td>\n",
       "      <td>2.00</td>\n",
       "      <td>0.0372</td>\n",
       "    </tr>\n",
       "    <tr>\n",
       "      <th>BBVA.MC</th>\n",
       "      <td>NaN</td>\n",
       "      <td>NaN</td>\n",
       "      <td>NaN</td>\n",
       "      <td>7.68</td>\n",
       "      <td>36.91B</td>\n",
       "      <td>0.44</td>\n",
       "      <td>0.82</td>\n",
       "      <td>1.57</td>\n",
       "      <td>10.35</td>\n",
       "      <td>0.0002</td>\n",
       "      <td>...</td>\n",
       "      <td>0.0988</td>\n",
       "      <td>17.75B</td>\n",
       "      <td>2.67</td>\n",
       "      <td>6.54B</td>\n",
       "      <td>121.85B</td>\n",
       "      <td>18.32</td>\n",
       "      <td>107.76B</td>\n",
       "      <td>NaN</td>\n",
       "      <td>0.14</td>\n",
       "      <td>0.0239</td>\n",
       "    </tr>\n",
       "    <tr>\n",
       "      <th>BMW.DE</th>\n",
       "      <td>129.87B</td>\n",
       "      <td>5.86</td>\n",
       "      <td>1.16</td>\n",
       "      <td>6.23</td>\n",
       "      <td>60.94B</td>\n",
       "      <td>0.25</td>\n",
       "      <td>0.86</td>\n",
       "      <td>0.55</td>\n",
       "      <td>5.24</td>\n",
       "      <td>0.4674</td>\n",
       "      <td>...</td>\n",
       "      <td>0.1792</td>\n",
       "      <td>112.31B</td>\n",
       "      <td>170.25</td>\n",
       "      <td>602M</td>\n",
       "      <td>14.33B</td>\n",
       "      <td>21.72</td>\n",
       "      <td>104.5B</td>\n",
       "      <td>144.44</td>\n",
       "      <td>1.90</td>\n",
       "      <td>0.0203</td>\n",
       "    </tr>\n",
       "    <tr>\n",
       "      <th>BNP.PA</th>\n",
       "      <td>NaN</td>\n",
       "      <td>NaN</td>\n",
       "      <td>NaN</td>\n",
       "      <td>9.51</td>\n",
       "      <td>78.49B</td>\n",
       "      <td>1.01</td>\n",
       "      <td>0.68</td>\n",
       "      <td>1.41</td>\n",
       "      <td>9.54</td>\n",
       "      <td>0.1320</td>\n",
       "      <td>...</td>\n",
       "      <td>0.0771</td>\n",
       "      <td>43.18B</td>\n",
       "      <td>34.61</td>\n",
       "      <td>1.23B</td>\n",
       "      <td>1.21T</td>\n",
       "      <td>969.91</td>\n",
       "      <td>520.91B</td>\n",
       "      <td>NaN</td>\n",
       "      <td>1.11</td>\n",
       "      <td>0.0175</td>\n",
       "    </tr>\n",
       "    <tr>\n",
       "      <th>CRG.IR</th>\n",
       "      <td>40.73B</td>\n",
       "      <td>9.40</td>\n",
       "      <td>1.38</td>\n",
       "      <td>14.47</td>\n",
       "      <td>35.29B</td>\n",
       "      <td>1.22</td>\n",
       "      <td>2.05</td>\n",
       "      <td>1.39</td>\n",
       "      <td>27.12</td>\n",
       "      <td>0.0002</td>\n",
       "      <td>...</td>\n",
       "      <td>0.0807</td>\n",
       "      <td>29.42B</td>\n",
       "      <td>37.49</td>\n",
       "      <td>770.66M</td>\n",
       "      <td>6.29B</td>\n",
       "      <td>8.02</td>\n",
       "      <td>12.47B</td>\n",
       "      <td>62.14</td>\n",
       "      <td>1.16</td>\n",
       "      <td>0.0251</td>\n",
       "    </tr>\n",
       "    <tr>\n",
       "      <th>DAI.DE</th>\n",
       "      <td>177.90B</td>\n",
       "      <td>7.27</td>\n",
       "      <td>1.06</td>\n",
       "      <td>7.17</td>\n",
       "      <td>75.06B</td>\n",
       "      <td>0.46</td>\n",
       "      <td>1.02</td>\n",
       "      <td>0.45</td>\n",
       "      <td>6.49</td>\n",
       "      <td>0.1835</td>\n",
       "      <td>...</td>\n",
       "      <td>0.1783</td>\n",
       "      <td>167.87B</td>\n",
       "      <td>156.91</td>\n",
       "      <td>1.07B</td>\n",
       "      <td>21.22B</td>\n",
       "      <td>19.84</td>\n",
       "      <td>130.71B</td>\n",
       "      <td>173.66</td>\n",
       "      <td>1.35</td>\n",
       "      <td>0.0192</td>\n",
       "    </tr>\n",
       "    <tr>\n",
       "      <th>SAN.MC</th>\n",
       "      <td>NaN</td>\n",
       "      <td>NaN</td>\n",
       "      <td>NaN</td>\n",
       "      <td>6.32</td>\n",
       "      <td>56.29B</td>\n",
       "      <td>NaN</td>\n",
       "      <td>0.65</td>\n",
       "      <td>1.27</td>\n",
       "      <td>7.57</td>\n",
       "      <td>0.0073</td>\n",
       "      <td>...</td>\n",
       "      <td>0.0810</td>\n",
       "      <td>36.7B</td>\n",
       "      <td>1.94</td>\n",
       "      <td>17.05B</td>\n",
       "      <td>355.2B</td>\n",
       "      <td>20.50</td>\n",
       "      <td>305.59B</td>\n",
       "      <td>NaN</td>\n",
       "      <td>0.08</td>\n",
       "      <td>0.0252</td>\n",
       "    </tr>\n",
       "  </tbody>\n",
       "</table>\n",
       "<p>15 rows × 51 columns</p>\n",
       "</div>"
      ],
      "text/plain": [
       "Attribute Enterprise Value  Enterprise Value/EBITDA  Enterprise Value/Revenue  \\\n",
       "Ticker                                                                          \n",
       "ABI.BR                 NaN                      NaN                       NaN   \n",
       "ADS.DE              47.38B                    14.17                      2.09   \n",
       "ADYEN.AS            46.92B                    94.14                     10.12   \n",
       "AI.PA               84.75B                    14.32                      4.02   \n",
       "AIR.PA              84.00B                    10.68                      1.53   \n",
       "ALV.DE             106.40B                      NaN                      0.94   \n",
       "ASML.AS            229.72B                    32.78                     12.34   \n",
       "BAS.DE              78.66B                     6.87                      1.05   \n",
       "BAYN.DE             81.70B                    11.26                      1.90   \n",
       "BBVA.MC                NaN                      NaN                       NaN   \n",
       "BMW.DE             129.87B                     5.86                      1.16   \n",
       "BNP.PA                 NaN                      NaN                       NaN   \n",
       "CRG.IR              40.73B                     9.40                      1.38   \n",
       "DAI.DE             177.90B                     7.27                      1.06   \n",
       "SAN.MC                 NaN                      NaN                       NaN   \n",
       "\n",
       "Attribute  Forward P/E Market Cap (intraday)  PEG Ratio (5 yr expected)  \\\n",
       "Ticker                                                                    \n",
       "ABI.BR           18.66                   NaN                       6.35   \n",
       "ADS.DE           24.94                46.54B                       0.59   \n",
       "ADYEN.AS         79.37                50.12B                        NaN   \n",
       "AI.PA            23.98                71.58B                       2.38   \n",
       "AIR.PA           21.46                87.73B                       1.11   \n",
       "ALV.DE           10.21                92.09B                       1.09   \n",
       "ASML.AS          33.67               233.24B                       2.49   \n",
       "BAS.DE           11.32                61.98B                       0.79   \n",
       "BAYN.DE           7.86                52.03B                       3.01   \n",
       "BBVA.MC           7.68                36.91B                       0.44   \n",
       "BMW.DE            6.23                60.94B                       0.25   \n",
       "BNP.PA            9.51                78.49B                       1.01   \n",
       "CRG.IR           14.47                35.29B                       1.22   \n",
       "DAI.DE            7.17                75.06B                       0.46   \n",
       "SAN.MC            6.32                56.29B                        NaN   \n",
       "\n",
       "Attribute  Price/Book (mrq)  Price/Sales (ttm)  Trailing P/E  \\\n",
       "Ticker                                                         \n",
       "ABI.BR                  NaN               2.33         41.64   \n",
       "ADS.DE                 6.04               2.09         32.69   \n",
       "ADYEN.AS              34.89              10.70        134.80   \n",
       "AI.PA                  3.75               3.40         27.61   \n",
       "AIR.PA                 9.98               1.60         20.95   \n",
       "ALV.DE                 1.13               0.80         10.84   \n",
       "ASML.AS               23.00              12.65         40.01   \n",
       "BAS.DE                 1.57               0.83         11.54   \n",
       "BAYN.DE                1.67               1.21        230.26   \n",
       "BBVA.MC                0.82               1.57         10.35   \n",
       "BMW.DE                 0.86               0.55          5.24   \n",
       "BNP.PA                 0.68               1.41          9.54   \n",
       "CRG.IR                 2.05               1.39         27.12   \n",
       "DAI.DE                 1.02               0.45          6.49   \n",
       "SAN.MC                 0.65               1.27          7.57   \n",
       "\n",
       "Attribute  % Held by Insiders  ...  Return on Equity (ttm) %  Revenue (ttm)  \\\n",
       "Ticker                         ...                                            \n",
       "ABI.BR                 0.4874  ...                       NaN         52.87B   \n",
       "ADS.DE                 0.1029  ...                    0.2005         22.65B   \n",
       "ADYEN.AS               0.2366  ...                    0.3049          4.64B   \n",
       "AI.PA                  0.0261  ...                    0.1407         21.06B   \n",
       "AIR.PA                 0.2584  ...                    0.7681         54.91B   \n",
       "ALV.DE                 0.0000  ...                    0.1123        119.85B   \n",
       "ASML.AS                0.0001  ...                    0.4326         17.88B   \n",
       "BAS.DE                 0.0000  ...                    0.1526         74.73B   \n",
       "BAYN.DE                0.0000  ...                    0.0076         42.96B   \n",
       "BBVA.MC                0.0002  ...                    0.0988         17.75B   \n",
       "BMW.DE                 0.4674  ...                    0.1792        112.31B   \n",
       "BNP.PA                 0.1320  ...                    0.0771         43.18B   \n",
       "CRG.IR                 0.0002  ...                    0.0807         29.42B   \n",
       "DAI.DE                 0.1835  ...                    0.1783        167.87B   \n",
       "SAN.MC                 0.0073  ...                    0.0810          36.7B   \n",
       "\n",
       "Attribute  Revenue Per Share (ttm)  Shares Outstanding  Total Cash (mrq)  \\\n",
       "Ticker                                                                     \n",
       "ABI.BR                       26.37               1.74B             7.08B   \n",
       "ADS.DE                      116.19             195.07M             4.43B   \n",
       "ADYEN.AS                    152.76              30.94M             3.34B   \n",
       "AI.PA                        44.62             473.65M             1.39B   \n",
       "AIR.PA                       69.96             785.85M            16.65B   \n",
       "ALV.DE                      288.44             408.46M            21.94B   \n",
       "ASML.AS                      43.31             406.47M             4.46B   \n",
       "BAS.DE                       81.36             918.48M              3.1B   \n",
       "BAYN.DE                      43.73             982.42M             8.22B   \n",
       "BBVA.MC                       2.67               6.54B           121.85B   \n",
       "BMW.DE                      170.25                602M            14.33B   \n",
       "BNP.PA                       34.61               1.23B             1.21T   \n",
       "CRG.IR                       37.49             770.66M             6.29B   \n",
       "DAI.DE                      156.91               1.07B            21.22B   \n",
       "SAN.MC                        1.94              17.05B            355.2B   \n",
       "\n",
       "Attribute  Total Cash Per Share (mrq) Total Debt (mrq)  \\\n",
       "Ticker                                                   \n",
       "ABI.BR                           3.57           90.64B   \n",
       "ADS.DE                          22.95            5.27B   \n",
       "ADYEN.AS                       109.83          128.36M   \n",
       "AI.PA                            2.94           14.61B   \n",
       "AIR.PA                          21.19           14.92B   \n",
       "ALV.DE                          52.89           36.25B   \n",
       "ASML.AS                         10.92            4.11B   \n",
       "BAS.DE                           3.37           19.78B   \n",
       "BAYN.DE                          8.37           41.77B   \n",
       "BBVA.MC                         18.32          107.76B   \n",
       "BMW.DE                          21.72           104.5B   \n",
       "BNP.PA                         969.91          520.91B   \n",
       "CRG.IR                           8.02           12.47B   \n",
       "DAI.DE                          19.84          130.71B   \n",
       "SAN.MC                          20.50          305.59B   \n",
       "\n",
       "Attribute Total Debt/Equity (mrq)  Trailing Annual Dividend Rate  \\\n",
       "Ticker                                                             \n",
       "ABI.BR                     113.92                           0.61   \n",
       "ADS.DE                      66.01                           3.00   \n",
       "ADYEN.AS                     8.94                            NaN   \n",
       "AI.PA                       74.66                           2.75   \n",
       "AIR.PA                     169.50                           1.65   \n",
       "ALV.DE                      42.47                           9.60   \n",
       "ASML.AS                     35.69                           3.35   \n",
       "BAS.DE                      48.70                           3.30   \n",
       "BAYN.DE                    133.55                           2.00   \n",
       "BBVA.MC                       NaN                           0.14   \n",
       "BMW.DE                     144.44                           1.90   \n",
       "BNP.PA                        NaN                           1.11   \n",
       "CRG.IR                      62.14                           1.16   \n",
       "DAI.DE                     173.66                           1.35   \n",
       "SAN.MC                        NaN                           0.08   \n",
       "\n",
       "Attribute  Trailing Annual Dividend Yield %  \n",
       "Ticker                                       \n",
       "ABI.BR                               0.0109  \n",
       "ADS.DE                               0.0122  \n",
       "ADYEN.AS                                NaN  \n",
       "AI.PA                                0.0179  \n",
       "AIR.PA                               0.0146  \n",
       "ALV.DE                               0.0423  \n",
       "ASML.AS                              0.0056  \n",
       "BAS.DE                               0.0486  \n",
       "BAYN.DE                              0.0372  \n",
       "BBVA.MC                              0.0239  \n",
       "BMW.DE                               0.0203  \n",
       "BNP.PA                               0.0175  \n",
       "CRG.IR                               0.0251  \n",
       "DAI.DE                               0.0192  \n",
       "SAN.MC                               0.0252  \n",
       "\n",
       "[15 rows x 51 columns]"
      ]
     },
     "execution_count": 142,
     "metadata": {},
     "output_type": "execute_result"
    }
   ],
   "source": [
    "# Clean up column names to remove footnote indicators\n",
    "\n",
    "df2_wide.rename(columns = {\"% Held by Insiders 1\":\"% Held by Insiders\"}, inplace = True)\n",
    "df2_wide.rename(columns = {\"% Held by Institutions 1\":\"% Held by Institutions\"}, inplace = True)\n",
    "df2_wide.rename(columns = {\"200-Day Moving Average 3\":\"200-Day Moving Average\"}, inplace = True)\n",
    "df2_wide.rename(columns = {\"5 Year Average Dividend Yield 4\":\"5 Year Average Dividend Yield %\"}, inplace = True)\n",
    "df2_wide.rename(columns = {\"50-Day Moving Average 3\":\"50-Day Moving Average\"}, inplace = True)\n",
    "df2_wide.rename(columns = {\"52 Week High 3\":\"52 Week High\"}, inplace = True)\n",
    "df2_wide.rename(columns = {\"52 Week Low 3\":\"52 Week Low\"}, inplace = True)\n",
    "df2_wide.rename(columns = {\"52-Week Change 3\":\"52-Week Change %\"}, inplace = True)\n",
    "df2_wide.rename(columns = {\"Avg Vol (10 day) 3\":\"Avg Vol (10 day)\"}, inplace = True)\n",
    "df2_wide.rename(columns = {\"Avg Vol (3 month) 3\":\"Avg Vol (3 month)\"}, inplace = True)\n",
    "df2_wide.rename(columns = {\"Dividend Date 3\":\"Dividend Date\"}, inplace = True)\n",
    "df2_wide.rename(columns = {\"Ex-Dividend Date 4\":\"Ex-Dividend Date\"}, inplace = True)\n",
    "df2_wide.rename(columns = {\"Forward Annual Dividend Rate 4\":\"Forward Annual Dividend Rate\"}, inplace = True)\n",
    "df2_wide.rename(columns = {\"Forward Annual Dividend Yield 4\":\"Forward Annual Dividend Yield %\"}, inplace = True)\n",
    "df2_wide.rename(columns = {\"Last Split Date 3\":\"Last Split Date\"}, inplace = True)\n",
    "df2_wide.rename(columns = {\"Last Split Factor 2\":\"Last Split Factor\"}, inplace = True)\n",
    "df2_wide.rename(columns = {\"Operating Margin (ttm)\":\"Operating Margin (ttm) %\"}, inplace = True)\n",
    "df2_wide.rename(columns = {\"Payout Ratio 4\":\"Payout Ratio %\"}, inplace = True)\n",
    "df2_wide.rename(columns = {\"Profit Margin\":\"Profit Margin %\"}, inplace = True)\n",
    "df2_wide.rename(columns = {\"Quarterly Earnings Growth (yoy)\":\"Quarterly Earnings Growth (yoy) %\"}, inplace = True)\n",
    "df2_wide.rename(columns = {\"Quarterly Revenue Growth (yoy)\":\"Quarterly Revenue Growth (yoy) %\"}, inplace = True)\n",
    "df2_wide.rename(columns = {\"Return on Assets (ttm)\":\"Return on Assets (ttm) %\"}, inplace = True)\n",
    "df2_wide.rename(columns = {\"Return on Equity (ttm)\":\"Return on Equity (ttm) %\"}, inplace = True)\n",
    "df2_wide.rename(columns = {\"S&P500 52-Week Change 3\":\"S&P500 52-Week Change %\"}, inplace = True)\n",
    "df2_wide.rename(columns = {\"Shares Outstanding 5\":\"Shares Outstanding\"}, inplace = True)\n",
    "df2_wide.rename(columns = {\"Trailing Annual Dividend Rate 3\":\"Trailing Annual Dividend Rate\"}, inplace = True)\n",
    "df2_wide.rename(columns = {\"Trailing Annual Dividend Yield 3\":\"Trailing Annual Dividend Yield %\"}, inplace = True)\n",
    "\n",
    "# Convert string values to float as necessary\n",
    "df1_wide['Trailing P/E'] = df1_wide['Trailing P/E'].astype(float)\n",
    "df1_wide['Enterprise Value/EBITDA'] = df1_wide['Enterprise Value/EBITDA'].astype(float)\n",
    "df1_wide['Enterprise Value/Revenue'] = df1_wide['Enterprise Value/Revenue'].astype(float)\n",
    "df1_wide['Forward P/E'] = df1_wide['Forward P/E'].astype(float)\n",
    "df1_wide['PEG Ratio (5 yr expected)'] = df1_wide['PEG Ratio (5 yr expected)'].astype(float)\n",
    "df1_wide['Price/Book (mrq)'] = df1_wide['Price/Book (mrq)'].astype(float)\n",
    "df1_wide['Price/Sales (ttm)'] = df1_wide['Price/Sales (ttm)'].astype(float)\n",
    "\n",
    "\n",
    "df2_wide['50-Day Moving Average'] = df2_wide['50-Day Moving Average'].astype(float)\n",
    "df2_wide['52 Week High'] = df2_wide['52 Week High'].astype(float)\n",
    "df2_wide['52 Week Low'] = df2_wide['52 Week Low'].astype(float)\n",
    "df2_wide['Beta (5Y Monthly)'] = df2_wide['Beta (5Y Monthly)'].astype(float)\n",
    "df2_wide['Book Value Per Share (mrq)'] = df2_wide['Book Value Per Share (mrq)'].astype(float)\n",
    "df2_wide['Current Ratio (mrq)'] = df2_wide['Current Ratio (mrq)'].astype(float)\n",
    "df2_wide['Diluted EPS (ttm)'] = df2_wide['Diluted EPS (ttm)'].astype(float)\n",
    "df2_wide['Forward Annual Dividend Rate'] = df2_wide['Forward Annual Dividend Rate'].astype(float)\n",
    "df2_wide['Quarterly Revenue Growth (yoy) %'] = df2_wide['Quarterly Revenue Growth (yoy) %'].astype(str).str.strip('%').astype('float') / 100.0\n",
    "df2_wide['Revenue Per Share (ttm)'] = df2_wide['Revenue Per Share (ttm)'].astype(float)\n",
    "df2_wide['Total Cash Per Share (mrq)'] = df2_wide['Total Cash Per Share (mrq)'].astype(float)\n",
    "df2_wide['Total Debt/Equity (mrq)'] = df2_wide['Total Debt/Equity (mrq)'].astype(float)\n",
    "df2_wide['Trailing Annual Dividend Rate'] = df2_wide['Trailing Annual Dividend Rate'].astype(float)\n",
    "df2_wide['200-Day Moving Average'] = df2_wide['200-Day Moving Average'].astype(float)\n",
    "df2_wide['% Held by Insiders'] = df2_wide['% Held by Insiders'].astype(str).str.strip('%').astype('float') / 100.0\n",
    "df2_wide['% Held by Institutions'] = df2_wide['% Held by Institutions'].astype(str).str.strip('%').astype('float') / 100.0\n",
    "df2_wide['5 Year Average Dividend Yield %'] = df2_wide['5 Year Average Dividend Yield %'].astype(float) / 100.0\n",
    "df2_wide['Forward Annual Dividend Yield %'] = df2_wide['Forward Annual Dividend Yield %'].astype(str).str.strip('%').astype('float') / 100.0\n",
    "df2_wide['Operating Margin (ttm) %'] = df2_wide['Operating Margin (ttm) %'].astype(str).str.strip('%').astype('float') / 100.0\n",
    "df2_wide['Payout Ratio %'] = df2_wide['Payout Ratio %'].astype(str).str.strip('%').astype('float') / 100.0\n",
    "df2_wide['Profit Margin %'] = df2_wide['Profit Margin %'].astype(str).str.strip('%').astype('float') / 100.0\n",
    "df2_wide['Return on Assets (ttm) %'] = df2_wide['Return on Assets (ttm) %'].astype(str).str.strip('%').astype('float') / 100.0\n",
    "df2_wide['Return on Equity (ttm) %'] = df2_wide['Return on Equity (ttm) %'].astype(str).str.strip('%').astype('float') / 100.0\n",
    "df2_wide['Trailing Annual Dividend Yield %'] = df2_wide['Trailing Annual Dividend Yield %'].astype(str).str.strip('%').astype('float') / 100.0\n",
    "#df2_wide['S&P500 52-Week Change %'] = df2_wide['S&P500 52-Week Change %'].astype(str).str.strip('%').astype('float') / 100.0\n",
    "#df2_wide['Quarterly Earnings Growth (yoy) %'] = df2_wide['Quarterly Earnings Growth (yoy) %'].astype(str).str.strip('%').astype('float') / 100.0\n",
    "#df2_wide['52-Week Change %'] = df2_wide['52-Week Change %'].astype(str).str.strip('%').astype('float') / 100.0\n",
    "\n",
    "\n",
    "\n",
    "# Merge the dataframes into company_data\n",
    "company_data = pd.concat([df1_wide, df2_wide], axis=1, join='inner')\n",
    "company_data = company_data[company_data['Trailing P/E'].notna()]\n",
    "company_data\n"
   ]
  },
  {
   "cell_type": "code",
   "execution_count": 143,
   "id": "38fca433",
   "metadata": {},
   "outputs": [
    {
     "data": {
      "application/vnd.plotly.v1+json": {
       "config": {
        "plotlyServerURL": "https://plot.ly"
       },
       "data": [
        {
         "hovertemplate": "<b>%{hovertext}</b><br><br>Quarterly Revenue Growth (yoy) %=%{x}<br>Price/Sales (ttm)=%{y}<br>Trailing P/E=%{marker.size}<extra></extra>",
         "hovertext": [
          "ABI.BR",
          "ADS.DE",
          "ADYEN.AS",
          "AI.PA",
          "AIR.PA",
          "ALV.DE",
          "ASML.AS",
          "BAS.DE",
          "BAYN.DE",
          "BBVA.MC",
          "BMW.DE",
          "BNP.PA",
          "CRG.IR",
          "DAI.DE",
          "SAN.MC"
         ],
         "legendgroup": "",
         "marker": {
          "color": "#636efa",
          "size": [
           41.64,
           32.69,
           134.8,
           27.61,
           20.95,
           10.84,
           40.01,
           11.54,
           230.26,
           10.35,
           5.24,
           9.54,
           27.12,
           6.49,
           7.57
          ],
          "sizemode": "area",
          "sizeref": 0.57565,
          "symbol": "circle"
         },
         "mode": "markers",
         "name": "",
         "orientation": "v",
         "showlegend": false,
         "type": "scatter",
         "x": [
          0.114,
          0.034,
          0.637,
          0.055999999999999994,
          -0.062,
          0.038,
          0.324,
          0.424,
          0.15,
          0.135,
          0.045,
          0.11900000000000001,
          0.15,
          0.001,
          0.127
         ],
         "xaxis": "x",
         "y": [
          2.33,
          2.09,
          10.7,
          3.4,
          1.6,
          0.8,
          12.65,
          0.83,
          1.21,
          1.57,
          0.55,
          1.41,
          1.39,
          0.45,
          1.27
         ],
         "yaxis": "y"
        }
       ],
       "layout": {
        "height": 700,
        "legend": {
         "itemsizing": "constant",
         "tracegroupgap": 0
        },
        "margin": {
         "b": 20,
         "l": 20,
         "r": 20,
         "t": 40
        },
        "paper_bgcolor": "#ffffff",
        "template": {
         "data": {
          "bar": [
           {
            "error_x": {
             "color": "#2a3f5f"
            },
            "error_y": {
             "color": "#2a3f5f"
            },
            "marker": {
             "line": {
              "color": "#E5ECF6",
              "width": 0.5
             },
             "pattern": {
              "fillmode": "overlay",
              "size": 10,
              "solidity": 0.2
             }
            },
            "type": "bar"
           }
          ],
          "barpolar": [
           {
            "marker": {
             "line": {
              "color": "#E5ECF6",
              "width": 0.5
             },
             "pattern": {
              "fillmode": "overlay",
              "size": 10,
              "solidity": 0.2
             }
            },
            "type": "barpolar"
           }
          ],
          "carpet": [
           {
            "aaxis": {
             "endlinecolor": "#2a3f5f",
             "gridcolor": "white",
             "linecolor": "white",
             "minorgridcolor": "white",
             "startlinecolor": "#2a3f5f"
            },
            "baxis": {
             "endlinecolor": "#2a3f5f",
             "gridcolor": "white",
             "linecolor": "white",
             "minorgridcolor": "white",
             "startlinecolor": "#2a3f5f"
            },
            "type": "carpet"
           }
          ],
          "choropleth": [
           {
            "colorbar": {
             "outlinewidth": 0,
             "ticks": ""
            },
            "type": "choropleth"
           }
          ],
          "contour": [
           {
            "colorbar": {
             "outlinewidth": 0,
             "ticks": ""
            },
            "colorscale": [
             [
              0,
              "#0d0887"
             ],
             [
              0.1111111111111111,
              "#46039f"
             ],
             [
              0.2222222222222222,
              "#7201a8"
             ],
             [
              0.3333333333333333,
              "#9c179e"
             ],
             [
              0.4444444444444444,
              "#bd3786"
             ],
             [
              0.5555555555555556,
              "#d8576b"
             ],
             [
              0.6666666666666666,
              "#ed7953"
             ],
             [
              0.7777777777777778,
              "#fb9f3a"
             ],
             [
              0.8888888888888888,
              "#fdca26"
             ],
             [
              1,
              "#f0f921"
             ]
            ],
            "type": "contour"
           }
          ],
          "contourcarpet": [
           {
            "colorbar": {
             "outlinewidth": 0,
             "ticks": ""
            },
            "type": "contourcarpet"
           }
          ],
          "heatmap": [
           {
            "colorbar": {
             "outlinewidth": 0,
             "ticks": ""
            },
            "colorscale": [
             [
              0,
              "#0d0887"
             ],
             [
              0.1111111111111111,
              "#46039f"
             ],
             [
              0.2222222222222222,
              "#7201a8"
             ],
             [
              0.3333333333333333,
              "#9c179e"
             ],
             [
              0.4444444444444444,
              "#bd3786"
             ],
             [
              0.5555555555555556,
              "#d8576b"
             ],
             [
              0.6666666666666666,
              "#ed7953"
             ],
             [
              0.7777777777777778,
              "#fb9f3a"
             ],
             [
              0.8888888888888888,
              "#fdca26"
             ],
             [
              1,
              "#f0f921"
             ]
            ],
            "type": "heatmap"
           }
          ],
          "heatmapgl": [
           {
            "colorbar": {
             "outlinewidth": 0,
             "ticks": ""
            },
            "colorscale": [
             [
              0,
              "#0d0887"
             ],
             [
              0.1111111111111111,
              "#46039f"
             ],
             [
              0.2222222222222222,
              "#7201a8"
             ],
             [
              0.3333333333333333,
              "#9c179e"
             ],
             [
              0.4444444444444444,
              "#bd3786"
             ],
             [
              0.5555555555555556,
              "#d8576b"
             ],
             [
              0.6666666666666666,
              "#ed7953"
             ],
             [
              0.7777777777777778,
              "#fb9f3a"
             ],
             [
              0.8888888888888888,
              "#fdca26"
             ],
             [
              1,
              "#f0f921"
             ]
            ],
            "type": "heatmapgl"
           }
          ],
          "histogram": [
           {
            "marker": {
             "pattern": {
              "fillmode": "overlay",
              "size": 10,
              "solidity": 0.2
             }
            },
            "type": "histogram"
           }
          ],
          "histogram2d": [
           {
            "colorbar": {
             "outlinewidth": 0,
             "ticks": ""
            },
            "colorscale": [
             [
              0,
              "#0d0887"
             ],
             [
              0.1111111111111111,
              "#46039f"
             ],
             [
              0.2222222222222222,
              "#7201a8"
             ],
             [
              0.3333333333333333,
              "#9c179e"
             ],
             [
              0.4444444444444444,
              "#bd3786"
             ],
             [
              0.5555555555555556,
              "#d8576b"
             ],
             [
              0.6666666666666666,
              "#ed7953"
             ],
             [
              0.7777777777777778,
              "#fb9f3a"
             ],
             [
              0.8888888888888888,
              "#fdca26"
             ],
             [
              1,
              "#f0f921"
             ]
            ],
            "type": "histogram2d"
           }
          ],
          "histogram2dcontour": [
           {
            "colorbar": {
             "outlinewidth": 0,
             "ticks": ""
            },
            "colorscale": [
             [
              0,
              "#0d0887"
             ],
             [
              0.1111111111111111,
              "#46039f"
             ],
             [
              0.2222222222222222,
              "#7201a8"
             ],
             [
              0.3333333333333333,
              "#9c179e"
             ],
             [
              0.4444444444444444,
              "#bd3786"
             ],
             [
              0.5555555555555556,
              "#d8576b"
             ],
             [
              0.6666666666666666,
              "#ed7953"
             ],
             [
              0.7777777777777778,
              "#fb9f3a"
             ],
             [
              0.8888888888888888,
              "#fdca26"
             ],
             [
              1,
              "#f0f921"
             ]
            ],
            "type": "histogram2dcontour"
           }
          ],
          "mesh3d": [
           {
            "colorbar": {
             "outlinewidth": 0,
             "ticks": ""
            },
            "type": "mesh3d"
           }
          ],
          "parcoords": [
           {
            "line": {
             "colorbar": {
              "outlinewidth": 0,
              "ticks": ""
             }
            },
            "type": "parcoords"
           }
          ],
          "pie": [
           {
            "automargin": true,
            "type": "pie"
           }
          ],
          "scatter": [
           {
            "marker": {
             "colorbar": {
              "outlinewidth": 0,
              "ticks": ""
             }
            },
            "type": "scatter"
           }
          ],
          "scatter3d": [
           {
            "line": {
             "colorbar": {
              "outlinewidth": 0,
              "ticks": ""
             }
            },
            "marker": {
             "colorbar": {
              "outlinewidth": 0,
              "ticks": ""
             }
            },
            "type": "scatter3d"
           }
          ],
          "scattercarpet": [
           {
            "marker": {
             "colorbar": {
              "outlinewidth": 0,
              "ticks": ""
             }
            },
            "type": "scattercarpet"
           }
          ],
          "scattergeo": [
           {
            "marker": {
             "colorbar": {
              "outlinewidth": 0,
              "ticks": ""
             }
            },
            "type": "scattergeo"
           }
          ],
          "scattergl": [
           {
            "marker": {
             "colorbar": {
              "outlinewidth": 0,
              "ticks": ""
             }
            },
            "type": "scattergl"
           }
          ],
          "scattermapbox": [
           {
            "marker": {
             "colorbar": {
              "outlinewidth": 0,
              "ticks": ""
             }
            },
            "type": "scattermapbox"
           }
          ],
          "scatterpolar": [
           {
            "marker": {
             "colorbar": {
              "outlinewidth": 0,
              "ticks": ""
             }
            },
            "type": "scatterpolar"
           }
          ],
          "scatterpolargl": [
           {
            "marker": {
             "colorbar": {
              "outlinewidth": 0,
              "ticks": ""
             }
            },
            "type": "scatterpolargl"
           }
          ],
          "scatterternary": [
           {
            "marker": {
             "colorbar": {
              "outlinewidth": 0,
              "ticks": ""
             }
            },
            "type": "scatterternary"
           }
          ],
          "surface": [
           {
            "colorbar": {
             "outlinewidth": 0,
             "ticks": ""
            },
            "colorscale": [
             [
              0,
              "#0d0887"
             ],
             [
              0.1111111111111111,
              "#46039f"
             ],
             [
              0.2222222222222222,
              "#7201a8"
             ],
             [
              0.3333333333333333,
              "#9c179e"
             ],
             [
              0.4444444444444444,
              "#bd3786"
             ],
             [
              0.5555555555555556,
              "#d8576b"
             ],
             [
              0.6666666666666666,
              "#ed7953"
             ],
             [
              0.7777777777777778,
              "#fb9f3a"
             ],
             [
              0.8888888888888888,
              "#fdca26"
             ],
             [
              1,
              "#f0f921"
             ]
            ],
            "type": "surface"
           }
          ],
          "table": [
           {
            "cells": {
             "fill": {
              "color": "#EBF0F8"
             },
             "line": {
              "color": "white"
             }
            },
            "header": {
             "fill": {
              "color": "#C8D4E3"
             },
             "line": {
              "color": "white"
             }
            },
            "type": "table"
           }
          ]
         },
         "layout": {
          "annotationdefaults": {
           "arrowcolor": "#2a3f5f",
           "arrowhead": 0,
           "arrowwidth": 1
          },
          "autotypenumbers": "strict",
          "coloraxis": {
           "colorbar": {
            "outlinewidth": 0,
            "ticks": ""
           }
          },
          "colorscale": {
           "diverging": [
            [
             0,
             "#8e0152"
            ],
            [
             0.1,
             "#c51b7d"
            ],
            [
             0.2,
             "#de77ae"
            ],
            [
             0.3,
             "#f1b6da"
            ],
            [
             0.4,
             "#fde0ef"
            ],
            [
             0.5,
             "#f7f7f7"
            ],
            [
             0.6,
             "#e6f5d0"
            ],
            [
             0.7,
             "#b8e186"
            ],
            [
             0.8,
             "#7fbc41"
            ],
            [
             0.9,
             "#4d9221"
            ],
            [
             1,
             "#276419"
            ]
           ],
           "sequential": [
            [
             0,
             "#0d0887"
            ],
            [
             0.1111111111111111,
             "#46039f"
            ],
            [
             0.2222222222222222,
             "#7201a8"
            ],
            [
             0.3333333333333333,
             "#9c179e"
            ],
            [
             0.4444444444444444,
             "#bd3786"
            ],
            [
             0.5555555555555556,
             "#d8576b"
            ],
            [
             0.6666666666666666,
             "#ed7953"
            ],
            [
             0.7777777777777778,
             "#fb9f3a"
            ],
            [
             0.8888888888888888,
             "#fdca26"
            ],
            [
             1,
             "#f0f921"
            ]
           ],
           "sequentialminus": [
            [
             0,
             "#0d0887"
            ],
            [
             0.1111111111111111,
             "#46039f"
            ],
            [
             0.2222222222222222,
             "#7201a8"
            ],
            [
             0.3333333333333333,
             "#9c179e"
            ],
            [
             0.4444444444444444,
             "#bd3786"
            ],
            [
             0.5555555555555556,
             "#d8576b"
            ],
            [
             0.6666666666666666,
             "#ed7953"
            ],
            [
             0.7777777777777778,
             "#fb9f3a"
            ],
            [
             0.8888888888888888,
             "#fdca26"
            ],
            [
             1,
             "#f0f921"
            ]
           ]
          },
          "colorway": [
           "#636efa",
           "#EF553B",
           "#00cc96",
           "#ab63fa",
           "#FFA15A",
           "#19d3f3",
           "#FF6692",
           "#B6E880",
           "#FF97FF",
           "#FECB52"
          ],
          "font": {
           "color": "#2a3f5f"
          },
          "geo": {
           "bgcolor": "white",
           "lakecolor": "white",
           "landcolor": "#E5ECF6",
           "showlakes": true,
           "showland": true,
           "subunitcolor": "white"
          },
          "hoverlabel": {
           "align": "left"
          },
          "hovermode": "closest",
          "mapbox": {
           "style": "light"
          },
          "paper_bgcolor": "white",
          "plot_bgcolor": "#E5ECF6",
          "polar": {
           "angularaxis": {
            "gridcolor": "white",
            "linecolor": "white",
            "ticks": ""
           },
           "bgcolor": "#E5ECF6",
           "radialaxis": {
            "gridcolor": "white",
            "linecolor": "white",
            "ticks": ""
           }
          },
          "scene": {
           "xaxis": {
            "backgroundcolor": "#E5ECF6",
            "gridcolor": "white",
            "gridwidth": 2,
            "linecolor": "white",
            "showbackground": true,
            "ticks": "",
            "zerolinecolor": "white"
           },
           "yaxis": {
            "backgroundcolor": "#E5ECF6",
            "gridcolor": "white",
            "gridwidth": 2,
            "linecolor": "white",
            "showbackground": true,
            "ticks": "",
            "zerolinecolor": "white"
           },
           "zaxis": {
            "backgroundcolor": "#E5ECF6",
            "gridcolor": "white",
            "gridwidth": 2,
            "linecolor": "white",
            "showbackground": true,
            "ticks": "",
            "zerolinecolor": "white"
           }
          },
          "shapedefaults": {
           "line": {
            "color": "#2a3f5f"
           }
          },
          "ternary": {
           "aaxis": {
            "gridcolor": "white",
            "linecolor": "white",
            "ticks": ""
           },
           "baxis": {
            "gridcolor": "white",
            "linecolor": "white",
            "ticks": ""
           },
           "bgcolor": "#E5ECF6",
           "caxis": {
            "gridcolor": "white",
            "linecolor": "white",
            "ticks": ""
           }
          },
          "title": {
           "x": 0.05
          },
          "xaxis": {
           "automargin": true,
           "gridcolor": "white",
           "linecolor": "white",
           "ticks": "",
           "title": {
            "standoff": 15
           },
           "zerolinecolor": "white",
           "zerolinewidth": 2
          },
          "yaxis": {
           "automargin": true,
           "gridcolor": "white",
           "linecolor": "white",
           "ticks": "",
           "title": {
            "standoff": 15
           },
           "zerolinecolor": "white",
           "zerolinewidth": 2
          }
         }
        },
        "title": {
         "text": "Quarterly Revenue Growth (yoy) % vs. Price/Sales (ttm) vs. Trailing P/E"
        },
        "width": 1250,
        "xaxis": {
         "anchor": "y",
         "domain": [
          0,
          1
         ],
         "title": {
          "text": "Quarterly Revenue Growth (yoy) %"
         }
        },
        "yaxis": {
         "anchor": "x",
         "domain": [
          0,
          1
         ],
         "title": {
          "text": "Price/Sales (ttm)"
         }
        }
       }
      }
     },
     "metadata": {},
     "output_type": "display_data"
    }
   ],
   "source": [
    "# Plot out the data\n",
    "ValueStockChart = px.scatter(company_data,\n",
    "                   x='Quarterly Revenue Growth (yoy) %',\n",
    "                   y='Price/Sales (ttm)',\n",
    "                   size = \"Trailing P/E\",\n",
    "                   hover_name = company_data.index,\n",
    "                   title=\"Quarterly Revenue Growth (yoy) % vs. Price/Sales (ttm) vs. Trailing P/E\",\n",
    "                   width=1250,\n",
    "                   height=700)\n",
    "\n",
    "# Update chart layouts\n",
    "ValueStockChart.update_layout(\n",
    "    margin=dict(l=20, r=20, t=40, b=20),\n",
    "    paper_bgcolor=\"#ffffff\",\n",
    ")\n",
    "\n",
    "ValueStockChart.show()"
   ]
  }
 ],
 "metadata": {
  "kernelspec": {
   "display_name": "Python 3",
   "language": "python",
   "name": "python3"
  },
  "language_info": {
   "codemirror_mode": {
    "name": "ipython",
    "version": 3
   },
   "file_extension": ".py",
   "mimetype": "text/x-python",
   "name": "python",
   "nbconvert_exporter": "python",
   "pygments_lexer": "ipython3",
   "version": "3.8.8"
  }
 },
 "nbformat": 4,
 "nbformat_minor": 5
}
