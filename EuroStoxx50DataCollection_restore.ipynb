{
 "cells": [
  {
   "cell_type": "code",
   "execution_count": 161,
   "id": "278c81c1",
   "metadata": {},
   "outputs": [
    {
     "name": "stdout",
     "output_type": "stream",
     "text": [
      "Requirement already satisfied: yahoo_fin in /Library/Frameworks/Python.framework/Versions/3.10/lib/python3.10/site-packages (0.8.9.1)\n",
      "Requirement already satisfied: requests-html in /Library/Frameworks/Python.framework/Versions/3.10/lib/python3.10/site-packages (from yahoo_fin) (0.10.0)\n",
      "Requirement already satisfied: pandas in /Library/Frameworks/Python.framework/Versions/3.10/lib/python3.10/site-packages (from yahoo_fin) (1.4.0)\n",
      "Requirement already satisfied: requests in /Library/Frameworks/Python.framework/Versions/3.10/lib/python3.10/site-packages (from yahoo_fin) (2.27.1)\n",
      "Requirement already satisfied: feedparser in /Library/Frameworks/Python.framework/Versions/3.10/lib/python3.10/site-packages (from yahoo_fin) (6.0.8)\n",
      "Requirement already satisfied: sgmllib3k in /Library/Frameworks/Python.framework/Versions/3.10/lib/python3.10/site-packages (from feedparser->yahoo_fin) (1.0.0)\n",
      "Requirement already satisfied: pytz>=2020.1 in /Library/Frameworks/Python.framework/Versions/3.10/lib/python3.10/site-packages (from pandas->yahoo_fin) (2021.3)\n",
      "Requirement already satisfied: numpy>=1.21.0 in /Library/Frameworks/Python.framework/Versions/3.10/lib/python3.10/site-packages (from pandas->yahoo_fin) (1.22.2)\n",
      "Requirement already satisfied: python-dateutil>=2.8.1 in /Library/Frameworks/Python.framework/Versions/3.10/lib/python3.10/site-packages (from pandas->yahoo_fin) (2.8.2)\n",
      "Requirement already satisfied: charset-normalizer~=2.0.0 in /Library/Frameworks/Python.framework/Versions/3.10/lib/python3.10/site-packages (from requests->yahoo_fin) (2.0.11)\n",
      "Requirement already satisfied: idna<4,>=2.5 in /Library/Frameworks/Python.framework/Versions/3.10/lib/python3.10/site-packages (from requests->yahoo_fin) (3.3)\n",
      "Requirement already satisfied: urllib3<1.27,>=1.21.1 in /Library/Frameworks/Python.framework/Versions/3.10/lib/python3.10/site-packages (from requests->yahoo_fin) (1.26.8)\n",
      "Requirement already satisfied: certifi>=2017.4.17 in /Library/Frameworks/Python.framework/Versions/3.10/lib/python3.10/site-packages (from requests->yahoo_fin) (2021.10.8)\n",
      "Requirement already satisfied: w3lib in /Library/Frameworks/Python.framework/Versions/3.10/lib/python3.10/site-packages (from requests-html->yahoo_fin) (1.22.0)\n",
      "Requirement already satisfied: bs4 in /Library/Frameworks/Python.framework/Versions/3.10/lib/python3.10/site-packages (from requests-html->yahoo_fin) (0.0.1)\n",
      "Requirement already satisfied: pyquery in /Library/Frameworks/Python.framework/Versions/3.10/lib/python3.10/site-packages (from requests-html->yahoo_fin) (1.4.3)\n",
      "Requirement already satisfied: parse in /Library/Frameworks/Python.framework/Versions/3.10/lib/python3.10/site-packages (from requests-html->yahoo_fin) (1.19.0)\n",
      "Requirement already satisfied: fake-useragent in /Library/Frameworks/Python.framework/Versions/3.10/lib/python3.10/site-packages (from requests-html->yahoo_fin) (0.1.11)\n",
      "Requirement already satisfied: pyppeteer>=0.0.14 in /Library/Frameworks/Python.framework/Versions/3.10/lib/python3.10/site-packages (from requests-html->yahoo_fin) (1.0.2)\n",
      "Requirement already satisfied: pyee<9.0.0,>=8.1.0 in /Library/Frameworks/Python.framework/Versions/3.10/lib/python3.10/site-packages (from pyppeteer>=0.0.14->requests-html->yahoo_fin) (8.2.2)\n",
      "Requirement already satisfied: importlib-metadata>=1.4 in /Library/Frameworks/Python.framework/Versions/3.10/lib/python3.10/site-packages (from pyppeteer>=0.0.14->requests-html->yahoo_fin) (4.10.1)\n",
      "Requirement already satisfied: websockets<11.0,>=10.0 in /Library/Frameworks/Python.framework/Versions/3.10/lib/python3.10/site-packages (from pyppeteer>=0.0.14->requests-html->yahoo_fin) (10.1)\n",
      "Requirement already satisfied: tqdm<5.0.0,>=4.42.1 in /Library/Frameworks/Python.framework/Versions/3.10/lib/python3.10/site-packages (from pyppeteer>=0.0.14->requests-html->yahoo_fin) (4.62.3)\n",
      "Requirement already satisfied: appdirs<2.0.0,>=1.4.3 in /Library/Frameworks/Python.framework/Versions/3.10/lib/python3.10/site-packages (from pyppeteer>=0.0.14->requests-html->yahoo_fin) (1.4.4)\n",
      "Requirement already satisfied: six>=1.5 in /Library/Frameworks/Python.framework/Versions/3.10/lib/python3.10/site-packages (from python-dateutil>=2.8.1->pandas->yahoo_fin) (1.16.0)\n",
      "Requirement already satisfied: beautifulsoup4 in /Library/Frameworks/Python.framework/Versions/3.10/lib/python3.10/site-packages (from bs4->requests-html->yahoo_fin) (4.10.0)\n",
      "Requirement already satisfied: lxml>=2.1 in /Library/Frameworks/Python.framework/Versions/3.10/lib/python3.10/site-packages (from pyquery->requests-html->yahoo_fin) (4.7.1)\n",
      "Requirement already satisfied: cssselect>0.7.9 in /Library/Frameworks/Python.framework/Versions/3.10/lib/python3.10/site-packages (from pyquery->requests-html->yahoo_fin) (1.1.0)\n",
      "Requirement already satisfied: zipp>=0.5 in /Library/Frameworks/Python.framework/Versions/3.10/lib/python3.10/site-packages (from importlib-metadata>=1.4->pyppeteer>=0.0.14->requests-html->yahoo_fin) (3.7.0)\n",
      "Requirement already satisfied: soupsieve>1.2 in /Library/Frameworks/Python.framework/Versions/3.10/lib/python3.10/site-packages (from beautifulsoup4->bs4->requests-html->yahoo_fin) (2.3.1)\n",
      "Requirement already satisfied: requests_html in /Library/Frameworks/Python.framework/Versions/3.10/lib/python3.10/site-packages (0.10.0)\n",
      "Requirement already satisfied: fake-useragent in /Library/Frameworks/Python.framework/Versions/3.10/lib/python3.10/site-packages (from requests_html) (0.1.11)\n",
      "Requirement already satisfied: pyquery in /Library/Frameworks/Python.framework/Versions/3.10/lib/python3.10/site-packages (from requests_html) (1.4.3)\n",
      "Requirement already satisfied: w3lib in /Library/Frameworks/Python.framework/Versions/3.10/lib/python3.10/site-packages (from requests_html) (1.22.0)\n",
      "Requirement already satisfied: pyppeteer>=0.0.14 in /Library/Frameworks/Python.framework/Versions/3.10/lib/python3.10/site-packages (from requests_html) (1.0.2)\n",
      "Requirement already satisfied: requests in /Library/Frameworks/Python.framework/Versions/3.10/lib/python3.10/site-packages (from requests_html) (2.27.1)\n",
      "Requirement already satisfied: bs4 in /Library/Frameworks/Python.framework/Versions/3.10/lib/python3.10/site-packages (from requests_html) (0.0.1)\n",
      "Requirement already satisfied: parse in /Library/Frameworks/Python.framework/Versions/3.10/lib/python3.10/site-packages (from requests_html) (1.19.0)\n",
      "Requirement already satisfied: pyee<9.0.0,>=8.1.0 in /Library/Frameworks/Python.framework/Versions/3.10/lib/python3.10/site-packages (from pyppeteer>=0.0.14->requests_html) (8.2.2)\n",
      "Requirement already satisfied: websockets<11.0,>=10.0 in /Library/Frameworks/Python.framework/Versions/3.10/lib/python3.10/site-packages (from pyppeteer>=0.0.14->requests_html) (10.1)\n",
      "Requirement already satisfied: certifi>=2021 in /Library/Frameworks/Python.framework/Versions/3.10/lib/python3.10/site-packages (from pyppeteer>=0.0.14->requests_html) (2021.10.8)\n",
      "Requirement already satisfied: urllib3<2.0.0,>=1.25.8 in /Library/Frameworks/Python.framework/Versions/3.10/lib/python3.10/site-packages (from pyppeteer>=0.0.14->requests_html) (1.26.8)\n",
      "Requirement already satisfied: importlib-metadata>=1.4 in /Library/Frameworks/Python.framework/Versions/3.10/lib/python3.10/site-packages (from pyppeteer>=0.0.14->requests_html) (4.10.1)\n",
      "Requirement already satisfied: tqdm<5.0.0,>=4.42.1 in /Library/Frameworks/Python.framework/Versions/3.10/lib/python3.10/site-packages (from pyppeteer>=0.0.14->requests_html) (4.62.3)\n",
      "Requirement already satisfied: appdirs<2.0.0,>=1.4.3 in /Library/Frameworks/Python.framework/Versions/3.10/lib/python3.10/site-packages (from pyppeteer>=0.0.14->requests_html) (1.4.4)\n",
      "Requirement already satisfied: beautifulsoup4 in /Library/Frameworks/Python.framework/Versions/3.10/lib/python3.10/site-packages (from bs4->requests_html) (4.10.0)\n",
      "Requirement already satisfied: lxml>=2.1 in /Library/Frameworks/Python.framework/Versions/3.10/lib/python3.10/site-packages (from pyquery->requests_html) (4.7.1)\n",
      "Requirement already satisfied: cssselect>0.7.9 in /Library/Frameworks/Python.framework/Versions/3.10/lib/python3.10/site-packages (from pyquery->requests_html) (1.1.0)\n",
      "Requirement already satisfied: idna<4,>=2.5 in /Library/Frameworks/Python.framework/Versions/3.10/lib/python3.10/site-packages (from requests->requests_html) (3.3)\n",
      "Requirement already satisfied: charset-normalizer~=2.0.0 in /Library/Frameworks/Python.framework/Versions/3.10/lib/python3.10/site-packages (from requests->requests_html) (2.0.11)\n",
      "Requirement already satisfied: six>=1.4.1 in /Library/Frameworks/Python.framework/Versions/3.10/lib/python3.10/site-packages (from w3lib->requests_html) (1.16.0)\n",
      "Requirement already satisfied: zipp>=0.5 in /Library/Frameworks/Python.framework/Versions/3.10/lib/python3.10/site-packages (from importlib-metadata>=1.4->pyppeteer>=0.0.14->requests_html) (3.7.0)\n",
      "Requirement already satisfied: soupsieve>1.2 in /Library/Frameworks/Python.framework/Versions/3.10/lib/python3.10/site-packages (from beautifulsoup4->bs4->requests_html) (2.3.1)\n",
      "Requirement already satisfied: plotly.express in /Library/Frameworks/Python.framework/Versions/3.10/lib/python3.10/site-packages (0.4.1)\n",
      "Requirement already satisfied: plotly>=4.1.0 in /Library/Frameworks/Python.framework/Versions/3.10/lib/python3.10/site-packages (from plotly.express) (5.5.0)\n",
      "Requirement already satisfied: scipy>=0.18 in /Library/Frameworks/Python.framework/Versions/3.10/lib/python3.10/site-packages (from plotly.express) (1.7.3)\n",
      "Requirement already satisfied: numpy>=1.11 in /Library/Frameworks/Python.framework/Versions/3.10/lib/python3.10/site-packages (from plotly.express) (1.22.2)\n",
      "Requirement already satisfied: patsy>=0.5 in /Library/Frameworks/Python.framework/Versions/3.10/lib/python3.10/site-packages (from plotly.express) (0.5.2)\n",
      "Requirement already satisfied: pandas>=0.20.0 in /Library/Frameworks/Python.framework/Versions/3.10/lib/python3.10/site-packages (from plotly.express) (1.4.0)\n",
      "Requirement already satisfied: statsmodels>=0.9.0 in /Library/Frameworks/Python.framework/Versions/3.10/lib/python3.10/site-packages (from plotly.express) (0.13.1)\n",
      "Requirement already satisfied: pytz>=2020.1 in /Library/Frameworks/Python.framework/Versions/3.10/lib/python3.10/site-packages (from pandas>=0.20.0->plotly.express) (2021.3)\n",
      "Requirement already satisfied: python-dateutil>=2.8.1 in /Library/Frameworks/Python.framework/Versions/3.10/lib/python3.10/site-packages (from pandas>=0.20.0->plotly.express) (2.8.2)\n",
      "Requirement already satisfied: six in /Library/Frameworks/Python.framework/Versions/3.10/lib/python3.10/site-packages (from patsy>=0.5->plotly.express) (1.16.0)\n",
      "Requirement already satisfied: tenacity>=6.2.0 in /Library/Frameworks/Python.framework/Versions/3.10/lib/python3.10/site-packages (from plotly>=4.1.0->plotly.express) (8.0.1)\n",
      "Requirement already satisfied: nbformat in /Library/Frameworks/Python.framework/Versions/3.10/lib/python3.10/site-packages (5.1.3)\n",
      "Requirement already satisfied: ipython-genutils in /Library/Frameworks/Python.framework/Versions/3.10/lib/python3.10/site-packages (from nbformat) (0.2.0)\n",
      "Requirement already satisfied: jsonschema!=2.5.0,>=2.4 in /Library/Frameworks/Python.framework/Versions/3.10/lib/python3.10/site-packages (from nbformat) (4.4.0)\n",
      "Requirement already satisfied: traitlets>=4.1 in /Library/Frameworks/Python.framework/Versions/3.10/lib/python3.10/site-packages (from nbformat) (5.1.1)\n",
      "Requirement already satisfied: jupyter-core in /Library/Frameworks/Python.framework/Versions/3.10/lib/python3.10/site-packages (from nbformat) (4.9.1)\n",
      "Requirement already satisfied: attrs>=17.4.0 in /Library/Frameworks/Python.framework/Versions/3.10/lib/python3.10/site-packages (from jsonschema!=2.5.0,>=2.4->nbformat) (21.4.0)\n",
      "Requirement already satisfied: pyrsistent!=0.17.0,!=0.17.1,!=0.17.2,>=0.14.0 in /Library/Frameworks/Python.framework/Versions/3.10/lib/python3.10/site-packages (from jsonschema!=2.5.0,>=2.4->nbformat) (0.18.1)\n"
     ]
    }
   ],
   "source": [
    "!pip install yahoo_fin\n",
    "!pip install requests_html\n",
    "!pip install plotly.express\n",
    "!pip install nbformat \n"
   ]
  },
  {
   "cell_type": "code",
   "execution_count": 162,
   "id": "2082e981",
   "metadata": {},
   "outputs": [
    {
     "name": "stdout",
     "output_type": "stream",
     "text": [
      "Requirement already satisfied: schedule in /Library/Frameworks/Python.framework/Versions/3.10/lib/python3.10/site-packages (1.1.0)\n"
     ]
    }
   ],
   "source": [
    "!pip install schedule"
   ]
  },
  {
   "cell_type": "markdown",
   "id": "66f4553f",
   "metadata": {},
   "source": [
    "**We found the below method of downloading Yahoo Finance information from the statistics page on the internet and it seems to work. Alternativly, one could go into each of the ticker codes of Yahoo Finance page**\n"
   ]
  },
  {
   "cell_type": "code",
   "execution_count": 163,
   "id": "c56a4ff7",
   "metadata": {},
   "outputs": [],
   "source": [
    "import yahoo_fin.stock_info as si #Get data\n",
    "import pandas as pd #Data manipulation\n",
    "from tqdm import tqdm #Make a progress bar because that's cool...\n",
    "from bs4 import BeautifulSoup # to parse external data\n",
    "import requests # to get data\n",
    "from requests_html import HTMLSession\n",
    "#import matplotlib.pyplot as plt\n",
    "import plotly.express as px #Charting\n",
    "import pickle\n",
    "import schedule\n",
    "import time"
   ]
  },
  {
   "cell_type": "code",
   "execution_count": 190,
   "id": "6fdd9781",
   "metadata": {},
   "outputs": [
    {
     "ename": "KeyboardInterrupt",
     "evalue": "",
     "output_type": "error",
     "traceback": [
      "\u001b[0;31m---------------------------------------------------------------------------\u001b[0m",
      "\u001b[0;31mKeyboardInterrupt\u001b[0m                         Traceback (most recent call last)",
      "Input \u001b[0;32mIn [190]\u001b[0m, in \u001b[0;36m<module>\u001b[0;34m\u001b[0m\n\u001b[1;32m     19\u001b[0m \u001b[38;5;28;01mwhile\u001b[39;00m \u001b[38;5;28;01mTrue\u001b[39;00m:\n\u001b[1;32m     20\u001b[0m     schedule\u001b[38;5;241m.\u001b[39mrun_pending\n\u001b[0;32m---> 21\u001b[0m     \u001b[43mtime\u001b[49m\u001b[38;5;241;43m.\u001b[39;49m\u001b[43msleep\u001b[49m\u001b[43m(\u001b[49m\u001b[38;5;241;43m1\u001b[39;49m\u001b[43m)\u001b[49m\n",
      "\u001b[0;31mKeyboardInterrupt\u001b[0m: "
     ]
    }
   ],
   "source": [
    "#scrEURSTX = requests.get('https://en.wikipedia.org/wiki/EURO_STOXX_50')\n",
    "#soupEURSTX = BeautifulSoup(scrEURSTX.text, 'lxml')\n",
    "#tableEURSTX = soupEURSTX.find(text=\"Ticker\").find_parent(\"table\").find('tbody').findAll('tr')[1:]\n",
    "\n",
    "#EURSTX_companies = pd.DataFrame()\n",
    "#for row in tableEURSTX:\n",
    "#ticker1 = row.findAll('td')[0].text.strip()\n",
    "#title1 = row.findAll('td')[2].text.strip()\n",
    "#industry1 = row.findAll('td')[5].text.strip()\n",
    "#row_ = pd.Series({\"Ticker\":ticker1, \"Name\": title1, \"Industry\":industry1})\n",
    "#EURSTX_companies = pd.concat([EURSTX_companies, row_], axis=1, ignore_index = True)\n",
    "\n",
    "#EURSTX_companies = EURSTX_companies.T\n",
    "#EURSTX_ticker = EURSTX_companies.iloc[:,0]\n",
    "#EURSTX_companies\n",
    "#EURSTX_ticker"
   ]
  },
  {
   "cell_type": "code",
   "execution_count": 165,
   "id": "3aafc98b",
   "metadata": {},
   "outputs": [],
   "source": [
    "def valuation_measures(reload_EURSTX50=False):\n",
    "       \n",
    "    if reload_EURSTX50:\n",
    "        EURSTX_tickers = getEURSTX50tickers()\n",
    "    else:\n",
    "        with open(\"EURSTX50tickers.pickle\",\"rb\") as f:\n",
    "            EURSTX_tickers = pickle.load(f)\n",
    "    ticker_stats = {}     \n",
    "    for ticker in EURSTX_tickers:\n",
    "        try:\n",
    "            df = si.get_stats_valuation(ticker)\n",
    "            df = df.iloc[:,:2]\n",
    "            df.columns = [\"Attribute\", \"Recent\"]\n",
    "            ticker_stats[ticker] = df\n",
    "        except:\n",
    "            pass\n",
    "    dat = pd.concat(ticker_stats)\n",
    "    dat = dat.reset_index()\n",
    "    dat = dat.dropna()\n",
    "    del dat[\"level_1\"]\n",
    "    dat.columns = [\"Ticker\", \"Attribute\", \"Recent\"]\n",
    "    dat.to_csv('df1.csv')\n",
    "    return dat"
   ]
  },
  {
   "cell_type": "code",
   "execution_count": 166,
   "id": "b69797e3",
   "metadata": {},
   "outputs": [
    {
     "data": {
      "text/html": [
       "<div>\n",
       "<style scoped>\n",
       "    .dataframe tbody tr th:only-of-type {\n",
       "        vertical-align: middle;\n",
       "    }\n",
       "\n",
       "    .dataframe tbody tr th {\n",
       "        vertical-align: top;\n",
       "    }\n",
       "\n",
       "    .dataframe thead th {\n",
       "        text-align: right;\n",
       "    }\n",
       "</style>\n",
       "<table border=\"1\" class=\"dataframe\">\n",
       "  <thead>\n",
       "    <tr style=\"text-align: right;\">\n",
       "      <th></th>\n",
       "      <th>Ticker</th>\n",
       "      <th>Attribute</th>\n",
       "      <th>Recent</th>\n",
       "    </tr>\n",
       "  </thead>\n",
       "  <tbody>\n",
       "    <tr>\n",
       "      <th>0</th>\n",
       "      <td>ADS.DE</td>\n",
       "      <td>Market Cap (intraday)</td>\n",
       "      <td>46.54B</td>\n",
       "    </tr>\n",
       "    <tr>\n",
       "      <th>1</th>\n",
       "      <td>ADS.DE</td>\n",
       "      <td>Enterprise Value</td>\n",
       "      <td>47.38B</td>\n",
       "    </tr>\n",
       "    <tr>\n",
       "      <th>2</th>\n",
       "      <td>ADS.DE</td>\n",
       "      <td>Trailing P/E</td>\n",
       "      <td>32.69</td>\n",
       "    </tr>\n",
       "    <tr>\n",
       "      <th>3</th>\n",
       "      <td>ADS.DE</td>\n",
       "      <td>Forward P/E</td>\n",
       "      <td>24.94</td>\n",
       "    </tr>\n",
       "    <tr>\n",
       "      <th>4</th>\n",
       "      <td>ADS.DE</td>\n",
       "      <td>PEG Ratio (5 yr expected)</td>\n",
       "      <td>0.59</td>\n",
       "    </tr>\n",
       "    <tr>\n",
       "      <th>...</th>\n",
       "      <td>...</td>\n",
       "      <td>...</td>\n",
       "      <td>...</td>\n",
       "    </tr>\n",
       "    <tr>\n",
       "      <th>301</th>\n",
       "      <td>LIN.DE</td>\n",
       "      <td>PEG Ratio (5 yr expected)</td>\n",
       "      <td>2.15</td>\n",
       "    </tr>\n",
       "    <tr>\n",
       "      <th>302</th>\n",
       "      <td>LIN.DE</td>\n",
       "      <td>Price/Sales (ttm)</td>\n",
       "      <td>5.49</td>\n",
       "    </tr>\n",
       "    <tr>\n",
       "      <th>303</th>\n",
       "      <td>LIN.DE</td>\n",
       "      <td>Price/Book (mrq)</td>\n",
       "      <td>3.60</td>\n",
       "    </tr>\n",
       "    <tr>\n",
       "      <th>304</th>\n",
       "      <td>LIN.DE</td>\n",
       "      <td>Enterprise Value/Revenue</td>\n",
       "      <td>5.11</td>\n",
       "    </tr>\n",
       "    <tr>\n",
       "      <th>305</th>\n",
       "      <td>LIN.DE</td>\n",
       "      <td>Enterprise Value/EBITDA</td>\n",
       "      <td>15.68</td>\n",
       "    </tr>\n",
       "  </tbody>\n",
       "</table>\n",
       "<p>257 rows × 3 columns</p>\n",
       "</div>"
      ],
      "text/plain": [
       "     Ticker                  Attribute  Recent\n",
       "0    ADS.DE      Market Cap (intraday)  46.54B\n",
       "1    ADS.DE           Enterprise Value  47.38B\n",
       "2    ADS.DE               Trailing P/E   32.69\n",
       "3    ADS.DE                Forward P/E   24.94\n",
       "4    ADS.DE  PEG Ratio (5 yr expected)    0.59\n",
       "..      ...                        ...     ...\n",
       "301  LIN.DE  PEG Ratio (5 yr expected)    2.15\n",
       "302  LIN.DE          Price/Sales (ttm)    5.49\n",
       "303  LIN.DE           Price/Book (mrq)    3.60\n",
       "304  LIN.DE   Enterprise Value/Revenue    5.11\n",
       "305  LIN.DE    Enterprise Value/EBITDA   15.68\n",
       "\n",
       "[257 rows x 3 columns]"
      ]
     },
     "execution_count": 166,
     "metadata": {},
     "output_type": "execute_result"
    }
   ],
   "source": [
    "df1 = valuation_measures()\n",
    "df1"
   ]
  },
  {
   "cell_type": "code",
   "execution_count": 167,
   "id": "7bb50dc7",
   "metadata": {},
   "outputs": [],
   "source": [
    "def extra_stats(reload_EURSTX50=False):\n",
    "    \n",
    "    if reload_EURSTX50:\n",
    "        EURSTX_tickers = getEURSTX50tickers()\n",
    "    else:\n",
    "        with open(\"EURSTX50tickers.pickle\",\"rb\") as f:\n",
    "            EURSTX_tickers = pickle.load(f)\n",
    "    ticker_extra_stats = {}\n",
    "    for ticker in tqdm(ER_tickers):\n",
    "        try:\n",
    "            ticker_extra_stats[ticker] = si.get_stats(ticker)\n",
    "        except:\n",
    "            pass\n",
    "    dat2 = pd.concat(ticker_extra_stats)\n",
    "    dat2 = dat2.reset_index()\n",
    "    dat2 = dat2.dropna()\n",
    "    del dat2[\"level_1\"]\n",
    "    dat2.columns = [\"Ticker\", \"Attribute\", \"Value\"]\n",
    "    dat2.to_csv('df2.csv')\n",
    "    return dat2"
   ]
  },
  {
   "cell_type": "code",
   "execution_count": 168,
   "id": "8208118c",
   "metadata": {},
   "outputs": [
    {
     "name": "stderr",
     "output_type": "stream",
     "text": [
      "100%|██████████| 50/50 [02:34<00:00,  3.08s/it]\n"
     ]
    },
    {
     "data": {
      "text/html": [
       "<div>\n",
       "<style scoped>\n",
       "    .dataframe tbody tr th:only-of-type {\n",
       "        vertical-align: middle;\n",
       "    }\n",
       "\n",
       "    .dataframe tbody tr th {\n",
       "        vertical-align: top;\n",
       "    }\n",
       "\n",
       "    .dataframe thead th {\n",
       "        text-align: right;\n",
       "    }\n",
       "</style>\n",
       "<table border=\"1\" class=\"dataframe\">\n",
       "  <thead>\n",
       "    <tr style=\"text-align: right;\">\n",
       "      <th></th>\n",
       "      <th>Ticker</th>\n",
       "      <th>Attribute</th>\n",
       "      <th>Value</th>\n",
       "    </tr>\n",
       "  </thead>\n",
       "  <tbody>\n",
       "    <tr>\n",
       "      <th>0</th>\n",
       "      <td>ADS.DE</td>\n",
       "      <td>Beta (5Y Monthly)</td>\n",
       "      <td>0.89</td>\n",
       "    </tr>\n",
       "    <tr>\n",
       "      <th>3</th>\n",
       "      <td>ADS.DE</td>\n",
       "      <td>52 Week High 3</td>\n",
       "      <td>336.25</td>\n",
       "    </tr>\n",
       "    <tr>\n",
       "      <th>4</th>\n",
       "      <td>ADS.DE</td>\n",
       "      <td>52 Week Low 3</td>\n",
       "      <td>231.55</td>\n",
       "    </tr>\n",
       "    <tr>\n",
       "      <th>5</th>\n",
       "      <td>ADS.DE</td>\n",
       "      <td>50-Day Moving Average 3</td>\n",
       "      <td>251.12</td>\n",
       "    </tr>\n",
       "    <tr>\n",
       "      <th>6</th>\n",
       "      <td>ADS.DE</td>\n",
       "      <td>200-Day Moving Average 3</td>\n",
       "      <td>282.58</td>\n",
       "    </tr>\n",
       "    <tr>\n",
       "      <th>...</th>\n",
       "      <td>...</td>\n",
       "      <td>...</td>\n",
       "      <td>...</td>\n",
       "    </tr>\n",
       "    <tr>\n",
       "      <th>2293</th>\n",
       "      <td>VNA.DE</td>\n",
       "      <td>Total Debt/Equity (mrq)</td>\n",
       "      <td>162.57</td>\n",
       "    </tr>\n",
       "    <tr>\n",
       "      <th>2294</th>\n",
       "      <td>VNA.DE</td>\n",
       "      <td>Current Ratio (mrq)</td>\n",
       "      <td>0.39</td>\n",
       "    </tr>\n",
       "    <tr>\n",
       "      <th>2295</th>\n",
       "      <td>VNA.DE</td>\n",
       "      <td>Book Value Per Share (mrq)</td>\n",
       "      <td>47.85</td>\n",
       "    </tr>\n",
       "    <tr>\n",
       "      <th>2296</th>\n",
       "      <td>VNA.DE</td>\n",
       "      <td>Operating Cash Flow (ttm)</td>\n",
       "      <td>1.44B</td>\n",
       "    </tr>\n",
       "    <tr>\n",
       "      <th>2297</th>\n",
       "      <td>VNA.DE</td>\n",
       "      <td>Levered Free Cash Flow (ttm)</td>\n",
       "      <td>8.66B</td>\n",
       "    </tr>\n",
       "  </tbody>\n",
       "</table>\n",
       "<p>1781 rows × 3 columns</p>\n",
       "</div>"
      ],
      "text/plain": [
       "      Ticker                     Attribute   Value\n",
       "0     ADS.DE             Beta (5Y Monthly)    0.89\n",
       "3     ADS.DE                52 Week High 3  336.25\n",
       "4     ADS.DE                 52 Week Low 3  231.55\n",
       "5     ADS.DE       50-Day Moving Average 3  251.12\n",
       "6     ADS.DE      200-Day Moving Average 3  282.58\n",
       "...      ...                           ...     ...\n",
       "2293  VNA.DE       Total Debt/Equity (mrq)  162.57\n",
       "2294  VNA.DE           Current Ratio (mrq)    0.39\n",
       "2295  VNA.DE    Book Value Per Share (mrq)   47.85\n",
       "2296  VNA.DE     Operating Cash Flow (ttm)   1.44B\n",
       "2297  VNA.DE  Levered Free Cash Flow (ttm)   8.66B\n",
       "\n",
       "[1781 rows x 3 columns]"
      ]
     },
     "execution_count": 168,
     "metadata": {},
     "output_type": "execute_result"
    }
   ],
   "source": [
    "df2 = extra_stats()\n",
    "df2"
   ]
  },
  {
   "cell_type": "code",
   "execution_count": 171,
   "id": "d6951bfb",
   "metadata": {},
   "outputs": [],
   "source": [
    "# Convert from long dataframe to wide dataframe using the pivot() method.\n",
    "df1_wide = df1.pivot(index = \"Ticker\", columns=\"Attribute\", values=\"Recent\")\n",
    "df2_wide = df2.pivot(index = \"Ticker\", columns=\"Attribute\", values=\"Value\")"
   ]
  },
  {
   "cell_type": "markdown",
   "id": "ef8591e5",
   "metadata": {},
   "source": [
    "**Now we simply need to format the data into a format which is usable in relation to the graph we wish to display:**\n",
    "\n",
    "At the moment, we have the data in very few columns and many rows. Essentially, every ticker is repeated for every attribute. We now wish to change this such that the ticker is displayed once in a row and all the attributed on a column name. "
   ]
  },
  {
   "cell_type": "markdown",
   "id": "917448e4",
   "metadata": {},
   "source": [
    "The next problem we encounter is that there are a bunch of footnotes in the attribute descriptions. The reason for this is that on the Yahoo Finance website, the attributes may / may not have some additional information attached to them. \n",
    "\n",
    "However, since we are aiming to create a scheduled graph, we are not really interested in these additional footnotes. \n",
    "\n",
    "Next step would be to eliminate these footnote numbers. \n",
    "In order to do that we need to rename all the colums affeted and subsequently change them from strings into floats\n",
    "\n",
    "\n"
   ]
  },
  {
   "cell_type": "code",
   "execution_count": 174,
   "id": "ef45b5b7",
   "metadata": {},
   "outputs": [],
   "source": [
    "# Clean up column names to remove footnote indicators\n",
    "\n",
    "def df_wide_clean():\n",
    "    df2_wide.rename(columns = {\"% Held by Insiders 1\":\"% Held by Insiders\"}, inplace = True)\n",
    "    df2_wide.rename(columns = {\"% Held by Institutions 1\":\"% Held by Institutions\"}, inplace = True)\n",
    "    df2_wide.rename(columns = {\"200-Day Moving Average 3\":\"200-Day Moving Average\"}, inplace = True)\n",
    "    df2_wide.rename(columns = {\"5 Year Average Dividend Yield 4\":\"5 Year Average Dividend Yield %\"}, inplace = True)\n",
    "    df2_wide.rename(columns = {\"50-Day Moving Average 3\":\"50-Day Moving Average\"}, inplace = True)\n",
    "    df2_wide.rename(columns = {\"52 Week High 3\":\"52 Week High\"}, inplace = True)\n",
    "    df2_wide.rename(columns = {\"52 Week Low 3\":\"52 Week Low\"}, inplace = True)\n",
    "    df2_wide.rename(columns = {\"52-Week Change 3\":\"52-Week Change %\"}, inplace = True)\n",
    "    df2_wide.rename(columns = {\"Avg Vol (10 day) 3\":\"Avg Vol (10 day)\"}, inplace = True)\n",
    "    df2_wide.rename(columns = {\"Avg Vol (3 month) 3\":\"Avg Vol (3 month)\"}, inplace = True)\n",
    "    df2_wide.rename(columns = {\"Dividend Date 3\":\"Dividend Date\"}, inplace = True)\n",
    "    df2_wide.rename(columns = {\"Ex-Dividend Date 4\":\"Ex-Dividend Date\"}, inplace = True)\n",
    "    df2_wide.rename(columns = {\"Forward Annual Dividend Rate 4\":\"Forward Annual Dividend Rate\"}, inplace = True)\n",
    "    df2_wide.rename(columns = {\"Forward Annual Dividend Yield 4\":\"Forward Annual Dividend Yield %\"}, inplace = True)\n",
    "    df2_wide.rename(columns = {\"Last Split Date 3\":\"Last Split Date\"}, inplace = True)\n",
    "    df2_wide.rename(columns = {\"Last Split Factor 2\":\"Last Split Factor\"}, inplace = True)\n",
    "    df2_wide.rename(columns = {\"Operating Margin (ttm)\":\"Operating Margin (ttm) %\"}, inplace = True)\n",
    "    df2_wide.rename(columns = {\"Payout Ratio 4\":\"Payout Ratio %\"}, inplace = True)\n",
    "    df2_wide.rename(columns = {\"Profit Margin\":\"Profit Margin %\"}, inplace = True)\n",
    "    df2_wide.rename(columns = {\"Quarterly Earnings Growth (yoy)\":\"Quarterly Earnings Growth (yoy) %\"}, inplace = True)\n",
    "    df2_wide.rename(columns = {\"Quarterly Revenue Growth (yoy)\":\"Quarterly Revenue Growth (yoy) %\"}, inplace = True)\n",
    "    df2_wide.rename(columns = {\"Return on Assets (ttm)\":\"Return on Assets (ttm) %\"}, inplace = True)\n",
    "    df2_wide.rename(columns = {\"Return on Equity (ttm)\":\"Return on Equity (ttm) %\"}, inplace = True)\n",
    "    df2_wide.rename(columns = {\"S&P500 52-Week Change 3\":\"S&P500 52-Week Change %\"}, inplace = True)\n",
    "    df2_wide.rename(columns = {\"Shares Outstanding 5\":\"Shares Outstanding\"}, inplace = True)\n",
    "    df2_wide.rename(columns = {\"Trailing Annual Dividend Rate 3\":\"Trailing Annual Dividend Rate\"}, inplace = True)\n",
    "    df2_wide.rename(columns = {\"Trailing Annual Dividend Yield 3\":\"Trailing Annual Dividend Yield %\"}, inplace = True)\n",
    "\n",
    "    # Convert string values to float as necessary\n",
    "    df1_wide['Trailing P/E'] = df1_wide['Trailing P/E'].astype(float)\n",
    "    df1_wide['Enterprise Value/EBITDA'] = df1_wide['Enterprise Value/EBITDA'].astype(float)\n",
    "    df1_wide['Enterprise Value/Revenue'] = df1_wide['Enterprise Value/Revenue'].astype(float)\n",
    "    df1_wide['Forward P/E'] = df1_wide['Forward P/E'].astype(float)\n",
    "    df1_wide['PEG Ratio (5 yr expected)'] = df1_wide['PEG Ratio (5 yr expected)'].astype(float)\n",
    "    df1_wide['Price/Book (mrq)'] = df1_wide['Price/Book (mrq)'].astype(float)\n",
    "    df1_wide['Price/Sales (ttm)'] = df1_wide['Price/Sales (ttm)'].astype(float)\n",
    "\n",
    "\n",
    "    df2_wide['50-Day Moving Average'] = df2_wide['50-Day Moving Average'].astype(float)\n",
    "    df2_wide['52 Week High'] = df2_wide['52 Week High'].astype(float)\n",
    "    df2_wide['52 Week Low'] = df2_wide['52 Week Low'].astype(float)\n",
    "    df2_wide['Beta (5Y Monthly)'] = df2_wide['Beta (5Y Monthly)'].astype(float)\n",
    "    df2_wide['Book Value Per Share (mrq)'] = df2_wide['Book Value Per Share (mrq)'].astype(float)\n",
    "    df2_wide['Current Ratio (mrq)'] = df2_wide['Current Ratio (mrq)'].astype(float)\n",
    "    df2_wide['Diluted EPS (ttm)'] = df2_wide['Diluted EPS (ttm)'].astype(float)\n",
    "    df2_wide['Forward Annual Dividend Rate'] = df2_wide['Forward Annual Dividend Rate'].astype(float)\n",
    "    df2_wide['Quarterly Revenue Growth (yoy) %'] = df2_wide['Quarterly Revenue Growth (yoy) %'].astype(str).str.strip('%').astype('float') / 100.0\n",
    "    df2_wide['Revenue Per Share (ttm)'] = df2_wide['Revenue Per Share (ttm)'].astype(float)\n",
    "    df2_wide['Total Cash Per Share (mrq)'] = df2_wide['Total Cash Per Share (mrq)'].astype(float)\n",
    "    df2_wide['Total Debt/Equity (mrq)'] = df2_wide['Total Debt/Equity (mrq)'].astype(float)\n",
    "    df2_wide['Trailing Annual Dividend Rate'] = df2_wide['Trailing Annual Dividend Rate'].astype(float)\n",
    "    df2_wide['200-Day Moving Average'] = df2_wide['200-Day Moving Average'].astype(float)\n",
    "    df2_wide['% Held by Insiders'] = df2_wide['% Held by Insiders'].astype(str).str.strip('%').astype('float') / 100.0\n",
    "    df2_wide['% Held by Institutions'] = df2_wide['% Held by Institutions'].astype(str).str.strip('%').astype('float') / 100.0\n",
    "    df2_wide['5 Year Average Dividend Yield %'] = df2_wide['5 Year Average Dividend Yield %'].astype(float) / 100.0\n",
    "    df2_wide['Forward Annual Dividend Yield %'] = df2_wide['Forward Annual Dividend Yield %'].astype(str).str.strip('%').astype('float') / 100.0\n",
    "    df2_wide['Operating Margin (ttm) %'] = df2_wide['Operating Margin (ttm) %'].astype(str).str.strip('%').astype('float') / 100.0\n",
    "    df2_wide['Payout Ratio %'] = df2_wide['Payout Ratio %'].astype(str).str.strip('%').astype('float') / 100.0\n",
    "    f2_wide['Profit Margin %'] = df2_wide['Profit Margin %'].astype(str).str.strip('%').astype('float') / 100.0\n",
    "    df2_wide['Return on Assets (ttm) %'] = df2_wide['Return on Assets (ttm) %'].astype(str).str.strip('%').astype('float') / 100.0\n",
    "    df2_wide['Return on Equity (ttm) %'] = df2_wide['Return on Equity (ttm) %'].astype(str).str.strip('%').astype('float') / 100.0\n",
    "    df2_wide['Trailing Annual Dividend Yield %'] = df2_wide['Trailing Annual Dividend Yield %'].astype(str).str.strip('%').astype('float') / 100.0\n",
    "    #df2_wide['S&P500 52-Week Change %'] = df2_wide['S&P500 52-Week Change %'].astype(str).str.strip('%').astype('float') / 100.0\n",
    "    #df2_wide['Quarterly Earnings Growth (yoy) %'] = df2_wide['Quarterly Earnings Growth (yoy) %'].astype(str).str.strip('%').astype('float') / 100.0\n",
    "    #df2_wide['52-Week Change %'] = df2_wide['52-Week Change %'].astype(str).str.strip('%').astype('float') / 100.0\n",
    "\n",
    "\n",
    "\n",
    "    # Merge the dataframes into company_data\n",
    "    company_data = pd.concat([df1_wide, df2_wide], axis=1, join='inner')\n",
    "    company_data = company_data[company_data['Trailing P/E'].notna()]\n",
    "    return company_data\n",
    "\n",
    "   \n",
    "\n",
    "\n"
   ]
  },
  {
   "cell_type": "code",
   "execution_count": 188,
   "id": "38fca433",
   "metadata": {},
   "outputs": [
    {
     "data": {
      "application/vnd.plotly.v1+json": {
       "config": {
        "plotlyServerURL": "https://plot.ly"
       },
       "data": [
        {
         "hovertemplate": "<b>%{hovertext}</b><br><br>Quarterly Revenue Growth (yoy) %=%{x}<br>Price/Sales (ttm)=%{y}<br>Trailing P/E=%{marker.size}<extra></extra>",
         "hovertext": [
          "ABI.BR",
          "ADS.DE",
          "ADYEN.AS",
          "AI.PA",
          "AIR.PA",
          "ALV.DE",
          "ASML.AS",
          "BAS.DE",
          "BAYN.DE",
          "BBVA.MC",
          "BMW.DE",
          "BNP.PA",
          "CRG.IR",
          "DAI.DE",
          "SAN.MC"
         ],
         "legendgroup": "",
         "marker": {
          "color": "#636efa",
          "size": [
           41.64,
           32.69,
           134.8,
           27.61,
           20.95,
           10.84,
           40.01,
           11.54,
           230.26,
           10.35,
           5.24,
           9.54,
           27.12,
           6.49,
           7.57
          ],
          "sizemode": "area",
          "sizeref": 0.57565,
          "symbol": "circle"
         },
         "mode": "markers",
         "name": "",
         "orientation": "v",
         "showlegend": false,
         "type": "scatter",
         "x": [
          0.114,
          0.034,
          0.637,
          0.055999999999999994,
          -0.062,
          0.038,
          0.324,
          0.424,
          0.15,
          0.135,
          0.045,
          0.11900000000000001,
          0.15,
          0.001,
          0.127
         ],
         "xaxis": "x",
         "y": [
          2.33,
          2.09,
          10.7,
          3.4,
          1.6,
          0.8,
          12.65,
          0.83,
          1.21,
          1.57,
          0.55,
          1.41,
          1.39,
          0.45,
          1.27
         ],
         "yaxis": "y"
        }
       ],
       "layout": {
        "height": 700,
        "legend": {
         "itemsizing": "constant",
         "tracegroupgap": 0
        },
        "margin": {
         "b": 20,
         "l": 20,
         "r": 20,
         "t": 40
        },
        "paper_bgcolor": "#ffffff",
        "template": {
         "data": {
          "bar": [
           {
            "error_x": {
             "color": "#2a3f5f"
            },
            "error_y": {
             "color": "#2a3f5f"
            },
            "marker": {
             "line": {
              "color": "#E5ECF6",
              "width": 0.5
             },
             "pattern": {
              "fillmode": "overlay",
              "size": 10,
              "solidity": 0.2
             }
            },
            "type": "bar"
           }
          ],
          "barpolar": [
           {
            "marker": {
             "line": {
              "color": "#E5ECF6",
              "width": 0.5
             },
             "pattern": {
              "fillmode": "overlay",
              "size": 10,
              "solidity": 0.2
             }
            },
            "type": "barpolar"
           }
          ],
          "carpet": [
           {
            "aaxis": {
             "endlinecolor": "#2a3f5f",
             "gridcolor": "white",
             "linecolor": "white",
             "minorgridcolor": "white",
             "startlinecolor": "#2a3f5f"
            },
            "baxis": {
             "endlinecolor": "#2a3f5f",
             "gridcolor": "white",
             "linecolor": "white",
             "minorgridcolor": "white",
             "startlinecolor": "#2a3f5f"
            },
            "type": "carpet"
           }
          ],
          "choropleth": [
           {
            "colorbar": {
             "outlinewidth": 0,
             "ticks": ""
            },
            "type": "choropleth"
           }
          ],
          "contour": [
           {
            "colorbar": {
             "outlinewidth": 0,
             "ticks": ""
            },
            "colorscale": [
             [
              0,
              "#0d0887"
             ],
             [
              0.1111111111111111,
              "#46039f"
             ],
             [
              0.2222222222222222,
              "#7201a8"
             ],
             [
              0.3333333333333333,
              "#9c179e"
             ],
             [
              0.4444444444444444,
              "#bd3786"
             ],
             [
              0.5555555555555556,
              "#d8576b"
             ],
             [
              0.6666666666666666,
              "#ed7953"
             ],
             [
              0.7777777777777778,
              "#fb9f3a"
             ],
             [
              0.8888888888888888,
              "#fdca26"
             ],
             [
              1,
              "#f0f921"
             ]
            ],
            "type": "contour"
           }
          ],
          "contourcarpet": [
           {
            "colorbar": {
             "outlinewidth": 0,
             "ticks": ""
            },
            "type": "contourcarpet"
           }
          ],
          "heatmap": [
           {
            "colorbar": {
             "outlinewidth": 0,
             "ticks": ""
            },
            "colorscale": [
             [
              0,
              "#0d0887"
             ],
             [
              0.1111111111111111,
              "#46039f"
             ],
             [
              0.2222222222222222,
              "#7201a8"
             ],
             [
              0.3333333333333333,
              "#9c179e"
             ],
             [
              0.4444444444444444,
              "#bd3786"
             ],
             [
              0.5555555555555556,
              "#d8576b"
             ],
             [
              0.6666666666666666,
              "#ed7953"
             ],
             [
              0.7777777777777778,
              "#fb9f3a"
             ],
             [
              0.8888888888888888,
              "#fdca26"
             ],
             [
              1,
              "#f0f921"
             ]
            ],
            "type": "heatmap"
           }
          ],
          "heatmapgl": [
           {
            "colorbar": {
             "outlinewidth": 0,
             "ticks": ""
            },
            "colorscale": [
             [
              0,
              "#0d0887"
             ],
             [
              0.1111111111111111,
              "#46039f"
             ],
             [
              0.2222222222222222,
              "#7201a8"
             ],
             [
              0.3333333333333333,
              "#9c179e"
             ],
             [
              0.4444444444444444,
              "#bd3786"
             ],
             [
              0.5555555555555556,
              "#d8576b"
             ],
             [
              0.6666666666666666,
              "#ed7953"
             ],
             [
              0.7777777777777778,
              "#fb9f3a"
             ],
             [
              0.8888888888888888,
              "#fdca26"
             ],
             [
              1,
              "#f0f921"
             ]
            ],
            "type": "heatmapgl"
           }
          ],
          "histogram": [
           {
            "marker": {
             "pattern": {
              "fillmode": "overlay",
              "size": 10,
              "solidity": 0.2
             }
            },
            "type": "histogram"
           }
          ],
          "histogram2d": [
           {
            "colorbar": {
             "outlinewidth": 0,
             "ticks": ""
            },
            "colorscale": [
             [
              0,
              "#0d0887"
             ],
             [
              0.1111111111111111,
              "#46039f"
             ],
             [
              0.2222222222222222,
              "#7201a8"
             ],
             [
              0.3333333333333333,
              "#9c179e"
             ],
             [
              0.4444444444444444,
              "#bd3786"
             ],
             [
              0.5555555555555556,
              "#d8576b"
             ],
             [
              0.6666666666666666,
              "#ed7953"
             ],
             [
              0.7777777777777778,
              "#fb9f3a"
             ],
             [
              0.8888888888888888,
              "#fdca26"
             ],
             [
              1,
              "#f0f921"
             ]
            ],
            "type": "histogram2d"
           }
          ],
          "histogram2dcontour": [
           {
            "colorbar": {
             "outlinewidth": 0,
             "ticks": ""
            },
            "colorscale": [
             [
              0,
              "#0d0887"
             ],
             [
              0.1111111111111111,
              "#46039f"
             ],
             [
              0.2222222222222222,
              "#7201a8"
             ],
             [
              0.3333333333333333,
              "#9c179e"
             ],
             [
              0.4444444444444444,
              "#bd3786"
             ],
             [
              0.5555555555555556,
              "#d8576b"
             ],
             [
              0.6666666666666666,
              "#ed7953"
             ],
             [
              0.7777777777777778,
              "#fb9f3a"
             ],
             [
              0.8888888888888888,
              "#fdca26"
             ],
             [
              1,
              "#f0f921"
             ]
            ],
            "type": "histogram2dcontour"
           }
          ],
          "mesh3d": [
           {
            "colorbar": {
             "outlinewidth": 0,
             "ticks": ""
            },
            "type": "mesh3d"
           }
          ],
          "parcoords": [
           {
            "line": {
             "colorbar": {
              "outlinewidth": 0,
              "ticks": ""
             }
            },
            "type": "parcoords"
           }
          ],
          "pie": [
           {
            "automargin": true,
            "type": "pie"
           }
          ],
          "scatter": [
           {
            "marker": {
             "colorbar": {
              "outlinewidth": 0,
              "ticks": ""
             }
            },
            "type": "scatter"
           }
          ],
          "scatter3d": [
           {
            "line": {
             "colorbar": {
              "outlinewidth": 0,
              "ticks": ""
             }
            },
            "marker": {
             "colorbar": {
              "outlinewidth": 0,
              "ticks": ""
             }
            },
            "type": "scatter3d"
           }
          ],
          "scattercarpet": [
           {
            "marker": {
             "colorbar": {
              "outlinewidth": 0,
              "ticks": ""
             }
            },
            "type": "scattercarpet"
           }
          ],
          "scattergeo": [
           {
            "marker": {
             "colorbar": {
              "outlinewidth": 0,
              "ticks": ""
             }
            },
            "type": "scattergeo"
           }
          ],
          "scattergl": [
           {
            "marker": {
             "colorbar": {
              "outlinewidth": 0,
              "ticks": ""
             }
            },
            "type": "scattergl"
           }
          ],
          "scattermapbox": [
           {
            "marker": {
             "colorbar": {
              "outlinewidth": 0,
              "ticks": ""
             }
            },
            "type": "scattermapbox"
           }
          ],
          "scatterpolar": [
           {
            "marker": {
             "colorbar": {
              "outlinewidth": 0,
              "ticks": ""
             }
            },
            "type": "scatterpolar"
           }
          ],
          "scatterpolargl": [
           {
            "marker": {
             "colorbar": {
              "outlinewidth": 0,
              "ticks": ""
             }
            },
            "type": "scatterpolargl"
           }
          ],
          "scatterternary": [
           {
            "marker": {
             "colorbar": {
              "outlinewidth": 0,
              "ticks": ""
             }
            },
            "type": "scatterternary"
           }
          ],
          "surface": [
           {
            "colorbar": {
             "outlinewidth": 0,
             "ticks": ""
            },
            "colorscale": [
             [
              0,
              "#0d0887"
             ],
             [
              0.1111111111111111,
              "#46039f"
             ],
             [
              0.2222222222222222,
              "#7201a8"
             ],
             [
              0.3333333333333333,
              "#9c179e"
             ],
             [
              0.4444444444444444,
              "#bd3786"
             ],
             [
              0.5555555555555556,
              "#d8576b"
             ],
             [
              0.6666666666666666,
              "#ed7953"
             ],
             [
              0.7777777777777778,
              "#fb9f3a"
             ],
             [
              0.8888888888888888,
              "#fdca26"
             ],
             [
              1,
              "#f0f921"
             ]
            ],
            "type": "surface"
           }
          ],
          "table": [
           {
            "cells": {
             "fill": {
              "color": "#EBF0F8"
             },
             "line": {
              "color": "white"
             }
            },
            "header": {
             "fill": {
              "color": "#C8D4E3"
             },
             "line": {
              "color": "white"
             }
            },
            "type": "table"
           }
          ]
         },
         "layout": {
          "annotationdefaults": {
           "arrowcolor": "#2a3f5f",
           "arrowhead": 0,
           "arrowwidth": 1
          },
          "autotypenumbers": "strict",
          "coloraxis": {
           "colorbar": {
            "outlinewidth": 0,
            "ticks": ""
           }
          },
          "colorscale": {
           "diverging": [
            [
             0,
             "#8e0152"
            ],
            [
             0.1,
             "#c51b7d"
            ],
            [
             0.2,
             "#de77ae"
            ],
            [
             0.3,
             "#f1b6da"
            ],
            [
             0.4,
             "#fde0ef"
            ],
            [
             0.5,
             "#f7f7f7"
            ],
            [
             0.6,
             "#e6f5d0"
            ],
            [
             0.7,
             "#b8e186"
            ],
            [
             0.8,
             "#7fbc41"
            ],
            [
             0.9,
             "#4d9221"
            ],
            [
             1,
             "#276419"
            ]
           ],
           "sequential": [
            [
             0,
             "#0d0887"
            ],
            [
             0.1111111111111111,
             "#46039f"
            ],
            [
             0.2222222222222222,
             "#7201a8"
            ],
            [
             0.3333333333333333,
             "#9c179e"
            ],
            [
             0.4444444444444444,
             "#bd3786"
            ],
            [
             0.5555555555555556,
             "#d8576b"
            ],
            [
             0.6666666666666666,
             "#ed7953"
            ],
            [
             0.7777777777777778,
             "#fb9f3a"
            ],
            [
             0.8888888888888888,
             "#fdca26"
            ],
            [
             1,
             "#f0f921"
            ]
           ],
           "sequentialminus": [
            [
             0,
             "#0d0887"
            ],
            [
             0.1111111111111111,
             "#46039f"
            ],
            [
             0.2222222222222222,
             "#7201a8"
            ],
            [
             0.3333333333333333,
             "#9c179e"
            ],
            [
             0.4444444444444444,
             "#bd3786"
            ],
            [
             0.5555555555555556,
             "#d8576b"
            ],
            [
             0.6666666666666666,
             "#ed7953"
            ],
            [
             0.7777777777777778,
             "#fb9f3a"
            ],
            [
             0.8888888888888888,
             "#fdca26"
            ],
            [
             1,
             "#f0f921"
            ]
           ]
          },
          "colorway": [
           "#636efa",
           "#EF553B",
           "#00cc96",
           "#ab63fa",
           "#FFA15A",
           "#19d3f3",
           "#FF6692",
           "#B6E880",
           "#FF97FF",
           "#FECB52"
          ],
          "font": {
           "color": "#2a3f5f"
          },
          "geo": {
           "bgcolor": "white",
           "lakecolor": "white",
           "landcolor": "#E5ECF6",
           "showlakes": true,
           "showland": true,
           "subunitcolor": "white"
          },
          "hoverlabel": {
           "align": "left"
          },
          "hovermode": "closest",
          "mapbox": {
           "style": "light"
          },
          "paper_bgcolor": "white",
          "plot_bgcolor": "#E5ECF6",
          "polar": {
           "angularaxis": {
            "gridcolor": "white",
            "linecolor": "white",
            "ticks": ""
           },
           "bgcolor": "#E5ECF6",
           "radialaxis": {
            "gridcolor": "white",
            "linecolor": "white",
            "ticks": ""
           }
          },
          "scene": {
           "xaxis": {
            "backgroundcolor": "#E5ECF6",
            "gridcolor": "white",
            "gridwidth": 2,
            "linecolor": "white",
            "showbackground": true,
            "ticks": "",
            "zerolinecolor": "white"
           },
           "yaxis": {
            "backgroundcolor": "#E5ECF6",
            "gridcolor": "white",
            "gridwidth": 2,
            "linecolor": "white",
            "showbackground": true,
            "ticks": "",
            "zerolinecolor": "white"
           },
           "zaxis": {
            "backgroundcolor": "#E5ECF6",
            "gridcolor": "white",
            "gridwidth": 2,
            "linecolor": "white",
            "showbackground": true,
            "ticks": "",
            "zerolinecolor": "white"
           }
          },
          "shapedefaults": {
           "line": {
            "color": "#2a3f5f"
           }
          },
          "ternary": {
           "aaxis": {
            "gridcolor": "white",
            "linecolor": "white",
            "ticks": ""
           },
           "baxis": {
            "gridcolor": "white",
            "linecolor": "white",
            "ticks": ""
           },
           "bgcolor": "#E5ECF6",
           "caxis": {
            "gridcolor": "white",
            "linecolor": "white",
            "ticks": ""
           }
          },
          "title": {
           "x": 0.05
          },
          "xaxis": {
           "automargin": true,
           "gridcolor": "white",
           "linecolor": "white",
           "ticks": "",
           "title": {
            "standoff": 15
           },
           "zerolinecolor": "white",
           "zerolinewidth": 2
          },
          "yaxis": {
           "automargin": true,
           "gridcolor": "white",
           "linecolor": "white",
           "ticks": "",
           "title": {
            "standoff": 15
           },
           "zerolinecolor": "white",
           "zerolinewidth": 2
          }
         }
        },
        "title": {
         "text": "Quarterly Revenue Growth (yoy) % vs. Price/Sales (ttm) vs. Trailing P/E"
        },
        "width": 1250,
        "xaxis": {
         "anchor": "y",
         "domain": [
          0,
          1
         ],
         "title": {
          "text": "Quarterly Revenue Growth (yoy) %"
         }
        },
        "yaxis": {
         "anchor": "x",
         "domain": [
          0,
          1
         ],
         "title": {
          "text": "Price/Sales (ttm)"
         }
        }
       }
      }
     },
     "metadata": {},
     "output_type": "display_data"
    }
   ],
   "source": [
    "# Plot out the data\n",
    "def charting():\n",
    "    ValueStockChart = px.scatter(company_data,\n",
    "                   x='Quarterly Revenue Growth (yoy) %',\n",
    "                   y='Price/Sales (ttm)',\n",
    "                   size = \"Trailing P/E\",\n",
    "                   hover_name = company_data.index,\n",
    "                   title=\"Quarterly Revenue Growth (yoy) % vs. Price/Sales (ttm) vs. Trailing P/E\",\n",
    "                   width=1250,\n",
    "                   height=700)\n",
    "\n",
    "    # Update chart layouts\n",
    "    ValueStockChart.update_layout(\n",
    "    margin=dict(l=20, r=20, t=40, b=20),\n",
    "    paper_bgcolor=\"#ffffff\",\n",
    "    )\n",
    "\n",
    "\n",
    "ValueStockChart.show()\n",
    "\n"
   ]
  },
  {
   "cell_type": "code",
   "execution_count": null,
   "metadata": {},
   "outputs": [],
   "source": []
  }
 ],
 "metadata": {
  "kernelspec": {
   "display_name": "Python 3",
   "language": "python",
   "name": "python3"
  },
  "language_info": {
   "codemirror_mode": {
    "name": "ipython",
    "version": 3
   },
   "file_extension": ".py",
   "mimetype": "text/x-python",
   "name": "python",
   "nbconvert_exporter": "python",
   "pygments_lexer": "ipython3",
   "version": "3.8.8"
  }
 },
 "nbformat": 4,
 "nbformat_minor": 5
}
